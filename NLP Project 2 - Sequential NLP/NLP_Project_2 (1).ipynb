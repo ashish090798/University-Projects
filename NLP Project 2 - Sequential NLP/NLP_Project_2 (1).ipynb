{
  "nbformat": 4,
  "nbformat_minor": 0,
  "metadata": {
    "colab": {
      "name": "NLP Project 2.ipynb",
      "provenance": [],
      "collapsed_sections": []
    },
    "kernelspec": {
      "name": "python3",
      "display_name": "Python 3"
    },
    "language_info": {
      "name": "python"
    }
  },
  "cells": [
    {
      "cell_type": "markdown",
      "source": [
        "# **PART = 1**"
      ],
      "metadata": {
        "id": "4SksY4lMbRwE"
      }
    },
    {
      "cell_type": "markdown",
      "source": [
        "# Lets import all the necessary libraries"
      ],
      "metadata": {
        "id": "j7dhZtA1bYXk"
      }
    },
    {
      "cell_type": "code",
      "source": [
        "import numpy as np \n",
        "import pandas as pd \n",
        "import tensorflow as tf\n",
        "import matplotlib.pyplot as plt\n",
        "\n",
        "import seaborn as sns\n",
        "from sklearn import metrics\n",
        "from keras.models import Sequential\n",
        "from keras.layers import LSTM, Dense, Bidirectional, Embedding, Flatten, SpatialDropout1D\n",
        "from keras.initializers import Constant\n",
        "from sklearn.model_selection import train_test_split\n",
        "from sklearn.metrics import plot_confusion_matrix\n",
        "from sklearn.metrics import confusion_matrix"
      ],
      "metadata": {
        "id": "KfMflvoQRx_x"
      },
      "execution_count": null,
      "outputs": []
    },
    {
      "cell_type": "markdown",
      "source": [
        "Lets mount the drive"
      ],
      "metadata": {
        "id": "ddMoDo-bbolD"
      }
    },
    {
      "cell_type": "code",
      "source": [
        "from google.colab import drive\n",
        "drive.mount('/content/drive')"
      ],
      "metadata": {
        "colab": {
          "base_uri": "https://localhost:8080/"
        },
        "id": "KCx0Kh_H7hVX",
        "outputId": "f691a9d7-8bb2-4c72-dd4b-4096217a010e"
      },
      "execution_count": null,
      "outputs": [
        {
          "output_type": "stream",
          "name": "stdout",
          "text": [
            "Mounted at /content/drive\n"
          ]
        }
      ]
    },
    {
      "cell_type": "markdown",
      "source": [
        "# **Lets load the dataset**"
      ],
      "metadata": {
        "id": "ERuhYzFtbyRR"
      }
    },
    {
      "cell_type": "code",
      "source": [
        "from keras.datasets import imdb\n",
        "\n",
        "vocab_size = 10000 \n",
        "\n",
        "(x_train, y_train), (x_test, y_test) = imdb.load_data(num_words=vocab_size) "
      ],
      "metadata": {
        "id": "Aq39Qi3S7hY-",
        "colab": {
          "base_uri": "https://localhost:8080/"
        },
        "outputId": "69522a35-8ec2-4afd-bf9e-da7de6cbc963"
      },
      "execution_count": null,
      "outputs": [
        {
          "output_type": "stream",
          "name": "stdout",
          "text": [
            "Downloading data from https://storage.googleapis.com/tensorflow/tf-keras-datasets/imdb.npz\n",
            "17465344/17464789 [==============================] - 0s 0us/step\n",
            "17473536/17464789 [==============================] - 0s 0us/step\n"
          ]
        }
      ]
    },
    {
      "cell_type": "markdown",
      "source": [
        "# **Lets define the vocab size and number of word used from each review**"
      ],
      "metadata": {
        "id": "yUnXw5QBb7rB"
      }
    },
    {
      "cell_type": "code",
      "source": [
        "from keras.preprocessing.sequence import pad_sequences\n",
        "vocab_size = 10000 \n",
        "maxlen = 300  "
      ],
      "metadata": {
        "id": "9m9r0v4W7hcZ"
      },
      "execution_count": null,
      "outputs": []
    },
    {
      "cell_type": "markdown",
      "source": [
        "# Lets load dataset as a list and make all sequences of the same length"
      ],
      "metadata": {
        "id": "Jk7nWTJicN7W"
      }
    },
    {
      "cell_type": "code",
      "source": [
        "(x_train, y_train), (x_test, y_test) = imdb.load_data(num_words=vocab_size)\n",
        "x_train = pad_sequences(x_train, maxlen=maxlen)\n",
        "x_test =  pad_sequences(x_test, maxlen=maxlen)"
      ],
      "metadata": {
        "id": "NbOJxKZS7hgG"
      },
      "execution_count": null,
      "outputs": []
    },
    {
      "cell_type": "markdown",
      "source": [
        "# Checking the shape of train and test dataset"
      ],
      "metadata": {
        "id": "1vVSWtZqcb86"
      }
    },
    {
      "cell_type": "code",
      "source": [
        "print(x_train.shape)\n",
        "print(x_test.shape)"
      ],
      "metadata": {
        "colab": {
          "base_uri": "https://localhost:8080/"
        },
        "id": "Dr70RPZF7hjN",
        "outputId": "63f1af42-fa9f-4513-8b52-35e6d1589dd0"
      },
      "execution_count": null,
      "outputs": [
        {
          "output_type": "stream",
          "name": "stdout",
          "text": [
            "(25000, 300)\n",
            "(25000, 300)\n"
          ]
        }
      ]
    },
    {
      "cell_type": "code",
      "source": [
        "len(x_train[0])"
      ],
      "metadata": {
        "colab": {
          "base_uri": "https://localhost:8080/"
        },
        "id": "aDXspp7V7hp5",
        "outputId": "e4c13983-327b-43e8-b0a5-9d67f1813454"
      },
      "execution_count": null,
      "outputs": [
        {
          "output_type": "execute_result",
          "data": {
            "text/plain": [
              "300"
            ]
          },
          "metadata": {},
          "execution_count": 7
        }
      ]
    },
    {
      "cell_type": "markdown",
      "source": [
        "# Lets get the words and create a dictionary with index as key and the word as value"
      ],
      "metadata": {
        "id": "G_Xb8eKdcnRV"
      }
    },
    {
      "cell_type": "code",
      "source": [
        "words=imdb.get_word_index()\n",
        "print(words['the'])\n",
        "\n",
        "index=dict([(v,k) for (k,v) in words.items() if v<=10000])\n",
        "index[1]"
      ],
      "metadata": {
        "colab": {
          "base_uri": "https://localhost:8080/",
          "height": 105
        },
        "id": "X4eweUK27hty",
        "outputId": "9a67f50b-3233-4642-f2b8-800a60ae0658"
      },
      "execution_count": null,
      "outputs": [
        {
          "output_type": "stream",
          "name": "stdout",
          "text": [
            "Downloading data from https://storage.googleapis.com/tensorflow/tf-keras-datasets/imdb_word_index.json\n",
            "1646592/1641221 [==============================] - 0s 0us/step\n",
            "1654784/1641221 [==============================] - 0s 0us/step\n",
            "1\n"
          ]
        },
        {
          "output_type": "execute_result",
          "data": {
            "text/plain": [
              "'the'"
            ],
            "application/vnd.google.colaboratory.intrinsic+json": {
              "type": "string"
            }
          },
          "metadata": {},
          "execution_count": 8
        }
      ]
    },
    {
      "cell_type": "code",
      "source": [
        "len(index)"
      ],
      "metadata": {
        "colab": {
          "base_uri": "https://localhost:8080/"
        },
        "id": "plhq-iWM7hw-",
        "outputId": "d5c5ebea-b0ea-4ee8-dea2-3d7c832e5e2e"
      },
      "execution_count": null,
      "outputs": [
        {
          "output_type": "execute_result",
          "data": {
            "text/plain": [
              "10000"
            ]
          },
          "metadata": {},
          "execution_count": 9
        }
      ]
    },
    {
      "cell_type": "markdown",
      "source": [
        "# **Lets load the whole embedding into memory**"
      ],
      "metadata": {
        "id": "urWOOAyyczlq"
      }
    },
    {
      "cell_type": "code",
      "source": [
        "embeddings_index = dict()\n",
        "f = open('/content/drive/MyDrive/AIML Program/Project/NLP2/DataSet - glove.6B.50d.txt')\n",
        "\n",
        "for line in f:\n",
        "\tvalues = line.split()\n",
        "\tword = values[0]\n",
        "\tcoefs = np.asarray(values[1:], dtype='float32')\n",
        "\tembeddings_index[word] = coefs\n",
        "f.close()\n",
        "print('Loaded %s word vectors.' % len(embeddings_index))"
      ],
      "metadata": {
        "colab": {
          "base_uri": "https://localhost:8080/"
        },
        "id": "u6Keozij7h7L",
        "outputId": "7f7cfb9c-dcca-4c1c-b4dc-e70410494e01"
      },
      "execution_count": null,
      "outputs": [
        {
          "output_type": "stream",
          "name": "stdout",
          "text": [
            "Loaded 400000 word vectors.\n"
          ]
        }
      ]
    },
    {
      "cell_type": "markdown",
      "source": [
        "# Lets Map the embedding vector with the words in the index:word dictionary defined before and store in embedding_matrix"
      ],
      "metadata": {
        "id": "6DcboC3Ec7lR"
      }
    },
    {
      "cell_type": "code",
      "source": [
        "\n",
        "embedding_matrix = np.zeros((vocab_size+1, 50))\n",
        "\n",
        "for i,word in index.items():\n",
        "\tembedding_vector = embeddings_index.get(word)\n",
        "\tif embedding_vector is not None:\n",
        "\t\tembedding_matrix[i] = embedding_vector\n",
        "\n",
        "print(embedding_matrix.shape)"
      ],
      "metadata": {
        "colab": {
          "base_uri": "https://localhost:8080/"
        },
        "id": "zdZdCZDX7h_B",
        "outputId": "a2e0dbe6-4957-4b7e-b83d-22d741d3d1f0"
      },
      "execution_count": null,
      "outputs": [
        {
          "output_type": "stream",
          "name": "stdout",
          "text": [
            "(10001, 50)\n"
          ]
        }
      ]
    },
    {
      "cell_type": "markdown",
      "source": [
        "# **Now lets build the model**"
      ],
      "metadata": {
        "id": "NHC2hJtTdKUg"
      }
    },
    {
      "cell_type": "code",
      "source": [
        "%tensorflow_version 2.x\n",
        "import tensorflow\n",
        "tensorflow.__version__\n",
        "from tensorflow.keras.models import Model\n",
        "from tensorflow.keras.layers import Input, LSTM, Dense, TimeDistributed,Bidirectional\n",
        "from tensorflow.keras.layers import Embedding\n",
        "import tensorflow as tf\n",
        "from sklearn.metrics import confusion_matrix\n",
        "\n",
        "input_layer=Input(shape=(maxlen,),dtype=tensorflow.int64)\n",
        "embedding = Embedding(vocab_size+1,50,weights=[embedding_matrix],trainable=True, input_length=maxlen)(input_layer)"
      ],
      "metadata": {
        "id": "yEv2MK2T7iCN"
      },
      "execution_count": null,
      "outputs": []
    },
    {
      "cell_type": "markdown",
      "source": [
        "# Here we are defining the bidirectional LSTM model"
      ],
      "metadata": {
        "id": "Z0O7_PSadRRn"
      }
    },
    {
      "cell_type": "code",
      "source": [
        "lstm = Bidirectional(LSTM(20))(embedding)\n",
        "out = (Dense(2, activation=\"softmax\"))(lstm)"
      ],
      "metadata": {
        "id": "gsoDJ2-w7iFv"
      },
      "execution_count": null,
      "outputs": []
    },
    {
      "cell_type": "code",
      "source": [
        "from tensorflow.keras import backend as K\n",
        "def custom_sparse_categorical_accuracy(y_true, y_pred):\n",
        "    return K.cast(K.equal(K.max(y_true, axis=-1),\n",
        "                          K.cast(K.argmax(y_pred, axis=-1), K.floatx())),\n",
        "                  K.floatx())"
      ],
      "metadata": {
        "id": "8OnVXvwr7iJK"
      },
      "execution_count": null,
      "outputs": []
    },
    {
      "cell_type": "markdown",
      "source": [
        "# Compile the model"
      ],
      "metadata": {
        "id": "ETav_dVAdbhA"
      }
    },
    {
      "cell_type": "code",
      "source": [
        "model = Model(input_layer, out)\n",
        "model.compile(optimizer=\"adam\", loss=\"sparse_categorical_crossentropy\", metrics=[custom_sparse_categorical_accuracy])\n",
        "model.summary()"
      ],
      "metadata": {
        "colab": {
          "base_uri": "https://localhost:8080/"
        },
        "id": "UjbaN41I7iMl",
        "outputId": "7f25305b-d364-4fa0-cdef-17643235286d"
      },
      "execution_count": null,
      "outputs": [
        {
          "output_type": "stream",
          "name": "stdout",
          "text": [
            "Model: \"model\"\n",
            "_________________________________________________________________\n",
            " Layer (type)                Output Shape              Param #   \n",
            "=================================================================\n",
            " input_1 (InputLayer)        [(None, 300)]             0         \n",
            "                                                                 \n",
            " embedding (Embedding)       (None, 300, 50)           500050    \n",
            "                                                                 \n",
            " bidirectional (Bidirectiona  (None, 40)               11360     \n",
            " l)                                                              \n",
            "                                                                 \n",
            " dense (Dense)               (None, 2)                 82        \n",
            "                                                                 \n",
            "=================================================================\n",
            "Total params: 511,492\n",
            "Trainable params: 511,492\n",
            "Non-trainable params: 0\n",
            "_________________________________________________________________\n"
          ]
        }
      ]
    },
    {
      "cell_type": "markdown",
      "source": [
        "# **Lets fit the model**"
      ],
      "metadata": {
        "id": "XwzGx1Cqdg5T"
      }
    },
    {
      "cell_type": "code",
      "source": [
        "x_train=x_train[:10000,:]\n",
        "y_train=y_train[:10000]\n",
        "\n",
        "model.fit(np.array(x_train),np.array(y_train),batch_size=20, epochs=5, verbose=1)"
      ],
      "metadata": {
        "colab": {
          "base_uri": "https://localhost:8080/"
        },
        "id": "LMipSvJ-7iQZ",
        "outputId": "e0cdd41b-2118-4bad-d230-9a76f044bd5e"
      },
      "execution_count": null,
      "outputs": [
        {
          "output_type": "stream",
          "name": "stdout",
          "text": [
            "Epoch 1/5\n",
            "500/500 [==============================] - 70s 133ms/step - loss: 0.6575 - custom_sparse_categorical_accuracy: 0.5897\n",
            "Epoch 2/5\n",
            "500/500 [==============================] - 66s 131ms/step - loss: 0.4371 - custom_sparse_categorical_accuracy: 0.7990\n",
            "Epoch 3/5\n",
            "500/500 [==============================] - 69s 138ms/step - loss: 0.2627 - custom_sparse_categorical_accuracy: 0.8968\n",
            "Epoch 4/5\n",
            "500/500 [==============================] - 66s 133ms/step - loss: 0.1655 - custom_sparse_categorical_accuracy: 0.9443\n",
            "Epoch 5/5\n",
            "500/500 [==============================] - 69s 137ms/step - loss: 0.0971 - custom_sparse_categorical_accuracy: 0.9719\n"
          ]
        },
        {
          "output_type": "execute_result",
          "data": {
            "text/plain": [
              "<keras.callbacks.History at 0x7f26a125ea10>"
            ]
          },
          "metadata": {},
          "execution_count": 16
        }
      ]
    },
    {
      "cell_type": "markdown",
      "source": [
        "# **As we can see here that custom_sparse_categorical_accuracy: 0.9719 and loss: 0.0971. Which means our model is working pretty fine**"
      ],
      "metadata": {
        "id": "ZVwPCLC9dp7A"
      }
    },
    {
      "cell_type": "code",
      "source": [
        "x_test=x_test[:5000,:]\n",
        "y_test=y_test[:5000]\n",
        "\n",
        "test_pred = model.predict(np.array(x_test), verbose=1)"
      ],
      "metadata": {
        "colab": {
          "base_uri": "https://localhost:8080/"
        },
        "id": "vQiOn4GT7iTr",
        "outputId": "6b81e962-4f91-477e-e3ef-a1462f785565"
      },
      "execution_count": null,
      "outputs": [
        {
          "output_type": "stream",
          "name": "stdout",
          "text": [
            "157/157 [==============================] - 7s 36ms/step\n"
          ]
        }
      ]
    },
    {
      "cell_type": "markdown",
      "source": [
        "# **Mapping the greater value as 1 and the lesser probability as 0**"
      ],
      "metadata": {
        "id": "38zeZdj7d8KS"
      }
    },
    {
      "cell_type": "code",
      "source": [
        "test_pred = [1 if j>i else 0 for i,j in test_pred]\n",
        "\n",
        "test_pred[1]"
      ],
      "metadata": {
        "colab": {
          "base_uri": "https://localhost:8080/"
        },
        "id": "6KPSvdwD7ibN",
        "outputId": "d93f6c96-0c49-4abb-a5fc-ac761f663bc9"
      },
      "execution_count": null,
      "outputs": [
        {
          "output_type": "execute_result",
          "data": {
            "text/plain": [
              "1"
            ]
          },
          "metadata": {},
          "execution_count": 18
        }
      ]
    },
    {
      "cell_type": "markdown",
      "source": [
        "# **Lets create the confusion matrix**"
      ],
      "metadata": {
        "id": "o3TC0GKxeCWR"
      }
    },
    {
      "cell_type": "code",
      "source": [
        "confusion_matrix(y_test, test_pred)"
      ],
      "metadata": {
        "colab": {
          "base_uri": "https://localhost:8080/"
        },
        "id": "Q7u1fd0I7ie-",
        "outputId": "01e8fa88-6e1b-40d5-c04a-67f21d96d3cc"
      },
      "execution_count": null,
      "outputs": [
        {
          "output_type": "execute_result",
          "data": {
            "text/plain": [
              "array([[2140,  431],\n",
              "       [ 353, 2076]])"
            ]
          },
          "metadata": {},
          "execution_count": 19
        }
      ]
    },
    {
      "cell_type": "markdown",
      "source": [
        "# **As we can see here that True positive value is 2076 and True negative value is 2140. That means our model is performing its task very well**"
      ],
      "metadata": {
        "id": "j47uYkYVeYkL"
      }
    },
    {
      "cell_type": "markdown",
      "source": [
        "# Lets Retrive the output of each layer in keras for a given single test sample from the trained model we built"
      ],
      "metadata": {
        "id": "ElNBXCbELWTg"
      }
    },
    {
      "cell_type": "code",
      "source": [
        "model.layers[2].output"
      ],
      "metadata": {
        "colab": {
          "base_uri": "https://localhost:8080/"
        },
        "id": "dIiEXWTr7iin",
        "outputId": "97407cff-cac6-4ff3-bd77-e2efa1f9933a"
      },
      "execution_count": null,
      "outputs": [
        {
          "output_type": "execute_result",
          "data": {
            "text/plain": [
              "<KerasTensor: shape=(None, 40) dtype=float32 (created by layer 'bidirectional')>"
            ]
          },
          "metadata": {},
          "execution_count": 20
        }
      ]
    },
    {
      "cell_type": "code",
      "source": [
        "layer_outputs=[out.output for out in model.layers][1:]\n",
        "model_input = model.input"
      ],
      "metadata": {
        "id": "dxXisJNU7imD"
      },
      "execution_count": null,
      "outputs": []
    },
    {
      "cell_type": "code",
      "source": [
        "functions = [K.function([model_input],[out]) for out in layer_outputs]\n",
        "\n",
        "outs = [func([x_test]) for func in functions]\n",
        "\n",
        "print(outs[1])    # Output of Bidirectional layer\n",
        "\n",
        "print(outs[2])    # Output of Dense softmax layer\n",
        "\n",
        "print(outs[0])    # Output of the embedding layer"
      ],
      "metadata": {
        "colab": {
          "base_uri": "https://localhost:8080/"
        },
        "id": "cc5HFokJ7iqD",
        "outputId": "36baf3ae-d888-4671-b614-93ed9d8bbbb5"
      },
      "execution_count": null,
      "outputs": [
        {
          "output_type": "stream",
          "name": "stdout",
          "text": [
            "[array([[ 0.05037985,  0.08863832, -0.48881733, ..., -0.05949384,\n",
            "        -0.01918741, -0.01674705],\n",
            "       [-0.5417663 ,  0.589969  ,  0.8805925 , ..., -0.05957677,\n",
            "        -0.01892886, -0.01690206],\n",
            "       [-0.38703278,  0.38663995,  0.5308061 , ...,  0.5786498 ,\n",
            "         0.53038794, -0.08311957],\n",
            "       ...,\n",
            "       [ 0.02964257,  0.33380565,  0.6859438 , ..., -0.05949384,\n",
            "        -0.01918742, -0.01674705],\n",
            "       [ 0.06757696,  0.36389595,  0.44367447, ..., -0.05949387,\n",
            "        -0.01918742, -0.01674705],\n",
            "       [-0.21156886,  0.4688213 ,  0.8271618 , ..., -0.05949386,\n",
            "        -0.01918742, -0.01674705]], dtype=float32)]\n",
            "[array([[0.9078768 , 0.09212326],\n",
            "       [0.00168339, 0.99831665],\n",
            "       [0.01863885, 0.9813611 ],\n",
            "       ...,\n",
            "       [0.00333564, 0.99666435],\n",
            "       [0.05370776, 0.9462922 ],\n",
            "       [0.00605898, 0.99394107]], dtype=float32)]\n",
            "[array([[[-8.3878497e-03, -3.3890702e-02,  8.2194924e-02, ...,\n",
            "          2.3254897e-02,  8.2241168e-06,  5.1855545e-02],\n",
            "        [-8.3878497e-03, -3.3890702e-02,  8.2194924e-02, ...,\n",
            "          2.3254897e-02,  8.2241168e-06,  5.1855545e-02],\n",
            "        [-8.3878497e-03, -3.3890702e-02,  8.2194924e-02, ...,\n",
            "          2.3254897e-02,  8.2241168e-06,  5.1855545e-02],\n",
            "        ...,\n",
            "        [ 2.3518227e-01,  1.1683994e-01, -2.7233312e-01, ...,\n",
            "         -2.8514069e-01,  8.8649742e-02, -1.5592222e-02],\n",
            "        [ 6.0309458e-01,  5.7674789e-01, -5.8759624e-01, ...,\n",
            "         -2.9140088e-01,  3.6033931e-01,  5.2016705e-01],\n",
            "        [ 1.1131904e+00,  5.8402187e-01, -1.8142013e-01, ...,\n",
            "          6.7795657e-02, -3.5953175e-02,  2.6086551e-01]],\n",
            "\n",
            "       [[-8.3878497e-03, -3.3890702e-02,  8.2194924e-02, ...,\n",
            "          2.3254897e-02,  8.2241168e-06,  5.1855545e-02],\n",
            "        [-8.3878497e-03, -3.3890702e-02,  8.2194924e-02, ...,\n",
            "          2.3254897e-02,  8.2241168e-06,  5.1855545e-02],\n",
            "        [-8.3878497e-03, -3.3890702e-02,  8.2194924e-02, ...,\n",
            "          2.3254897e-02,  8.2241168e-06,  5.1855545e-02],\n",
            "        ...,\n",
            "        [-1.9106276e-01, -2.3138005e-01,  2.4499506e-01, ...,\n",
            "          2.0087901e-01,  1.4580747e-01,  1.0476562e+00],\n",
            "        [ 7.9483396e-01,  5.6729561e-01, -4.4278061e-01, ...,\n",
            "         -2.6050845e-01, -9.7844809e-02, -7.3339260e-01],\n",
            "        [-6.8152048e-02,  6.2177461e-01, -1.1096542e+00, ...,\n",
            "          5.5247951e-01, -8.1915724e-01,  2.9083899e-01]],\n",
            "\n",
            "       [[-7.6429594e-01,  1.5854626e+00,  2.4393986e-01, ...,\n",
            "         -1.6565271e-01,  4.0239036e-02,  5.1191360e-01],\n",
            "        [-2.8173977e-01,  6.5606368e-01, -2.4322256e-02, ...,\n",
            "         -5.7475483e-01, -7.5748855e-01,  5.8958048e-01],\n",
            "        [ 1.8409449e-01,  2.7176481e-01,  3.0496690e-01, ...,\n",
            "         -3.0811846e-01,  1.6899910e-02,  3.9237422e-01],\n",
            "        ...,\n",
            "        [ 6.6263872e-01, -2.5363696e-01, -4.1392494e-02, ...,\n",
            "         -7.3820047e-02, -8.1481621e-02,  2.3275651e-01],\n",
            "        [ 3.2826152e-01, -1.7325191e-01,  8.2221068e-02, ...,\n",
            "          3.1084191e-02, -2.6902309e-01,  3.3757016e-02],\n",
            "        [-6.7579931e-01,  7.6986474e-01, -4.3122128e-01, ...,\n",
            "          5.8478606e-01,  2.2999446e-01,  5.1818755e-02]],\n",
            "\n",
            "       ...,\n",
            "\n",
            "       [[-8.3878497e-03, -3.3890702e-02,  8.2194924e-02, ...,\n",
            "          2.3254897e-02,  8.2241168e-06,  5.1855545e-02],\n",
            "        [-8.3878497e-03, -3.3890702e-02,  8.2194924e-02, ...,\n",
            "          2.3254897e-02,  8.2241168e-06,  5.1855545e-02],\n",
            "        [-8.3878497e-03, -3.3890702e-02,  8.2194924e-02, ...,\n",
            "          2.3254897e-02,  8.2241168e-06,  5.1855545e-02],\n",
            "        ...,\n",
            "        [ 8.1463403e-01, -1.5922582e-02,  2.6299405e-01, ...,\n",
            "         -1.5395367e-01, -1.0562159e-01, -9.0381980e-02],\n",
            "        [-1.5322316e-01,  6.3860357e-01, -5.0964117e-01, ...,\n",
            "         -2.2474016e-01, -2.7952120e-01,  1.0166780e+00],\n",
            "        [ 4.0112201e-02,  4.6049812e-01,  3.3055273e-01, ...,\n",
            "         -7.2767878e-01, -3.0429804e-01,  1.6281399e-01]],\n",
            "\n",
            "       [[-8.3878497e-03, -3.3890702e-02,  8.2194924e-02, ...,\n",
            "          2.3254897e-02,  8.2241168e-06,  5.1855545e-02],\n",
            "        [-8.3878497e-03, -3.3890702e-02,  8.2194924e-02, ...,\n",
            "          2.3254897e-02,  8.2241168e-06,  5.1855545e-02],\n",
            "        [-8.3878497e-03, -3.3890702e-02,  8.2194924e-02, ...,\n",
            "          2.3254897e-02,  8.2241168e-06,  5.1855545e-02],\n",
            "        ...,\n",
            "        [ 2.9799291e-01, -6.0165930e-01,  1.2525290e-01, ...,\n",
            "          2.5354227e-02,  7.9853959e-02, -1.5833537e-01],\n",
            "        [ 8.1463403e-01, -1.5922582e-02,  2.6299405e-01, ...,\n",
            "         -1.5395367e-01, -1.0562159e-01, -9.0381980e-02],\n",
            "        [-6.2362659e-01,  9.9160641e-02,  9.2703575e-01, ...,\n",
            "         -8.2241350e-01,  1.1771047e+00, -4.8651212e-01]],\n",
            "\n",
            "       [[-8.3878497e-03, -3.3890702e-02,  8.2194924e-02, ...,\n",
            "          2.3254897e-02,  8.2241168e-06,  5.1855545e-02],\n",
            "        [-8.3878497e-03, -3.3890702e-02,  8.2194924e-02, ...,\n",
            "          2.3254897e-02,  8.2241168e-06,  5.1855545e-02],\n",
            "        [-8.3878497e-03, -3.3890702e-02,  8.2194924e-02, ...,\n",
            "          2.3254897e-02,  8.2241168e-06,  5.1855545e-02],\n",
            "        ...,\n",
            "        [ 3.4607407e-01,  2.7175963e-01, -7.2931468e-01, ...,\n",
            "         -5.3244501e-01, -5.4289758e-02, -4.8237622e-01],\n",
            "        [ 2.7597314e-01,  4.2874452e-01, -2.3180349e-01, ...,\n",
            "         -1.4774781e-01,  9.8895133e-03,  2.2823685e-01],\n",
            "        [ 9.3113887e-01, -2.2826293e-02,  9.0343021e-02, ...,\n",
            "          5.1578909e-01, -7.8181112e-01, -4.5579836e-01]]], dtype=float32)]\n"
          ]
        }
      ]
    },
    {
      "cell_type": "markdown",
      "source": [
        "# **PART = 2**"
      ],
      "metadata": {
        "id": "1C2uYsQDMuj4"
      }
    },
    {
      "cell_type": "markdown",
      "source": [
        "# **Lets load the data and read the json**"
      ],
      "metadata": {
        "id": "KGJQ0_k5TYY5"
      }
    },
    {
      "cell_type": "code",
      "source": [
        "import json\n",
        "data = [json.loads(line) for \n",
        "        line in open('/content/drive/MyDrive/AIML Program/Project/NLP2/Sarcasm_Headlines_Dataset_v2.json', 'r')]"
      ],
      "metadata": {
        "id": "yn_629x07jsW"
      },
      "execution_count": null,
      "outputs": []
    },
    {
      "cell_type": "markdown",
      "source": [
        "## **Lets Convert the dictionary to a dataframe**"
      ],
      "metadata": {
        "id": "TPLgk0lnTehn"
      }
    },
    {
      "cell_type": "code",
      "source": [
        "new_df = pd.DataFrame.from_dict(data) "
      ],
      "metadata": {
        "id": "dX4wUh-wSBDs"
      },
      "execution_count": null,
      "outputs": []
    },
    {
      "cell_type": "markdown",
      "source": [
        "# **Lets check the dataset**"
      ],
      "metadata": {
        "id": "6Y7exNwvTiff"
      }
    },
    {
      "cell_type": "code",
      "source": [
        "new_df.head()"
      ],
      "metadata": {
        "colab": {
          "base_uri": "https://localhost:8080/",
          "height": 206
        },
        "id": "i9ryDaaiSBGv",
        "outputId": "4a67f2d7-b314-44de-814c-7b91c6539cee"
      },
      "execution_count": null,
      "outputs": [
        {
          "output_type": "execute_result",
          "data": {
            "text/plain": [
              "   is_sarcastic                                           headline  \\\n",
              "0             1  thirtysomething scientists unveil doomsday clo...   \n",
              "1             0  dem rep. totally nails why congress is falling...   \n",
              "2             0  eat your veggies: 9 deliciously different recipes   \n",
              "3             1  inclement weather prevents liar from getting t...   \n",
              "4             1  mother comes pretty close to using word 'strea...   \n",
              "\n",
              "                                        article_link  \n",
              "0  https://www.theonion.com/thirtysomething-scien...  \n",
              "1  https://www.huffingtonpost.com/entry/donna-edw...  \n",
              "2  https://www.huffingtonpost.com/entry/eat-your-...  \n",
              "3  https://local.theonion.com/inclement-weather-p...  \n",
              "4  https://www.theonion.com/mother-comes-pretty-c...  "
            ],
            "text/html": [
              "\n",
              "  <div id=\"df-253d5116-97ee-4703-b539-a78c511f79fb\">\n",
              "    <div class=\"colab-df-container\">\n",
              "      <div>\n",
              "<style scoped>\n",
              "    .dataframe tbody tr th:only-of-type {\n",
              "        vertical-align: middle;\n",
              "    }\n",
              "\n",
              "    .dataframe tbody tr th {\n",
              "        vertical-align: top;\n",
              "    }\n",
              "\n",
              "    .dataframe thead th {\n",
              "        text-align: right;\n",
              "    }\n",
              "</style>\n",
              "<table border=\"1\" class=\"dataframe\">\n",
              "  <thead>\n",
              "    <tr style=\"text-align: right;\">\n",
              "      <th></th>\n",
              "      <th>is_sarcastic</th>\n",
              "      <th>headline</th>\n",
              "      <th>article_link</th>\n",
              "    </tr>\n",
              "  </thead>\n",
              "  <tbody>\n",
              "    <tr>\n",
              "      <th>0</th>\n",
              "      <td>1</td>\n",
              "      <td>thirtysomething scientists unveil doomsday clo...</td>\n",
              "      <td>https://www.theonion.com/thirtysomething-scien...</td>\n",
              "    </tr>\n",
              "    <tr>\n",
              "      <th>1</th>\n",
              "      <td>0</td>\n",
              "      <td>dem rep. totally nails why congress is falling...</td>\n",
              "      <td>https://www.huffingtonpost.com/entry/donna-edw...</td>\n",
              "    </tr>\n",
              "    <tr>\n",
              "      <th>2</th>\n",
              "      <td>0</td>\n",
              "      <td>eat your veggies: 9 deliciously different recipes</td>\n",
              "      <td>https://www.huffingtonpost.com/entry/eat-your-...</td>\n",
              "    </tr>\n",
              "    <tr>\n",
              "      <th>3</th>\n",
              "      <td>1</td>\n",
              "      <td>inclement weather prevents liar from getting t...</td>\n",
              "      <td>https://local.theonion.com/inclement-weather-p...</td>\n",
              "    </tr>\n",
              "    <tr>\n",
              "      <th>4</th>\n",
              "      <td>1</td>\n",
              "      <td>mother comes pretty close to using word 'strea...</td>\n",
              "      <td>https://www.theonion.com/mother-comes-pretty-c...</td>\n",
              "    </tr>\n",
              "  </tbody>\n",
              "</table>\n",
              "</div>\n",
              "      <button class=\"colab-df-convert\" onclick=\"convertToInteractive('df-253d5116-97ee-4703-b539-a78c511f79fb')\"\n",
              "              title=\"Convert this dataframe to an interactive table.\"\n",
              "              style=\"display:none;\">\n",
              "        \n",
              "  <svg xmlns=\"http://www.w3.org/2000/svg\" height=\"24px\"viewBox=\"0 0 24 24\"\n",
              "       width=\"24px\">\n",
              "    <path d=\"M0 0h24v24H0V0z\" fill=\"none\"/>\n",
              "    <path d=\"M18.56 5.44l.94 2.06.94-2.06 2.06-.94-2.06-.94-.94-2.06-.94 2.06-2.06.94zm-11 1L8.5 8.5l.94-2.06 2.06-.94-2.06-.94L8.5 2.5l-.94 2.06-2.06.94zm10 10l.94 2.06.94-2.06 2.06-.94-2.06-.94-.94-2.06-.94 2.06-2.06.94z\"/><path d=\"M17.41 7.96l-1.37-1.37c-.4-.4-.92-.59-1.43-.59-.52 0-1.04.2-1.43.59L10.3 9.45l-7.72 7.72c-.78.78-.78 2.05 0 2.83L4 21.41c.39.39.9.59 1.41.59.51 0 1.02-.2 1.41-.59l7.78-7.78 2.81-2.81c.8-.78.8-2.07 0-2.86zM5.41 20L4 18.59l7.72-7.72 1.47 1.35L5.41 20z\"/>\n",
              "  </svg>\n",
              "      </button>\n",
              "      \n",
              "  <style>\n",
              "    .colab-df-container {\n",
              "      display:flex;\n",
              "      flex-wrap:wrap;\n",
              "      gap: 12px;\n",
              "    }\n",
              "\n",
              "    .colab-df-convert {\n",
              "      background-color: #E8F0FE;\n",
              "      border: none;\n",
              "      border-radius: 50%;\n",
              "      cursor: pointer;\n",
              "      display: none;\n",
              "      fill: #1967D2;\n",
              "      height: 32px;\n",
              "      padding: 0 0 0 0;\n",
              "      width: 32px;\n",
              "    }\n",
              "\n",
              "    .colab-df-convert:hover {\n",
              "      background-color: #E2EBFA;\n",
              "      box-shadow: 0px 1px 2px rgba(60, 64, 67, 0.3), 0px 1px 3px 1px rgba(60, 64, 67, 0.15);\n",
              "      fill: #174EA6;\n",
              "    }\n",
              "\n",
              "    [theme=dark] .colab-df-convert {\n",
              "      background-color: #3B4455;\n",
              "      fill: #D2E3FC;\n",
              "    }\n",
              "\n",
              "    [theme=dark] .colab-df-convert:hover {\n",
              "      background-color: #434B5C;\n",
              "      box-shadow: 0px 1px 3px 1px rgba(0, 0, 0, 0.15);\n",
              "      filter: drop-shadow(0px 1px 2px rgba(0, 0, 0, 0.3));\n",
              "      fill: #FFFFFF;\n",
              "    }\n",
              "  </style>\n",
              "\n",
              "      <script>\n",
              "        const buttonEl =\n",
              "          document.querySelector('#df-253d5116-97ee-4703-b539-a78c511f79fb button.colab-df-convert');\n",
              "        buttonEl.style.display =\n",
              "          google.colab.kernel.accessAllowed ? 'block' : 'none';\n",
              "\n",
              "        async function convertToInteractive(key) {\n",
              "          const element = document.querySelector('#df-253d5116-97ee-4703-b539-a78c511f79fb');\n",
              "          const dataTable =\n",
              "            await google.colab.kernel.invokeFunction('convertToInteractive',\n",
              "                                                     [key], {});\n",
              "          if (!dataTable) return;\n",
              "\n",
              "          const docLinkHtml = 'Like what you see? Visit the ' +\n",
              "            '<a target=\"_blank\" href=https://colab.research.google.com/notebooks/data_table.ipynb>data table notebook</a>'\n",
              "            + ' to learn more about interactive tables.';\n",
              "          element.innerHTML = '';\n",
              "          dataTable['output_type'] = 'display_data';\n",
              "          await google.colab.output.renderOutput(dataTable, element);\n",
              "          const docLink = document.createElement('div');\n",
              "          docLink.innerHTML = docLinkHtml;\n",
              "          element.appendChild(docLink);\n",
              "        }\n",
              "      </script>\n",
              "    </div>\n",
              "  </div>\n",
              "  "
            ]
          },
          "metadata": {},
          "execution_count": 25
        }
      ]
    },
    {
      "cell_type": "markdown",
      "source": [
        "# Lets drop article_link from dataset"
      ],
      "metadata": {
        "id": "icalTCPITsbq"
      }
    },
    {
      "cell_type": "code",
      "source": [
        "new_df2 = new_df.drop(['article_link'],axis=1)"
      ],
      "metadata": {
        "id": "S9GOw8qoSBKU"
      },
      "execution_count": null,
      "outputs": []
    },
    {
      "cell_type": "markdown",
      "source": [
        "# Again check the dataset"
      ],
      "metadata": {
        "id": "kwjFZfBqTvs-"
      }
    },
    {
      "cell_type": "code",
      "source": [
        "new_df2.head()"
      ],
      "metadata": {
        "colab": {
          "base_uri": "https://localhost:8080/",
          "height": 206
        },
        "id": "vcxExguOSBNc",
        "outputId": "96b882b4-2fcc-4a30-ee10-644ae6cd88aa"
      },
      "execution_count": null,
      "outputs": [
        {
          "output_type": "execute_result",
          "data": {
            "text/plain": [
              "   is_sarcastic                                           headline\n",
              "0             1  thirtysomething scientists unveil doomsday clo...\n",
              "1             0  dem rep. totally nails why congress is falling...\n",
              "2             0  eat your veggies: 9 deliciously different recipes\n",
              "3             1  inclement weather prevents liar from getting t...\n",
              "4             1  mother comes pretty close to using word 'strea..."
            ],
            "text/html": [
              "\n",
              "  <div id=\"df-7246e218-31a1-4a8f-9d8b-5bb1ec6a42ac\">\n",
              "    <div class=\"colab-df-container\">\n",
              "      <div>\n",
              "<style scoped>\n",
              "    .dataframe tbody tr th:only-of-type {\n",
              "        vertical-align: middle;\n",
              "    }\n",
              "\n",
              "    .dataframe tbody tr th {\n",
              "        vertical-align: top;\n",
              "    }\n",
              "\n",
              "    .dataframe thead th {\n",
              "        text-align: right;\n",
              "    }\n",
              "</style>\n",
              "<table border=\"1\" class=\"dataframe\">\n",
              "  <thead>\n",
              "    <tr style=\"text-align: right;\">\n",
              "      <th></th>\n",
              "      <th>is_sarcastic</th>\n",
              "      <th>headline</th>\n",
              "    </tr>\n",
              "  </thead>\n",
              "  <tbody>\n",
              "    <tr>\n",
              "      <th>0</th>\n",
              "      <td>1</td>\n",
              "      <td>thirtysomething scientists unveil doomsday clo...</td>\n",
              "    </tr>\n",
              "    <tr>\n",
              "      <th>1</th>\n",
              "      <td>0</td>\n",
              "      <td>dem rep. totally nails why congress is falling...</td>\n",
              "    </tr>\n",
              "    <tr>\n",
              "      <th>2</th>\n",
              "      <td>0</td>\n",
              "      <td>eat your veggies: 9 deliciously different recipes</td>\n",
              "    </tr>\n",
              "    <tr>\n",
              "      <th>3</th>\n",
              "      <td>1</td>\n",
              "      <td>inclement weather prevents liar from getting t...</td>\n",
              "    </tr>\n",
              "    <tr>\n",
              "      <th>4</th>\n",
              "      <td>1</td>\n",
              "      <td>mother comes pretty close to using word 'strea...</td>\n",
              "    </tr>\n",
              "  </tbody>\n",
              "</table>\n",
              "</div>\n",
              "      <button class=\"colab-df-convert\" onclick=\"convertToInteractive('df-7246e218-31a1-4a8f-9d8b-5bb1ec6a42ac')\"\n",
              "              title=\"Convert this dataframe to an interactive table.\"\n",
              "              style=\"display:none;\">\n",
              "        \n",
              "  <svg xmlns=\"http://www.w3.org/2000/svg\" height=\"24px\"viewBox=\"0 0 24 24\"\n",
              "       width=\"24px\">\n",
              "    <path d=\"M0 0h24v24H0V0z\" fill=\"none\"/>\n",
              "    <path d=\"M18.56 5.44l.94 2.06.94-2.06 2.06-.94-2.06-.94-.94-2.06-.94 2.06-2.06.94zm-11 1L8.5 8.5l.94-2.06 2.06-.94-2.06-.94L8.5 2.5l-.94 2.06-2.06.94zm10 10l.94 2.06.94-2.06 2.06-.94-2.06-.94-.94-2.06-.94 2.06-2.06.94z\"/><path d=\"M17.41 7.96l-1.37-1.37c-.4-.4-.92-.59-1.43-.59-.52 0-1.04.2-1.43.59L10.3 9.45l-7.72 7.72c-.78.78-.78 2.05 0 2.83L4 21.41c.39.39.9.59 1.41.59.51 0 1.02-.2 1.41-.59l7.78-7.78 2.81-2.81c.8-.78.8-2.07 0-2.86zM5.41 20L4 18.59l7.72-7.72 1.47 1.35L5.41 20z\"/>\n",
              "  </svg>\n",
              "      </button>\n",
              "      \n",
              "  <style>\n",
              "    .colab-df-container {\n",
              "      display:flex;\n",
              "      flex-wrap:wrap;\n",
              "      gap: 12px;\n",
              "    }\n",
              "\n",
              "    .colab-df-convert {\n",
              "      background-color: #E8F0FE;\n",
              "      border: none;\n",
              "      border-radius: 50%;\n",
              "      cursor: pointer;\n",
              "      display: none;\n",
              "      fill: #1967D2;\n",
              "      height: 32px;\n",
              "      padding: 0 0 0 0;\n",
              "      width: 32px;\n",
              "    }\n",
              "\n",
              "    .colab-df-convert:hover {\n",
              "      background-color: #E2EBFA;\n",
              "      box-shadow: 0px 1px 2px rgba(60, 64, 67, 0.3), 0px 1px 3px 1px rgba(60, 64, 67, 0.15);\n",
              "      fill: #174EA6;\n",
              "    }\n",
              "\n",
              "    [theme=dark] .colab-df-convert {\n",
              "      background-color: #3B4455;\n",
              "      fill: #D2E3FC;\n",
              "    }\n",
              "\n",
              "    [theme=dark] .colab-df-convert:hover {\n",
              "      background-color: #434B5C;\n",
              "      box-shadow: 0px 1px 3px 1px rgba(0, 0, 0, 0.15);\n",
              "      filter: drop-shadow(0px 1px 2px rgba(0, 0, 0, 0.3));\n",
              "      fill: #FFFFFF;\n",
              "    }\n",
              "  </style>\n",
              "\n",
              "      <script>\n",
              "        const buttonEl =\n",
              "          document.querySelector('#df-7246e218-31a1-4a8f-9d8b-5bb1ec6a42ac button.colab-df-convert');\n",
              "        buttonEl.style.display =\n",
              "          google.colab.kernel.accessAllowed ? 'block' : 'none';\n",
              "\n",
              "        async function convertToInteractive(key) {\n",
              "          const element = document.querySelector('#df-7246e218-31a1-4a8f-9d8b-5bb1ec6a42ac');\n",
              "          const dataTable =\n",
              "            await google.colab.kernel.invokeFunction('convertToInteractive',\n",
              "                                                     [key], {});\n",
              "          if (!dataTable) return;\n",
              "\n",
              "          const docLinkHtml = 'Like what you see? Visit the ' +\n",
              "            '<a target=\"_blank\" href=https://colab.research.google.com/notebooks/data_table.ipynb>data table notebook</a>'\n",
              "            + ' to learn more about interactive tables.';\n",
              "          element.innerHTML = '';\n",
              "          dataTable['output_type'] = 'display_data';\n",
              "          await google.colab.output.renderOutput(dataTable, element);\n",
              "          const docLink = document.createElement('div');\n",
              "          docLink.innerHTML = docLinkHtml;\n",
              "          element.appendChild(docLink);\n",
              "        }\n",
              "      </script>\n",
              "    </div>\n",
              "  </div>\n",
              "  "
            ]
          },
          "metadata": {},
          "execution_count": 27
        }
      ]
    },
    {
      "cell_type": "markdown",
      "source": [
        "# **Lets get the length of each headline and add a column for that**"
      ],
      "metadata": {
        "id": "SlTriqyST1Jy"
      }
    },
    {
      "cell_type": "code",
      "source": [
        "new_df2[\"headline_len\"] = new_df2[\"headline\"].str.len()"
      ],
      "metadata": {
        "id": "Ousv1UMTSBQn"
      },
      "execution_count": null,
      "outputs": []
    },
    {
      "cell_type": "code",
      "source": [
        "new_df2.head()"
      ],
      "metadata": {
        "colab": {
          "base_uri": "https://localhost:8080/",
          "height": 206
        },
        "id": "MsfpaKn1SBUA",
        "outputId": "d24da4bf-2ac1-4d53-a1e0-e29de183caf4"
      },
      "execution_count": null,
      "outputs": [
        {
          "output_type": "execute_result",
          "data": {
            "text/plain": [
              "   is_sarcastic                                           headline  \\\n",
              "0             1  thirtysomething scientists unveil doomsday clo...   \n",
              "1             0  dem rep. totally nails why congress is falling...   \n",
              "2             0  eat your veggies: 9 deliciously different recipes   \n",
              "3             1  inclement weather prevents liar from getting t...   \n",
              "4             1  mother comes pretty close to using word 'strea...   \n",
              "\n",
              "   headline_len  \n",
              "0            61  \n",
              "1            79  \n",
              "2            49  \n",
              "3            52  \n",
              "4            61  "
            ],
            "text/html": [
              "\n",
              "  <div id=\"df-6e253eb8-39c7-416d-ac2d-e94fb7479307\">\n",
              "    <div class=\"colab-df-container\">\n",
              "      <div>\n",
              "<style scoped>\n",
              "    .dataframe tbody tr th:only-of-type {\n",
              "        vertical-align: middle;\n",
              "    }\n",
              "\n",
              "    .dataframe tbody tr th {\n",
              "        vertical-align: top;\n",
              "    }\n",
              "\n",
              "    .dataframe thead th {\n",
              "        text-align: right;\n",
              "    }\n",
              "</style>\n",
              "<table border=\"1\" class=\"dataframe\">\n",
              "  <thead>\n",
              "    <tr style=\"text-align: right;\">\n",
              "      <th></th>\n",
              "      <th>is_sarcastic</th>\n",
              "      <th>headline</th>\n",
              "      <th>headline_len</th>\n",
              "    </tr>\n",
              "  </thead>\n",
              "  <tbody>\n",
              "    <tr>\n",
              "      <th>0</th>\n",
              "      <td>1</td>\n",
              "      <td>thirtysomething scientists unveil doomsday clo...</td>\n",
              "      <td>61</td>\n",
              "    </tr>\n",
              "    <tr>\n",
              "      <th>1</th>\n",
              "      <td>0</td>\n",
              "      <td>dem rep. totally nails why congress is falling...</td>\n",
              "      <td>79</td>\n",
              "    </tr>\n",
              "    <tr>\n",
              "      <th>2</th>\n",
              "      <td>0</td>\n",
              "      <td>eat your veggies: 9 deliciously different recipes</td>\n",
              "      <td>49</td>\n",
              "    </tr>\n",
              "    <tr>\n",
              "      <th>3</th>\n",
              "      <td>1</td>\n",
              "      <td>inclement weather prevents liar from getting t...</td>\n",
              "      <td>52</td>\n",
              "    </tr>\n",
              "    <tr>\n",
              "      <th>4</th>\n",
              "      <td>1</td>\n",
              "      <td>mother comes pretty close to using word 'strea...</td>\n",
              "      <td>61</td>\n",
              "    </tr>\n",
              "  </tbody>\n",
              "</table>\n",
              "</div>\n",
              "      <button class=\"colab-df-convert\" onclick=\"convertToInteractive('df-6e253eb8-39c7-416d-ac2d-e94fb7479307')\"\n",
              "              title=\"Convert this dataframe to an interactive table.\"\n",
              "              style=\"display:none;\">\n",
              "        \n",
              "  <svg xmlns=\"http://www.w3.org/2000/svg\" height=\"24px\"viewBox=\"0 0 24 24\"\n",
              "       width=\"24px\">\n",
              "    <path d=\"M0 0h24v24H0V0z\" fill=\"none\"/>\n",
              "    <path d=\"M18.56 5.44l.94 2.06.94-2.06 2.06-.94-2.06-.94-.94-2.06-.94 2.06-2.06.94zm-11 1L8.5 8.5l.94-2.06 2.06-.94-2.06-.94L8.5 2.5l-.94 2.06-2.06.94zm10 10l.94 2.06.94-2.06 2.06-.94-2.06-.94-.94-2.06-.94 2.06-2.06.94z\"/><path d=\"M17.41 7.96l-1.37-1.37c-.4-.4-.92-.59-1.43-.59-.52 0-1.04.2-1.43.59L10.3 9.45l-7.72 7.72c-.78.78-.78 2.05 0 2.83L4 21.41c.39.39.9.59 1.41.59.51 0 1.02-.2 1.41-.59l7.78-7.78 2.81-2.81c.8-.78.8-2.07 0-2.86zM5.41 20L4 18.59l7.72-7.72 1.47 1.35L5.41 20z\"/>\n",
              "  </svg>\n",
              "      </button>\n",
              "      \n",
              "  <style>\n",
              "    .colab-df-container {\n",
              "      display:flex;\n",
              "      flex-wrap:wrap;\n",
              "      gap: 12px;\n",
              "    }\n",
              "\n",
              "    .colab-df-convert {\n",
              "      background-color: #E8F0FE;\n",
              "      border: none;\n",
              "      border-radius: 50%;\n",
              "      cursor: pointer;\n",
              "      display: none;\n",
              "      fill: #1967D2;\n",
              "      height: 32px;\n",
              "      padding: 0 0 0 0;\n",
              "      width: 32px;\n",
              "    }\n",
              "\n",
              "    .colab-df-convert:hover {\n",
              "      background-color: #E2EBFA;\n",
              "      box-shadow: 0px 1px 2px rgba(60, 64, 67, 0.3), 0px 1px 3px 1px rgba(60, 64, 67, 0.15);\n",
              "      fill: #174EA6;\n",
              "    }\n",
              "\n",
              "    [theme=dark] .colab-df-convert {\n",
              "      background-color: #3B4455;\n",
              "      fill: #D2E3FC;\n",
              "    }\n",
              "\n",
              "    [theme=dark] .colab-df-convert:hover {\n",
              "      background-color: #434B5C;\n",
              "      box-shadow: 0px 1px 3px 1px rgba(0, 0, 0, 0.15);\n",
              "      filter: drop-shadow(0px 1px 2px rgba(0, 0, 0, 0.3));\n",
              "      fill: #FFFFFF;\n",
              "    }\n",
              "  </style>\n",
              "\n",
              "      <script>\n",
              "        const buttonEl =\n",
              "          document.querySelector('#df-6e253eb8-39c7-416d-ac2d-e94fb7479307 button.colab-df-convert');\n",
              "        buttonEl.style.display =\n",
              "          google.colab.kernel.accessAllowed ? 'block' : 'none';\n",
              "\n",
              "        async function convertToInteractive(key) {\n",
              "          const element = document.querySelector('#df-6e253eb8-39c7-416d-ac2d-e94fb7479307');\n",
              "          const dataTable =\n",
              "            await google.colab.kernel.invokeFunction('convertToInteractive',\n",
              "                                                     [key], {});\n",
              "          if (!dataTable) return;\n",
              "\n",
              "          const docLinkHtml = 'Like what you see? Visit the ' +\n",
              "            '<a target=\"_blank\" href=https://colab.research.google.com/notebooks/data_table.ipynb>data table notebook</a>'\n",
              "            + ' to learn more about interactive tables.';\n",
              "          element.innerHTML = '';\n",
              "          dataTable['output_type'] = 'display_data';\n",
              "          await google.colab.output.renderOutput(dataTable, element);\n",
              "          const docLink = document.createElement('div');\n",
              "          docLink.innerHTML = docLinkHtml;\n",
              "          element.appendChild(docLink);\n",
              "        }\n",
              "      </script>\n",
              "    </div>\n",
              "  </div>\n",
              "  "
            ]
          },
          "metadata": {},
          "execution_count": 29
        }
      ]
    },
    {
      "cell_type": "markdown",
      "source": [
        "# **Lets initialize parameter values-**\n",
        "\n",
        "# Set values for max_features, maxlen, & embedding_size.\n",
        "\n",
        "# max_features: Number of words to take from tokenizer(most frequent words)\n",
        "\n",
        "# maxlen: Maximum length of each sentence to be limited to 25\n",
        "\n",
        "# embedding_size: size of embedding vector i.e. 50"
      ],
      "metadata": {
        "id": "_Kt54c-TT5iT"
      }
    },
    {
      "cell_type": "code",
      "source": [
        "max_features = 10000\n",
        "maxlen = 25\n",
        "embedding_size = 50"
      ],
      "metadata": {
        "id": "we_UJLPTSBXH"
      },
      "execution_count": null,
      "outputs": []
    },
    {
      "cell_type": "markdown",
      "source": [
        "# Lets apply tensorflow.keras Tokenizer and get indices for words.Initialize Tokenizer object with number of words as 10000.Fit the tokenizer object on headline column.Convert the text to sequence"
      ],
      "metadata": {
        "id": "jJK4lZk5UBM-"
      }
    },
    {
      "cell_type": "code",
      "source": [
        "top_k = 10000\n",
        "tokenizer = tf.keras.preprocessing.text.Tokenizer(num_words=top_k,\n",
        "                                                  oov_token=\"<unk>\",\n",
        "                                                  filters='!\"#$%&()*+.,-/:;=?@[\\]^_`{|}~ ')\n",
        "tokenizer.fit_on_texts(new_df2['headline'])"
      ],
      "metadata": {
        "id": "eebS-1xPSBaq"
      },
      "execution_count": null,
      "outputs": []
    },
    {
      "cell_type": "code",
      "source": [
        "tokenizer.word_index['<pad>'] = 0\n",
        "tokenizer.index_word[0] = '<pad>'"
      ],
      "metadata": {
        "id": "uw6AQnhfSBeK"
      },
      "execution_count": null,
      "outputs": []
    },
    {
      "cell_type": "markdown",
      "source": [
        "# **Lets Create the tokenized vectors**"
      ],
      "metadata": {
        "id": "zRkCTl85gE55"
      }
    },
    {
      "cell_type": "code",
      "source": [
        "train_seqs = tokenizer.texts_to_sequences(new_df2['headline'])"
      ],
      "metadata": {
        "id": "rZbQjJX2SBhX"
      },
      "execution_count": null,
      "outputs": []
    },
    {
      "cell_type": "markdown",
      "source": [
        "# Pading each example with a maximum length and Converting target column into numpy array"
      ],
      "metadata": {
        "id": "igQN18_JUFvf"
      }
    },
    {
      "cell_type": "code",
      "source": [
        "X = tf.keras.preprocessing.sequence.pad_sequences(train_seqs, padding='post',maxlen=maxlen)"
      ],
      "metadata": {
        "id": "e4G7yIaOSBkp"
      },
      "execution_count": null,
      "outputs": []
    },
    {
      "cell_type": "code",
      "source": [
        "Y = new_df2[\"is_sarcastic\"].values"
      ],
      "metadata": {
        "id": "akaC0BSOSBoa"
      },
      "execution_count": null,
      "outputs": []
    },
    {
      "cell_type": "markdown",
      "source": [
        "# lets check the type"
      ],
      "metadata": {
        "id": "og3_2fg9gZ9m"
      }
    },
    {
      "cell_type": "code",
      "source": [
        "print(type(Y))"
      ],
      "metadata": {
        "colab": {
          "base_uri": "https://localhost:8080/"
        },
        "id": "E3e6m4WWSBr3",
        "outputId": "20e63432-d7cb-48bd-d0a6-074df51a4ff3"
      },
      "execution_count": null,
      "outputs": [
        {
          "output_type": "stream",
          "name": "stdout",
          "text": [
            "<class 'numpy.ndarray'>\n"
          ]
        }
      ]
    },
    {
      "cell_type": "markdown",
      "source": [
        "# **Lets plot to see the sarcastic status**"
      ],
      "metadata": {
        "id": "hM0jZmSugeqU"
      }
    },
    {
      "cell_type": "code",
      "source": [
        "sns.countplot(x='is_sarcastic',data=new_df2);"
      ],
      "metadata": {
        "colab": {
          "base_uri": "https://localhost:8080/",
          "height": 280
        },
        "id": "8LoXW-oPSBvm",
        "outputId": "5b79afa3-c445-4169-b2bf-e71d63faa56e"
      },
      "execution_count": null,
      "outputs": [
        {
          "output_type": "display_data",
          "data": {
            "text/plain": [
              "<Figure size 432x288 with 1 Axes>"
            ],
            "image/png": "[encoded data removed]"
          },
          "metadata": {
            "needs_background": "light"
          }
        }
      ]
    },
    {
      "cell_type": "markdown",
      "source": [
        "# **As we can see here that data is fairly balanced in terms of sarcastic and non sarcastic tagging so no oversampling or undersampling required Vocab mapping.Also there is no word for 0th index**"
      ],
      "metadata": {
        "id": "DdO6qNV4UKLK"
      }
    },
    {
      "cell_type": "code",
      "source": [
        "tokenizer.word_index"
      ],
      "metadata": {
        "colab": {
          "base_uri": "https://localhost:8080/"
        },
        "id": "yPa3RAYgSBy3",
        "outputId": "4d679560-74d6-4267-fbc5-0f8bfd3734dd"
      },
      "execution_count": null,
      "outputs": [
        {
          "output_type": "execute_result",
          "data": {
            "text/plain": [
              "{'<unk>': 1,\n",
              " 'to': 2,\n",
              " 'of': 3,\n",
              " 'the': 4,\n",
              " 'in': 5,\n",
              " 'for': 6,\n",
              " 'a': 7,\n",
              " 'on': 8,\n",
              " 'and': 9,\n",
              " 'with': 10,\n",
              " 'is': 11,\n",
              " 'new': 12,\n",
              " 'trump': 13,\n",
              " 'man': 14,\n",
              " 'at': 15,\n",
              " 'from': 16,\n",
              " 'about': 17,\n",
              " 'by': 18,\n",
              " 'after': 19,\n",
              " 'you': 20,\n",
              " 'this': 21,\n",
              " 'out': 22,\n",
              " 'up': 23,\n",
              " 'be': 24,\n",
              " 'as': 25,\n",
              " 'that': 26,\n",
              " 'it': 27,\n",
              " 'how': 28,\n",
              " 'not': 29,\n",
              " 'he': 30,\n",
              " 'his': 31,\n",
              " 'are': 32,\n",
              " 'your': 33,\n",
              " 'just': 34,\n",
              " 'what': 35,\n",
              " 'all': 36,\n",
              " 'who': 37,\n",
              " 'has': 38,\n",
              " 'will': 39,\n",
              " 'report': 40,\n",
              " 'into': 41,\n",
              " 'more': 42,\n",
              " 'one': 43,\n",
              " 'have': 44,\n",
              " 'year': 45,\n",
              " 'over': 46,\n",
              " 'why': 47,\n",
              " 'day': 48,\n",
              " 'u': 49,\n",
              " 'area': 50,\n",
              " 'woman': 51,\n",
              " 'can': 52,\n",
              " 's': 53,\n",
              " 'says': 54,\n",
              " 'donald': 55,\n",
              " 'time': 56,\n",
              " 'first': 57,\n",
              " 'like': 58,\n",
              " 'no': 59,\n",
              " 'her': 60,\n",
              " 'get': 61,\n",
              " 'off': 62,\n",
              " 'old': 63,\n",
              " \"trump's\": 64,\n",
              " 'life': 65,\n",
              " 'now': 66,\n",
              " 'people': 67,\n",
              " \"'\": 68,\n",
              " 'an': 69,\n",
              " 'house': 70,\n",
              " 'still': 71,\n",
              " 'obama': 72,\n",
              " 'white': 73,\n",
              " 'back': 74,\n",
              " 'make': 75,\n",
              " 'was': 76,\n",
              " 'than': 77,\n",
              " 'women': 78,\n",
              " 'if': 79,\n",
              " 'down': 80,\n",
              " 'when': 81,\n",
              " 'i': 82,\n",
              " 'my': 83,\n",
              " '5': 84,\n",
              " 'clinton': 85,\n",
              " 'could': 86,\n",
              " 'they': 87,\n",
              " 'their': 88,\n",
              " 'before': 89,\n",
              " 'world': 90,\n",
              " 'him': 91,\n",
              " 'way': 92,\n",
              " 'americans': 93,\n",
              " 'family': 94,\n",
              " 'we': 95,\n",
              " 'study': 96,\n",
              " 'do': 97,\n",
              " 'would': 98,\n",
              " 'only': 99,\n",
              " 'most': 100,\n",
              " 'school': 101,\n",
              " 'gop': 102,\n",
              " 'being': 103,\n",
              " 'black': 104,\n",
              " 'years': 105,\n",
              " 'bill': 106,\n",
              " \"it's\": 107,\n",
              " 'so': 108,\n",
              " 'finds': 109,\n",
              " 'really': 110,\n",
              " 'american': 111,\n",
              " 'best': 112,\n",
              " '3': 113,\n",
              " 'last': 114,\n",
              " 'know': 115,\n",
              " 'but': 116,\n",
              " 'she': 117,\n",
              " 'should': 118,\n",
              " 'police': 119,\n",
              " 'nation': 120,\n",
              " \"can't\": 121,\n",
              " '10': 122,\n",
              " 'going': 123,\n",
              " 'watch': 124,\n",
              " 'during': 125,\n",
              " 'state': 126,\n",
              " 'death': 127,\n",
              " 'video': 128,\n",
              " 'or': 129,\n",
              " 'home': 130,\n",
              " 'president': 131,\n",
              " 'good': 132,\n",
              " 'every': 133,\n",
              " 'say': 134,\n",
              " 'show': 135,\n",
              " 'campaign': 136,\n",
              " \"'the\": 137,\n",
              " 'health': 138,\n",
              " 'too': 139,\n",
              " 'big': 140,\n",
              " 'things': 141,\n",
              " 'mom': 142,\n",
              " 'getting': 143,\n",
              " '2': 144,\n",
              " 'against': 145,\n",
              " 'may': 146,\n",
              " '000': 147,\n",
              " 'right': 148,\n",
              " 'hillary': 149,\n",
              " 'love': 150,\n",
              " 'party': 151,\n",
              " 'work': 152,\n",
              " 'gets': 153,\n",
              " 'while': 154,\n",
              " 'some': 155,\n",
              " 'self': 156,\n",
              " 'need': 157,\n",
              " 'high': 158,\n",
              " 'little': 159,\n",
              " 'parents': 160,\n",
              " 'where': 161,\n",
              " 'never': 162,\n",
              " 'take': 163,\n",
              " 'kids': 164,\n",
              " 'through': 165,\n",
              " \"doesn't\": 166,\n",
              " 'court': 167,\n",
              " 'makes': 168,\n",
              " 'john': 169,\n",
              " 'child': 170,\n",
              " 'change': 171,\n",
              " 'these': 172,\n",
              " 'other': 173,\n",
              " 'own': 174,\n",
              " 'news': 175,\n",
              " 'calls': 176,\n",
              " 'dead': 177,\n",
              " 'stop': 178,\n",
              " 'look': 179,\n",
              " \"he's\": 180,\n",
              " 'want': 181,\n",
              " 'election': 182,\n",
              " 'next': 183,\n",
              " 'our': 184,\n",
              " 'gay': 185,\n",
              " 'local': 186,\n",
              " \"don't\": 187,\n",
              " 'even': 188,\n",
              " '4': 189,\n",
              " 'see': 190,\n",
              " 'go': 191,\n",
              " 'around': 192,\n",
              " 'america': 193,\n",
              " 'real': 194,\n",
              " 'takes': 195,\n",
              " 'war': 196,\n",
              " 'its': 197,\n",
              " '7': 198,\n",
              " \"here's\": 199,\n",
              " 'baby': 200,\n",
              " 'sex': 201,\n",
              " \"nation's\": 202,\n",
              " 'them': 203,\n",
              " 'million': 204,\n",
              " 'again': 205,\n",
              " 'plan': 206,\n",
              " 'bush': 207,\n",
              " 'made': 208,\n",
              " 'two': 209,\n",
              " 'another': 210,\n",
              " '6': 211,\n",
              " 'guy': 212,\n",
              " 'college': 213,\n",
              " 'dog': 214,\n",
              " 'office': 215,\n",
              " 'announces': 216,\n",
              " 'dad': 217,\n",
              " 'ever': 218,\n",
              " 'finally': 219,\n",
              " 'debate': 220,\n",
              " 'got': 221,\n",
              " 'week': 222,\n",
              " 'wants': 223,\n",
              " 'been': 224,\n",
              " 'long': 225,\n",
              " 'help': 226,\n",
              " 'much': 227,\n",
              " 'job': 228,\n",
              " '1': 229,\n",
              " 'thing': 230,\n",
              " 'under': 231,\n",
              " 'there': 232,\n",
              " 'gun': 233,\n",
              " 'reveals': 234,\n",
              " 'night': 235,\n",
              " 'care': 236,\n",
              " 'actually': 237,\n",
              " 'couple': 238,\n",
              " 'congress': 239,\n",
              " 'live': 240,\n",
              " 'us': 241,\n",
              " 'north': 242,\n",
              " 'sexual': 243,\n",
              " 'trying': 244,\n",
              " 'money': 245,\n",
              " 'national': 246,\n",
              " 'shows': 247,\n",
              " 'god': 248,\n",
              " \"man's\": 249,\n",
              " 'climate': 250,\n",
              " 'senate': 251,\n",
              " 'better': 252,\n",
              " \"won't\": 253,\n",
              " 'star': 254,\n",
              " 'face': 255,\n",
              " 'without': 256,\n",
              " '8': 257,\n",
              " 'had': 258,\n",
              " 'away': 259,\n",
              " 'food': 260,\n",
              " 'everyone': 261,\n",
              " '9': 262,\n",
              " 'game': 263,\n",
              " 'season': 264,\n",
              " 'enough': 265,\n",
              " 'facebook': 266,\n",
              " 'anti': 267,\n",
              " 'give': 268,\n",
              " 'top': 269,\n",
              " '20': 270,\n",
              " 'media': 271,\n",
              " 'paul': 272,\n",
              " 'making': 273,\n",
              " 'any': 274,\n",
              " 'law': 275,\n",
              " 'me': 276,\n",
              " 'bad': 277,\n",
              " 'teen': 278,\n",
              " 'shooting': 279,\n",
              " 'ways': 280,\n",
              " 'york': 281,\n",
              " 'end': 282,\n",
              " 'supreme': 283,\n",
              " 'movie': 284,\n",
              " 'free': 285,\n",
              " 'entire': 286,\n",
              " 'men': 287,\n",
              " 'history': 288,\n",
              " 'students': 289,\n",
              " 'children': 290,\n",
              " 'pope': 291,\n",
              " 'government': 292,\n",
              " 'single': 293,\n",
              " 'introduces': 294,\n",
              " 'business': 295,\n",
              " 'tell': 296,\n",
              " 'part': 297,\n",
              " 'body': 298,\n",
              " 'attack': 299,\n",
              " 'fight': 300,\n",
              " 'already': 301,\n",
              " 'think': 302,\n",
              " 'city': 303,\n",
              " 'tv': 304,\n",
              " 'story': 305,\n",
              " 'friends': 306,\n",
              " 'son': 307,\n",
              " 'deal': 308,\n",
              " 'fire': 309,\n",
              " 'same': 310,\n",
              " 'friend': 311,\n",
              " 'releases': 312,\n",
              " 'great': 313,\n",
              " 'must': 314,\n",
              " 'sanders': 315,\n",
              " 'line': 316,\n",
              " 'find': 317,\n",
              " 'found': 318,\n",
              " '11': 319,\n",
              " 'book': 320,\n",
              " 'call': 321,\n",
              " 'pretty': 322,\n",
              " 'does': 323,\n",
              " 'former': 324,\n",
              " 'second': 325,\n",
              " 'car': 326,\n",
              " 'film': 327,\n",
              " 'company': 328,\n",
              " 'having': 329,\n",
              " 'come': 330,\n",
              " 'unveils': 331,\n",
              " 'use': 332,\n",
              " 'public': 333,\n",
              " 'support': 334,\n",
              " 'speech': 335,\n",
              " 'social': 336,\n",
              " 'wedding': 337,\n",
              " 'power': 338,\n",
              " 'presidential': 339,\n",
              " \"didn't\": 340,\n",
              " 'middle': 341,\n",
              " 'keep': 342,\n",
              " 'behind': 343,\n",
              " 'run': 344,\n",
              " 'name': 345,\n",
              " 'case': 346,\n",
              " 'talk': 347,\n",
              " 'doing': 348,\n",
              " 'republican': 349,\n",
              " 'open': 350,\n",
              " 'coming': 351,\n",
              " 'girl': 352,\n",
              " 'photos': 353,\n",
              " 'fans': 354,\n",
              " 'scientists': 355,\n",
              " 'room': 356,\n",
              " 'looking': 357,\n",
              " 'security': 358,\n",
              " 'between': 359,\n",
              " 'human': 360,\n",
              " 'something': 361,\n",
              " 'morning': 362,\n",
              " 'full': 363,\n",
              " 'thinks': 364,\n",
              " 'fucking': 365,\n",
              " 'james': 366,\n",
              " 'voters': 367,\n",
              " 'rights': 368,\n",
              " 'asks': 369,\n",
              " 'republicans': 370,\n",
              " 'once': 371,\n",
              " 'might': 372,\n",
              " 'claims': 373,\n",
              " 'future': 374,\n",
              " 'used': 375,\n",
              " 'christmas': 376,\n",
              " 'tax': 377,\n",
              " 'email': 378,\n",
              " 'ceo': 379,\n",
              " 'student': 380,\n",
              " 'win': 381,\n",
              " 'forced': 382,\n",
              " 'admits': 383,\n",
              " 'goes': 384,\n",
              " 'group': 385,\n",
              " 'secret': 386,\n",
              " 'vote': 387,\n",
              " '2016': 388,\n",
              " \"world's\": 389,\n",
              " 'michael': 390,\n",
              " 'marriage': 391,\n",
              " 'because': 392,\n",
              " 'violence': 393,\n",
              " 'democrats': 394,\n",
              " 'poll': 395,\n",
              " 'killed': 396,\n",
              " 'team': 397,\n",
              " 'control': 398,\n",
              " 'ad': 399,\n",
              " 'country': 400,\n",
              " '12': 401,\n",
              " 'sure': 402,\n",
              " 'department': 403,\n",
              " 'plans': 404,\n",
              " 'female': 405,\n",
              " 'ban': 406,\n",
              " 'many': 407,\n",
              " 'bernie': 408,\n",
              " 'teacher': 409,\n",
              " 'inside': 410,\n",
              " 'person': 411,\n",
              " 'post': 412,\n",
              " 'until': 413,\n",
              " 'wife': 414,\n",
              " 'ryan': 415,\n",
              " 'put': 416,\n",
              " 'always': 417,\n",
              " 'twitter': 418,\n",
              " 'super': 419,\n",
              " 'political': 420,\n",
              " 'water': 421,\n",
              " 'running': 422,\n",
              " 'hot': 423,\n",
              " 'dies': 424,\n",
              " 'meet': 425,\n",
              " 'father': 426,\n",
              " 'warns': 427,\n",
              " 'each': 428,\n",
              " 'head': 429,\n",
              " 'photo': 430,\n",
              " '30': 431,\n",
              " 'eating': 432,\n",
              " 'boy': 433,\n",
              " 'reports': 434,\n",
              " 'minutes': 435,\n",
              " 'race': 436,\n",
              " 'judge': 437,\n",
              " 'red': 438,\n",
              " 'days': 439,\n",
              " 'music': 440,\n",
              " 'employee': 441,\n",
              " 'let': 442,\n",
              " 'perfect': 443,\n",
              " 'record': 444,\n",
              " 'tells': 445,\n",
              " 'taking': 446,\n",
              " 'candidate': 447,\n",
              " 'past': 448,\n",
              " 'everything': 449,\n",
              " 'art': 450,\n",
              " 'idea': 451,\n",
              " 'living': 452,\n",
              " 'list': 453,\n",
              " 'class': 454,\n",
              " 'summer': 455,\n",
              " 'month': 456,\n",
              " 'three': 457,\n",
              " 'missing': 458,\n",
              " 'wall': 459,\n",
              " 'were': 460,\n",
              " '15': 461,\n",
              " 'working': 462,\n",
              " 'did': 463,\n",
              " 'here': 464,\n",
              " 'needs': 465,\n",
              " 'states': 466,\n",
              " 'secretary': 467,\n",
              " 'very': 468,\n",
              " 'looks': 469,\n",
              " 'save': 470,\n",
              " 'thousands': 471,\n",
              " 'mother': 472,\n",
              " 'service': 473,\n",
              " 'town': 474,\n",
              " 'mike': 475,\n",
              " 'pay': 476,\n",
              " 'russia': 477,\n",
              " 'george': 478,\n",
              " 'times': 479,\n",
              " 'left': 480,\n",
              " 'shot': 481,\n",
              " 'thought': 482,\n",
              " 'california': 483,\n",
              " 'phone': 484,\n",
              " \"'i\": 485,\n",
              " 'heart': 486,\n",
              " 'start': 487,\n",
              " 'lives': 488,\n",
              " 'hours': 489,\n",
              " 'set': 490,\n",
              " 'place': 491,\n",
              " 'age': 492,\n",
              " 'wrong': 493,\n",
              " 'gives': 494,\n",
              " 'comes': 495,\n",
              " 'together': 496,\n",
              " 'cruz': 497,\n",
              " 'meeting': 498,\n",
              " 'shit': 499,\n",
              " 'ready': 500,\n",
              " 'officials': 501,\n",
              " 'justice': 502,\n",
              " 'ice': 503,\n",
              " 'cancer': 504,\n",
              " 'believe': 505,\n",
              " \"you're\": 506,\n",
              " 'obamacare': 507,\n",
              " 'young': 508,\n",
              " 'probably': 509,\n",
              " 'texas': 510,\n",
              " 'someone': 511,\n",
              " 'talks': 512,\n",
              " 'wearing': 513,\n",
              " 'half': 514,\n",
              " 'breaking': 515,\n",
              " '50': 516,\n",
              " 'giving': 517,\n",
              " 'street': 518,\n",
              " 'kill': 519,\n",
              " 'lost': 520,\n",
              " 'yet': 521,\n",
              " 'ex': 522,\n",
              " 'king': 523,\n",
              " 'chief': 524,\n",
              " 'korea': 525,\n",
              " 'watching': 526,\n",
              " 'few': 527,\n",
              " 'kim': 528,\n",
              " 'small': 529,\n",
              " 'drug': 530,\n",
              " 'air': 531,\n",
              " 'owner': 532,\n",
              " 'prison': 533,\n",
              " \"women's\": 534,\n",
              " 'iran': 535,\n",
              " 'daughter': 536,\n",
              " 'leave': 537,\n",
              " 'isis': 538,\n",
              " 'restaurant': 539,\n",
              " 'fbi': 540,\n",
              " 'today': 541,\n",
              " 'dream': 542,\n",
              " 'fan': 543,\n",
              " 'feel': 544,\n",
              " 'ted': 545,\n",
              " 'crisis': 546,\n",
              " 'sleep': 547,\n",
              " 'letter': 548,\n",
              " 'mark': 549,\n",
              " 'word': 550,\n",
              " 'cat': 551,\n",
              " \"i'm\": 552,\n",
              " 'wins': 553,\n",
              " 'administration': 554,\n",
              " 'south': 555,\n",
              " 'director': 556,\n",
              " \"she's\": 557,\n",
              " 'biden': 558,\n",
              " 'hard': 559,\n",
              " 'earth': 560,\n",
              " 'hour': 561,\n",
              " 'tips': 562,\n",
              " 'education': 563,\n",
              " 'washington': 564,\n",
              " 'third': 565,\n",
              " 'military': 566,\n",
              " 'personal': 567,\n",
              " 'community': 568,\n",
              " 'nothing': 569,\n",
              " 'attacks': 570,\n",
              " 'outside': 571,\n",
              " 'using': 572,\n",
              " 'less': 573,\n",
              " 'chris': 574,\n",
              " 'talking': 575,\n",
              " 'democratic': 576,\n",
              " 'bar': 577,\n",
              " 'system': 578,\n",
              " 'rock': 579,\n",
              " 'internet': 580,\n",
              " 'questions': 581,\n",
              " 'francis': 582,\n",
              " 'nuclear': 583,\n",
              " 'months': 584,\n",
              " 'leaves': 585,\n",
              " 'kind': 586,\n",
              " 'federal': 587,\n",
              " 'romney': 588,\n",
              " 'those': 589,\n",
              " 'move': 590,\n",
              " 't': 591,\n",
              " 'well': 592,\n",
              " 'following': 593,\n",
              " 'percent': 594,\n",
              " 'online': 595,\n",
              " 'latest': 596,\n",
              " 'majority': 597,\n",
              " 'order': 598,\n",
              " 'birthday': 599,\n",
              " 'issues': 600,\n",
              " 'march': 601,\n",
              " 'tweets': 602,\n",
              " 'girlfriend': 603,\n",
              " 'fun': 604,\n",
              " 'fox': 605,\n",
              " \"what's\": 606,\n",
              " 'assault': 607,\n",
              " 'since': 608,\n",
              " 'excited': 609,\n",
              " 'gift': 610,\n",
              " 'investigation': 611,\n",
              " 'knows': 612,\n",
              " 'congressman': 613,\n",
              " 'abortion': 614,\n",
              " 'lot': 615,\n",
              " 'florida': 616,\n",
              " 'series': 617,\n",
              " 'buy': 618,\n",
              " 'store': 619,\n",
              " 'straight': 620,\n",
              " 'minute': 621,\n",
              " 'rules': 622,\n",
              " 'guide': 623,\n",
              " 'hit': 624,\n",
              " 'read': 625,\n",
              " 'special': 626,\n",
              " 'cover': 627,\n",
              " 'mueller': 628,\n",
              " 'beautiful': 629,\n",
              " 'holiday': 630,\n",
              " 'waiting': 631,\n",
              " 'happy': 632,\n",
              " 'spends': 633,\n",
              " '100': 634,\n",
              " 'stephen': 635,\n",
              " 'called': 636,\n",
              " 'reason': 637,\n",
              " 'huge': 638,\n",
              " 'travel': 639,\n",
              " 'muslim': 640,\n",
              " 'trip': 641,\n",
              " 'ask': 642,\n",
              " 'problem': 643,\n",
              " 'offers': 644,\n",
              " 'kid': 645,\n",
              " 'leaders': 646,\n",
              " 'different': 647,\n",
              " 'told': 648,\n",
              " \"isn't\": 649,\n",
              " 'whole': 650,\n",
              " 'visit': 651,\n",
              " 'russian': 652,\n",
              " 'break': 653,\n",
              " 'scott': 654,\n",
              " 'hollywood': 655,\n",
              " 'front': 656,\n",
              " 'favorite': 657,\n",
              " 'rise': 658,\n",
              " 'relationship': 659,\n",
              " 'worried': 660,\n",
              " 'hair': 661,\n",
              " 'david': 662,\n",
              " 'cop': 663,\n",
              " 'non': 664,\n",
              " 'chinese': 665,\n",
              " 'millions': 666,\n",
              " 'thinking': 667,\n",
              " 'trailer': 668,\n",
              " '2015': 669,\n",
              " 'box': 670,\n",
              " 'celebrates': 671,\n",
              " 'girls': 672,\n",
              " 'anything': 673,\n",
              " 'play': 674,\n",
              " 'date': 675,\n",
              " 'immigration': 676,\n",
              " 'hate': 677,\n",
              " 'protest': 678,\n",
              " 'al': 679,\n",
              " \"america's\": 680,\n",
              " 'late': 681,\n",
              " 'early': 682,\n",
              " 'career': 683,\n",
              " 'die': 684,\n",
              " 'response': 685,\n",
              " 'himself': 686,\n",
              " \"obama's\": 687,\n",
              " 'taylor': 688,\n",
              " 'union': 689,\n",
              " 'stars': 690,\n",
              " 'china': 691,\n",
              " 'drunk': 692,\n",
              " 'fall': 693,\n",
              " 'birth': 694,\n",
              " 'struggling': 695,\n",
              " 'reasons': 696,\n",
              " 'billion': 697,\n",
              " 'united': 698,\n",
              " 'message': 699,\n",
              " 'massive': 700,\n",
              " 'weekend': 701,\n",
              " '40': 702,\n",
              " 'candidates': 703,\n",
              " 'politics': 704,\n",
              " 'accused': 705,\n",
              " 'opens': 706,\n",
              " 'become': 707,\n",
              " 'least': 708,\n",
              " 'starting': 709,\n",
              " 'killing': 710,\n",
              " 'huffpost': 711,\n",
              " 'senator': 712,\n",
              " 'bring': 713,\n",
              " 'hands': 714,\n",
              " 'mass': 715,\n",
              " 'feels': 716,\n",
              " 'interview': 717,\n",
              " 'vows': 718,\n",
              " 'hope': 719,\n",
              " 'victims': 720,\n",
              " 'experts': 721,\n",
              " 'light': 722,\n",
              " 'moment': 723,\n",
              " 'discover': 724,\n",
              " 'turn': 725,\n",
              " 'returns': 726,\n",
              " 'leader': 727,\n",
              " 'words': 728,\n",
              " 'pence': 729,\n",
              " 'point': 730,\n",
              " 'c': 731,\n",
              " 'jimmy': 732,\n",
              " 'clearly': 733,\n",
              " 'turns': 734,\n",
              " 'far': 735,\n",
              " 'driving': 736,\n",
              " 'center': 737,\n",
              " 'dating': 738,\n",
              " 'key': 739,\n",
              " 'employees': 740,\n",
              " 'sports': 741,\n",
              " 'policy': 742,\n",
              " 'lessons': 743,\n",
              " 'tom': 744,\n",
              " 'sick': 745,\n",
              " 'wishes': 746,\n",
              " 'apple': 747,\n",
              " 'conversation': 748,\n",
              " 'host': 749,\n",
              " 'sign': 750,\n",
              " 'whether': 751,\n",
              " \"they're\": 752,\n",
              " 'completely': 753,\n",
              " 'murder': 754,\n",
              " 'fashion': 755,\n",
              " 'adds': 756,\n",
              " 'adorable': 757,\n",
              " 'totally': 758,\n",
              " 'learned': 759,\n",
              " 'signs': 760,\n",
              " 'hoping': 761,\n",
              " 'prince': 762,\n",
              " 'fuck': 763,\n",
              " 'role': 764,\n",
              " 'stage': 765,\n",
              " 'j': 766,\n",
              " 'oil': 767,\n",
              " 'powerful': 768,\n",
              " 'k': 769,\n",
              " 'breaks': 770,\n",
              " 'abuse': 771,\n",
              " 'song': 772,\n",
              " 'across': 773,\n",
              " 'reality': 774,\n",
              " 'moving': 775,\n",
              " 'decision': 776,\n",
              " 'global': 777,\n",
              " 'keeps': 778,\n",
              " 'experience': 779,\n",
              " 'seen': 780,\n",
              " 'syrian': 781,\n",
              " 'announce': 782,\n",
              " 'true': 783,\n",
              " 'risk': 784,\n",
              " 'iraq': 785,\n",
              " 'joe': 786,\n",
              " 'bus': 787,\n",
              " 'begins': 788,\n",
              " 'jr': 789,\n",
              " 'syria': 790,\n",
              " 'hand': 791,\n",
              " 'puts': 792,\n",
              " 'dance': 793,\n",
              " '13': 794,\n",
              " 'final': 795,\n",
              " 'check': 796,\n",
              " 'cops': 797,\n",
              " 'dinner': 798,\n",
              " 'stand': 799,\n",
              " 'apartment': 800,\n",
              " 'cut': 801,\n",
              " 'almost': 802,\n",
              " 'playing': 803,\n",
              " 'names': 804,\n",
              " 'coffee': 805,\n",
              " 'weird': 806,\n",
              " 'longer': 807,\n",
              " 'hurricane': 808,\n",
              " 'schools': 809,\n",
              " 'kills': 810,\n",
              " \"there's\": 811,\n",
              " 'lose': 812,\n",
              " 'amazon': 813,\n",
              " 'awards': 814,\n",
              " 'un': 815,\n",
              " 'low': 816,\n",
              " 'press': 817,\n",
              " 'robert': 818,\n",
              " 'mind': 819,\n",
              " 'number': 820,\n",
              " 'lead': 821,\n",
              " 'west': 822,\n",
              " 'd': 823,\n",
              " 'worth': 824,\n",
              " 'anniversary': 825,\n",
              " 'surprise': 826,\n",
              " 'oscar': 827,\n",
              " 'feeling': 828,\n",
              " 'anyone': 829,\n",
              " 'crash': 830,\n",
              " 'mental': 831,\n",
              " 'trans': 832,\n",
              " 'test': 833,\n",
              " 'lgbt': 834,\n",
              " 'worst': 835,\n",
              " 'band': 836,\n",
              " 'hall': 837,\n",
              " 'space': 838,\n",
              " 'return': 839,\n",
              " 'official': 840,\n",
              " 'which': 841,\n",
              " 'audience': 842,\n",
              " 'queer': 843,\n",
              " 'shop': 844,\n",
              " 'hits': 845,\n",
              " 'demands': 846,\n",
              " 'oscars': 847,\n",
              " 'data': 848,\n",
              " 'workers': 849,\n",
              " 'university': 850,\n",
              " 'iowa': 851,\n",
              " 'side': 852,\n",
              " 'apologizes': 853,\n",
              " 'road': 854,\n",
              " 'cool': 855,\n",
              " 'industry': 856,\n",
              " 'suspect': 857,\n",
              " 'planned': 858,\n",
              " 'plane': 859,\n",
              " 'nfl': 860,\n",
              " 'evidence': 861,\n",
              " 'steve': 862,\n",
              " 'eat': 863,\n",
              " 'program': 864,\n",
              " 'door': 865,\n",
              " 'table': 866,\n",
              " 'governor': 867,\n",
              " 'remember': 868,\n",
              " 'try': 869,\n",
              " 'important': 870,\n",
              " 'chance': 871,\n",
              " 'transgender': 872,\n",
              " 'defense': 873,\n",
              " 'reportedly': 874,\n",
              " 'urges': 875,\n",
              " 'near': 876,\n",
              " 'church': 877,\n",
              " 'chicago': 878,\n",
              " 'halloween': 879,\n",
              " 'users': 880,\n",
              " 'possible': 881,\n",
              " 'general': 882,\n",
              " 'doctor': 883,\n",
              " '2014': 884,\n",
              " 'hear': 885,\n",
              " 'style': 886,\n",
              " 'spot': 887,\n",
              " 'supporters': 888,\n",
              " 'five': 889,\n",
              " 'rubio': 890,\n",
              " 'reveal': 891,\n",
              " 'kardashian': 892,\n",
              " 'advice': 893,\n",
              " 'coworker': 894,\n",
              " 'given': 895,\n",
              " 'voter': 896,\n",
              " 'brings': 897,\n",
              " 'picture': 898,\n",
              " 'dying': 899,\n",
              " 'success': 900,\n",
              " 'blood': 901,\n",
              " 'executive': 902,\n",
              " 'finding': 903,\n",
              " 'suicide': 904,\n",
              " 'tour': 905,\n",
              " 'biggest': 906,\n",
              " '2017': 907,\n",
              " 'allegations': 908,\n",
              " 'accidentally': 909,\n",
              " 'easy': 910,\n",
              " 'boys': 911,\n",
              " 'football': 912,\n",
              " 'protesters': 913,\n",
              " 'bathroom': 914,\n",
              " 'fighting': 915,\n",
              " 'demand': 916,\n",
              " 'michelle': 917,\n",
              " 'peace': 918,\n",
              " 'push': 919,\n",
              " 'reform': 920,\n",
              " 'paris': 921,\n",
              " 'close': 922,\n",
              " 'avoid': 923,\n",
              " 'elizabeth': 924,\n",
              " 'israel': 925,\n",
              " 'homeless': 926,\n",
              " 'poor': 927,\n",
              " 'fear': 928,\n",
              " 'cnn': 929,\n",
              " 'quietly': 930,\n",
              " 'reminds': 931,\n",
              " 'teens': 932,\n",
              " 'nyc': 933,\n",
              " 'address': 934,\n",
              " 'learn': 935,\n",
              " 'board': 936,\n",
              " 'bowl': 937,\n",
              " 'uses': 938,\n",
              " 'apparently': 939,\n",
              " 'building': 940,\n",
              " 'act': 941,\n",
              " 'staff': 942,\n",
              " 'rest': 943,\n",
              " 'pro': 944,\n",
              " 'major': 945,\n",
              " 'carolina': 946,\n",
              " 'train': 947,\n",
              " 'force': 948,\n",
              " 'voice': 949,\n",
              " 'pregnant': 950,\n",
              " 'weight': 951,\n",
              " 'officer': 952,\n",
              " 'suggests': 953,\n",
              " 'walking': 954,\n",
              " 'google': 955,\n",
              " 'members': 956,\n",
              " 'rally': 957,\n",
              " 'economy': 958,\n",
              " 'ideas': 959,\n",
              " 'lets': 960,\n",
              " 'died': 961,\n",
              " 'celebrate': 962,\n",
              " 'card': 963,\n",
              " 'website': 964,\n",
              " 'park': 965,\n",
              " 'ben': 966,\n",
              " 'performance': 967,\n",
              " 'prevent': 968,\n",
              " 'williams': 969,\n",
              " 'moore': 970,\n",
              " 'moms': 971,\n",
              " '18': 972,\n",
              " 'green': 973,\n",
              " 'ferguson': 974,\n",
              " 'saudi': 975,\n",
              " 'asking': 976,\n",
              " 'artist': 977,\n",
              " 'leading': 978,\n",
              " 'pick': 979,\n",
              " 'passes': 980,\n",
              " 'opening': 981,\n",
              " 'said': 982,\n",
              " 'christian': 983,\n",
              " 'album': 984,\n",
              " 'happens': 985,\n",
              " 'netflix': 986,\n",
              " 'culture': 987,\n",
              " 'magazine': 988,\n",
              " 'throws': 989,\n",
              " 'leads': 990,\n",
              " 'eyes': 991,\n",
              " 'humans': 992,\n",
              " 'chicken': 993,\n",
              " 'beauty': 994,\n",
              " 'crime': 995,\n",
              " 'recalls': 996,\n",
              " 'energy': 997,\n",
              " 'voting': 998,\n",
              " 'question': 999,\n",
              " 'episode': 1000,\n",
              " ...}"
            ]
          },
          "metadata": {},
          "execution_count": 38
        }
      ]
    },
    {
      "cell_type": "markdown",
      "source": [
        "# Lets set number of words, since the above 0th index doesn't have a word, add 1 to the length of the vocabulary"
      ],
      "metadata": {
        "id": "gZsZThsmUVS6"
      }
    },
    {
      "cell_type": "code",
      "source": [
        "num_words = len(tokenizer.word_index) + 1\n",
        "print(num_words)"
      ],
      "metadata": {
        "colab": {
          "base_uri": "https://localhost:8080/"
        },
        "id": "FGnKDC5gSB2X",
        "outputId": "b8675dd8-0c7f-4eb3-eabf-f846346d7435"
      },
      "execution_count": null,
      "outputs": [
        {
          "output_type": "stream",
          "name": "stdout",
          "text": [
            "30888\n"
          ]
        }
      ]
    },
    {
      "cell_type": "markdown",
      "source": [
        "# Lets Create embedding matrix"
      ],
      "metadata": {
        "id": "71pmfez8Udy2"
      }
    },
    {
      "cell_type": "code",
      "source": [
        "EMBEDDING_FILE = '/content/drive/MyDrive/AIML Program/Project/NLP2/DataSet - glove.6B.50d.txt'\n",
        "\n",
        "embeddings = {}\n",
        "for o in open(EMBEDDING_FILE):\n",
        "    word = o.split(\" \")[0]    \n",
        "    embd = o.split(\" \")[1:]\n",
        "    embd = np.asarray(embd, dtype='float32')    \n",
        "    embeddings[word] = embd\n",
        "\n",
        "# create a weight matrix for words in training docs\n",
        "embedding_matrix = np.zeros((num_words, 50))\n",
        "\n",
        "for word, i in tokenizer.word_index.items():\n",
        "\tembedding_vector = embeddings.get(word)\n",
        "\tif embedding_vector is not None:\n",
        "\t\tembedding_matrix[i] = embedding_vector"
      ],
      "metadata": {
        "id": "GRjtgKwMSB5k"
      },
      "execution_count": null,
      "outputs": []
    },
    {
      "cell_type": "markdown",
      "source": [
        "# **Now its time to define the model**"
      ],
      "metadata": {
        "id": "5LoF_qCEUkPq"
      }
    },
    {
      "cell_type": "markdown",
      "source": [
        "We are using Sequential model instance and then adding Embedding layer, Bidirectional(LSTM) layer, flatten it, then dense and dropout layers as required. In the end add a final dense layer with sigmoid activation for binary classification.\n",
        "We have not trained the embeddings generated from glove data as we are getting good results without it as well"
      ],
      "metadata": {
        "id": "tcnP0I0sUmHc"
      }
    },
    {
      "cell_type": "code",
      "source": [
        "lstm_out = 196\n",
        "model = Sequential()\n",
        "model.add(Embedding(num_words,\n",
        "                    embedding_size,\n",
        "                    embeddings_initializer=Constant(embedding_matrix),\n",
        "                    input_length=maxlen,\n",
        "                    trainable=False))\n",
        "model.add(SpatialDropout1D(0.4))\n",
        "model.add(Bidirectional(LSTM(lstm_out, dropout=0.2, recurrent_dropout=0.2)))\n",
        "model.add(Flatten())\n",
        "model.add(Dense(1, activation='sigmoid'))"
      ],
      "metadata": {
        "id": "Hfs5menASB9Q"
      },
      "execution_count": null,
      "outputs": []
    },
    {
      "cell_type": "markdown",
      "source": [
        "# **Lets Compile the model and summarise the model**"
      ],
      "metadata": {
        "id": "HALCFV6LUr2N"
      }
    },
    {
      "cell_type": "code",
      "source": [
        "model.compile(optimizer='adam', loss='binary_crossentropy', metrics=['accuracy'])\n",
        "print(model.summary())"
      ],
      "metadata": {
        "colab": {
          "base_uri": "https://localhost:8080/"
        },
        "id": "Mv02FHIBSCAx",
        "outputId": "4c18f06c-db1a-491b-c17e-dd04f4701634"
      },
      "execution_count": null,
      "outputs": [
        {
          "output_type": "stream",
          "name": "stdout",
          "text": [
            "Model: \"sequential\"\n",
            "_________________________________________________________________\n",
            " Layer (type)                Output Shape              Param #   \n",
            "=================================================================\n",
            " embedding_1 (Embedding)     (None, 25, 50)            1544400   \n",
            "                                                                 \n",
            " spatial_dropout1d (SpatialD  (None, 25, 50)           0         \n",
            " ropout1D)                                                       \n",
            "                                                                 \n",
            " bidirectional_1 (Bidirectio  (None, 392)              387296    \n",
            " nal)                                                            \n",
            "                                                                 \n",
            " flatten (Flatten)           (None, 392)               0         \n",
            "                                                                 \n",
            " dense_1 (Dense)             (None, 1)                 393       \n",
            "                                                                 \n",
            "=================================================================\n",
            "Total params: 1,932,089\n",
            "Trainable params: 387,689\n",
            "Non-trainable params: 1,544,400\n",
            "_________________________________________________________________\n",
            "None\n"
          ]
        }
      ]
    },
    {
      "cell_type": "markdown",
      "source": [
        "# Lets split the model"
      ],
      "metadata": {
        "id": "v2ONjMe7hqnd"
      }
    },
    {
      "cell_type": "code",
      "source": [
        "X_train, X_test, Y_train, Y_test = train_test_split(X,Y, test_size = 0.20, random_state = 42)\n",
        "print(X_train.shape,Y_train.shape)\n",
        "print(X_test.shape,Y_test.shape)"
      ],
      "metadata": {
        "colab": {
          "base_uri": "https://localhost:8080/"
        },
        "id": "mWS28gGCSCEM",
        "outputId": "8eb0ff2e-8242-4846-c531-78d9110177f0"
      },
      "execution_count": null,
      "outputs": [
        {
          "output_type": "stream",
          "name": "stdout",
          "text": [
            "(22895, 25) (22895,)\n",
            "(5724, 25) (5724,)\n"
          ]
        }
      ]
    },
    {
      "cell_type": "markdown",
      "source": [
        "# Fit the model"
      ],
      "metadata": {
        "id": "M6bOqMAYUyZN"
      }
    },
    {
      "cell_type": "code",
      "source": [
        "batch_size = 64\n",
        "history = model.fit(X_train, Y_train, epochs = 10, batch_size=batch_size, \n",
        "                    verbose = 1, validation_split=0.1)"
      ],
      "metadata": {
        "colab": {
          "base_uri": "https://localhost:8080/"
        },
        "id": "Yx3m9RGUSCHz",
        "outputId": "d04dc47a-c190-408e-97c4-5dacfb0aa76b"
      },
      "execution_count": null,
      "outputs": [
        {
          "output_type": "stream",
          "name": "stdout",
          "text": [
            "Epoch 1/10\n",
            "322/322 [==============================] - 108s 319ms/step - loss: 0.6182 - accuracy: 0.6556 - val_loss: 0.5392 - val_accuracy: 0.7441\n",
            "Epoch 2/10\n",
            "322/322 [==============================] - 111s 344ms/step - loss: 0.5570 - accuracy: 0.7138 - val_loss: 0.4768 - val_accuracy: 0.7878\n",
            "Epoch 3/10\n",
            "322/322 [==============================] - 110s 341ms/step - loss: 0.5192 - accuracy: 0.7388 - val_loss: 0.4266 - val_accuracy: 0.8013\n",
            "Epoch 4/10\n",
            "322/322 [==============================] - 101s 315ms/step - loss: 0.4928 - accuracy: 0.7567 - val_loss: 0.4167 - val_accuracy: 0.8052\n",
            "Epoch 5/10\n",
            "322/322 [==============================] - 109s 337ms/step - loss: 0.4658 - accuracy: 0.7732 - val_loss: 0.4192 - val_accuracy: 0.8009\n",
            "Epoch 6/10\n",
            "322/322 [==============================] - 112s 348ms/step - loss: 0.4536 - accuracy: 0.7811 - val_loss: 0.3801 - val_accuracy: 0.8288\n",
            "Epoch 7/10\n",
            "322/322 [==============================] - 113s 351ms/step - loss: 0.4337 - accuracy: 0.7936 - val_loss: 0.4013 - val_accuracy: 0.8083\n",
            "Epoch 8/10\n",
            "322/322 [==============================] - 112s 348ms/step - loss: 0.4283 - accuracy: 0.7953 - val_loss: 0.3738 - val_accuracy: 0.8288\n",
            "Epoch 9/10\n",
            "322/322 [==============================] - 113s 352ms/step - loss: 0.4135 - accuracy: 0.8059 - val_loss: 0.3398 - val_accuracy: 0.8493\n",
            "Epoch 10/10\n",
            "322/322 [==============================] - 113s 350ms/step - loss: 0.4068 - accuracy: 0.8112 - val_loss: 0.4031 - val_accuracy: 0.8127\n"
          ]
        }
      ]
    },
    {
      "cell_type": "markdown",
      "source": [
        "# **As we can see here that accuracy is about 81% and loss is 0.40. which is very good for our model**"
      ],
      "metadata": {
        "id": "L4M0nqzLh1iD"
      }
    },
    {
      "cell_type": "markdown",
      "source": [
        "# Now lets Plot the model accuracy and loss across epochs"
      ],
      "metadata": {
        "id": "dZFCISrnU6xa"
      }
    },
    {
      "cell_type": "code",
      "source": [
        "plt.plot(history.history['accuracy'])\n",
        "plt.plot(history.history['val_accuracy'])\n",
        "plt.title('model accuracy')\n",
        "plt.ylabel('accuracy')\n",
        "plt.xlabel('epoch')\n",
        "plt.legend(['train', 'validation'], loc='upper left')\n",
        "plt.show();"
      ],
      "metadata": {
        "colab": {
          "base_uri": "https://localhost:8080/",
          "height": 295
        },
        "id": "wsfeARISSCLO",
        "outputId": "574b4ac7-7ac1-455c-cf39-d1c7f78e145d"
      },
      "execution_count": null,
      "outputs": [
        {
          "output_type": "display_data",
          "data": {
            "text/plain": [
              "<Figure size 432x288 with 1 Axes>"
            ],
            "image/png": "[encoded data removed]"
          },
          "metadata": {
            "needs_background": "light"
          }
        }
      ]
    },
    {
      "cell_type": "markdown",
      "source": [
        "# Now lets summarize history for loss"
      ],
      "metadata": {
        "id": "UztovnU3iQgZ"
      }
    },
    {
      "cell_type": "code",
      "source": [
        "plt.plot(history.history['loss'])\n",
        "plt.plot(history.history['val_loss'])\n",
        "plt.title('model loss')\n",
        "plt.ylabel('loss')\n",
        "plt.xlabel('epoch')\n",
        "plt.legend(['train', 'validation'], loc='upper left')\n",
        "plt.show();"
      ],
      "metadata": {
        "colab": {
          "base_uri": "https://localhost:8080/",
          "height": 295
        },
        "id": "u4wf4SToSCOl",
        "outputId": "0a1a6acc-f384-457e-e6ef-c74ee4c3c6ed"
      },
      "execution_count": null,
      "outputs": [
        {
          "output_type": "display_data",
          "data": {
            "text/plain": [
              "<Figure size 432x288 with 1 Axes>"
            ],
            "image/png": "[encoded data removed]"
          },
          "metadata": {
            "needs_background": "light"
          }
        }
      ]
    },
    {
      "cell_type": "markdown",
      "source": [
        "# **Lets evaluate our model**"
      ],
      "metadata": {
        "id": "4mffLMtViVz7"
      }
    },
    {
      "cell_type": "code",
      "source": [
        "loss, accuracy = model.evaluate(X_test, Y_test)"
      ],
      "metadata": {
        "colab": {
          "base_uri": "https://localhost:8080/"
        },
        "id": "PRwaU2HmSCSB",
        "outputId": "8cf72e94-fd21-406d-b756-102399628653"
      },
      "execution_count": null,
      "outputs": [
        {
          "output_type": "stream",
          "name": "stdout",
          "text": [
            "179/179 [==============================] - 6s 31ms/step - loss: 0.3919 - accuracy: 0.8218\n"
          ]
        }
      ]
    },
    {
      "cell_type": "markdown",
      "source": [
        "#Now lets predict the class of dataset with thw help of this model"
      ],
      "metadata": {
        "id": "krk8QlHLinRk"
      }
    },
    {
      "cell_type": "code",
      "source": [
        "pred = (model.predict(X_test) > 0.5).astype(\"int32\")\n",
        "pred[:5]"
      ],
      "metadata": {
        "colab": {
          "base_uri": "https://localhost:8080/"
        },
        "id": "-K5e7lbDSCZI",
        "outputId": "88742396-310b-4555-98b1-3afe14a03965"
      },
      "execution_count": null,
      "outputs": [
        {
          "output_type": "execute_result",
          "data": {
            "text/plain": [
              "array([[1],\n",
              "       [1],\n",
              "       [1],\n",
              "       [1],\n",
              "       [0]], dtype=int32)"
            ]
          },
          "metadata": {},
          "execution_count": 49
        }
      ]
    },
    {
      "cell_type": "code",
      "source": [
        "from sklearn.metrics import classification_report,confusion_matrix,accuracy_score"
      ],
      "metadata": {
        "id": "V5BtizuBSCf4"
      },
      "execution_count": null,
      "outputs": []
    },
    {
      "cell_type": "markdown",
      "source": [
        "# **Lets create the classification report for this model**"
      ],
      "metadata": {
        "id": "kLLMlSOCi797"
      }
    },
    {
      "cell_type": "code",
      "source": [
        "print(classification_report(Y_test, pred, target_names = ['Not Sarcastic','Sarcastic']))"
      ],
      "metadata": {
        "colab": {
          "base_uri": "https://localhost:8080/"
        },
        "id": "NyPhKqSqSCjq",
        "outputId": "6515daf1-635c-4972-e490-a090864c6c55"
      },
      "execution_count": null,
      "outputs": [
        {
          "output_type": "stream",
          "name": "stdout",
          "text": [
            "               precision    recall  f1-score   support\n",
            "\n",
            "Not Sarcastic       0.91      0.73      0.81      2995\n",
            "    Sarcastic       0.76      0.92      0.83      2729\n",
            "\n",
            "     accuracy                           0.82      5724\n",
            "    macro avg       0.83      0.83      0.82      5724\n",
            " weighted avg       0.84      0.82      0.82      5724\n",
            "\n"
          ]
        }
      ]
    },
    {
      "cell_type": "markdown",
      "source": [
        "# **Now lets create the confusion matrix**"
      ],
      "metadata": {
        "id": "k0syqaOZVFH4"
      }
    },
    {
      "cell_type": "code",
      "source": [
        "cm = confusion_matrix(Y_test,pred)\n",
        "cm"
      ],
      "metadata": {
        "colab": {
          "base_uri": "https://localhost:8080/"
        },
        "id": "V4z8ufz8SCnK",
        "outputId": "d21ba75c-89e4-4cce-fe13-b8dd957eae70"
      },
      "execution_count": null,
      "outputs": [
        {
          "output_type": "execute_result",
          "data": {
            "text/plain": [
              "array([[2194,  801],\n",
              "       [ 219, 2510]])"
            ]
          },
          "metadata": {},
          "execution_count": 52
        }
      ]
    },
    {
      "cell_type": "markdown",
      "source": [
        "# Lets plot this matrix"
      ],
      "metadata": {
        "id": "BeNq2I0GjjRB"
      }
    },
    {
      "cell_type": "code",
      "source": [
        "cm = pd.DataFrame(cm , index = ['Not Sarcastic','Sarcastic'] , columns = ['Not Sarcastic','Sarcastic'])\n",
        "plt.figure(figsize = (7,7))\n",
        "sns.heatmap(cm,cmap= \"Blues\", linecolor = 'black' , linewidth = 1 , annot = True, fmt='' , xticklabels = ['Not Sarcastic','Sarcastic'] , yticklabels = ['Not Sarcastic','Sarcastic'])"
      ],
      "metadata": {
        "colab": {
          "base_uri": "https://localhost:8080/",
          "height": 448
        },
        "id": "5O-bNz3wSCqt",
        "outputId": "9fc0a395-bb88-43d4-fbf5-d74e2a04fdf7"
      },
      "execution_count": null,
      "outputs": [
        {
          "output_type": "execute_result",
          "data": {
            "text/plain": [
              "<matplotlib.axes._subplots.AxesSubplot at 0x7f269815e0d0>"
            ]
          },
          "metadata": {},
          "execution_count": 53
        },
        {
          "output_type": "display_data",
          "data": {
            "text/plain": [
              "<Figure size 504x504 with 2 Axes>"
            ],
            "image/png": "[encoded data removed]"
          },
          "metadata": {
            "needs_background": "light"
          }
        }
      ]
    },
    {
      "cell_type": "markdown",
      "source": [
        "# **As we can see here that True postive value is 2510 and True negative value is 2194. So here our model does a fairly decent job of predicting sarcastic comments with test accuracy of ~82%**"
      ],
      "metadata": {
        "id": "94qe8m4TVNso"
      }
    },
    {
      "cell_type": "code",
      "source": [
        ""
      ],
      "metadata": {
        "id": "5h6GihaISCuK"
      },
      "execution_count": null,
      "outputs": []
    },
    {
      "cell_type": "code",
      "source": [
        ""
      ],
      "metadata": {
        "id": "Lm8yqIo7SC4Q"
      },
      "execution_count": null,
      "outputs": []
    }
  ]
}