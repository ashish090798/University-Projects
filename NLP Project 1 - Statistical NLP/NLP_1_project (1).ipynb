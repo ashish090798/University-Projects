{
  "cells": [
    {
      "cell_type": "markdown",
      "source": [
        "# **PART = 1**"
      ],
      "metadata": {
        "id": "4a8SPQMIC9AM"
      }
    },
    {
      "cell_type": "markdown",
      "source": [
        "# **First of all lets import all the important library**"
      ],
      "metadata": {
        "id": "WAQmAVXIFIIL"
      }
    },
    {
      "cell_type": "code",
      "execution_count": 1,
      "metadata": {
        "id": "KkwpWw01w2II"
      },
      "outputs": [],
      "source": [
        "import pandas as pd\n",
        "import re\n",
        "from nltk.corpus import stopwords\n",
        "from sklearn.feature_extraction.text import CountVectorizer\n",
        "from sklearn.model_selection import train_test_split\n",
        "from nltk.stem.snowball import SnowballStemmer\n",
        "import warnings\n",
        "warnings.filterwarnings('ignore')\n",
        "import pandas_profiling as pp\n",
        "import seaborn as sns\n",
        "import matplotlib as plt\n",
        "%matplotlib inline"
      ]
    },
    {
      "cell_type": "markdown",
      "source": [
        "# Now lets connect the drive"
      ],
      "metadata": {
        "id": "iPqFujCNFV2_"
      }
    },
    {
      "cell_type": "code",
      "execution_count": 2,
      "metadata": {
        "colab": {
          "base_uri": "https://localhost:8080/"
        },
        "id": "Yi2Zf_9GxqXu",
        "outputId": "55eda40e-d7f9-4d5b-9ecd-18be21ceff37"
      },
      "outputs": [
        {
          "output_type": "stream",
          "name": "stdout",
          "text": [
            "Mounted at /content/drive\n"
          ]
        }
      ],
      "source": [
        "from google.colab import drive\n",
        "drive.mount('/content/drive')"
      ]
    },
    {
      "cell_type": "markdown",
      "source": [
        "# Lets read the csv file"
      ],
      "metadata": {
        "id": "nGmw_xt0Fdzv"
      }
    },
    {
      "cell_type": "code",
      "execution_count": null,
      "metadata": {
        "id": "NuOg8OTNw2no"
      },
      "outputs": [],
      "source": [
        "#load the full set of the data\n",
        "data = pd.read_csv(\"/content/drive/MyDrive/AIML Program/Project/NLP1/Dataset+-+blogtext.csv\")"
      ]
    },
    {
      "cell_type": "markdown",
      "source": [
        "# Shape of the dataset"
      ],
      "metadata": {
        "id": "mcff8X2iFkTV"
      }
    },
    {
      "cell_type": "code",
      "execution_count": null,
      "metadata": {
        "colab": {
          "base_uri": "https://localhost:8080/"
        },
        "id": "p10CW8h3w2rH",
        "outputId": "f4efa7ad-2cd8-4a87-ee52-13fe72a0071e"
      },
      "outputs": [
        {
          "data": {
            "text/plain": [
              "(681284, 7)"
            ]
          },
          "execution_count": 4,
          "metadata": {},
          "output_type": "execute_result"
        }
      ],
      "source": [
        "# check the shape of the data frame by using the shape attribute of the data frame\n",
        "data.shape"
      ]
    },
    {
      "cell_type": "markdown",
      "source": [
        "# Lets check the sample of the dataset"
      ],
      "metadata": {
        "id": "WjHdXJl7For6"
      }
    },
    {
      "cell_type": "code",
      "execution_count": null,
      "metadata": {
        "colab": {
          "base_uri": "https://localhost:8080/",
          "height": 206
        },
        "id": "nBgHkHKvw2uS",
        "outputId": "3a18e502-a928-4d45-d677-f5c255facaaf"
      },
      "outputs": [
        {
          "data": {
            "text/html": [
              "\n",
              "  <div id=\"df-8a426d8e-7c55-4f2b-ab12-74b10de09047\">\n",
              "    <div class=\"colab-df-container\">\n",
              "      <div>\n",
              "<style scoped>\n",
              "    .dataframe tbody tr th:only-of-type {\n",
              "        vertical-align: middle;\n",
              "    }\n",
              "\n",
              "    .dataframe tbody tr th {\n",
              "        vertical-align: top;\n",
              "    }\n",
              "\n",
              "    .dataframe thead th {\n",
              "        text-align: right;\n",
              "    }\n",
              "</style>\n",
              "<table border=\"1\" class=\"dataframe\">\n",
              "  <thead>\n",
              "    <tr style=\"text-align: right;\">\n",
              "      <th></th>\n",
              "      <th>id</th>\n",
              "      <th>gender</th>\n",
              "      <th>age</th>\n",
              "      <th>topic</th>\n",
              "      <th>sign</th>\n",
              "      <th>date</th>\n",
              "      <th>text</th>\n",
              "    </tr>\n",
              "  </thead>\n",
              "  <tbody>\n",
              "    <tr>\n",
              "      <th>598826</th>\n",
              "      <td>2206507</td>\n",
              "      <td>female</td>\n",
              "      <td>23</td>\n",
              "      <td>indUnk</td>\n",
              "      <td>Taurus</td>\n",
              "      <td>15,July,2004</td>\n",
              "      <td>How much are you like or unlike me?...</td>\n",
              "    </tr>\n",
              "    <tr>\n",
              "      <th>246678</th>\n",
              "      <td>1281160</td>\n",
              "      <td>male</td>\n",
              "      <td>24</td>\n",
              "      <td>Technology</td>\n",
              "      <td>Sagittarius</td>\n",
              "      <td>13,August,2003</td>\n",
              "      <td>Wishing all bloggers a very happy I...</td>\n",
              "    </tr>\n",
              "    <tr>\n",
              "      <th>115422</th>\n",
              "      <td>3403444</td>\n",
              "      <td>female</td>\n",
              "      <td>14</td>\n",
              "      <td>indUnk</td>\n",
              "      <td>Taurus</td>\n",
              "      <td>29,June,2004</td>\n",
              "      <td>Jumper991 (10:58:51 PM): ahh my whole ...</td>\n",
              "    </tr>\n",
              "    <tr>\n",
              "      <th>324759</th>\n",
              "      <td>3172762</td>\n",
              "      <td>male</td>\n",
              "      <td>16</td>\n",
              "      <td>Student</td>\n",
              "      <td>Scorpio</td>\n",
              "      <td>01,August,2004</td>\n",
              "      <td>urlLink    tea house&amp;nbsp; urlLink</td>\n",
              "    </tr>\n",
              "    <tr>\n",
              "      <th>85300</th>\n",
              "      <td>1045289</td>\n",
              "      <td>female</td>\n",
              "      <td>25</td>\n",
              "      <td>Arts</td>\n",
              "      <td>Aquarius</td>\n",
              "      <td>03,March,2003</td>\n",
              "      <td>It's been a mixed-up past few days.  For th...</td>\n",
              "    </tr>\n",
              "  </tbody>\n",
              "</table>\n",
              "</div>\n",
              "      <button class=\"colab-df-convert\" onclick=\"convertToInteractive('df-8a426d8e-7c55-4f2b-ab12-74b10de09047')\"\n",
              "              title=\"Convert this dataframe to an interactive table.\"\n",
              "              style=\"display:none;\">\n",
              "        \n",
              "  <svg xmlns=\"http://www.w3.org/2000/svg\" height=\"24px\"viewBox=\"0 0 24 24\"\n",
              "       width=\"24px\">\n",
              "    <path d=\"M0 0h24v24H0V0z\" fill=\"none\"/>\n",
              "    <path d=\"M18.56 5.44l.94 2.06.94-2.06 2.06-.94-2.06-.94-.94-2.06-.94 2.06-2.06.94zm-11 1L8.5 8.5l.94-2.06 2.06-.94-2.06-.94L8.5 2.5l-.94 2.06-2.06.94zm10 10l.94 2.06.94-2.06 2.06-.94-2.06-.94-.94-2.06-.94 2.06-2.06.94z\"/><path d=\"M17.41 7.96l-1.37-1.37c-.4-.4-.92-.59-1.43-.59-.52 0-1.04.2-1.43.59L10.3 9.45l-7.72 7.72c-.78.78-.78 2.05 0 2.83L4 21.41c.39.39.9.59 1.41.59.51 0 1.02-.2 1.41-.59l7.78-7.78 2.81-2.81c.8-.78.8-2.07 0-2.86zM5.41 20L4 18.59l7.72-7.72 1.47 1.35L5.41 20z\"/>\n",
              "  </svg>\n",
              "      </button>\n",
              "      \n",
              "  <style>\n",
              "    .colab-df-container {\n",
              "      display:flex;\n",
              "      flex-wrap:wrap;\n",
              "      gap: 12px;\n",
              "    }\n",
              "\n",
              "    .colab-df-convert {\n",
              "      background-color: #E8F0FE;\n",
              "      border: none;\n",
              "      border-radius: 50%;\n",
              "      cursor: pointer;\n",
              "      display: none;\n",
              "      fill: #1967D2;\n",
              "      height: 32px;\n",
              "      padding: 0 0 0 0;\n",
              "      width: 32px;\n",
              "    }\n",
              "\n",
              "    .colab-df-convert:hover {\n",
              "      background-color: #E2EBFA;\n",
              "      box-shadow: 0px 1px 2px rgba(60, 64, 67, 0.3), 0px 1px 3px 1px rgba(60, 64, 67, 0.15);\n",
              "      fill: #174EA6;\n",
              "    }\n",
              "\n",
              "    [theme=dark] .colab-df-convert {\n",
              "      background-color: #3B4455;\n",
              "      fill: #D2E3FC;\n",
              "    }\n",
              "\n",
              "    [theme=dark] .colab-df-convert:hover {\n",
              "      background-color: #434B5C;\n",
              "      box-shadow: 0px 1px 3px 1px rgba(0, 0, 0, 0.15);\n",
              "      filter: drop-shadow(0px 1px 2px rgba(0, 0, 0, 0.3));\n",
              "      fill: #FFFFFF;\n",
              "    }\n",
              "  </style>\n",
              "\n",
              "      <script>\n",
              "        const buttonEl =\n",
              "          document.querySelector('#df-8a426d8e-7c55-4f2b-ab12-74b10de09047 button.colab-df-convert');\n",
              "        buttonEl.style.display =\n",
              "          google.colab.kernel.accessAllowed ? 'block' : 'none';\n",
              "\n",
              "        async function convertToInteractive(key) {\n",
              "          const element = document.querySelector('#df-8a426d8e-7c55-4f2b-ab12-74b10de09047');\n",
              "          const dataTable =\n",
              "            await google.colab.kernel.invokeFunction('convertToInteractive',\n",
              "                                                     [key], {});\n",
              "          if (!dataTable) return;\n",
              "\n",
              "          const docLinkHtml = 'Like what you see? Visit the ' +\n",
              "            '<a target=\"_blank\" href=https://colab.research.google.com/notebooks/data_table.ipynb>data table notebook</a>'\n",
              "            + ' to learn more about interactive tables.';\n",
              "          element.innerHTML = '';\n",
              "          dataTable['output_type'] = 'display_data';\n",
              "          await google.colab.output.renderOutput(dataTable, element);\n",
              "          const docLink = document.createElement('div');\n",
              "          docLink.innerHTML = docLinkHtml;\n",
              "          element.appendChild(docLink);\n",
              "        }\n",
              "      </script>\n",
              "    </div>\n",
              "  </div>\n",
              "  "
            ],
            "text/plain": [
              "             id  gender  age       topic         sign            date  \\\n",
              "598826  2206507  female   23      indUnk       Taurus    15,July,2004   \n",
              "246678  1281160    male   24  Technology  Sagittarius  13,August,2003   \n",
              "115422  3403444  female   14      indUnk       Taurus    29,June,2004   \n",
              "324759  3172762    male   16     Student      Scorpio  01,August,2004   \n",
              "85300   1045289  female   25        Arts     Aquarius   03,March,2003   \n",
              "\n",
              "                                                     text  \n",
              "598826             How much are you like or unlike me?...  \n",
              "246678             Wishing all bloggers a very happy I...  \n",
              "115422          Jumper991 (10:58:51 PM): ahh my whole ...  \n",
              "324759          urlLink    tea house&nbsp; urlLink         \n",
              "85300      It's been a mixed-up past few days.  For th...  "
            ]
          },
          "execution_count": 5,
          "metadata": {},
          "output_type": "execute_result"
        }
      ],
      "source": [
        "#check if the data frame is properly loaded using the sample() method\n",
        "data.sample(5)"
      ]
    },
    {
      "cell_type": "markdown",
      "source": [
        "# **Initially we have taken the 5000 dataset from the whole data applied all the process on that. then we have taken whole but it was taking more than 24hrs to perform all the task. As we know that our method is working fine with the data set. That's why here we have taken only 1,00,000 data from the whole dataset. but still its taken 8hrs to perform all the task.**\n",
        "# **So I have perform all the task on the 1,00,000 dataset**"
      ],
      "metadata": {
        "id": "FuT0BkUOFwnX"
      }
    },
    {
      "cell_type": "code",
      "execution_count": null,
      "metadata": {
        "id": "N_w3BfZew200"
      },
      "outputs": [],
      "source": [
        "#blog_df=data\n",
        "#blog_df =data.head(5000)\n",
        "blog_df =data.head(100000)"
      ]
    },
    {
      "cell_type": "code",
      "execution_count": null,
      "metadata": {
        "colab": {
          "base_uri": "https://localhost:8080/",
          "height": 206
        },
        "id": "WstLuMoQTbpd",
        "outputId": "c36f16a5-8ac6-4e21-d7c4-947fa9d50ad8"
      },
      "outputs": [
        {
          "data": {
            "text/html": [
              "\n",
              "  <div id=\"df-fc7fa980-b4ac-4bba-98db-d23bbbc5a9e5\">\n",
              "    <div class=\"colab-df-container\">\n",
              "      <div>\n",
              "<style scoped>\n",
              "    .dataframe tbody tr th:only-of-type {\n",
              "        vertical-align: middle;\n",
              "    }\n",
              "\n",
              "    .dataframe tbody tr th {\n",
              "        vertical-align: top;\n",
              "    }\n",
              "\n",
              "    .dataframe thead th {\n",
              "        text-align: right;\n",
              "    }\n",
              "</style>\n",
              "<table border=\"1\" class=\"dataframe\">\n",
              "  <thead>\n",
              "    <tr style=\"text-align: right;\">\n",
              "      <th></th>\n",
              "      <th>id</th>\n",
              "      <th>gender</th>\n",
              "      <th>age</th>\n",
              "      <th>topic</th>\n",
              "      <th>sign</th>\n",
              "      <th>date</th>\n",
              "      <th>text</th>\n",
              "    </tr>\n",
              "  </thead>\n",
              "  <tbody>\n",
              "    <tr>\n",
              "      <th>0</th>\n",
              "      <td>2059027</td>\n",
              "      <td>male</td>\n",
              "      <td>15</td>\n",
              "      <td>Student</td>\n",
              "      <td>Leo</td>\n",
              "      <td>14,May,2004</td>\n",
              "      <td>Info has been found (+/- 100 pages,...</td>\n",
              "    </tr>\n",
              "    <tr>\n",
              "      <th>1</th>\n",
              "      <td>2059027</td>\n",
              "      <td>male</td>\n",
              "      <td>15</td>\n",
              "      <td>Student</td>\n",
              "      <td>Leo</td>\n",
              "      <td>13,May,2004</td>\n",
              "      <td>These are the team members:   Drewe...</td>\n",
              "    </tr>\n",
              "    <tr>\n",
              "      <th>2</th>\n",
              "      <td>2059027</td>\n",
              "      <td>male</td>\n",
              "      <td>15</td>\n",
              "      <td>Student</td>\n",
              "      <td>Leo</td>\n",
              "      <td>12,May,2004</td>\n",
              "      <td>In het kader van kernfusie op aarde...</td>\n",
              "    </tr>\n",
              "    <tr>\n",
              "      <th>3</th>\n",
              "      <td>2059027</td>\n",
              "      <td>male</td>\n",
              "      <td>15</td>\n",
              "      <td>Student</td>\n",
              "      <td>Leo</td>\n",
              "      <td>12,May,2004</td>\n",
              "      <td>testing!!!  testing!!!</td>\n",
              "    </tr>\n",
              "    <tr>\n",
              "      <th>4</th>\n",
              "      <td>3581210</td>\n",
              "      <td>male</td>\n",
              "      <td>33</td>\n",
              "      <td>InvestmentBanking</td>\n",
              "      <td>Aquarius</td>\n",
              "      <td>11,June,2004</td>\n",
              "      <td>Thanks to Yahoo!'s Toolbar I can ...</td>\n",
              "    </tr>\n",
              "  </tbody>\n",
              "</table>\n",
              "</div>\n",
              "      <button class=\"colab-df-convert\" onclick=\"convertToInteractive('df-fc7fa980-b4ac-4bba-98db-d23bbbc5a9e5')\"\n",
              "              title=\"Convert this dataframe to an interactive table.\"\n",
              "              style=\"display:none;\">\n",
              "        \n",
              "  <svg xmlns=\"http://www.w3.org/2000/svg\" height=\"24px\"viewBox=\"0 0 24 24\"\n",
              "       width=\"24px\">\n",
              "    <path d=\"M0 0h24v24H0V0z\" fill=\"none\"/>\n",
              "    <path d=\"M18.56 5.44l.94 2.06.94-2.06 2.06-.94-2.06-.94-.94-2.06-.94 2.06-2.06.94zm-11 1L8.5 8.5l.94-2.06 2.06-.94-2.06-.94L8.5 2.5l-.94 2.06-2.06.94zm10 10l.94 2.06.94-2.06 2.06-.94-2.06-.94-.94-2.06-.94 2.06-2.06.94z\"/><path d=\"M17.41 7.96l-1.37-1.37c-.4-.4-.92-.59-1.43-.59-.52 0-1.04.2-1.43.59L10.3 9.45l-7.72 7.72c-.78.78-.78 2.05 0 2.83L4 21.41c.39.39.9.59 1.41.59.51 0 1.02-.2 1.41-.59l7.78-7.78 2.81-2.81c.8-.78.8-2.07 0-2.86zM5.41 20L4 18.59l7.72-7.72 1.47 1.35L5.41 20z\"/>\n",
              "  </svg>\n",
              "      </button>\n",
              "      \n",
              "  <style>\n",
              "    .colab-df-container {\n",
              "      display:flex;\n",
              "      flex-wrap:wrap;\n",
              "      gap: 12px;\n",
              "    }\n",
              "\n",
              "    .colab-df-convert {\n",
              "      background-color: #E8F0FE;\n",
              "      border: none;\n",
              "      border-radius: 50%;\n",
              "      cursor: pointer;\n",
              "      display: none;\n",
              "      fill: #1967D2;\n",
              "      height: 32px;\n",
              "      padding: 0 0 0 0;\n",
              "      width: 32px;\n",
              "    }\n",
              "\n",
              "    .colab-df-convert:hover {\n",
              "      background-color: #E2EBFA;\n",
              "      box-shadow: 0px 1px 2px rgba(60, 64, 67, 0.3), 0px 1px 3px 1px rgba(60, 64, 67, 0.15);\n",
              "      fill: #174EA6;\n",
              "    }\n",
              "\n",
              "    [theme=dark] .colab-df-convert {\n",
              "      background-color: #3B4455;\n",
              "      fill: #D2E3FC;\n",
              "    }\n",
              "\n",
              "    [theme=dark] .colab-df-convert:hover {\n",
              "      background-color: #434B5C;\n",
              "      box-shadow: 0px 1px 3px 1px rgba(0, 0, 0, 0.15);\n",
              "      filter: drop-shadow(0px 1px 2px rgba(0, 0, 0, 0.3));\n",
              "      fill: #FFFFFF;\n",
              "    }\n",
              "  </style>\n",
              "\n",
              "      <script>\n",
              "        const buttonEl =\n",
              "          document.querySelector('#df-fc7fa980-b4ac-4bba-98db-d23bbbc5a9e5 button.colab-df-convert');\n",
              "        buttonEl.style.display =\n",
              "          google.colab.kernel.accessAllowed ? 'block' : 'none';\n",
              "\n",
              "        async function convertToInteractive(key) {\n",
              "          const element = document.querySelector('#df-fc7fa980-b4ac-4bba-98db-d23bbbc5a9e5');\n",
              "          const dataTable =\n",
              "            await google.colab.kernel.invokeFunction('convertToInteractive',\n",
              "                                                     [key], {});\n",
              "          if (!dataTable) return;\n",
              "\n",
              "          const docLinkHtml = 'Like what you see? Visit the ' +\n",
              "            '<a target=\"_blank\" href=https://colab.research.google.com/notebooks/data_table.ipynb>data table notebook</a>'\n",
              "            + ' to learn more about interactive tables.';\n",
              "          element.innerHTML = '';\n",
              "          dataTable['output_type'] = 'display_data';\n",
              "          await google.colab.output.renderOutput(dataTable, element);\n",
              "          const docLink = document.createElement('div');\n",
              "          docLink.innerHTML = docLinkHtml;\n",
              "          element.appendChild(docLink);\n",
              "        }\n",
              "      </script>\n",
              "    </div>\n",
              "  </div>\n",
              "  "
            ],
            "text/plain": [
              "        id gender  age              topic      sign          date  \\\n",
              "0  2059027   male   15            Student       Leo   14,May,2004   \n",
              "1  2059027   male   15            Student       Leo   13,May,2004   \n",
              "2  2059027   male   15            Student       Leo   12,May,2004   \n",
              "3  2059027   male   15            Student       Leo   12,May,2004   \n",
              "4  3581210   male   33  InvestmentBanking  Aquarius  11,June,2004   \n",
              "\n",
              "                                                text  \n",
              "0             Info has been found (+/- 100 pages,...  \n",
              "1             These are the team members:   Drewe...  \n",
              "2             In het kader van kernfusie op aarde...  \n",
              "3                   testing!!!  testing!!!            \n",
              "4               Thanks to Yahoo!'s Toolbar I can ...  "
            ]
          },
          "execution_count": 7,
          "metadata": {},
          "output_type": "execute_result"
        }
      ],
      "source": [
        "blog_df.head()"
      ]
    },
    {
      "cell_type": "markdown",
      "source": [
        "# Lets again check the shape of the dataset"
      ],
      "metadata": {
        "id": "wzbHDaz0Gu7a"
      }
    },
    {
      "cell_type": "code",
      "execution_count": null,
      "metadata": {
        "colab": {
          "base_uri": "https://localhost:8080/"
        },
        "id": "xybBX2R5w24M",
        "outputId": "f9fb2f92-94d2-4f29-fb14-47883dfa6ef8"
      },
      "outputs": [
        {
          "data": {
            "text/plain": [
              "(100000, 7)"
            ]
          },
          "execution_count": 8,
          "metadata": {},
          "output_type": "execute_result"
        }
      ],
      "source": [
        "blog_df.shape"
      ]
    },
    {
      "cell_type": "code",
      "execution_count": null,
      "metadata": {
        "colab": {
          "base_uri": "https://localhost:8080/",
          "height": 206
        },
        "id": "3ciQlnLow27k",
        "outputId": "d4a17359-a82f-40e4-a332-df4fd3f8444a"
      },
      "outputs": [
        {
          "data": {
            "text/html": [
              "\n",
              "  <div id=\"df-762b4b98-d1d9-4b34-a217-1320ab5f9a01\">\n",
              "    <div class=\"colab-df-container\">\n",
              "      <div>\n",
              "<style scoped>\n",
              "    .dataframe tbody tr th:only-of-type {\n",
              "        vertical-align: middle;\n",
              "    }\n",
              "\n",
              "    .dataframe tbody tr th {\n",
              "        vertical-align: top;\n",
              "    }\n",
              "\n",
              "    .dataframe thead th {\n",
              "        text-align: right;\n",
              "    }\n",
              "</style>\n",
              "<table border=\"1\" class=\"dataframe\">\n",
              "  <thead>\n",
              "    <tr style=\"text-align: right;\">\n",
              "      <th></th>\n",
              "      <th>id</th>\n",
              "      <th>gender</th>\n",
              "      <th>age</th>\n",
              "      <th>topic</th>\n",
              "      <th>sign</th>\n",
              "      <th>date</th>\n",
              "      <th>text</th>\n",
              "    </tr>\n",
              "  </thead>\n",
              "  <tbody>\n",
              "    <tr>\n",
              "      <th>99995</th>\n",
              "      <td>1709399</td>\n",
              "      <td>male</td>\n",
              "      <td>27</td>\n",
              "      <td>Student</td>\n",
              "      <td>Virgo</td>\n",
              "      <td>18,September,2003</td>\n",
              "      <td>THE HINDU - 125 YEARS             ...</td>\n",
              "    </tr>\n",
              "    <tr>\n",
              "      <th>99996</th>\n",
              "      <td>1709399</td>\n",
              "      <td>male</td>\n",
              "      <td>27</td>\n",
              "      <td>Student</td>\n",
              "      <td>Virgo</td>\n",
              "      <td>16,September,2003</td>\n",
              "      <td>DILBERT &amp; IIT-ans                 ...</td>\n",
              "    </tr>\n",
              "    <tr>\n",
              "      <th>99997</th>\n",
              "      <td>1709399</td>\n",
              "      <td>male</td>\n",
              "      <td>27</td>\n",
              "      <td>Student</td>\n",
              "      <td>Virgo</td>\n",
              "      <td>12,September,2003</td>\n",
              "      <td>Case Study : How HP won $3 billion...</td>\n",
              "    </tr>\n",
              "    <tr>\n",
              "      <th>99998</th>\n",
              "      <td>1709399</td>\n",
              "      <td>male</td>\n",
              "      <td>27</td>\n",
              "      <td>Student</td>\n",
              "      <td>Virgo</td>\n",
              "      <td>09,September,2003</td>\n",
              "      <td>Championing Chennai               ...</td>\n",
              "    </tr>\n",
              "    <tr>\n",
              "      <th>99999</th>\n",
              "      <td>1709399</td>\n",
              "      <td>male</td>\n",
              "      <td>27</td>\n",
              "      <td>Student</td>\n",
              "      <td>Virgo</td>\n",
              "      <td>05,September,2003</td>\n",
              "      <td>WEEKEND                         It...</td>\n",
              "    </tr>\n",
              "  </tbody>\n",
              "</table>\n",
              "</div>\n",
              "      <button class=\"colab-df-convert\" onclick=\"convertToInteractive('df-762b4b98-d1d9-4b34-a217-1320ab5f9a01')\"\n",
              "              title=\"Convert this dataframe to an interactive table.\"\n",
              "              style=\"display:none;\">\n",
              "        \n",
              "  <svg xmlns=\"http://www.w3.org/2000/svg\" height=\"24px\"viewBox=\"0 0 24 24\"\n",
              "       width=\"24px\">\n",
              "    <path d=\"M0 0h24v24H0V0z\" fill=\"none\"/>\n",
              "    <path d=\"M18.56 5.44l.94 2.06.94-2.06 2.06-.94-2.06-.94-.94-2.06-.94 2.06-2.06.94zm-11 1L8.5 8.5l.94-2.06 2.06-.94-2.06-.94L8.5 2.5l-.94 2.06-2.06.94zm10 10l.94 2.06.94-2.06 2.06-.94-2.06-.94-.94-2.06-.94 2.06-2.06.94z\"/><path d=\"M17.41 7.96l-1.37-1.37c-.4-.4-.92-.59-1.43-.59-.52 0-1.04.2-1.43.59L10.3 9.45l-7.72 7.72c-.78.78-.78 2.05 0 2.83L4 21.41c.39.39.9.59 1.41.59.51 0 1.02-.2 1.41-.59l7.78-7.78 2.81-2.81c.8-.78.8-2.07 0-2.86zM5.41 20L4 18.59l7.72-7.72 1.47 1.35L5.41 20z\"/>\n",
              "  </svg>\n",
              "      </button>\n",
              "      \n",
              "  <style>\n",
              "    .colab-df-container {\n",
              "      display:flex;\n",
              "      flex-wrap:wrap;\n",
              "      gap: 12px;\n",
              "    }\n",
              "\n",
              "    .colab-df-convert {\n",
              "      background-color: #E8F0FE;\n",
              "      border: none;\n",
              "      border-radius: 50%;\n",
              "      cursor: pointer;\n",
              "      display: none;\n",
              "      fill: #1967D2;\n",
              "      height: 32px;\n",
              "      padding: 0 0 0 0;\n",
              "      width: 32px;\n",
              "    }\n",
              "\n",
              "    .colab-df-convert:hover {\n",
              "      background-color: #E2EBFA;\n",
              "      box-shadow: 0px 1px 2px rgba(60, 64, 67, 0.3), 0px 1px 3px 1px rgba(60, 64, 67, 0.15);\n",
              "      fill: #174EA6;\n",
              "    }\n",
              "\n",
              "    [theme=dark] .colab-df-convert {\n",
              "      background-color: #3B4455;\n",
              "      fill: #D2E3FC;\n",
              "    }\n",
              "\n",
              "    [theme=dark] .colab-df-convert:hover {\n",
              "      background-color: #434B5C;\n",
              "      box-shadow: 0px 1px 3px 1px rgba(0, 0, 0, 0.15);\n",
              "      filter: drop-shadow(0px 1px 2px rgba(0, 0, 0, 0.3));\n",
              "      fill: #FFFFFF;\n",
              "    }\n",
              "  </style>\n",
              "\n",
              "      <script>\n",
              "        const buttonEl =\n",
              "          document.querySelector('#df-762b4b98-d1d9-4b34-a217-1320ab5f9a01 button.colab-df-convert');\n",
              "        buttonEl.style.display =\n",
              "          google.colab.kernel.accessAllowed ? 'block' : 'none';\n",
              "\n",
              "        async function convertToInteractive(key) {\n",
              "          const element = document.querySelector('#df-762b4b98-d1d9-4b34-a217-1320ab5f9a01');\n",
              "          const dataTable =\n",
              "            await google.colab.kernel.invokeFunction('convertToInteractive',\n",
              "                                                     [key], {});\n",
              "          if (!dataTable) return;\n",
              "\n",
              "          const docLinkHtml = 'Like what you see? Visit the ' +\n",
              "            '<a target=\"_blank\" href=https://colab.research.google.com/notebooks/data_table.ipynb>data table notebook</a>'\n",
              "            + ' to learn more about interactive tables.';\n",
              "          element.innerHTML = '';\n",
              "          dataTable['output_type'] = 'display_data';\n",
              "          await google.colab.output.renderOutput(dataTable, element);\n",
              "          const docLink = document.createElement('div');\n",
              "          docLink.innerHTML = docLinkHtml;\n",
              "          element.appendChild(docLink);\n",
              "        }\n",
              "      </script>\n",
              "    </div>\n",
              "  </div>\n",
              "  "
            ],
            "text/plain": [
              "            id gender  age    topic   sign               date  \\\n",
              "99995  1709399   male   27  Student  Virgo  18,September,2003   \n",
              "99996  1709399   male   27  Student  Virgo  16,September,2003   \n",
              "99997  1709399   male   27  Student  Virgo  12,September,2003   \n",
              "99998  1709399   male   27  Student  Virgo  09,September,2003   \n",
              "99999  1709399   male   27  Student  Virgo  05,September,2003   \n",
              "\n",
              "                                                    text  \n",
              "99995              THE HINDU - 125 YEARS             ...  \n",
              "99996              DILBERT & IIT-ans                 ...  \n",
              "99997              Case Study : How HP won $3 billion...  \n",
              "99998              Championing Chennai               ...  \n",
              "99999              WEEKEND                         It...  "
            ]
          },
          "execution_count": 9,
          "metadata": {},
          "output_type": "execute_result"
        }
      ],
      "source": [
        "#check if the last 5 rows of the data frame using the tail() method\n",
        "blog_df.tail()"
      ]
    },
    {
      "cell_type": "markdown",
      "source": [
        "# Basic info about data columns and its type"
      ],
      "metadata": {
        "id": "T4qWZi5ZG2NJ"
      }
    },
    {
      "cell_type": "code",
      "execution_count": null,
      "metadata": {
        "colab": {
          "base_uri": "https://localhost:8080/"
        },
        "id": "rmodPsWmw2_C",
        "outputId": "376a9d1d-2587-423f-ada6-506f2a9ef2ca"
      },
      "outputs": [
        {
          "name": "stdout",
          "output_type": "stream",
          "text": [
            "<class 'pandas.core.frame.DataFrame'>\n",
            "RangeIndex: 100000 entries, 0 to 99999\n",
            "Data columns (total 7 columns):\n",
            " #   Column  Non-Null Count   Dtype \n",
            "---  ------  --------------   ----- \n",
            " 0   id      100000 non-null  int64 \n",
            " 1   gender  100000 non-null  object\n",
            " 2   age     100000 non-null  int64 \n",
            " 3   topic   100000 non-null  object\n",
            " 4   sign    100000 non-null  object\n",
            " 5   date    100000 non-null  object\n",
            " 6   text    100000 non-null  object\n",
            "dtypes: int64(2), object(5)\n",
            "memory usage: 5.3+ MB\n"
          ]
        }
      ],
      "source": [
        "blog_df.info()"
      ]
    },
    {
      "cell_type": "markdown",
      "source": [
        "# Lets check the gender ratio"
      ],
      "metadata": {
        "id": "5KAUWysBG_5o"
      }
    },
    {
      "cell_type": "code",
      "execution_count": null,
      "metadata": {
        "colab": {
          "base_uri": "https://localhost:8080/"
        },
        "id": "HY8Y3VAjw3CT",
        "outputId": "635800ff-4648-4582-a968-c55980027dab"
      },
      "outputs": [
        {
          "data": {
            "text/plain": [
              "male      53358\n",
              "female    46642\n",
              "Name: gender, dtype: int64"
            ]
          },
          "execution_count": 11,
          "metadata": {},
          "output_type": "execute_result"
        }
      ],
      "source": [
        "blog_df.gender.value_counts()"
      ]
    },
    {
      "cell_type": "markdown",
      "source": [
        "# Lets check the null values in the dataset"
      ],
      "metadata": {
        "id": "F51kLSthHFa0"
      }
    },
    {
      "cell_type": "code",
      "execution_count": null,
      "metadata": {
        "colab": {
          "base_uri": "https://localhost:8080/"
        },
        "id": "NLkqpxwqw3FY",
        "outputId": "e63348d4-4242-4fb6-fe7f-e01ec75267a5"
      },
      "outputs": [
        {
          "data": {
            "text/plain": [
              "id        0\n",
              "gender    0\n",
              "age       0\n",
              "topic     0\n",
              "sign      0\n",
              "date      0\n",
              "text      0\n",
              "dtype: int64"
            ]
          },
          "execution_count": 12,
          "metadata": {},
          "output_type": "execute_result"
        }
      ],
      "source": [
        "blog_df.isna().sum()"
      ]
    },
    {
      "cell_type": "markdown",
      "source": [
        "# There are no  null values in the dataset. So now lets visualize the dataset to get some understanding about the dataset"
      ],
      "metadata": {
        "id": "1MdG6-ehHOGy"
      }
    },
    {
      "cell_type": "code",
      "execution_count": null,
      "metadata": {
        "colab": {
          "base_uri": "https://localhost:8080/",
          "height": 296
        },
        "id": "ZAOLrz8sw3JJ",
        "outputId": "2e9b400f-18ae-4fc0-f81a-b0ce04539f65"
      },
      "outputs": [
        {
          "data": {
            "text/plain": [
              "<matplotlib.axes._subplots.AxesSubplot at 0x7f2bc69fefd0>"
            ]
          },
          "execution_count": 13,
          "metadata": {},
          "output_type": "execute_result"
        },
        {
          "data": {
            "image/png": "[encoded data removed]",
            "text/plain": [
              "<Figure size 432x288 with 1 Axes>"
            ]
          },
          "metadata": {},
          "output_type": "display_data"
        }
      ],
      "source": [
        "sns.countplot(x='gender',data=blog_df)"
      ]
    },
    {
      "cell_type": "markdown",
      "source": [
        "# Lets visualize the sign by count plot"
      ],
      "metadata": {
        "id": "lwYk4TYZHcMb"
      }
    },
    {
      "cell_type": "code",
      "execution_count": null,
      "metadata": {
        "colab": {
          "base_uri": "https://localhost:8080/",
          "height": 296
        },
        "id": "Hz5gMj6bw3MK",
        "outputId": "a481e946-cb78-407e-9f8a-b1b2740e5a75"
      },
      "outputs": [
        {
          "data": {
            "text/plain": [
              "<matplotlib.axes._subplots.AxesSubplot at 0x7f2bc693fb50>"
            ]
          },
          "execution_count": 14,
          "metadata": {},
          "output_type": "execute_result"
        },
        {
          "data": {
            "image/png": "[encoded data removed]",
            "text/plain": [
              "<Figure size 432x288 with 1 Axes>"
            ]
          },
          "metadata": {},
          "output_type": "display_data"
        }
      ],
      "source": [
        "sns.countplot(x='sign',data=blog_df)"
      ]
    },
    {
      "cell_type": "code",
      "execution_count": null,
      "metadata": {
        "colab": {
          "base_uri": "https://localhost:8080/"
        },
        "id": "oB_Unb93w3PZ",
        "outputId": "a333c94b-ad79-45d1-9bd7-0c33c3dc7e32"
      },
      "outputs": [
        {
          "data": {
            "text/plain": [
              "id        0\n",
              "gender    0\n",
              "age       0\n",
              "topic     0\n",
              "sign      0\n",
              "date      0\n",
              "text      0\n",
              "dtype: int64"
            ]
          },
          "execution_count": 15,
          "metadata": {},
          "output_type": "execute_result"
        }
      ],
      "source": [
        "#chceck for null values\n",
        "blog_df.isnull().sum()"
      ]
    },
    {
      "cell_type": "markdown",
      "source": [
        "# **As we know that all the text that we have in the dataset. will not be only English language.SO our model will not be able to understand other language so we need to delete other text that belong other than English language . **\n",
        "\n",
        "# **For that here we are using Langdetect library**"
      ],
      "metadata": {
        "id": "u11zNv0ZHk4A"
      }
    },
    {
      "cell_type": "code",
      "execution_count": null,
      "metadata": {
        "colab": {
          "base_uri": "https://localhost:8080/"
        },
        "id": "3-YoJ1nfUVe6",
        "outputId": "674961b1-d6c4-45aa-c046-aa43af9ee23e"
      },
      "outputs": [
        {
          "name": "stdout",
          "output_type": "stream",
          "text": [
            "Requirement already satisfied: langdetect in /usr/local/lib/python3.7/dist-packages (1.0.9)\n",
            "Requirement already satisfied: six in /usr/local/lib/python3.7/dist-packages (from langdetect) (1.15.0)\n"
          ]
        }
      ],
      "source": [
        "!pip install langdetect"
      ]
    },
    {
      "cell_type": "code",
      "execution_count": null,
      "metadata": {
        "id": "lwokdb9nUZcn"
      },
      "outputs": [],
      "source": [
        "from langdetect import detect\n",
        "\n",
        "def detect_english(text):\n",
        "     try:\n",
        "        return detect(text) == 'en'\n",
        "     except:\n",
        "         return False"
      ]
    },
    {
      "cell_type": "code",
      "execution_count": null,
      "metadata": {
        "id": "33sYyta7UeNu"
      },
      "outputs": [],
      "source": [
        "blog_df = blog_df[blog_df['text'].apply(detect_english)]"
      ]
    },
    {
      "cell_type": "markdown",
      "source": [
        "# so we have deleted the non-english sentence. Now lets check the shape of the dataset after deleting that"
      ],
      "metadata": {
        "id": "u3naSso3INlo"
      }
    },
    {
      "cell_type": "code",
      "execution_count": null,
      "metadata": {
        "colab": {
          "base_uri": "https://localhost:8080/"
        },
        "id": "bwvzhOwHVgGH",
        "outputId": "6dfc76e9-2394-4ee5-e6fa-14f918fef8bb"
      },
      "outputs": [
        {
          "data": {
            "text/plain": [
              "(95551, 7)"
            ]
          },
          "execution_count": 19,
          "metadata": {},
          "output_type": "execute_result"
        }
      ],
      "source": [
        "blog_df.shape"
      ]
    },
    {
      "cell_type": "markdown",
      "source": [
        "# here we can see that initially we had 1,00,000 dataset. after deleting non-english text. Now we have 95,551 texts"
      ],
      "metadata": {
        "id": "ume-nOpAIdnA"
      }
    },
    {
      "cell_type": "markdown",
      "source": [
        "# now lets remove unwanted chars other than alphanumeric"
      ],
      "metadata": {
        "id": "1VIXHafFIx4e"
      }
    },
    {
      "cell_type": "code",
      "execution_count": null,
      "metadata": {
        "id": "cFROFeYgw3Sq"
      },
      "outputs": [],
      "source": [
        "\n",
        "pattern = \"[^\\w ]\"\n",
        "blog_df.text = blog_df.text.apply(lambda s : re.sub(pattern,\"\",s))"
      ]
    },
    {
      "cell_type": "code",
      "execution_count": null,
      "metadata": {
        "colab": {
          "base_uri": "https://localhost:8080/",
          "height": 206
        },
        "id": "R8aP1_6Xw3V8",
        "outputId": "c1c77a57-fb0f-4673-8f30-823697bcf975"
      },
      "outputs": [
        {
          "data": {
            "text/html": [
              "\n",
              "  <div id=\"df-3aafe50c-8613-46c6-aa3b-3efd0655887a\">\n",
              "    <div class=\"colab-df-container\">\n",
              "      <div>\n",
              "<style scoped>\n",
              "    .dataframe tbody tr th:only-of-type {\n",
              "        vertical-align: middle;\n",
              "    }\n",
              "\n",
              "    .dataframe tbody tr th {\n",
              "        vertical-align: top;\n",
              "    }\n",
              "\n",
              "    .dataframe thead th {\n",
              "        text-align: right;\n",
              "    }\n",
              "</style>\n",
              "<table border=\"1\" class=\"dataframe\">\n",
              "  <thead>\n",
              "    <tr style=\"text-align: right;\">\n",
              "      <th></th>\n",
              "      <th>id</th>\n",
              "      <th>gender</th>\n",
              "      <th>age</th>\n",
              "      <th>topic</th>\n",
              "      <th>sign</th>\n",
              "      <th>date</th>\n",
              "      <th>text</th>\n",
              "    </tr>\n",
              "  </thead>\n",
              "  <tbody>\n",
              "    <tr>\n",
              "      <th>0</th>\n",
              "      <td>2059027</td>\n",
              "      <td>male</td>\n",
              "      <td>15</td>\n",
              "      <td>Student</td>\n",
              "      <td>Leo</td>\n",
              "      <td>14,May,2004</td>\n",
              "      <td>Info has been found  100 pages and ...</td>\n",
              "    </tr>\n",
              "    <tr>\n",
              "      <th>2</th>\n",
              "      <td>2059027</td>\n",
              "      <td>male</td>\n",
              "      <td>15</td>\n",
              "      <td>Student</td>\n",
              "      <td>Leo</td>\n",
              "      <td>12,May,2004</td>\n",
              "      <td>In het kader van kernfusie op aarde...</td>\n",
              "    </tr>\n",
              "    <tr>\n",
              "      <th>3</th>\n",
              "      <td>2059027</td>\n",
              "      <td>male</td>\n",
              "      <td>15</td>\n",
              "      <td>Student</td>\n",
              "      <td>Leo</td>\n",
              "      <td>12,May,2004</td>\n",
              "      <td>testing  testing</td>\n",
              "    </tr>\n",
              "    <tr>\n",
              "      <th>4</th>\n",
              "      <td>3581210</td>\n",
              "      <td>male</td>\n",
              "      <td>33</td>\n",
              "      <td>InvestmentBanking</td>\n",
              "      <td>Aquarius</td>\n",
              "      <td>11,June,2004</td>\n",
              "      <td>Thanks to Yahoos Toolbar I can no...</td>\n",
              "    </tr>\n",
              "    <tr>\n",
              "      <th>5</th>\n",
              "      <td>3581210</td>\n",
              "      <td>male</td>\n",
              "      <td>33</td>\n",
              "      <td>InvestmentBanking</td>\n",
              "      <td>Aquarius</td>\n",
              "      <td>10,June,2004</td>\n",
              "      <td>I had an interesting conversation...</td>\n",
              "    </tr>\n",
              "  </tbody>\n",
              "</table>\n",
              "</div>\n",
              "      <button class=\"colab-df-convert\" onclick=\"convertToInteractive('df-3aafe50c-8613-46c6-aa3b-3efd0655887a')\"\n",
              "              title=\"Convert this dataframe to an interactive table.\"\n",
              "              style=\"display:none;\">\n",
              "        \n",
              "  <svg xmlns=\"http://www.w3.org/2000/svg\" height=\"24px\"viewBox=\"0 0 24 24\"\n",
              "       width=\"24px\">\n",
              "    <path d=\"M0 0h24v24H0V0z\" fill=\"none\"/>\n",
              "    <path d=\"M18.56 5.44l.94 2.06.94-2.06 2.06-.94-2.06-.94-.94-2.06-.94 2.06-2.06.94zm-11 1L8.5 8.5l.94-2.06 2.06-.94-2.06-.94L8.5 2.5l-.94 2.06-2.06.94zm10 10l.94 2.06.94-2.06 2.06-.94-2.06-.94-.94-2.06-.94 2.06-2.06.94z\"/><path d=\"M17.41 7.96l-1.37-1.37c-.4-.4-.92-.59-1.43-.59-.52 0-1.04.2-1.43.59L10.3 9.45l-7.72 7.72c-.78.78-.78 2.05 0 2.83L4 21.41c.39.39.9.59 1.41.59.51 0 1.02-.2 1.41-.59l7.78-7.78 2.81-2.81c.8-.78.8-2.07 0-2.86zM5.41 20L4 18.59l7.72-7.72 1.47 1.35L5.41 20z\"/>\n",
              "  </svg>\n",
              "      </button>\n",
              "      \n",
              "  <style>\n",
              "    .colab-df-container {\n",
              "      display:flex;\n",
              "      flex-wrap:wrap;\n",
              "      gap: 12px;\n",
              "    }\n",
              "\n",
              "    .colab-df-convert {\n",
              "      background-color: #E8F0FE;\n",
              "      border: none;\n",
              "      border-radius: 50%;\n",
              "      cursor: pointer;\n",
              "      display: none;\n",
              "      fill: #1967D2;\n",
              "      height: 32px;\n",
              "      padding: 0 0 0 0;\n",
              "      width: 32px;\n",
              "    }\n",
              "\n",
              "    .colab-df-convert:hover {\n",
              "      background-color: #E2EBFA;\n",
              "      box-shadow: 0px 1px 2px rgba(60, 64, 67, 0.3), 0px 1px 3px 1px rgba(60, 64, 67, 0.15);\n",
              "      fill: #174EA6;\n",
              "    }\n",
              "\n",
              "    [theme=dark] .colab-df-convert {\n",
              "      background-color: #3B4455;\n",
              "      fill: #D2E3FC;\n",
              "    }\n",
              "\n",
              "    [theme=dark] .colab-df-convert:hover {\n",
              "      background-color: #434B5C;\n",
              "      box-shadow: 0px 1px 3px 1px rgba(0, 0, 0, 0.15);\n",
              "      filter: drop-shadow(0px 1px 2px rgba(0, 0, 0, 0.3));\n",
              "      fill: #FFFFFF;\n",
              "    }\n",
              "  </style>\n",
              "\n",
              "      <script>\n",
              "        const buttonEl =\n",
              "          document.querySelector('#df-3aafe50c-8613-46c6-aa3b-3efd0655887a button.colab-df-convert');\n",
              "        buttonEl.style.display =\n",
              "          google.colab.kernel.accessAllowed ? 'block' : 'none';\n",
              "\n",
              "        async function convertToInteractive(key) {\n",
              "          const element = document.querySelector('#df-3aafe50c-8613-46c6-aa3b-3efd0655887a');\n",
              "          const dataTable =\n",
              "            await google.colab.kernel.invokeFunction('convertToInteractive',\n",
              "                                                     [key], {});\n",
              "          if (!dataTable) return;\n",
              "\n",
              "          const docLinkHtml = 'Like what you see? Visit the ' +\n",
              "            '<a target=\"_blank\" href=https://colab.research.google.com/notebooks/data_table.ipynb>data table notebook</a>'\n",
              "            + ' to learn more about interactive tables.';\n",
              "          element.innerHTML = '';\n",
              "          dataTable['output_type'] = 'display_data';\n",
              "          await google.colab.output.renderOutput(dataTable, element);\n",
              "          const docLink = document.createElement('div');\n",
              "          docLink.innerHTML = docLinkHtml;\n",
              "          element.appendChild(docLink);\n",
              "        }\n",
              "      </script>\n",
              "    </div>\n",
              "  </div>\n",
              "  "
            ],
            "text/plain": [
              "        id gender  age              topic      sign          date  \\\n",
              "0  2059027   male   15            Student       Leo   14,May,2004   \n",
              "2  2059027   male   15            Student       Leo   12,May,2004   \n",
              "3  2059027   male   15            Student       Leo   12,May,2004   \n",
              "4  3581210   male   33  InvestmentBanking  Aquarius  11,June,2004   \n",
              "5  3581210   male   33  InvestmentBanking  Aquarius  10,June,2004   \n",
              "\n",
              "                                                text  \n",
              "0             Info has been found  100 pages and ...  \n",
              "2             In het kader van kernfusie op aarde...  \n",
              "3                         testing  testing            \n",
              "4               Thanks to Yahoos Toolbar I can no...  \n",
              "5               I had an interesting conversation...  "
            ]
          },
          "execution_count": 21,
          "metadata": {},
          "output_type": "execute_result"
        }
      ],
      "source": [
        "blog_df.head(5)"
      ]
    },
    {
      "cell_type": "markdown",
      "source": [
        "# Now lets covert text to lower part for further processing"
      ],
      "metadata": {
        "id": "sOtbAtFTI6pH"
      }
    },
    {
      "cell_type": "code",
      "execution_count": null,
      "metadata": {
        "id": "S8hizljZw3ZV"
      },
      "outputs": [],
      "source": [
        "\n",
        "blog_df.text = blog_df.text.apply(lambda s: s.lower())"
      ]
    },
    {
      "cell_type": "code",
      "execution_count": null,
      "metadata": {
        "colab": {
          "base_uri": "https://localhost:8080/",
          "height": 206
        },
        "id": "Fl17mOz-w3cc",
        "outputId": "a77d3b3d-f187-408c-eec2-8748bb87e326"
      },
      "outputs": [
        {
          "data": {
            "text/html": [
              "\n",
              "  <div id=\"df-a6127f6b-7a21-486b-b7a6-c49d1faf985a\">\n",
              "    <div class=\"colab-df-container\">\n",
              "      <div>\n",
              "<style scoped>\n",
              "    .dataframe tbody tr th:only-of-type {\n",
              "        vertical-align: middle;\n",
              "    }\n",
              "\n",
              "    .dataframe tbody tr th {\n",
              "        vertical-align: top;\n",
              "    }\n",
              "\n",
              "    .dataframe thead th {\n",
              "        text-align: right;\n",
              "    }\n",
              "</style>\n",
              "<table border=\"1\" class=\"dataframe\">\n",
              "  <thead>\n",
              "    <tr style=\"text-align: right;\">\n",
              "      <th></th>\n",
              "      <th>id</th>\n",
              "      <th>gender</th>\n",
              "      <th>age</th>\n",
              "      <th>topic</th>\n",
              "      <th>sign</th>\n",
              "      <th>date</th>\n",
              "      <th>text</th>\n",
              "    </tr>\n",
              "  </thead>\n",
              "  <tbody>\n",
              "    <tr>\n",
              "      <th>0</th>\n",
              "      <td>2059027</td>\n",
              "      <td>male</td>\n",
              "      <td>15</td>\n",
              "      <td>Student</td>\n",
              "      <td>Leo</td>\n",
              "      <td>14,May,2004</td>\n",
              "      <td>info has been found  100 pages and ...</td>\n",
              "    </tr>\n",
              "    <tr>\n",
              "      <th>2</th>\n",
              "      <td>2059027</td>\n",
              "      <td>male</td>\n",
              "      <td>15</td>\n",
              "      <td>Student</td>\n",
              "      <td>Leo</td>\n",
              "      <td>12,May,2004</td>\n",
              "      <td>in het kader van kernfusie op aarde...</td>\n",
              "    </tr>\n",
              "    <tr>\n",
              "      <th>3</th>\n",
              "      <td>2059027</td>\n",
              "      <td>male</td>\n",
              "      <td>15</td>\n",
              "      <td>Student</td>\n",
              "      <td>Leo</td>\n",
              "      <td>12,May,2004</td>\n",
              "      <td>testing  testing</td>\n",
              "    </tr>\n",
              "    <tr>\n",
              "      <th>4</th>\n",
              "      <td>3581210</td>\n",
              "      <td>male</td>\n",
              "      <td>33</td>\n",
              "      <td>InvestmentBanking</td>\n",
              "      <td>Aquarius</td>\n",
              "      <td>11,June,2004</td>\n",
              "      <td>thanks to yahoos toolbar i can no...</td>\n",
              "    </tr>\n",
              "    <tr>\n",
              "      <th>5</th>\n",
              "      <td>3581210</td>\n",
              "      <td>male</td>\n",
              "      <td>33</td>\n",
              "      <td>InvestmentBanking</td>\n",
              "      <td>Aquarius</td>\n",
              "      <td>10,June,2004</td>\n",
              "      <td>i had an interesting conversation...</td>\n",
              "    </tr>\n",
              "  </tbody>\n",
              "</table>\n",
              "</div>\n",
              "      <button class=\"colab-df-convert\" onclick=\"convertToInteractive('df-a6127f6b-7a21-486b-b7a6-c49d1faf985a')\"\n",
              "              title=\"Convert this dataframe to an interactive table.\"\n",
              "              style=\"display:none;\">\n",
              "        \n",
              "  <svg xmlns=\"http://www.w3.org/2000/svg\" height=\"24px\"viewBox=\"0 0 24 24\"\n",
              "       width=\"24px\">\n",
              "    <path d=\"M0 0h24v24H0V0z\" fill=\"none\"/>\n",
              "    <path d=\"M18.56 5.44l.94 2.06.94-2.06 2.06-.94-2.06-.94-.94-2.06-.94 2.06-2.06.94zm-11 1L8.5 8.5l.94-2.06 2.06-.94-2.06-.94L8.5 2.5l-.94 2.06-2.06.94zm10 10l.94 2.06.94-2.06 2.06-.94-2.06-.94-.94-2.06-.94 2.06-2.06.94z\"/><path d=\"M17.41 7.96l-1.37-1.37c-.4-.4-.92-.59-1.43-.59-.52 0-1.04.2-1.43.59L10.3 9.45l-7.72 7.72c-.78.78-.78 2.05 0 2.83L4 21.41c.39.39.9.59 1.41.59.51 0 1.02-.2 1.41-.59l7.78-7.78 2.81-2.81c.8-.78.8-2.07 0-2.86zM5.41 20L4 18.59l7.72-7.72 1.47 1.35L5.41 20z\"/>\n",
              "  </svg>\n",
              "      </button>\n",
              "      \n",
              "  <style>\n",
              "    .colab-df-container {\n",
              "      display:flex;\n",
              "      flex-wrap:wrap;\n",
              "      gap: 12px;\n",
              "    }\n",
              "\n",
              "    .colab-df-convert {\n",
              "      background-color: #E8F0FE;\n",
              "      border: none;\n",
              "      border-radius: 50%;\n",
              "      cursor: pointer;\n",
              "      display: none;\n",
              "      fill: #1967D2;\n",
              "      height: 32px;\n",
              "      padding: 0 0 0 0;\n",
              "      width: 32px;\n",
              "    }\n",
              "\n",
              "    .colab-df-convert:hover {\n",
              "      background-color: #E2EBFA;\n",
              "      box-shadow: 0px 1px 2px rgba(60, 64, 67, 0.3), 0px 1px 3px 1px rgba(60, 64, 67, 0.15);\n",
              "      fill: #174EA6;\n",
              "    }\n",
              "\n",
              "    [theme=dark] .colab-df-convert {\n",
              "      background-color: #3B4455;\n",
              "      fill: #D2E3FC;\n",
              "    }\n",
              "\n",
              "    [theme=dark] .colab-df-convert:hover {\n",
              "      background-color: #434B5C;\n",
              "      box-shadow: 0px 1px 3px 1px rgba(0, 0, 0, 0.15);\n",
              "      filter: drop-shadow(0px 1px 2px rgba(0, 0, 0, 0.3));\n",
              "      fill: #FFFFFF;\n",
              "    }\n",
              "  </style>\n",
              "\n",
              "      <script>\n",
              "        const buttonEl =\n",
              "          document.querySelector('#df-a6127f6b-7a21-486b-b7a6-c49d1faf985a button.colab-df-convert');\n",
              "        buttonEl.style.display =\n",
              "          google.colab.kernel.accessAllowed ? 'block' : 'none';\n",
              "\n",
              "        async function convertToInteractive(key) {\n",
              "          const element = document.querySelector('#df-a6127f6b-7a21-486b-b7a6-c49d1faf985a');\n",
              "          const dataTable =\n",
              "            await google.colab.kernel.invokeFunction('convertToInteractive',\n",
              "                                                     [key], {});\n",
              "          if (!dataTable) return;\n",
              "\n",
              "          const docLinkHtml = 'Like what you see? Visit the ' +\n",
              "            '<a target=\"_blank\" href=https://colab.research.google.com/notebooks/data_table.ipynb>data table notebook</a>'\n",
              "            + ' to learn more about interactive tables.';\n",
              "          element.innerHTML = '';\n",
              "          dataTable['output_type'] = 'display_data';\n",
              "          await google.colab.output.renderOutput(dataTable, element);\n",
              "          const docLink = document.createElement('div');\n",
              "          docLink.innerHTML = docLinkHtml;\n",
              "          element.appendChild(docLink);\n",
              "        }\n",
              "      </script>\n",
              "    </div>\n",
              "  </div>\n",
              "  "
            ],
            "text/plain": [
              "        id gender  age              topic      sign          date  \\\n",
              "0  2059027   male   15            Student       Leo   14,May,2004   \n",
              "2  2059027   male   15            Student       Leo   12,May,2004   \n",
              "3  2059027   male   15            Student       Leo   12,May,2004   \n",
              "4  3581210   male   33  InvestmentBanking  Aquarius  11,June,2004   \n",
              "5  3581210   male   33  InvestmentBanking  Aquarius  10,June,2004   \n",
              "\n",
              "                                                text  \n",
              "0             info has been found  100 pages and ...  \n",
              "2             in het kader van kernfusie op aarde...  \n",
              "3                         testing  testing            \n",
              "4               thanks to yahoos toolbar i can no...  \n",
              "5               i had an interesting conversation...  "
            ]
          },
          "execution_count": 23,
          "metadata": {},
          "output_type": "execute_result"
        }
      ],
      "source": [
        "blog_df.head(5)"
      ]
    },
    {
      "cell_type": "markdown",
      "source": [
        "# So, now lets remove unwanted spaces"
      ],
      "metadata": {
        "id": "IWmoMJGdJJbN"
      }
    },
    {
      "cell_type": "code",
      "execution_count": null,
      "metadata": {
        "id": "gwO7z2iGw3f1"
      },
      "outputs": [],
      "source": [
        "\n",
        "blog_df.text = blog_df.text.apply(lambda s: s.strip())"
      ]
    },
    {
      "cell_type": "code",
      "execution_count": null,
      "metadata": {
        "colab": {
          "base_uri": "https://localhost:8080/",
          "height": 206
        },
        "id": "4z2uOxUCw3jO",
        "outputId": "efee8639-990d-4d9f-9961-c002eb999a9c"
      },
      "outputs": [
        {
          "data": {
            "text/html": [
              "\n",
              "  <div id=\"df-af64af97-7684-4061-a629-37cd10c21b30\">\n",
              "    <div class=\"colab-df-container\">\n",
              "      <div>\n",
              "<style scoped>\n",
              "    .dataframe tbody tr th:only-of-type {\n",
              "        vertical-align: middle;\n",
              "    }\n",
              "\n",
              "    .dataframe tbody tr th {\n",
              "        vertical-align: top;\n",
              "    }\n",
              "\n",
              "    .dataframe thead th {\n",
              "        text-align: right;\n",
              "    }\n",
              "</style>\n",
              "<table border=\"1\" class=\"dataframe\">\n",
              "  <thead>\n",
              "    <tr style=\"text-align: right;\">\n",
              "      <th></th>\n",
              "      <th>id</th>\n",
              "      <th>gender</th>\n",
              "      <th>age</th>\n",
              "      <th>topic</th>\n",
              "      <th>sign</th>\n",
              "      <th>date</th>\n",
              "      <th>text</th>\n",
              "    </tr>\n",
              "  </thead>\n",
              "  <tbody>\n",
              "    <tr>\n",
              "      <th>0</th>\n",
              "      <td>2059027</td>\n",
              "      <td>male</td>\n",
              "      <td>15</td>\n",
              "      <td>Student</td>\n",
              "      <td>Leo</td>\n",
              "      <td>14,May,2004</td>\n",
              "      <td>info has been found  100 pages and 45 mb of pd...</td>\n",
              "    </tr>\n",
              "    <tr>\n",
              "      <th>2</th>\n",
              "      <td>2059027</td>\n",
              "      <td>male</td>\n",
              "      <td>15</td>\n",
              "      <td>Student</td>\n",
              "      <td>Leo</td>\n",
              "      <td>12,May,2004</td>\n",
              "      <td>in het kader van kernfusie op aarde  maak je e...</td>\n",
              "    </tr>\n",
              "    <tr>\n",
              "      <th>3</th>\n",
              "      <td>2059027</td>\n",
              "      <td>male</td>\n",
              "      <td>15</td>\n",
              "      <td>Student</td>\n",
              "      <td>Leo</td>\n",
              "      <td>12,May,2004</td>\n",
              "      <td>testing  testing</td>\n",
              "    </tr>\n",
              "    <tr>\n",
              "      <th>4</th>\n",
              "      <td>3581210</td>\n",
              "      <td>male</td>\n",
              "      <td>33</td>\n",
              "      <td>InvestmentBanking</td>\n",
              "      <td>Aquarius</td>\n",
              "      <td>11,June,2004</td>\n",
              "      <td>thanks to yahoos toolbar i can now capture the...</td>\n",
              "    </tr>\n",
              "    <tr>\n",
              "      <th>5</th>\n",
              "      <td>3581210</td>\n",
              "      <td>male</td>\n",
              "      <td>33</td>\n",
              "      <td>InvestmentBanking</td>\n",
              "      <td>Aquarius</td>\n",
              "      <td>10,June,2004</td>\n",
              "      <td>i had an interesting conversation with my dad ...</td>\n",
              "    </tr>\n",
              "  </tbody>\n",
              "</table>\n",
              "</div>\n",
              "      <button class=\"colab-df-convert\" onclick=\"convertToInteractive('df-af64af97-7684-4061-a629-37cd10c21b30')\"\n",
              "              title=\"Convert this dataframe to an interactive table.\"\n",
              "              style=\"display:none;\">\n",
              "        \n",
              "  <svg xmlns=\"http://www.w3.org/2000/svg\" height=\"24px\"viewBox=\"0 0 24 24\"\n",
              "       width=\"24px\">\n",
              "    <path d=\"M0 0h24v24H0V0z\" fill=\"none\"/>\n",
              "    <path d=\"M18.56 5.44l.94 2.06.94-2.06 2.06-.94-2.06-.94-.94-2.06-.94 2.06-2.06.94zm-11 1L8.5 8.5l.94-2.06 2.06-.94-2.06-.94L8.5 2.5l-.94 2.06-2.06.94zm10 10l.94 2.06.94-2.06 2.06-.94-2.06-.94-.94-2.06-.94 2.06-2.06.94z\"/><path d=\"M17.41 7.96l-1.37-1.37c-.4-.4-.92-.59-1.43-.59-.52 0-1.04.2-1.43.59L10.3 9.45l-7.72 7.72c-.78.78-.78 2.05 0 2.83L4 21.41c.39.39.9.59 1.41.59.51 0 1.02-.2 1.41-.59l7.78-7.78 2.81-2.81c.8-.78.8-2.07 0-2.86zM5.41 20L4 18.59l7.72-7.72 1.47 1.35L5.41 20z\"/>\n",
              "  </svg>\n",
              "      </button>\n",
              "      \n",
              "  <style>\n",
              "    .colab-df-container {\n",
              "      display:flex;\n",
              "      flex-wrap:wrap;\n",
              "      gap: 12px;\n",
              "    }\n",
              "\n",
              "    .colab-df-convert {\n",
              "      background-color: #E8F0FE;\n",
              "      border: none;\n",
              "      border-radius: 50%;\n",
              "      cursor: pointer;\n",
              "      display: none;\n",
              "      fill: #1967D2;\n",
              "      height: 32px;\n",
              "      padding: 0 0 0 0;\n",
              "      width: 32px;\n",
              "    }\n",
              "\n",
              "    .colab-df-convert:hover {\n",
              "      background-color: #E2EBFA;\n",
              "      box-shadow: 0px 1px 2px rgba(60, 64, 67, 0.3), 0px 1px 3px 1px rgba(60, 64, 67, 0.15);\n",
              "      fill: #174EA6;\n",
              "    }\n",
              "\n",
              "    [theme=dark] .colab-df-convert {\n",
              "      background-color: #3B4455;\n",
              "      fill: #D2E3FC;\n",
              "    }\n",
              "\n",
              "    [theme=dark] .colab-df-convert:hover {\n",
              "      background-color: #434B5C;\n",
              "      box-shadow: 0px 1px 3px 1px rgba(0, 0, 0, 0.15);\n",
              "      filter: drop-shadow(0px 1px 2px rgba(0, 0, 0, 0.3));\n",
              "      fill: #FFFFFF;\n",
              "    }\n",
              "  </style>\n",
              "\n",
              "      <script>\n",
              "        const buttonEl =\n",
              "          document.querySelector('#df-af64af97-7684-4061-a629-37cd10c21b30 button.colab-df-convert');\n",
              "        buttonEl.style.display =\n",
              "          google.colab.kernel.accessAllowed ? 'block' : 'none';\n",
              "\n",
              "        async function convertToInteractive(key) {\n",
              "          const element = document.querySelector('#df-af64af97-7684-4061-a629-37cd10c21b30');\n",
              "          const dataTable =\n",
              "            await google.colab.kernel.invokeFunction('convertToInteractive',\n",
              "                                                     [key], {});\n",
              "          if (!dataTable) return;\n",
              "\n",
              "          const docLinkHtml = 'Like what you see? Visit the ' +\n",
              "            '<a target=\"_blank\" href=https://colab.research.google.com/notebooks/data_table.ipynb>data table notebook</a>'\n",
              "            + ' to learn more about interactive tables.';\n",
              "          element.innerHTML = '';\n",
              "          dataTable['output_type'] = 'display_data';\n",
              "          await google.colab.output.renderOutput(dataTable, element);\n",
              "          const docLink = document.createElement('div');\n",
              "          docLink.innerHTML = docLinkHtml;\n",
              "          element.appendChild(docLink);\n",
              "        }\n",
              "      </script>\n",
              "    </div>\n",
              "  </div>\n",
              "  "
            ],
            "text/plain": [
              "        id gender  age              topic      sign          date  \\\n",
              "0  2059027   male   15            Student       Leo   14,May,2004   \n",
              "2  2059027   male   15            Student       Leo   12,May,2004   \n",
              "3  2059027   male   15            Student       Leo   12,May,2004   \n",
              "4  3581210   male   33  InvestmentBanking  Aquarius  11,June,2004   \n",
              "5  3581210   male   33  InvestmentBanking  Aquarius  10,June,2004   \n",
              "\n",
              "                                                text  \n",
              "0  info has been found  100 pages and 45 mb of pd...  \n",
              "2  in het kader van kernfusie op aarde  maak je e...  \n",
              "3                                   testing  testing  \n",
              "4  thanks to yahoos toolbar i can now capture the...  \n",
              "5  i had an interesting conversation with my dad ...  "
            ]
          },
          "execution_count": 25,
          "metadata": {},
          "output_type": "execute_result"
        }
      ],
      "source": [
        "blog_df.head()"
      ]
    },
    {
      "cell_type": "code",
      "execution_count": null,
      "metadata": {
        "colab": {
          "base_uri": "https://localhost:8080/"
        },
        "id": "0Wo-qoh90uVj",
        "outputId": "4a3d0ede-b2ff-4aa8-d6bf-d80115f594fc"
      },
      "outputs": [
        {
          "name": "stdout",
          "output_type": "stream",
          "text": [
            "[nltk_data] Downloading package stopwords to /root/nltk_data...\n",
            "[nltk_data]   Package stopwords is already up-to-date!\n"
          ]
        },
        {
          "data": {
            "text/plain": [
              "True"
            ]
          },
          "execution_count": 26,
          "metadata": {},
          "output_type": "execute_result"
        }
      ],
      "source": [
        "import nltk\n",
        "nltk.download('stopwords')"
      ]
    },
    {
      "cell_type": "markdown",
      "source": [
        "# Now we need to remove the stopwords from the text"
      ],
      "metadata": {
        "id": "_vLNnJ0SJT47"
      }
    },
    {
      "cell_type": "code",
      "execution_count": null,
      "metadata": {
        "id": "6dssa1KCw3mm"
      },
      "outputs": [],
      "source": [
        "\n",
        "stopwords=set(stopwords.words('english'))"
      ]
    },
    {
      "cell_type": "code",
      "execution_count": null,
      "metadata": {
        "id": "2wu4DGoSw3p_"
      },
      "outputs": [],
      "source": [
        "blog_df.text = blog_df.text.apply(lambda t: ' '.join([words for words in t.split() if words not in stopwords]) )"
      ]
    },
    {
      "cell_type": "code",
      "execution_count": null,
      "metadata": {
        "colab": {
          "base_uri": "https://localhost:8080/",
          "height": 206
        },
        "id": "bWvq8a0-w3td",
        "outputId": "9e726279-bbfb-4eaf-9563-39d8f6e3e4b4"
      },
      "outputs": [
        {
          "data": {
            "text/html": [
              "\n",
              "  <div id=\"df-6105d4f9-be54-440e-9e1b-8283bcf8d30e\">\n",
              "    <div class=\"colab-df-container\">\n",
              "      <div>\n",
              "<style scoped>\n",
              "    .dataframe tbody tr th:only-of-type {\n",
              "        vertical-align: middle;\n",
              "    }\n",
              "\n",
              "    .dataframe tbody tr th {\n",
              "        vertical-align: top;\n",
              "    }\n",
              "\n",
              "    .dataframe thead th {\n",
              "        text-align: right;\n",
              "    }\n",
              "</style>\n",
              "<table border=\"1\" class=\"dataframe\">\n",
              "  <thead>\n",
              "    <tr style=\"text-align: right;\">\n",
              "      <th></th>\n",
              "      <th>id</th>\n",
              "      <th>gender</th>\n",
              "      <th>age</th>\n",
              "      <th>topic</th>\n",
              "      <th>sign</th>\n",
              "      <th>date</th>\n",
              "      <th>text</th>\n",
              "    </tr>\n",
              "  </thead>\n",
              "  <tbody>\n",
              "    <tr>\n",
              "      <th>0</th>\n",
              "      <td>2059027</td>\n",
              "      <td>male</td>\n",
              "      <td>15</td>\n",
              "      <td>Student</td>\n",
              "      <td>Leo</td>\n",
              "      <td>14,May,2004</td>\n",
              "      <td>info found 100 pages 45 mb pdf files wait unti...</td>\n",
              "    </tr>\n",
              "    <tr>\n",
              "      <th>2</th>\n",
              "      <td>2059027</td>\n",
              "      <td>male</td>\n",
              "      <td>15</td>\n",
              "      <td>Student</td>\n",
              "      <td>Leo</td>\n",
              "      <td>12,May,2004</td>\n",
              "      <td>het kader van kernfusie op aarde maak je eigen...</td>\n",
              "    </tr>\n",
              "    <tr>\n",
              "      <th>3</th>\n",
              "      <td>2059027</td>\n",
              "      <td>male</td>\n",
              "      <td>15</td>\n",
              "      <td>Student</td>\n",
              "      <td>Leo</td>\n",
              "      <td>12,May,2004</td>\n",
              "      <td>testing testing</td>\n",
              "    </tr>\n",
              "    <tr>\n",
              "      <th>4</th>\n",
              "      <td>3581210</td>\n",
              "      <td>male</td>\n",
              "      <td>33</td>\n",
              "      <td>InvestmentBanking</td>\n",
              "      <td>Aquarius</td>\n",
              "      <td>11,June,2004</td>\n",
              "      <td>thanks yahoos toolbar capture urls popupswhich...</td>\n",
              "    </tr>\n",
              "    <tr>\n",
              "      <th>5</th>\n",
              "      <td>3581210</td>\n",
              "      <td>male</td>\n",
              "      <td>33</td>\n",
              "      <td>InvestmentBanking</td>\n",
              "      <td>Aquarius</td>\n",
              "      <td>10,June,2004</td>\n",
              "      <td>interesting conversation dad morning talking k...</td>\n",
              "    </tr>\n",
              "  </tbody>\n",
              "</table>\n",
              "</div>\n",
              "      <button class=\"colab-df-convert\" onclick=\"convertToInteractive('df-6105d4f9-be54-440e-9e1b-8283bcf8d30e')\"\n",
              "              title=\"Convert this dataframe to an interactive table.\"\n",
              "              style=\"display:none;\">\n",
              "        \n",
              "  <svg xmlns=\"http://www.w3.org/2000/svg\" height=\"24px\"viewBox=\"0 0 24 24\"\n",
              "       width=\"24px\">\n",
              "    <path d=\"M0 0h24v24H0V0z\" fill=\"none\"/>\n",
              "    <path d=\"M18.56 5.44l.94 2.06.94-2.06 2.06-.94-2.06-.94-.94-2.06-.94 2.06-2.06.94zm-11 1L8.5 8.5l.94-2.06 2.06-.94-2.06-.94L8.5 2.5l-.94 2.06-2.06.94zm10 10l.94 2.06.94-2.06 2.06-.94-2.06-.94-.94-2.06-.94 2.06-2.06.94z\"/><path d=\"M17.41 7.96l-1.37-1.37c-.4-.4-.92-.59-1.43-.59-.52 0-1.04.2-1.43.59L10.3 9.45l-7.72 7.72c-.78.78-.78 2.05 0 2.83L4 21.41c.39.39.9.59 1.41.59.51 0 1.02-.2 1.41-.59l7.78-7.78 2.81-2.81c.8-.78.8-2.07 0-2.86zM5.41 20L4 18.59l7.72-7.72 1.47 1.35L5.41 20z\"/>\n",
              "  </svg>\n",
              "      </button>\n",
              "      \n",
              "  <style>\n",
              "    .colab-df-container {\n",
              "      display:flex;\n",
              "      flex-wrap:wrap;\n",
              "      gap: 12px;\n",
              "    }\n",
              "\n",
              "    .colab-df-convert {\n",
              "      background-color: #E8F0FE;\n",
              "      border: none;\n",
              "      border-radius: 50%;\n",
              "      cursor: pointer;\n",
              "      display: none;\n",
              "      fill: #1967D2;\n",
              "      height: 32px;\n",
              "      padding: 0 0 0 0;\n",
              "      width: 32px;\n",
              "    }\n",
              "\n",
              "    .colab-df-convert:hover {\n",
              "      background-color: #E2EBFA;\n",
              "      box-shadow: 0px 1px 2px rgba(60, 64, 67, 0.3), 0px 1px 3px 1px rgba(60, 64, 67, 0.15);\n",
              "      fill: #174EA6;\n",
              "    }\n",
              "\n",
              "    [theme=dark] .colab-df-convert {\n",
              "      background-color: #3B4455;\n",
              "      fill: #D2E3FC;\n",
              "    }\n",
              "\n",
              "    [theme=dark] .colab-df-convert:hover {\n",
              "      background-color: #434B5C;\n",
              "      box-shadow: 0px 1px 3px 1px rgba(0, 0, 0, 0.15);\n",
              "      filter: drop-shadow(0px 1px 2px rgba(0, 0, 0, 0.3));\n",
              "      fill: #FFFFFF;\n",
              "    }\n",
              "  </style>\n",
              "\n",
              "      <script>\n",
              "        const buttonEl =\n",
              "          document.querySelector('#df-6105d4f9-be54-440e-9e1b-8283bcf8d30e button.colab-df-convert');\n",
              "        buttonEl.style.display =\n",
              "          google.colab.kernel.accessAllowed ? 'block' : 'none';\n",
              "\n",
              "        async function convertToInteractive(key) {\n",
              "          const element = document.querySelector('#df-6105d4f9-be54-440e-9e1b-8283bcf8d30e');\n",
              "          const dataTable =\n",
              "            await google.colab.kernel.invokeFunction('convertToInteractive',\n",
              "                                                     [key], {});\n",
              "          if (!dataTable) return;\n",
              "\n",
              "          const docLinkHtml = 'Like what you see? Visit the ' +\n",
              "            '<a target=\"_blank\" href=https://colab.research.google.com/notebooks/data_table.ipynb>data table notebook</a>'\n",
              "            + ' to learn more about interactive tables.';\n",
              "          element.innerHTML = '';\n",
              "          dataTable['output_type'] = 'display_data';\n",
              "          await google.colab.output.renderOutput(dataTable, element);\n",
              "          const docLink = document.createElement('div');\n",
              "          docLink.innerHTML = docLinkHtml;\n",
              "          element.appendChild(docLink);\n",
              "        }\n",
              "      </script>\n",
              "    </div>\n",
              "  </div>\n",
              "  "
            ],
            "text/plain": [
              "        id gender  age              topic      sign          date  \\\n",
              "0  2059027   male   15            Student       Leo   14,May,2004   \n",
              "2  2059027   male   15            Student       Leo   12,May,2004   \n",
              "3  2059027   male   15            Student       Leo   12,May,2004   \n",
              "4  3581210   male   33  InvestmentBanking  Aquarius  11,June,2004   \n",
              "5  3581210   male   33  InvestmentBanking  Aquarius  10,June,2004   \n",
              "\n",
              "                                                text  \n",
              "0  info found 100 pages 45 mb pdf files wait unti...  \n",
              "2  het kader van kernfusie op aarde maak je eigen...  \n",
              "3                                    testing testing  \n",
              "4  thanks yahoos toolbar capture urls popupswhich...  \n",
              "5  interesting conversation dad morning talking k...  "
            ]
          },
          "execution_count": 29,
          "metadata": {},
          "output_type": "execute_result"
        }
      ],
      "source": [
        "blog_df.head()"
      ]
    },
    {
      "cell_type": "markdown",
      "source": [
        "# As we can see here that id and date columns are not playing major role here. Thats why we can drop that columns"
      ],
      "metadata": {
        "id": "2M1BFTzpJf80"
      }
    },
    {
      "cell_type": "code",
      "execution_count": null,
      "metadata": {
        "id": "4yWlSuRXw3w9"
      },
      "outputs": [],
      "source": [
        "\n",
        "blog_df.drop(labels=['id','date'], axis=1,inplace=True)"
      ]
    },
    {
      "cell_type": "code",
      "execution_count": null,
      "metadata": {
        "colab": {
          "base_uri": "https://localhost:8080/",
          "height": 206
        },
        "id": "4dXE1DdKw30Z",
        "outputId": "3c330ae3-ad1b-48d8-9dcd-57c3186f126f"
      },
      "outputs": [
        {
          "data": {
            "text/html": [
              "\n",
              "  <div id=\"df-d29ad544-6954-4e72-b052-6d15406dcd7d\">\n",
              "    <div class=\"colab-df-container\">\n",
              "      <div>\n",
              "<style scoped>\n",
              "    .dataframe tbody tr th:only-of-type {\n",
              "        vertical-align: middle;\n",
              "    }\n",
              "\n",
              "    .dataframe tbody tr th {\n",
              "        vertical-align: top;\n",
              "    }\n",
              "\n",
              "    .dataframe thead th {\n",
              "        text-align: right;\n",
              "    }\n",
              "</style>\n",
              "<table border=\"1\" class=\"dataframe\">\n",
              "  <thead>\n",
              "    <tr style=\"text-align: right;\">\n",
              "      <th></th>\n",
              "      <th>gender</th>\n",
              "      <th>age</th>\n",
              "      <th>topic</th>\n",
              "      <th>sign</th>\n",
              "      <th>text</th>\n",
              "    </tr>\n",
              "  </thead>\n",
              "  <tbody>\n",
              "    <tr>\n",
              "      <th>0</th>\n",
              "      <td>male</td>\n",
              "      <td>15</td>\n",
              "      <td>Student</td>\n",
              "      <td>Leo</td>\n",
              "      <td>info found 100 pages 45 mb pdf files wait unti...</td>\n",
              "    </tr>\n",
              "    <tr>\n",
              "      <th>2</th>\n",
              "      <td>male</td>\n",
              "      <td>15</td>\n",
              "      <td>Student</td>\n",
              "      <td>Leo</td>\n",
              "      <td>het kader van kernfusie op aarde maak je eigen...</td>\n",
              "    </tr>\n",
              "    <tr>\n",
              "      <th>3</th>\n",
              "      <td>male</td>\n",
              "      <td>15</td>\n",
              "      <td>Student</td>\n",
              "      <td>Leo</td>\n",
              "      <td>testing testing</td>\n",
              "    </tr>\n",
              "    <tr>\n",
              "      <th>4</th>\n",
              "      <td>male</td>\n",
              "      <td>33</td>\n",
              "      <td>InvestmentBanking</td>\n",
              "      <td>Aquarius</td>\n",
              "      <td>thanks yahoos toolbar capture urls popupswhich...</td>\n",
              "    </tr>\n",
              "    <tr>\n",
              "      <th>5</th>\n",
              "      <td>male</td>\n",
              "      <td>33</td>\n",
              "      <td>InvestmentBanking</td>\n",
              "      <td>Aquarius</td>\n",
              "      <td>interesting conversation dad morning talking k...</td>\n",
              "    </tr>\n",
              "  </tbody>\n",
              "</table>\n",
              "</div>\n",
              "      <button class=\"colab-df-convert\" onclick=\"convertToInteractive('df-d29ad544-6954-4e72-b052-6d15406dcd7d')\"\n",
              "              title=\"Convert this dataframe to an interactive table.\"\n",
              "              style=\"display:none;\">\n",
              "        \n",
              "  <svg xmlns=\"http://www.w3.org/2000/svg\" height=\"24px\"viewBox=\"0 0 24 24\"\n",
              "       width=\"24px\">\n",
              "    <path d=\"M0 0h24v24H0V0z\" fill=\"none\"/>\n",
              "    <path d=\"M18.56 5.44l.94 2.06.94-2.06 2.06-.94-2.06-.94-.94-2.06-.94 2.06-2.06.94zm-11 1L8.5 8.5l.94-2.06 2.06-.94-2.06-.94L8.5 2.5l-.94 2.06-2.06.94zm10 10l.94 2.06.94-2.06 2.06-.94-2.06-.94-.94-2.06-.94 2.06-2.06.94z\"/><path d=\"M17.41 7.96l-1.37-1.37c-.4-.4-.92-.59-1.43-.59-.52 0-1.04.2-1.43.59L10.3 9.45l-7.72 7.72c-.78.78-.78 2.05 0 2.83L4 21.41c.39.39.9.59 1.41.59.51 0 1.02-.2 1.41-.59l7.78-7.78 2.81-2.81c.8-.78.8-2.07 0-2.86zM5.41 20L4 18.59l7.72-7.72 1.47 1.35L5.41 20z\"/>\n",
              "  </svg>\n",
              "      </button>\n",
              "      \n",
              "  <style>\n",
              "    .colab-df-container {\n",
              "      display:flex;\n",
              "      flex-wrap:wrap;\n",
              "      gap: 12px;\n",
              "    }\n",
              "\n",
              "    .colab-df-convert {\n",
              "      background-color: #E8F0FE;\n",
              "      border: none;\n",
              "      border-radius: 50%;\n",
              "      cursor: pointer;\n",
              "      display: none;\n",
              "      fill: #1967D2;\n",
              "      height: 32px;\n",
              "      padding: 0 0 0 0;\n",
              "      width: 32px;\n",
              "    }\n",
              "\n",
              "    .colab-df-convert:hover {\n",
              "      background-color: #E2EBFA;\n",
              "      box-shadow: 0px 1px 2px rgba(60, 64, 67, 0.3), 0px 1px 3px 1px rgba(60, 64, 67, 0.15);\n",
              "      fill: #174EA6;\n",
              "    }\n",
              "\n",
              "    [theme=dark] .colab-df-convert {\n",
              "      background-color: #3B4455;\n",
              "      fill: #D2E3FC;\n",
              "    }\n",
              "\n",
              "    [theme=dark] .colab-df-convert:hover {\n",
              "      background-color: #434B5C;\n",
              "      box-shadow: 0px 1px 3px 1px rgba(0, 0, 0, 0.15);\n",
              "      filter: drop-shadow(0px 1px 2px rgba(0, 0, 0, 0.3));\n",
              "      fill: #FFFFFF;\n",
              "    }\n",
              "  </style>\n",
              "\n",
              "      <script>\n",
              "        const buttonEl =\n",
              "          document.querySelector('#df-d29ad544-6954-4e72-b052-6d15406dcd7d button.colab-df-convert');\n",
              "        buttonEl.style.display =\n",
              "          google.colab.kernel.accessAllowed ? 'block' : 'none';\n",
              "\n",
              "        async function convertToInteractive(key) {\n",
              "          const element = document.querySelector('#df-d29ad544-6954-4e72-b052-6d15406dcd7d');\n",
              "          const dataTable =\n",
              "            await google.colab.kernel.invokeFunction('convertToInteractive',\n",
              "                                                     [key], {});\n",
              "          if (!dataTable) return;\n",
              "\n",
              "          const docLinkHtml = 'Like what you see? Visit the ' +\n",
              "            '<a target=\"_blank\" href=https://colab.research.google.com/notebooks/data_table.ipynb>data table notebook</a>'\n",
              "            + ' to learn more about interactive tables.';\n",
              "          element.innerHTML = '';\n",
              "          dataTable['output_type'] = 'display_data';\n",
              "          await google.colab.output.renderOutput(dataTable, element);\n",
              "          const docLink = document.createElement('div');\n",
              "          docLink.innerHTML = docLinkHtml;\n",
              "          element.appendChild(docLink);\n",
              "        }\n",
              "      </script>\n",
              "    </div>\n",
              "  </div>\n",
              "  "
            ],
            "text/plain": [
              "  gender  age              topic      sign  \\\n",
              "0   male   15            Student       Leo   \n",
              "2   male   15            Student       Leo   \n",
              "3   male   15            Student       Leo   \n",
              "4   male   33  InvestmentBanking  Aquarius   \n",
              "5   male   33  InvestmentBanking  Aquarius   \n",
              "\n",
              "                                                text  \n",
              "0  info found 100 pages 45 mb pdf files wait unti...  \n",
              "2  het kader van kernfusie op aarde maak je eigen...  \n",
              "3                                    testing testing  \n",
              "4  thanks yahoos toolbar capture urls popupswhich...  \n",
              "5  interesting conversation dad morning talking k...  "
            ]
          },
          "execution_count": 31,
          "metadata": {},
          "output_type": "execute_result"
        }
      ],
      "source": [
        "blog_df.head()"
      ]
    },
    {
      "cell_type": "code",
      "execution_count": null,
      "metadata": {
        "id": "bMLv09B3w33h"
      },
      "outputs": [],
      "source": [
        "blog_df['labels'] = blog_df.apply(lambda col : [col['gender'],col['age'],col['topic'],col['sign']], axis=1)"
      ]
    },
    {
      "cell_type": "code",
      "execution_count": null,
      "metadata": {
        "colab": {
          "base_uri": "https://localhost:8080/",
          "height": 206
        },
        "id": "Q2Ve5yWKw367",
        "outputId": "c1e9d077-109c-4782-dffd-78824c9ef1ab"
      },
      "outputs": [
        {
          "data": {
            "text/html": [
              "\n",
              "  <div id=\"df-171f1ba2-d9ba-4029-903f-ba761fa56da7\">\n",
              "    <div class=\"colab-df-container\">\n",
              "      <div>\n",
              "<style scoped>\n",
              "    .dataframe tbody tr th:only-of-type {\n",
              "        vertical-align: middle;\n",
              "    }\n",
              "\n",
              "    .dataframe tbody tr th {\n",
              "        vertical-align: top;\n",
              "    }\n",
              "\n",
              "    .dataframe thead th {\n",
              "        text-align: right;\n",
              "    }\n",
              "</style>\n",
              "<table border=\"1\" class=\"dataframe\">\n",
              "  <thead>\n",
              "    <tr style=\"text-align: right;\">\n",
              "      <th></th>\n",
              "      <th>gender</th>\n",
              "      <th>age</th>\n",
              "      <th>topic</th>\n",
              "      <th>sign</th>\n",
              "      <th>text</th>\n",
              "      <th>labels</th>\n",
              "    </tr>\n",
              "  </thead>\n",
              "  <tbody>\n",
              "    <tr>\n",
              "      <th>0</th>\n",
              "      <td>male</td>\n",
              "      <td>15</td>\n",
              "      <td>Student</td>\n",
              "      <td>Leo</td>\n",
              "      <td>info found 100 pages 45 mb pdf files wait unti...</td>\n",
              "      <td>[male, 15, Student, Leo]</td>\n",
              "    </tr>\n",
              "    <tr>\n",
              "      <th>2</th>\n",
              "      <td>male</td>\n",
              "      <td>15</td>\n",
              "      <td>Student</td>\n",
              "      <td>Leo</td>\n",
              "      <td>het kader van kernfusie op aarde maak je eigen...</td>\n",
              "      <td>[male, 15, Student, Leo]</td>\n",
              "    </tr>\n",
              "    <tr>\n",
              "      <th>3</th>\n",
              "      <td>male</td>\n",
              "      <td>15</td>\n",
              "      <td>Student</td>\n",
              "      <td>Leo</td>\n",
              "      <td>testing testing</td>\n",
              "      <td>[male, 15, Student, Leo]</td>\n",
              "    </tr>\n",
              "    <tr>\n",
              "      <th>4</th>\n",
              "      <td>male</td>\n",
              "      <td>33</td>\n",
              "      <td>InvestmentBanking</td>\n",
              "      <td>Aquarius</td>\n",
              "      <td>thanks yahoos toolbar capture urls popupswhich...</td>\n",
              "      <td>[male, 33, InvestmentBanking, Aquarius]</td>\n",
              "    </tr>\n",
              "    <tr>\n",
              "      <th>5</th>\n",
              "      <td>male</td>\n",
              "      <td>33</td>\n",
              "      <td>InvestmentBanking</td>\n",
              "      <td>Aquarius</td>\n",
              "      <td>interesting conversation dad morning talking k...</td>\n",
              "      <td>[male, 33, InvestmentBanking, Aquarius]</td>\n",
              "    </tr>\n",
              "  </tbody>\n",
              "</table>\n",
              "</div>\n",
              "      <button class=\"colab-df-convert\" onclick=\"convertToInteractive('df-171f1ba2-d9ba-4029-903f-ba761fa56da7')\"\n",
              "              title=\"Convert this dataframe to an interactive table.\"\n",
              "              style=\"display:none;\">\n",
              "        \n",
              "  <svg xmlns=\"http://www.w3.org/2000/svg\" height=\"24px\"viewBox=\"0 0 24 24\"\n",
              "       width=\"24px\">\n",
              "    <path d=\"M0 0h24v24H0V0z\" fill=\"none\"/>\n",
              "    <path d=\"M18.56 5.44l.94 2.06.94-2.06 2.06-.94-2.06-.94-.94-2.06-.94 2.06-2.06.94zm-11 1L8.5 8.5l.94-2.06 2.06-.94-2.06-.94L8.5 2.5l-.94 2.06-2.06.94zm10 10l.94 2.06.94-2.06 2.06-.94-2.06-.94-.94-2.06-.94 2.06-2.06.94z\"/><path d=\"M17.41 7.96l-1.37-1.37c-.4-.4-.92-.59-1.43-.59-.52 0-1.04.2-1.43.59L10.3 9.45l-7.72 7.72c-.78.78-.78 2.05 0 2.83L4 21.41c.39.39.9.59 1.41.59.51 0 1.02-.2 1.41-.59l7.78-7.78 2.81-2.81c.8-.78.8-2.07 0-2.86zM5.41 20L4 18.59l7.72-7.72 1.47 1.35L5.41 20z\"/>\n",
              "  </svg>\n",
              "      </button>\n",
              "      \n",
              "  <style>\n",
              "    .colab-df-container {\n",
              "      display:flex;\n",
              "      flex-wrap:wrap;\n",
              "      gap: 12px;\n",
              "    }\n",
              "\n",
              "    .colab-df-convert {\n",
              "      background-color: #E8F0FE;\n",
              "      border: none;\n",
              "      border-radius: 50%;\n",
              "      cursor: pointer;\n",
              "      display: none;\n",
              "      fill: #1967D2;\n",
              "      height: 32px;\n",
              "      padding: 0 0 0 0;\n",
              "      width: 32px;\n",
              "    }\n",
              "\n",
              "    .colab-df-convert:hover {\n",
              "      background-color: #E2EBFA;\n",
              "      box-shadow: 0px 1px 2px rgba(60, 64, 67, 0.3), 0px 1px 3px 1px rgba(60, 64, 67, 0.15);\n",
              "      fill: #174EA6;\n",
              "    }\n",
              "\n",
              "    [theme=dark] .colab-df-convert {\n",
              "      background-color: #3B4455;\n",
              "      fill: #D2E3FC;\n",
              "    }\n",
              "\n",
              "    [theme=dark] .colab-df-convert:hover {\n",
              "      background-color: #434B5C;\n",
              "      box-shadow: 0px 1px 3px 1px rgba(0, 0, 0, 0.15);\n",
              "      filter: drop-shadow(0px 1px 2px rgba(0, 0, 0, 0.3));\n",
              "      fill: #FFFFFF;\n",
              "    }\n",
              "  </style>\n",
              "\n",
              "      <script>\n",
              "        const buttonEl =\n",
              "          document.querySelector('#df-171f1ba2-d9ba-4029-903f-ba761fa56da7 button.colab-df-convert');\n",
              "        buttonEl.style.display =\n",
              "          google.colab.kernel.accessAllowed ? 'block' : 'none';\n",
              "\n",
              "        async function convertToInteractive(key) {\n",
              "          const element = document.querySelector('#df-171f1ba2-d9ba-4029-903f-ba761fa56da7');\n",
              "          const dataTable =\n",
              "            await google.colab.kernel.invokeFunction('convertToInteractive',\n",
              "                                                     [key], {});\n",
              "          if (!dataTable) return;\n",
              "\n",
              "          const docLinkHtml = 'Like what you see? Visit the ' +\n",
              "            '<a target=\"_blank\" href=https://colab.research.google.com/notebooks/data_table.ipynb>data table notebook</a>'\n",
              "            + ' to learn more about interactive tables.';\n",
              "          element.innerHTML = '';\n",
              "          dataTable['output_type'] = 'display_data';\n",
              "          await google.colab.output.renderOutput(dataTable, element);\n",
              "          const docLink = document.createElement('div');\n",
              "          docLink.innerHTML = docLinkHtml;\n",
              "          element.appendChild(docLink);\n",
              "        }\n",
              "      </script>\n",
              "    </div>\n",
              "  </div>\n",
              "  "
            ],
            "text/plain": [
              "  gender  age              topic      sign  \\\n",
              "0   male   15            Student       Leo   \n",
              "2   male   15            Student       Leo   \n",
              "3   male   15            Student       Leo   \n",
              "4   male   33  InvestmentBanking  Aquarius   \n",
              "5   male   33  InvestmentBanking  Aquarius   \n",
              "\n",
              "                                                text  \\\n",
              "0  info found 100 pages 45 mb pdf files wait unti...   \n",
              "2  het kader van kernfusie op aarde maak je eigen...   \n",
              "3                                    testing testing   \n",
              "4  thanks yahoos toolbar capture urls popupswhich...   \n",
              "5  interesting conversation dad morning talking k...   \n",
              "\n",
              "                                    labels  \n",
              "0                 [male, 15, Student, Leo]  \n",
              "2                 [male, 15, Student, Leo]  \n",
              "3                 [male, 15, Student, Leo]  \n",
              "4  [male, 33, InvestmentBanking, Aquarius]  \n",
              "5  [male, 33, InvestmentBanking, Aquarius]  "
            ]
          },
          "execution_count": 33,
          "metadata": {},
          "output_type": "execute_result"
        }
      ],
      "source": [
        "blog_df.head()"
      ]
    },
    {
      "cell_type": "markdown",
      "source": [
        "# **Now lets drop  gender,age,topic & sign as they are already merged to labels column**"
      ],
      "metadata": {
        "id": "AdRkcGOCJwAB"
      }
    },
    {
      "cell_type": "code",
      "execution_count": null,
      "metadata": {
        "id": "eKiOBgiHw3-Z"
      },
      "outputs": [],
      "source": [
        "blog_df.drop(columns=['gender','age','topic','sign'], axis=1, inplace=True)"
      ]
    },
    {
      "cell_type": "code",
      "execution_count": null,
      "metadata": {
        "colab": {
          "base_uri": "https://localhost:8080/",
          "height": 206
        },
        "id": "I2gsUEzjw4B1",
        "outputId": "9d688e31-fa71-453b-9672-e77d15793119"
      },
      "outputs": [
        {
          "data": {
            "text/html": [
              "\n",
              "  <div id=\"df-43c28000-0c9f-4a9e-bd7e-ff93328bff28\">\n",
              "    <div class=\"colab-df-container\">\n",
              "      <div>\n",
              "<style scoped>\n",
              "    .dataframe tbody tr th:only-of-type {\n",
              "        vertical-align: middle;\n",
              "    }\n",
              "\n",
              "    .dataframe tbody tr th {\n",
              "        vertical-align: top;\n",
              "    }\n",
              "\n",
              "    .dataframe thead th {\n",
              "        text-align: right;\n",
              "    }\n",
              "</style>\n",
              "<table border=\"1\" class=\"dataframe\">\n",
              "  <thead>\n",
              "    <tr style=\"text-align: right;\">\n",
              "      <th></th>\n",
              "      <th>text</th>\n",
              "      <th>labels</th>\n",
              "    </tr>\n",
              "  </thead>\n",
              "  <tbody>\n",
              "    <tr>\n",
              "      <th>0</th>\n",
              "      <td>info found 100 pages 45 mb pdf files wait unti...</td>\n",
              "      <td>[male, 15, Student, Leo]</td>\n",
              "    </tr>\n",
              "    <tr>\n",
              "      <th>2</th>\n",
              "      <td>het kader van kernfusie op aarde maak je eigen...</td>\n",
              "      <td>[male, 15, Student, Leo]</td>\n",
              "    </tr>\n",
              "    <tr>\n",
              "      <th>3</th>\n",
              "      <td>testing testing</td>\n",
              "      <td>[male, 15, Student, Leo]</td>\n",
              "    </tr>\n",
              "    <tr>\n",
              "      <th>4</th>\n",
              "      <td>thanks yahoos toolbar capture urls popupswhich...</td>\n",
              "      <td>[male, 33, InvestmentBanking, Aquarius]</td>\n",
              "    </tr>\n",
              "    <tr>\n",
              "      <th>5</th>\n",
              "      <td>interesting conversation dad morning talking k...</td>\n",
              "      <td>[male, 33, InvestmentBanking, Aquarius]</td>\n",
              "    </tr>\n",
              "  </tbody>\n",
              "</table>\n",
              "</div>\n",
              "      <button class=\"colab-df-convert\" onclick=\"convertToInteractive('df-43c28000-0c9f-4a9e-bd7e-ff93328bff28')\"\n",
              "              title=\"Convert this dataframe to an interactive table.\"\n",
              "              style=\"display:none;\">\n",
              "        \n",
              "  <svg xmlns=\"http://www.w3.org/2000/svg\" height=\"24px\"viewBox=\"0 0 24 24\"\n",
              "       width=\"24px\">\n",
              "    <path d=\"M0 0h24v24H0V0z\" fill=\"none\"/>\n",
              "    <path d=\"M18.56 5.44l.94 2.06.94-2.06 2.06-.94-2.06-.94-.94-2.06-.94 2.06-2.06.94zm-11 1L8.5 8.5l.94-2.06 2.06-.94-2.06-.94L8.5 2.5l-.94 2.06-2.06.94zm10 10l.94 2.06.94-2.06 2.06-.94-2.06-.94-.94-2.06-.94 2.06-2.06.94z\"/><path d=\"M17.41 7.96l-1.37-1.37c-.4-.4-.92-.59-1.43-.59-.52 0-1.04.2-1.43.59L10.3 9.45l-7.72 7.72c-.78.78-.78 2.05 0 2.83L4 21.41c.39.39.9.59 1.41.59.51 0 1.02-.2 1.41-.59l7.78-7.78 2.81-2.81c.8-.78.8-2.07 0-2.86zM5.41 20L4 18.59l7.72-7.72 1.47 1.35L5.41 20z\"/>\n",
              "  </svg>\n",
              "      </button>\n",
              "      \n",
              "  <style>\n",
              "    .colab-df-container {\n",
              "      display:flex;\n",
              "      flex-wrap:wrap;\n",
              "      gap: 12px;\n",
              "    }\n",
              "\n",
              "    .colab-df-convert {\n",
              "      background-color: #E8F0FE;\n",
              "      border: none;\n",
              "      border-radius: 50%;\n",
              "      cursor: pointer;\n",
              "      display: none;\n",
              "      fill: #1967D2;\n",
              "      height: 32px;\n",
              "      padding: 0 0 0 0;\n",
              "      width: 32px;\n",
              "    }\n",
              "\n",
              "    .colab-df-convert:hover {\n",
              "      background-color: #E2EBFA;\n",
              "      box-shadow: 0px 1px 2px rgba(60, 64, 67, 0.3), 0px 1px 3px 1px rgba(60, 64, 67, 0.15);\n",
              "      fill: #174EA6;\n",
              "    }\n",
              "\n",
              "    [theme=dark] .colab-df-convert {\n",
              "      background-color: #3B4455;\n",
              "      fill: #D2E3FC;\n",
              "    }\n",
              "\n",
              "    [theme=dark] .colab-df-convert:hover {\n",
              "      background-color: #434B5C;\n",
              "      box-shadow: 0px 1px 3px 1px rgba(0, 0, 0, 0.15);\n",
              "      filter: drop-shadow(0px 1px 2px rgba(0, 0, 0, 0.3));\n",
              "      fill: #FFFFFF;\n",
              "    }\n",
              "  </style>\n",
              "\n",
              "      <script>\n",
              "        const buttonEl =\n",
              "          document.querySelector('#df-43c28000-0c9f-4a9e-bd7e-ff93328bff28 button.colab-df-convert');\n",
              "        buttonEl.style.display =\n",
              "          google.colab.kernel.accessAllowed ? 'block' : 'none';\n",
              "\n",
              "        async function convertToInteractive(key) {\n",
              "          const element = document.querySelector('#df-43c28000-0c9f-4a9e-bd7e-ff93328bff28');\n",
              "          const dataTable =\n",
              "            await google.colab.kernel.invokeFunction('convertToInteractive',\n",
              "                                                     [key], {});\n",
              "          if (!dataTable) return;\n",
              "\n",
              "          const docLinkHtml = 'Like what you see? Visit the ' +\n",
              "            '<a target=\"_blank\" href=https://colab.research.google.com/notebooks/data_table.ipynb>data table notebook</a>'\n",
              "            + ' to learn more about interactive tables.';\n",
              "          element.innerHTML = '';\n",
              "          dataTable['output_type'] = 'display_data';\n",
              "          await google.colab.output.renderOutput(dataTable, element);\n",
              "          const docLink = document.createElement('div');\n",
              "          docLink.innerHTML = docLinkHtml;\n",
              "          element.appendChild(docLink);\n",
              "        }\n",
              "      </script>\n",
              "    </div>\n",
              "  </div>\n",
              "  "
            ],
            "text/plain": [
              "                                                text  \\\n",
              "0  info found 100 pages 45 mb pdf files wait unti...   \n",
              "2  het kader van kernfusie op aarde maak je eigen...   \n",
              "3                                    testing testing   \n",
              "4  thanks yahoos toolbar capture urls popupswhich...   \n",
              "5  interesting conversation dad morning talking k...   \n",
              "\n",
              "                                    labels  \n",
              "0                 [male, 15, Student, Leo]  \n",
              "2                 [male, 15, Student, Leo]  \n",
              "3                 [male, 15, Student, Leo]  \n",
              "4  [male, 33, InvestmentBanking, Aquarius]  \n",
              "5  [male, 33, InvestmentBanking, Aquarius]  "
            ]
          },
          "execution_count": 35,
          "metadata": {},
          "output_type": "execute_result"
        }
      ],
      "source": [
        "blog_df.head()"
      ]
    },
    {
      "cell_type": "markdown",
      "source": [
        "# **Now lets define x and y value to train the model for traing and testing**"
      ],
      "metadata": {
        "id": "HihuFYCwJ6Zo"
      }
    },
    {
      "cell_type": "code",
      "execution_count": null,
      "metadata": {
        "id": "wLs2XrZhw4FW"
      },
      "outputs": [],
      "source": [
        "X= blog_df.text\n",
        "y = blog_df.labels"
      ]
    },
    {
      "cell_type": "code",
      "execution_count": null,
      "metadata": {
        "id": "73Qf6Sfcw4Iv"
      },
      "outputs": [],
      "source": [
        "X_train, X_test, y_train, y_test = train_test_split(X,y, random_state=2,test_size = 0.2)"
      ]
    },
    {
      "cell_type": "code",
      "execution_count": null,
      "metadata": {
        "colab": {
          "base_uri": "https://localhost:8080/"
        },
        "id": "H7pooFM71M-m",
        "outputId": "50612f53-6836-4c90-f38b-b8a4255df04b"
      },
      "outputs": [
        {
          "name": "stdout",
          "output_type": "stream",
          "text": [
            "(76440,)\n",
            "(76440,)\n"
          ]
        }
      ],
      "source": [
        "print(X_train.shape)\n",
        "print(y_train.shape)"
      ]
    },
    {
      "cell_type": "code",
      "execution_count": null,
      "metadata": {
        "colab": {
          "base_uri": "https://localhost:8080/"
        },
        "id": "eCOE-Brn1NBr",
        "outputId": "b6ff3775-b90f-45d9-87b8-34800b189b37"
      },
      "outputs": [
        {
          "name": "stdout",
          "output_type": "stream",
          "text": [
            "(19111,)\n",
            "(19111,)\n"
          ]
        }
      ],
      "source": [
        "print(X_test.shape)\n",
        "print(y_test.shape)"
      ]
    },
    {
      "cell_type": "code",
      "execution_count": null,
      "metadata": {
        "colab": {
          "base_uri": "https://localhost:8080/"
        },
        "id": "4C0Tdcw61NE1",
        "outputId": "4324e83f-eb6c-4f4d-f9e1-06010d14b117"
      },
      "outputs": [
        {
          "data": {
            "text/plain": [
              "568      today eldest turning 14 though mothers suppose...\n",
              "80720    event andrea bocellis concert venue singapore ...\n",
              "28888    ahjust doctor ordered long holiday rest really...\n",
              "21165    idea happened hmm whatever im sorry ya goes yo...\n",
              "80381    ok verdict im going send care package figure g...\n",
              "                               ...                        \n",
              "45629    another weekend another wasted couple days har...\n",
              "22278    lust passion sensuality love think extremely i...\n",
              "88175    urllink macromedia edge rich clients internet ...\n",
              "81692    waiting foodits least five minutes since last ...\n",
              "25729    yesterday began first week going dance classes...\n",
              "Name: text, Length: 19111, dtype: object"
            ]
          },
          "execution_count": 40,
          "metadata": {},
          "output_type": "execute_result"
        }
      ],
      "source": [
        "X_test"
      ]
    },
    {
      "cell_type": "markdown",
      "source": [
        "# So here we are going to use CountVectorizer and then we'll feed data to countvectorizer"
      ],
      "metadata": {
        "id": "k7lTGqR7KHZS"
      }
    },
    {
      "cell_type": "code",
      "execution_count": null,
      "metadata": {
        "id": "XdLnNTY21NH8"
      },
      "outputs": [],
      "source": [
        "cvect = CountVectorizer(ngram_range=(1,2))"
      ]
    },
    {
      "cell_type": "markdown",
      "source": [
        "# Now also check the vocablury size and feed the data"
      ],
      "metadata": {
        "id": "ftj2cTA1KXqN"
      }
    },
    {
      "cell_type": "code",
      "execution_count": null,
      "metadata": {
        "colab": {
          "base_uri": "https://localhost:8080/"
        },
        "id": "w8hhvavT1NLP",
        "outputId": "aafe6056-8316-4857-814c-e380f9dc4145"
      },
      "outputs": [
        {
          "data": {
            "text/plain": [
              "4444810"
            ]
          },
          "execution_count": 42,
          "metadata": {},
          "output_type": "execute_result"
        }
      ],
      "source": [
        "\n",
        "cvect.fit(X_train)\n",
        "\n",
        "\n",
        "len(cvect.vocabulary_)"
      ]
    },
    {
      "cell_type": "code",
      "execution_count": null,
      "metadata": {
        "colab": {
          "base_uri": "https://localhost:8080/"
        },
        "id": "Wfy1_q3E1NOG",
        "outputId": "dbbd3ed9-1c67-49ed-ef37-12f4a073492f"
      },
      "outputs": [
        {
          "data": {
            "text/plain": [
              "['00',\n",
              " '00 04',\n",
              " '00 damn',\n",
              " '00 dodge',\n",
              " '00 doesnt',\n",
              " '00 dont',\n",
              " '00 draw',\n",
              " '00 duke',\n",
              " '00 games',\n",
              " '00 laughed',\n",
              " '00 mark',\n",
              " '00 match',\n",
              " '00 morning',\n",
              " '00 one',\n",
              " '00 really',\n",
              " '00 silver',\n",
              " '00 sometimes',\n",
              " '00 soooooo',\n",
              " '00 sq',\n",
              " '00 tie',\n",
              " '00 uppercase_75_100',\n",
              " '00 watch',\n",
              " '00 well',\n",
              " '000',\n",
              " '000 address',\n",
              " '000 available',\n",
              " '000 best',\n",
              " '000 calories',\n",
              " '000 cheaper',\n",
              " '000 cheers',\n",
              " '000 chunk',\n",
              " '000 comptes',\n",
              " '000 could',\n",
              " '000 duration',\n",
              " '000 et',\n",
              " '000 first',\n",
              " '000 ft',\n",
              " '000 fulltime',\n",
              " '000 good',\n",
              " '000 heh',\n",
              " '000 leaving',\n",
              " '000 nothing',\n",
              " '000 odd',\n",
              " '000 people',\n",
              " '000 rupees',\n",
              " '000 seats',\n",
              " '000 sec',\n",
              " '000 seems',\n",
              " '000 straight',\n",
              " '000 subject',\n",
              " '000 thats',\n",
              " '000 trees',\n",
              " '000 years',\n",
              " '000 yen',\n",
              " '0000',\n",
              " '0000 arent',\n",
              " '0000 blinking',\n",
              " '0000 hopefully',\n",
              " '0000 hrs',\n",
              " '0000 new',\n",
              " '0000 showed',\n",
              " '0000 subject',\n",
              " '000000',\n",
              " '000000 flickrframe',\n",
              " '000000 fontfamily',\n",
              " '000000 fontsize',\n",
              " '000000 zero',\n",
              " '00000000345',\n",
              " '00000000345 secs',\n",
              " '00000001',\n",
              " '00000001 second',\n",
              " '0000001',\n",
              " '0000001 zbaras',\n",
              " '000000flickryourcomment',\n",
              " '000000flickryourcomment flickrframe',\n",
              " '000000this',\n",
              " '000000this certifies',\n",
              " '000001',\n",
              " '000001 maybe',\n",
              " '00000800',\n",
              " '00001',\n",
              " '00001 point',\n",
              " '000021php',\n",
              " '000021php less',\n",
              " '00005',\n",
              " '00005 secs',\n",
              " '0000ff',\n",
              " '0000ff click',\n",
              " '0000ff fontsize',\n",
              " '0001',\n",
              " '0001 chances',\n",
              " '0001 nice',\n",
              " '00011000101',\n",
              " '00011000101 benji',\n",
              " '000264',\n",
              " '000264 31058',\n",
              " '0005',\n",
              " '0005 seconds',\n",
              " '0006',\n",
              " '0006 females',\n",
              " '000nbsp',\n",
              " '000nbsp list',\n",
              " '001',\n",
              " '001 003',\n",
              " '001 first',\n",
              " '001 population',\n",
              " '001 seconds',\n",
              " '001 spell',\n",
              " '001 teacher',\n",
              " '001 time',\n",
              " '001 urllink',\n",
              " '0010',\n",
              " '0010 fell',\n",
              " '001003',\n",
              " '001003 2004',\n",
              " '00101110010101101101001110100100101010001',\n",
              " '00101110010101101101001110100100101010001 exitexe',\n",
              " '00145',\n",
              " '00145 percent',\n",
              " '0015',\n",
              " '0015 15',\n",
              " '001875',\n",
              " '001875 plugging',\n",
              " '002',\n",
              " '002 candidates',\n",
              " '002 currently',\n",
              " '002 first',\n",
              " '002 middle',\n",
              " '002 spell',\n",
              " '002 thank',\n",
              " '002 urllink',\n",
              " '002 words',\n",
              " '002020',\n",
              " '002020 gmt',\n",
              " '0020hrs',\n",
              " '0020hrs nowhaasyupxim',\n",
              " '0020hrs woke',\n",
              " '0022',\n",
              " '0022 right',\n",
              " '0029215218',\n",
              " '0029215218 pp',\n",
              " '003',\n",
              " '003 date',\n",
              " '003 im',\n",
              " '003 last',\n",
              " '003 mg',\n",
              " '003 urllink',\n",
              " '0030',\n",
              " '0030 morning',\n",
              " '003247',\n",
              " '003247 2004',\n",
              " '0035',\n",
              " '0035 kwires',\n",
              " '004',\n",
              " '004 interest',\n",
              " '004 male',\n",
              " '004 nicknames',\n",
              " '004 urllink',\n",
              " '0041',\n",
              " '004406',\n",
              " '004406 2004',\n",
              " '004417',\n",
              " '004417 2004',\n",
              " '0045',\n",
              " '0045 email',\n",
              " '0045 havent',\n",
              " '0045 thats',\n",
              " '004509',\n",
              " '004509 2004',\n",
              " '004710',\n",
              " '004710 2004',\n",
              " '004745',\n",
              " '004745 2004',\n",
              " '004751',\n",
              " '004751 2004',\n",
              " '005',\n",
              " '005 astrological',\n",
              " '005 euroes',\n",
              " '005 eurosnbsp',\n",
              " '005 gender',\n",
              " '005 mph',\n",
              " '005 per',\n",
              " '005 pretty',\n",
              " '005 urllink',\n",
              " '0053',\n",
              " '0053 considering',\n",
              " '006',\n",
              " '006 age',\n",
              " '006 birthday',\n",
              " '006 nicknames',\n",
              " '006 urllink',\n",
              " '0060161922',\n",
              " '0060161922 pp',\n",
              " '0060521996',\n",
              " '0064',\n",
              " '0064 identified',\n",
              " '0064 shall',\n",
              " '0067',\n",
              " '0067 would',\n",
              " '007',\n",
              " '007 actor',\n",
              " '007 actually',\n",
              " '007 also',\n",
              " '007 arent',\n",
              " '007 birthday',\n",
              " '007 bit',\n",
              " '007 dance',\n",
              " '007 dun',\n",
              " '007 financial',\n",
              " '007 freaking',\n",
              " '007 game',\n",
              " '007 gets',\n",
              " '007 go',\n",
              " '007 going',\n",
              " '007 good',\n",
              " '007 height',\n",
              " '007 hope',\n",
              " '007 internet',\n",
              " '007 jennifer',\n",
              " '007 jersey',\n",
              " '007 last',\n",
              " '007 like',\n",
              " '007 logo',\n",
              " '007 nbsp',\n",
              " '007 nightfire',\n",
              " '007 occupation',\n",
              " '007 pictures',\n",
              " '007 said',\n",
              " '007 see',\n",
              " '007 serious',\n",
              " '007 sharing',\n",
              " '007 since',\n",
              " '007 tell',\n",
              " '007 today',\n",
              " '007 undocumentables',\n",
              " '007 well',\n",
              " '007 would',\n",
              " '00734',\n",
              " '00734 wait',\n",
              " '007well',\n",
              " '007well really',\n",
              " '008',\n",
              " '008 hair',\n",
              " '008 height',\n",
              " '008 pt',\n",
              " '009',\n",
              " '009 eye',\n",
              " '009 hair',\n",
              " '009 weight',\n",
              " '0097',\n",
              " '0097 compliment',\n",
              " '00h',\n",
              " '00h done',\n",
              " '00h later',\n",
              " '00note__',\n",
              " '00note__ notes',\n",
              " '00s',\n",
              " '00s one',\n",
              " '00s pretty',\n",
              " '00s remeber',\n",
              " '00s thats',\n",
              " '00s theres',\n",
              " '00skate',\n",
              " '00skate rage',\n",
              " '00t',\n",
              " '00t damn',\n",
              " '01',\n",
              " '01 02',\n",
              " '01 101102',\n",
              " '01 11',\n",
              " '01 115',\n",
              " '01 1211',\n",
              " '01 1964',\n",
              " '01 1972',\n",
              " '01 2003',\n",
              " '01 2004',\n",
              " '01 203',\n",
              " '01 309',\n",
              " '01 357',\n",
              " '01 across',\n",
              " '01 best',\n",
              " '01 bette',\n",
              " '01 bluetooth',\n",
              " '01 bright',\n",
              " '01 broccoli',\n",
              " '01 butterfly',\n",
              " '01 camaro',\n",
              " '01 cell',\n",
              " '01 charge',\n",
              " '01 chartersorry',\n",
              " '01 close',\n",
              " '01 color',\n",
              " '01 colorful',\n",
              " '01 cows',\n",
              " '01 disrespectful',\n",
              " '01 drugs',\n",
              " '01 favorite',\n",
              " '01 four',\n",
              " '01 freedom',\n",
              " '01 friends',\n",
              " '01 full',\n",
              " '01 given',\n",
              " '01 goofy',\n",
              " '01 gsm',\n",
              " '01 hammy',\n",
              " '01 hehehe',\n",
              " '01 informs',\n",
              " '01 issues',\n",
              " '01 jewel',\n",
              " '01 judging',\n",
              " '01 keyboard',\n",
              " '01 known',\n",
              " '01 leen',\n",
              " '01 means',\n",
              " '01 miles',\n",
              " '01 minds',\n",
              " '01 mp3',\n",
              " '01 neon',\n",
              " '01 nope',\n",
              " '01 pants',\n",
              " '01 percent',\n",
              " '01 person',\n",
              " '01 project',\n",
              " '01 release',\n",
              " '01 role',\n",
              " '01 seconds',\n",
              " '01 serena',\n",
              " '01 still',\n",
              " '01 story',\n",
              " '01 strike',\n",
              " '01 sundrop',\n",
              " '01 televive',\n",
              " '01 thecurehalo',\n",
              " '01 time',\n",
              " '01 toxic',\n",
              " '01 underworld',\n",
              " '01 victoria',\n",
              " '01 waiting',\n",
              " '01 watch',\n",
              " '01 whats',\n",
              " '01 我的地盤',\n",
              " '010',\n",
              " '010 10',\n",
              " '010 answer',\n",
              " '010 big',\n",
              " '010 custom',\n",
              " '010 customer',\n",
              " '010 eye',\n",
              " '010 flashing',\n",
              " '010 hair',\n",
              " '010 national',\n",
              " '010 never',\n",
              " '010 wear',\n",
              " '0100',\n",
              " '0100 banana',\n",
              " '0100 constructiveness',\n",
              " '0100 hrs',\n",
              " '0100 sleep',\n",
              " '0100 time',\n",
              " '0100 wokeup',\n",
              " '010000oh',\n",
              " '010000oh one',\n",
              " '0100hrunexpectedlymy',\n",
              " '0100hrunexpectedlymy papa',\n",
              " '0100kmh',\n",
              " '0100kmh 44',\n",
              " '010101',\n",
              " '010101 2004',\n",
              " '010101 last',\n",
              " '010101 personal',\n",
              " '01012346',\n",
              " '01012346 course',\n",
              " '0102',\n",
              " '0102 man',\n",
              " '0102 north',\n",
              " '0102 season',\n",
              " '010207',\n",
              " '010207 2004',\n",
              " '010404',\n",
              " '010404 bloody',\n",
              " '010404 yeah',\n",
              " '010504',\n",
              " '010504 may',\n",
              " '010804',\n",
              " '010804 bit',\n",
              " '01081997',\n",
              " '01081997 01082004its',\n",
              " '01082004',\n",
              " '01082004 apples',\n",
              " '01082004 celebrate',\n",
              " '01082004its',\n",
              " '01082004its 7yrs',\n",
              " '010902',\n",
              " '010902 work',\n",
              " '010haa',\n",
              " '010haa haa',\n",
              " '011',\n",
              " '011 braces',\n",
              " '011 eye',\n",
              " '011 nbsp',\n",
              " '011 points',\n",
              " '011 race',\n",
              " '011 uich',\n",
              " '011110am',\n",
              " '011110am mobynathan',\n",
              " '011117am',\n",
              " '011117am mobynathan',\n",
              " '011136am',\n",
              " '011136am jaggonmaster',\n",
              " '011390669882122',\n",
              " '011390669882122 message',\n",
              " '011607',\n",
              " '011607 think',\n",
              " '011615am',\n",
              " '011615am mobynathan',\n",
              " '011646am',\n",
              " '011646am madsh00ter',\n",
              " '0117',\n",
              " '0117 4452271145527',\n",
              " '011723am',\n",
              " '011723am madsh00ter',\n",
              " '011732am',\n",
              " '011732am jaggonmaster',\n",
              " '011732am mobynathan',\n",
              " '011785',\n",
              " '011785 45227',\n",
              " '011843am',\n",
              " '011843am madsh00ter',\n",
              " '01187',\n",
              " '01187 _______________________',\n",
              " '011932am',\n",
              " '011932am madsh00ter',\n",
              " '011936am',\n",
              " '011936am madsh00ter',\n",
              " '011937am',\n",
              " '011937am mobynathan',\n",
              " '011939am',\n",
              " '011939am madsh00ter',\n",
              " '011940am',\n",
              " '011940am mobynathan',\n",
              " '012',\n",
              " '012 born',\n",
              " '012 glasses',\n",
              " '012 hair',\n",
              " '012 last',\n",
              " '01202004',\n",
              " '01202004 larissa',\n",
              " '012022',\n",
              " '012022 2004',\n",
              " '012043',\n",
              " '012043 2004',\n",
              " '01212004',\n",
              " '01212004 therese',\n",
              " '01252004',\n",
              " '01252004 english',\n",
              " '012604',\n",
              " '012604 would',\n",
              " '012834',\n",
              " '012834 2004',\n",
              " '01299',\n",
              " '01299 402114',\n",
              " '01299 403816',\n",
              " '013',\n",
              " '013 born',\n",
              " '013 dodid',\n",
              " '013 give',\n",
              " '013 inch',\n",
              " '013 micron',\n",
              " '013 reside',\n",
              " '0130',\n",
              " '0130 morningnbsp',\n",
              " '0130 watch',\n",
              " '0130 watched',\n",
              " '013054',\n",
              " '013054 2004',\n",
              " '0131',\n",
              " '0131 gmt',\n",
              " '013528',\n",
              " '013528 2004',\n",
              " '013616',\n",
              " '013616 2004',\n",
              " '013626',\n",
              " '013626 2004',\n",
              " '013936',\n",
              " '013936 2004',\n",
              " '013944',\n",
              " '013944 2004',\n",
              " '014',\n",
              " '014 age',\n",
              " '014 current',\n",
              " '014 hair',\n",
              " '0142662566',\n",
              " '0142662566 number',\n",
              " '014357am',\n",
              " '014357am madsh00ter',\n",
              " '015',\n",
              " '015 born',\n",
              " '015 course',\n",
              " '015 gallon',\n",
              " '015 screen',\n",
              " '015 zodiac',\n",
              " '01562',\n",
              " '01562 66270',\n",
              " '01562 67148',\n",
              " '01562 820041',\n",
              " '01562nbspnbspnbspnbspnbspnbspnbspnbspnbspnbspnbspnbspnbspnbsp',\n",
              " '01562nbspnbspnbspnbspnbspnbspnbspnbspnbspnbspnbspnbspnbspnbsp pop',\n",
              " '016',\n",
              " '016 current',\n",
              " '016 email',\n",
              " '016 many',\n",
              " '016 per',\n",
              " '017',\n",
              " '017 entire',\n",
              " '017 hour',\n",
              " '017 laungage',\n",
              " '017 screen',\n",
              " '017 zodiac',\n",
              " '01752',\n",
              " '01752 224840',\n",
              " '018',\n",
              " '018 bad',\n",
              " '018 cleveland',\n",
              " '018 djgj',\n",
              " '018 many',\n",
              " '019',\n",
              " '019 diary',\n",
              " '019 nationality',\n",
              " '019 piercing',\n",
              " '01birdjpg',\n",
              " '01birdjpg urllink',\n",
              " '01jill',\n",
              " '01jill sims',\n",
              " '01july04',\n",
              " '01july04 ripped',\n",
              " '01nov',\n",
              " '01nov 30',\n",
              " '01sep',\n",
              " '01sep subtracted',\n",
              " '01sep04',\n",
              " '01sep04 remember',\n",
              " '01sportslocal40bcccb655d6315d86256ee2001cbc29txt',\n",
              " '01sportslocal40bcccb655d6315d86256ee2001cbc29txt yesterday',\n",
              " '01when',\n",
              " '01when younger',\n",
              " '01x',\n",
              " '01x series',\n",
              " '01x urllink',\n",
              " '02',\n",
              " '02 03',\n",
              " '02 1964',\n",
              " '02 2002',\n",
              " '02 2004',\n",
              " '02 221430',\n",
              " '02 222425',\n",
              " '02 222803',\n",
              " '02 222812',\n",
              " '02 233531',\n",
              " '02 86',\n",
              " '02 9550',\n",
              " '02 added',\n",
              " '02 ali',\n",
              " '02 annoying',\n",
              " '02 argue',\n",
              " '02 august',\n",
              " '02 beyonce',\n",
              " '02 blackwhite',\n",
              " '02 boyfriendgirlfriend',\n",
              " '02 britney',\n",
              " '02 cents',\n",
              " '02 changes',\n",
              " '02 character',\n",
              " '02 cheerwine',\n",
              " '02 color',\n",
              " '02 could',\n",
              " '02 count',\n",
              " '02 darryl',\n",
              " '02 day',\n",
              " '02 deadbeat',\n",
              " '02 dj',\n",
              " '02 dont',\n",
              " '02 dork',\n",
              " '02 dumb',\n",
              " '02 faced',\n",
              " '02 fear',\n",
              " '02 florida',\n",
              " '02 food',\n",
              " '02 franzferdinandtakemeout',\n",
              " '02 geography',\n",
              " '02 group',\n",
              " '02 hits',\n",
              " '02 hope',\n",
              " '02 im',\n",
              " '02 iraq',\n",
              " '02 june',\n",
              " '02 keyboard',\n",
              " '02 kg',\n",
              " '02 kind',\n",
              " '02 last',\n",
              " '02 lott',\n",
              " '02 lucky',\n",
              " '02 magic',\n",
              " '02 mama',\n",
              " '02 may',\n",
              " '02 maybe',\n",
              " '02 meet',\n",
              " '02 messages',\n",
              " '02 miles',\n",
              " '02 movies',\n",
              " '02 nbspnbspnbspnbspnbspnbspnbspnbsp',\n",
              " '02 nice',\n",
              " '02 nissan',\n",
              " '02 one',\n",
              " '02 original',\n",
              " '02 percent',\n",
              " '02 personal',\n",
              " '02 pet',\n",
              " '02 pics',\n",
              " '02 plenty',\n",
              " '02 points',\n",
              " '02 rascal',\n",
              " '02 released',\n",
              " '02 republicans',\n",
              " '02 right',\n",
              " '02 sat',\n",
              " '02 shorts',\n",
              " '02 show',\n",
              " '02 simpsons',\n",
              " '02 slab',\n",
              " '02 smoked',\n",
              " '02 statement',\n",
              " '02 still',\n",
              " '02 super',\n",
              " '02 tattoos',\n",
              " '02 think',\n",
              " '02 trips',\n",
              " '02 twister',\n",
              " '02 weakest',\n",
              " '02 weve',\n",
              " '02 wilding',\n",
              " '02 win',\n",
              " '02 windup',\n",
              " '02 would',\n",
              " '02 七里香',\n",
              " '020',\n",
              " '020 bad',\n",
              " '020 could',\n",
              " '020 even',\n",
              " '020 pets',\n",
              " '020 piercing',\n",
              " '0200',\n",
              " '0200 didnt',\n",
              " '0200 hrs',\n",
              " '0200 watching',\n",
              " '0200 went',\n",
              " '0200 zzz',\n",
              " '020031',\n",
              " '020031 pm',\n",
              " '0200hrtido',\n",
              " '0200hrtido dulu',\n",
              " '020101',\n",
              " '020101 clubs',\n",
              " '0203',\n",
              " '0203 arsenal',\n",
              " '0203 financial',\n",
              " '0203 getting',\n",
              " '0203 inland',\n",
              " '020304',\n",
              " '020304 115423',\n",
              " '02042004',\n",
              " '02042004 end',\n",
              " '020604',\n",
              " '020604 went',\n",
              " '020804',\n",
              " '020804 2004',\n",
              " '020903',\n",
              " '020903 gonna',\n",
              " '021',\n",
              " '021 ill',\n",
              " '021 number',\n",
              " '021 piercings',\n",
              " '021 tattoos',\n",
              " '021 totally',\n",
              " '02109',\n",
              " '02109 number',\n",
              " '021144',\n",
              " '021144 2004',\n",
              " '02115',\n",
              " '02118',\n",
              " '02118 gmodestpartnersorg',\n",
              " '021306',\n",
              " '021306 2004',\n",
              " '021320',\n",
              " '021320 link',\n",
              " '021405',\n",
              " '021405 2004',\n",
              " '021518',\n",
              " '021518 2004',\n",
              " '02162003',\n",
              " '02162003 essential',\n",
              " '0217',\n",
              " '0217 pm',\n",
              " '0218',\n",
              " '0218 pm',\n",
              " '0219',\n",
              " '0219 pm',\n",
              " '022',\n",
              " '022 looks',\n",
              " '022 piercings',\n",
              " '022 µu',\n",
              " '0220',\n",
              " '0220 pm',\n",
              " '0221',\n",
              " '0221 pm',\n",
              " '0222',\n",
              " '0222 pm',\n",
              " '022227',\n",
              " '022227 2004',\n",
              " '0223',\n",
              " '0223 pm',\n",
              " '0224',\n",
              " '0224 pm',\n",
              " '0225',\n",
              " '0225 pm',\n",
              " '0225 reverse',\n",
              " '0226',\n",
              " '0226 pm',\n",
              " '022600',\n",
              " '022600 2004',\n",
              " '022650',\n",
              " '022650 2004',\n",
              " '022654',\n",
              " '022654 2004',\n",
              " '0227',\n",
              " '0227 pm',\n",
              " '022745',\n",
              " '022745 2004',\n",
              " '0228',\n",
              " '0228 pm',\n",
              " '0229',\n",
              " '0229 pm',\n",
              " '023',\n",
              " '023 released',\n",
              " '023 tattoos',\n",
              " '023 today',\n",
              " '0230',\n",
              " '0230 oni',\n",
              " '0230 pm',\n",
              " '0230 reminded',\n",
              " '0231',\n",
              " '0231 pm',\n",
              " '023129',\n",
              " '023129 2004',\n",
              " '0232',\n",
              " '0232 pm',\n",
              " '023254',\n",
              " '023254 2004',\n",
              " '0233',\n",
              " '0233 pm',\n",
              " '023307',\n",
              " '023307 2004',\n",
              " '0234',\n",
              " '0234 pm',\n",
              " '0235',\n",
              " '0235 pm',\n",
              " '0236',\n",
              " '0236 pm',\n",
              " '0237',\n",
              " '0237 ian',\n",
              " '0237 pm',\n",
              " '023732',\n",
              " '023732 pm',\n",
              " '023746',\n",
              " '023746 pm',\n",
              " '023755',\n",
              " '023755 pm',\n",
              " '0238',\n",
              " '0238 pm',\n",
              " '023800',\n",
              " '023800 pm',\n",
              " '023801',\n",
              " '023801 pm',\n",
              " '023808',\n",
              " '023808 pm',\n",
              " '023847',\n",
              " '023847 pm',\n",
              " '023939',\n",
              " '023939 pm',\n",
              " '023946',\n",
              " '023946 pm',\n",
              " '023947',\n",
              " '023947 pm',\n",
              " '023f5unthat',\n",
              " '023f5unthat sarah',\n",
              " '024',\n",
              " '024 friday',\n",
              " '024 shoe',\n",
              " '024 tattoos',\n",
              " '024 todays',\n",
              " '0240',\n",
              " '0240 pm',\n",
              " '024009',\n",
              " '024009 pm',\n",
              " '0241',\n",
              " '0241 pm',\n",
              " '024201',\n",
              " '024201 pm',\n",
              " '0243',\n",
              " '0243 pm',\n",
              " '0244',\n",
              " '0244 pm',\n",
              " '0245',\n",
              " '0245 pm',\n",
              " '024528am',\n",
              " '024528am jaggonmaster',\n",
              " '0246',\n",
              " '0246 pm',\n",
              " '0247',\n",
              " '0247 pm',\n",
              " '024716',\n",
              " '024716 pm',\n",
              " '024723',\n",
              " '024723 pm',\n",
              " '0248',\n",
              " '0248 pm',\n",
              " '024908',\n",
              " '024908 pm',\n",
              " '025',\n",
              " '025 050',\n",
              " '025 liability',\n",
              " '025 righty',\n",
              " '025 seconds',\n",
              " '025 time',\n",
              " '025 todays',\n",
              " '0250',\n",
              " '0250 pm',\n",
              " '025050',\n",
              " '025050 blind',\n",
              " '0250h',\n",
              " '0250h ive',\n",
              " '0251',\n",
              " '0251 pm',\n",
              " '025117',\n",
              " '025117 2004',\n",
              " '0252',\n",
              " '0252 pm',\n",
              " '0253',\n",
              " '0253 pm',\n",
              " '0254',\n",
              " '0254 pm',\n",
              " '0255',\n",
              " '0255 pm',\n",
              " '025613',\n",
              " '025613 pm',\n",
              " '0257',\n",
              " '0257 pm',\n",
              " '025710',\n",
              " '025710 2004',\n",
              " '025713',\n",
              " '025713 2004',\n",
              " '0258',\n",
              " '0258 pm',\n",
              " '025805',\n",
              " '025805 2004',\n",
              " '025808',\n",
              " '025808 2004',\n",
              " '026',\n",
              " '026 main',\n",
              " '026 percent',\n",
              " '026 ready',\n",
              " '026 time',\n",
              " '026 wearing',\n",
              " '026119',\n",
              " '026119 63',\n",
              " '026903116',\n",
              " '026903116 nbsp',\n",
              " '026hr',\n",
              " '026hr raise',\n",
              " '027',\n",
              " '027 hearing',\n",
              " '027 mothers',\n",
              " '027 ready',\n",
              " '027604303',\n",
              " '027604303 ref',\n",
              " '027623577',\n",
              " '027623577 027604303',\n",
              " '028',\n",
              " '028 fathers',\n",
              " '028 feeling',\n",
              " '028 mothers',\n",
              " '028 plus',\n",
              " '029',\n",
              " '029 brothers',\n",
              " '029 eatingdrinking',\n",
              " '029 fathers',\n",
              " '029jpg',\n",
              " '029jpg urllink',\n",
              " '02haizmissed',\n",
              " '02haizmissed class',\n",
              " '02ip',\n",
              " '02ip 6750',\n",
              " '02july04',\n",
              " '02july04 week',\n",
              " '03',\n",
              " '03 013936',\n",
              " '03 013944',\n",
              " '03 02haizmissed',\n",
              " '03 04',\n",
              " '03 165336',\n",
              " '03 172515',\n",
              " '03 174546',\n",
              " '03 1972',\n",
              " '03 2003',\n",
              " '03 2004',\n",
              " '03 232612',\n",
              " '03 233534',\n",
              " '03 233628',\n",
              " '03 alan',\n",
              " '03 always',\n",
              " '03 ask',\n",
              " '03 aware',\n",
              " '03 back',\n",
              " '03 believe',\n",
              " '03 boys',\n",
              " '03 broke',\n",
              " '03 bungee',\n",
              " '03 cant',\n",
              " '03 capitol',\n",
              " '03 could',\n",
              " '03 csi',\n",
              " '03 cuz',\n",
              " '03 deadbeat',\n",
              " '03 encoded',\n",
              " '03 evanescene',\n",
              " '03 ever',\n",
              " '03 fiesta',\n",
              " '03 focus',\n",
              " '03 freaky',\n",
              " '03 freds',\n",
              " '03 frm',\n",
              " '03 fucked',\n",
              " '03 gd',\n",
              " '03 gold',\n",
              " '03 greatest',\n",
              " '03 hate',\n",
              " '03 im',\n",
              " '03 jaime',\n",
              " '03 january',\n",
              " '03 jessica',\n",
              " '03 kameron',\n",
              " '03 kfc',\n",
              " '03 knows',\n",
              " '03 like',\n",
              " '03 listening',\n",
              " '03 lives',\n",
              " '03 love',\n",
              " '03 marshmallow',\n",
              " '03 may',\n",
              " '03 mcdonalds',\n",
              " '03 moz',\n",
              " '03 much',\n",
              " '03 myherour',\n",
              " '03 never',\n",
              " '03 new',\n",
              " '03 newscientistcom',\n",
              " '03 percent',\n",
              " '03 present',\n",
              " '03 rem',\n",
              " '03 remember',\n",
              " '03 scared',\n",
              " '03 school',\n",
              " '03 shall',\n",
              " '03 since',\n",
              " '03 start',\n",
              " '03 state',\n",
              " '03 suppsose',\n",
              " '03 taurus',\n",
              " '03 thefrenchkicksclosetomodern',\n",
              " '03 thought',\n",
              " '03 time',\n",
              " '03 timetable',\n",
              " '03 tokyo',\n",
              " '03 untitled',\n",
              " '03 videos',\n",
              " '03 water',\n",
              " '03 way',\n",
              " '03 whats',\n",
              " '03 藉口',\n",
              " '030',\n",
              " '030 sisters',\n",
              " '030 stepparents',\n",
              " '030 total',\n",
              " '0300',\n",
              " '0300 go',\n",
              " '0300 things',\n",
              " '0300hrapa',\n",
              " '0300hrapa lagi',\n",
              " '0300hrs',\n",
              " '0300hrs local',\n",
              " '030101',\n",
              " ...]"
            ]
          },
          "execution_count": 43,
          "metadata": {},
          "output_type": "execute_result"
        }
      ],
      "source": [
        "cvect.get_feature_names()"
      ]
    },
    {
      "cell_type": "code",
      "execution_count": null,
      "metadata": {
        "id": "AdY0mPuY1NRO"
      },
      "outputs": [],
      "source": [
        "X_train_ct = cvect.transform(X_train)"
      ]
    },
    {
      "cell_type": "code",
      "execution_count": null,
      "metadata": {
        "colab": {
          "base_uri": "https://localhost:8080/"
        },
        "id": "uEnogGWF1NUg",
        "outputId": "5b96b6e1-aa46-4d9c-9a74-e7539661e909"
      },
      "outputs": [
        {
          "data": {
            "text/plain": [
              "scipy.sparse.csr.csr_matrix"
            ]
          },
          "execution_count": 45,
          "metadata": {},
          "output_type": "execute_result"
        }
      ],
      "source": [
        "type(X_train_ct)"
      ]
    },
    {
      "cell_type": "code",
      "execution_count": null,
      "metadata": {
        "colab": {
          "base_uri": "https://localhost:8080/"
        },
        "id": "9wSGPjdJ1NXh",
        "outputId": "1f76c91e-36b2-4ece-ab4b-d7f79b17022e"
      },
      "outputs": [
        {
          "data": {
            "text/plain": [
              "<76440x4444810 sparse matrix of type '<class 'numpy.int64'>'\n",
              "\twith 13786889 stored elements in Compressed Sparse Row format>"
            ]
          },
          "execution_count": 46,
          "metadata": {},
          "output_type": "execute_result"
        }
      ],
      "source": [
        "X_train_ct"
      ]
    },
    {
      "cell_type": "code",
      "execution_count": null,
      "metadata": {
        "colab": {
          "base_uri": "https://localhost:8080/"
        },
        "id": "C2rVd2Bo1Na2",
        "outputId": "40aaf47e-442f-4801-c6aa-2e2cff31d96c"
      },
      "outputs": [
        {
          "data": {
            "text/plain": [
              "<1x4444810 sparse matrix of type '<class 'numpy.int64'>'\n",
              "\twith 90 stored elements in Compressed Sparse Row format>"
            ]
          },
          "execution_count": 47,
          "metadata": {},
          "output_type": "execute_result"
        }
      ],
      "source": [
        "X_train_ct[0]"
      ]
    },
    {
      "cell_type": "code",
      "execution_count": null,
      "metadata": {
        "id": "XUFMMb_P1Nd_"
      },
      "outputs": [],
      "source": [
        "X_test_ct = cvect.transform(X_test)"
      ]
    },
    {
      "cell_type": "code",
      "execution_count": null,
      "metadata": {
        "colab": {
          "base_uri": "https://localhost:8080/"
        },
        "id": "ootrSKrk1Ng9",
        "outputId": "96864a0a-1867-4daf-dece-c6d347ba9e4e"
      },
      "outputs": [
        {
          "data": {
            "text/plain": [
              "<19111x4444810 sparse matrix of type '<class 'numpy.int64'>'\n",
              "\twith 2565179 stored elements in Compressed Sparse Row format>"
            ]
          },
          "execution_count": 49,
          "metadata": {},
          "output_type": "execute_result"
        }
      ],
      "source": [
        "X_test_ct"
      ]
    },
    {
      "cell_type": "code",
      "execution_count": null,
      "metadata": {
        "colab": {
          "base_uri": "https://localhost:8080/"
        },
        "id": "QBb7Szrjw4L2",
        "outputId": "6580a21f-7f37-4808-99a4-1bb457af66ac"
      },
      "outputs": [
        {
          "data": {
            "text/plain": [
              "['00',\n",
              " '00 04',\n",
              " '00 damn',\n",
              " '00 dodge',\n",
              " '00 doesnt',\n",
              " '00 dont',\n",
              " '00 draw',\n",
              " '00 duke',\n",
              " '00 games',\n",
              " '00 laughed']"
            ]
          },
          "execution_count": 50,
          "metadata": {},
          "output_type": "execute_result"
        }
      ],
      "source": [
        "cvect.get_feature_names()[:10]"
      ]
    },
    {
      "cell_type": "code",
      "execution_count": null,
      "metadata": {
        "colab": {
          "base_uri": "https://localhost:8080/"
        },
        "id": "TgEB3FHAw4Oy",
        "outputId": "2fe10b1f-ef29-4417-a6ee-b0858ee51e9f"
      },
      "outputs": [
        {
          "name": "stdout",
          "output_type": "stream",
          "text": [
            "  (0, 305895)\t1\n",
            "  (0, 306046)\t1\n",
            "  (0, 604065)\t1\n",
            "  (0, 606276)\t1\n",
            "  (0, 643864)\t2\n",
            "  (0, 643909)\t1\n",
            "  (0, 643910)\t1\n",
            "  (0, 757318)\t1\n",
            "  (0, 757396)\t1\n",
            "  (0, 940467)\t1\n",
            "  (0, 941237)\t1\n",
            "  (0, 1156172)\t1\n",
            "  (0, 1156338)\t1\n",
            "  (0, 1240948)\t1\n",
            "  (0, 1241133)\t1\n",
            "  (0, 1321155)\t1\n",
            "  (0, 1321837)\t1\n",
            "  (0, 1361907)\t1\n",
            "  (0, 1361983)\t1\n",
            "  (0, 1400225)\t1\n",
            "  (0, 1472813)\t1\n",
            "  (0, 1474513)\t1\n",
            "  (0, 1518783)\t1\n",
            "  (0, 1521819)\t1\n",
            "  (0, 1524902)\t1\n",
            "  :\t:\n",
            "  (76439, 3442378)\t1\n",
            "  (76439, 3764150)\t1\n",
            "  (76439, 3764184)\t1\n",
            "  (76439, 3885617)\t3\n",
            "  (76439, 3888083)\t1\n",
            "  (76439, 3891000)\t1\n",
            "  (76439, 3892047)\t1\n",
            "  (76439, 3900393)\t1\n",
            "  (76439, 3901925)\t1\n",
            "  (76439, 3971700)\t1\n",
            "  (76439, 3972550)\t1\n",
            "  (76439, 4025678)\t1\n",
            "  (76439, 4026570)\t1\n",
            "  (76439, 4092128)\t1\n",
            "  (76439, 4092150)\t1\n",
            "  (76439, 4131217)\t1\n",
            "  (76439, 4133761)\t1\n",
            "  (76439, 4136194)\t1\n",
            "  (76439, 4136266)\t1\n",
            "  (76439, 4200938)\t1\n",
            "  (76439, 4201179)\t1\n",
            "  (76439, 4242919)\t1\n",
            "  (76439, 4242989)\t1\n",
            "  (76439, 4412884)\t1\n",
            "  (76439, 4412918)\t1\n"
          ]
        }
      ],
      "source": [
        "print(X_train_ct)"
      ]
    },
    {
      "cell_type": "code",
      "execution_count": null,
      "metadata": {
        "colab": {
          "base_uri": "https://localhost:8080/"
        },
        "id": "snnkpI1V10Jj",
        "outputId": "432cb6df-b55f-4bb0-cd83-eb2fe449fc87"
      },
      "outputs": [
        {
          "name": "stdout",
          "output_type": "stream",
          "text": [
            "  (0, 17624)\t1\n",
            "  (0, 18137)\t1\n",
            "  (0, 85760)\t1\n",
            "  (0, 85857)\t1\n",
            "  (0, 86725)\t1\n",
            "  (0, 86850)\t1\n",
            "  (0, 175691)\t1\n",
            "  (0, 176287)\t1\n",
            "  (0, 223197)\t1\n",
            "  (0, 247551)\t1\n",
            "  (0, 260912)\t1\n",
            "  (0, 302962)\t1\n",
            "  (0, 303308)\t1\n",
            "  (0, 409110)\t3\n",
            "  (0, 409114)\t1\n",
            "  (0, 438933)\t1\n",
            "  (0, 441388)\t1\n",
            "  (0, 462607)\t1\n",
            "  (0, 534006)\t1\n",
            "  (0, 534701)\t1\n",
            "  (0, 542678)\t1\n",
            "  (0, 604065)\t1\n",
            "  (0, 604124)\t1\n",
            "  (0, 705948)\t2\n",
            "  (0, 706893)\t1\n",
            "  :\t:\n",
            "  (19110, 4232197)\t1\n",
            "  (19110, 4247535)\t1\n",
            "  (19110, 4247735)\t1\n",
            "  (19110, 4248963)\t2\n",
            "  (19110, 4250139)\t1\n",
            "  (19110, 4250643)\t1\n",
            "  (19110, 4271698)\t3\n",
            "  (19110, 4273321)\t1\n",
            "  (19110, 4274847)\t1\n",
            "  (19110, 4288260)\t2\n",
            "  (19110, 4288580)\t1\n",
            "  (19110, 4288628)\t1\n",
            "  (19110, 4295070)\t3\n",
            "  (19110, 4295533)\t1\n",
            "  (19110, 4295858)\t1\n",
            "  (19110, 4296863)\t1\n",
            "  (19110, 4385046)\t1\n",
            "  (19110, 4386031)\t1\n",
            "  (19110, 4415166)\t1\n",
            "  (19110, 4416609)\t1\n",
            "  (19110, 4418510)\t1\n",
            "  (19110, 4418730)\t1\n",
            "  (19110, 4421181)\t1\n",
            "  (19110, 4434071)\t1\n",
            "  (19110, 4434433)\t1\n"
          ]
        }
      ],
      "source": [
        "print(X_test_ct)"
      ]
    },
    {
      "cell_type": "markdown",
      "metadata": {
        "id": "xNvJkyqy15rd"
      },
      "source": [
        "# **Now we have done all the required step till now. So now we'll create a dictionary to get the count of every label i.e. the key will be label name and value will be the total count of the label. **"
      ]
    },
    {
      "cell_type": "code",
      "execution_count": null,
      "metadata": {
        "id": "WJ6M4nKy10Ms"
      },
      "outputs": [],
      "source": [
        "label_counts=dict()\n",
        "\n",
        "for labels in blog_df.labels.values:\n",
        "    for label in labels:\n",
        "        if label in label_counts:\n",
        "            label_counts[str(label)]+=1\n",
        "        else:\n",
        "            label_counts[str(label)]=1"
      ]
    },
    {
      "cell_type": "code",
      "execution_count": null,
      "metadata": {
        "colab": {
          "base_uri": "https://localhost:8080/"
        },
        "id": "9HCRF35410P3",
        "outputId": "bf89548f-c56c-4096-9914-f401e3858c3a"
      },
      "outputs": [
        {
          "data": {
            "text/plain": [
              "{'13': 1,\n",
              " '14': 1,\n",
              " '15': 1,\n",
              " '16': 1,\n",
              " '17': 1,\n",
              " '23': 1,\n",
              " '24': 1,\n",
              " '25': 1,\n",
              " '26': 1,\n",
              " '27': 1,\n",
              " '33': 1,\n",
              " '34': 1,\n",
              " '35': 1,\n",
              " '36': 1,\n",
              " '37': 1,\n",
              " '38': 1,\n",
              " '39': 1,\n",
              " '40': 1,\n",
              " '41': 1,\n",
              " '42': 1,\n",
              " '43': 1,\n",
              " '44': 1,\n",
              " '45': 1,\n",
              " '46': 1,\n",
              " '47': 1,\n",
              " '48': 1,\n",
              " 'Accounting': 511,\n",
              " 'Advertising': 682,\n",
              " 'Agriculture': 154,\n",
              " 'Aquarius': 8770,\n",
              " 'Architecture': 76,\n",
              " 'Aries': 10072,\n",
              " 'Arts': 4871,\n",
              " 'Automotive': 124,\n",
              " 'Banking': 337,\n",
              " 'Biotech': 321,\n",
              " 'BusinessServices': 607,\n",
              " 'Cancer': 8832,\n",
              " 'Capricorn': 8239,\n",
              " 'Chemicals': 263,\n",
              " 'Communications-Media': 2603,\n",
              " 'Construction': 240,\n",
              " 'Consulting': 844,\n",
              " 'Education': 5348,\n",
              " 'Engineering': 2219,\n",
              " 'Environment': 5,\n",
              " 'Fashion': 1830,\n",
              " 'Gemini': 8660,\n",
              " 'Government': 1967,\n",
              " 'HumanResources': 203,\n",
              " 'Internet': 2047,\n",
              " 'InvestmentBanking': 240,\n",
              " 'Law': 340,\n",
              " 'LawEnforcement-Security': 359,\n",
              " 'Leo': 7860,\n",
              " 'Libra': 6959,\n",
              " 'Manufacturing': 536,\n",
              " 'Maritime': 59,\n",
              " 'Marketing': 690,\n",
              " 'Military': 765,\n",
              " 'Museums-Libraries': 301,\n",
              " 'Non-Profit': 1289,\n",
              " 'Pisces': 7235,\n",
              " 'Publishing': 1052,\n",
              " 'RealEstate': 149,\n",
              " 'Religion': 1057,\n",
              " 'Sagittarius': 6996,\n",
              " 'Science': 1002,\n",
              " 'Scorpio': 6788,\n",
              " 'Sports-Recreation': 402,\n",
              " 'Student': 21322,\n",
              " 'Taurus': 8255,\n",
              " 'Technology': 8093,\n",
              " 'Telecommunications': 145,\n",
              " 'Tourism': 247,\n",
              " 'Transportation': 732,\n",
              " 'Virgo': 6885,\n",
              " 'female': 44631,\n",
              " 'indUnk': 31519,\n",
              " 'male': 50920}"
            ]
          },
          "execution_count": 54,
          "metadata": {},
          "output_type": "execute_result"
        }
      ],
      "source": [
        "label_counts"
      ]
    },
    {
      "cell_type": "markdown",
      "metadata": {
        "id": "UrhkkcKo2CdD"
      },
      "source": [
        "# **Now lets Transform the labels for this purpose, it is convenient to use MultiLabelBinarizer from sklearn to Convert your train and test labels using MultiLabelBinarizer**"
      ]
    },
    {
      "cell_type": "code",
      "execution_count": null,
      "metadata": {
        "id": "liQxNpwk10UI"
      },
      "outputs": [],
      "source": [
        "from sklearn.preprocessing import MultiLabelBinarizer\n",
        "binarizer=MultiLabelBinarizer(classes=sorted(label_counts.keys()))"
      ]
    },
    {
      "cell_type": "code",
      "execution_count": null,
      "metadata": {
        "id": "fozvzXxl10XH"
      },
      "outputs": [],
      "source": [
        "y_train = binarizer.fit_transform(y_train)"
      ]
    },
    {
      "cell_type": "code",
      "execution_count": null,
      "metadata": {
        "id": "N766rG8K10aU"
      },
      "outputs": [],
      "source": [
        "y_test = binarizer.transform(y_test)"
      ]
    },
    {
      "cell_type": "code",
      "execution_count": null,
      "metadata": {
        "colab": {
          "base_uri": "https://localhost:8080/"
        },
        "id": "4ExKf8mG10do",
        "outputId": "b7177ff6-9cf2-4c8e-f5ac-0fb27402ea16"
      },
      "outputs": [
        {
          "data": {
            "text/plain": [
              "array([[0, 0, 0, ..., 1, 1, 0],\n",
              "       [0, 0, 0, ..., 0, 0, 1],\n",
              "       [0, 0, 0, ..., 0, 1, 1],\n",
              "       ...,\n",
              "       [0, 0, 0, ..., 0, 0, 1],\n",
              "       [0, 0, 0, ..., 1, 0, 0],\n",
              "       [0, 0, 0, ..., 1, 0, 0]])"
            ]
          },
          "execution_count": 58,
          "metadata": {},
          "output_type": "execute_result"
        }
      ],
      "source": [
        "y_test"
      ]
    },
    {
      "cell_type": "code",
      "execution_count": null,
      "metadata": {
        "colab": {
          "base_uri": "https://localhost:8080/"
        },
        "id": "uOGVavf610gz",
        "outputId": "0543980b-5512-4577-c321-18eaa21a99ad"
      },
      "outputs": [
        {
          "data": {
            "text/plain": [
              "array([[0, 0, 0, ..., 1, 1, 0],\n",
              "       [0, 0, 0, ..., 0, 0, 1],\n",
              "       [0, 0, 0, ..., 0, 0, 1],\n",
              "       ...,\n",
              "       [0, 0, 0, ..., 1, 0, 0],\n",
              "       [0, 0, 0, ..., 0, 0, 1],\n",
              "       [0, 0, 0, ..., 1, 0, 0]])"
            ]
          },
          "execution_count": 59,
          "metadata": {},
          "output_type": "execute_result"
        }
      ],
      "source": [
        "y_train"
      ]
    },
    {
      "cell_type": "markdown",
      "metadata": {
        "id": "yIJ3cwSJ2QQP"
      },
      "source": [
        "# **Now we need to Choose a classifier**\n",
        "# In this task, we are using the OnevsRest approach, which is implemented in OneVsRestClassifier class. In this approach k classifiers (= number of tags) are trained. As a basic classifier,we are using LogisticRegression becaues It is one of the simplest methods.\n",
        "\n"
      ]
    },
    {
      "cell_type": "code",
      "execution_count": null,
      "metadata": {
        "id": "0rNZ5v6Q10j_"
      },
      "outputs": [],
      "source": [
        "from sklearn.multiclass import OneVsRestClassifier\n",
        "from sklearn.linear_model import LogisticRegression"
      ]
    },
    {
      "cell_type": "code",
      "execution_count": null,
      "metadata": {
        "colab": {
          "base_uri": "https://localhost:8080/"
        },
        "id": "0j_iGb2F10pR",
        "outputId": "13ba6046-e110-4069-f98a-8555c2c4456c"
      },
      "outputs": [
        {
          "data": {
            "text/plain": [
              "OneVsRestClassifier(estimator=LogisticRegression())"
            ]
          },
          "execution_count": 61,
          "metadata": {},
          "output_type": "execute_result"
        }
      ],
      "source": [
        "model=LogisticRegression(solver='lbfgs', max_iter=100)\n",
        "model=OneVsRestClassifier(model)\n",
        "model.fit(X_train_ct,y_train)"
      ]
    },
    {
      "cell_type": "code",
      "execution_count": null,
      "metadata": {
        "id": "JEuDTPFJ2XUG"
      },
      "outputs": [],
      "source": [
        "Ypred=model.predict(X_test_ct)"
      ]
    },
    {
      "cell_type": "code",
      "execution_count": null,
      "metadata": {
        "colab": {
          "base_uri": "https://localhost:8080/"
        },
        "id": "OtpOslJe2XXu",
        "outputId": "7e7d642f-b7e9-4ae5-9de7-9e7e6732ecad"
      },
      "outputs": [
        {
          "data": {
            "text/plain": [
              "array([[0, 0, 0, ..., 1, 1, 0],\n",
              "       [0, 0, 0, ..., 0, 0, 1],\n",
              "       [0, 0, 0, ..., 0, 0, 1],\n",
              "       ...,\n",
              "       [0, 0, 0, ..., 0, 0, 1],\n",
              "       [0, 0, 0, ..., 0, 0, 0],\n",
              "       [0, 0, 0, ..., 1, 0, 0]])"
            ]
          },
          "execution_count": 63,
          "metadata": {},
          "output_type": "execute_result"
        }
      ],
      "source": [
        "Ypred"
      ]
    },
    {
      "cell_type": "code",
      "execution_count": null,
      "metadata": {
        "colab": {
          "base_uri": "https://localhost:8080/"
        },
        "id": "JGDyLXOU2Xb6",
        "outputId": "255a9e9e-ad84-4193-a1cc-6eca16ed1cc1"
      },
      "outputs": [
        {
          "data": {
            "text/plain": [
              "array([[0, 0, 0, ..., 1, 1, 0],\n",
              "       [0, 0, 0, ..., 0, 0, 1],\n",
              "       [0, 0, 0, ..., 0, 1, 1],\n",
              "       ...,\n",
              "       [0, 0, 0, ..., 0, 0, 1],\n",
              "       [0, 0, 0, ..., 1, 0, 0],\n",
              "       [0, 0, 0, ..., 1, 0, 0]])"
            ]
          },
          "execution_count": 64,
          "metadata": {},
          "output_type": "execute_result"
        }
      ],
      "source": [
        "y_test"
      ]
    },
    {
      "cell_type": "markdown",
      "metadata": {
        "id": "ikMuAqU32joi"
      },
      "source": [
        "# here we have taken the different avg methods i.e. Micro, Macro and weighted to see the performance of all"
      ]
    },
    {
      "cell_type": "code",
      "execution_count": null,
      "metadata": {
        "id": "8PFPasBR2Xfn"
      },
      "outputs": [],
      "source": [
        "from sklearn.metrics import accuracy_score\n",
        "from sklearn.metrics import f1_score\n",
        "from sklearn.metrics import average_precision_score\n",
        "from sklearn.metrics import recall_score\n",
        "\n",
        "def display_metrics_micro(Ytest, Ypred):\n",
        "    print('Accuracy score: ', accuracy_score(Ytest, Ypred))\n",
        "    print('F1 score: Micro', f1_score(Ytest, Ypred, average='micro'))\n",
        "    print('Average precision score: Micro', average_precision_score(Ytest, Ypred, average='micro'))\n",
        "    print('Average recall score: Micro', recall_score(Ytest, Ypred, average='micro'))\n",
        "    \n",
        "    \n",
        "def display_metrics_macro(Ytest, Ypred):\n",
        "    print('Accuracy score: ', accuracy_score(Ytest, Ypred))\n",
        "    print('F1 score: Macro', f1_score(Ytest, Ypred, average='macro'))\n",
        "    print('Average recall score: MAcro', recall_score(Ytest, Ypred, average='macro'))\n",
        "    \n",
        "def display_metrics_weighted(Ytest, Ypred):\n",
        "    print('Accuracy score: ', accuracy_score(Ytest, Ypred))\n",
        "    print('F1 score: weighted', f1_score(Ytest, Ypred, average='weighted'))\n",
        "    print('Average precision score: weighted', average_precision_score(Ytest, Ypred, average='weighted'))\n",
        "    print('Average recall score: weighted', recall_score(Ytest, Ypred, average='weighted'))\n",
        "    \n",
        "    "
      ]
    },
    {
      "cell_type": "markdown",
      "source": [
        "# Now lets check the performance by micro average"
      ],
      "metadata": {
        "id": "IffPmo_0MWaG"
      }
    },
    {
      "cell_type": "code",
      "execution_count": null,
      "metadata": {
        "colab": {
          "base_uri": "https://localhost:8080/"
        },
        "id": "0VRnxoUH2XjP",
        "outputId": "4bd1b7b3-30af-4a08-d4b7-f32bfc856549"
      },
      "outputs": [
        {
          "name": "stdout",
          "output_type": "stream",
          "text": [
            "Accuracy score:  0.10847156088116791\n",
            "F1 score: Micro 0.4827356685248356\n",
            "Average precision score: Micro 0.2925989193533145\n",
            "Average recall score: Micro 0.35419391973209147\n"
          ]
        }
      ],
      "source": [
        "display_metrics_micro(y_test,Ypred)"
      ]
    },
    {
      "cell_type": "markdown",
      "source": [
        "# Now lets check the performance by macro average"
      ],
      "metadata": {
        "id": "gAuzT7APMhP5"
      }
    },
    {
      "cell_type": "code",
      "execution_count": null,
      "metadata": {
        "colab": {
          "base_uri": "https://localhost:8080/"
        },
        "id": "K-9yluyp2Xm-",
        "outputId": "402102c5-30d1-4672-ca68-eb1306b4b97b"
      },
      "outputs": [
        {
          "name": "stdout",
          "output_type": "stream",
          "text": [
            "Accuracy score:  0.10847156088116791\n",
            "F1 score: Macro 0.1561410896538983\n",
            "Average recall score: MAcro 0.10307777222703644\n"
          ]
        }
      ],
      "source": [
        "display_metrics_macro(y_test,Ypred)"
      ]
    },
    {
      "cell_type": "markdown",
      "source": [
        "# Now lets check the performance by weighted average"
      ],
      "metadata": {
        "id": "fz0SpABSMlYU"
      }
    },
    {
      "cell_type": "code",
      "execution_count": null,
      "metadata": {
        "colab": {
          "base_uri": "https://localhost:8080/"
        },
        "id": "heV3zKid2XrJ",
        "outputId": "ef317d64-25d9-44f5-8ff2-4186337dc66c"
      },
      "outputs": [
        {
          "name": "stdout",
          "output_type": "stream",
          "text": [
            "Accuracy score:  0.10847156088116791\n",
            "F1 score: weighted 0.44049184447605555\n",
            "Average precision score: weighted 0.39094276398000233\n",
            "Average recall score: weighted 0.35419391973209147\n"
          ]
        }
      ],
      "source": [
        "display_metrics_weighted(y_test,Ypred)"
      ]
    },
    {
      "cell_type": "markdown",
      "source": [
        "# Here we can see that accuracy score through all the methods are same i.e.0.1084 apprx.\n",
        "# But F1 score by micro avg is highest (0.48) while lowest by macro avg i.e. 0.15\n",
        "# Avg precision score is highest by weighted average i.e. 0.39\n",
        "# While recall score was same by micro and weighted average and that is 0.35"
      ],
      "metadata": {
        "id": "y_5U-3fDMsv_"
      }
    },
    {
      "cell_type": "markdown",
      "metadata": {
        "id": "3vJsa5552zNe"
      },
      "source": [
        "# **Now lets Print true label and predicted label for any five examples**"
      ]
    },
    {
      "cell_type": "code",
      "execution_count": null,
      "metadata": {
        "id": "XsZ6DPcD2XvI"
      },
      "outputs": [],
      "source": [
        "preds = Ypred[:15]\n",
        "actuals = y_test[:15]"
      ]
    },
    {
      "cell_type": "code",
      "execution_count": null,
      "metadata": {
        "colab": {
          "base_uri": "https://localhost:8080/"
        },
        "id": "qrp3xNgG2X1h",
        "outputId": "d0055c76-4533-406a-fa2d-9546a0cec51f"
      },
      "outputs": [
        {
          "data": {
            "text/plain": [
              "[('Sagittarius', 'female', 'indUnk'),\n",
              " ('Banking', 'Taurus', 'male'),\n",
              " ('Scorpio', 'indUnk', 'male'),\n",
              " ('Student', 'Taurus', 'male'),\n",
              " ('Libra', 'female', 'indUnk'),\n",
              " ('Libra', 'Student', 'female'),\n",
              " ('Sagittarius', 'Student', 'male'),\n",
              " ('Aries', 'Technology', 'male'),\n",
              " ('Virgo', 'female', 'indUnk'),\n",
              " ('Pisces', 'Student', 'female'),\n",
              " ('Aries', 'female', 'indUnk'),\n",
              " ('Student', 'Taurus', 'male'),\n",
              " ('Sagittarius', 'Student', 'female'),\n",
              " ('Gemini', 'female', 'indUnk'),\n",
              " ('Aries', 'Communications-Media', 'male')]"
            ]
          },
          "execution_count": 70,
          "metadata": {},
          "output_type": "execute_result"
        }
      ],
      "source": [
        "five_actual = binarizer.inverse_transform(actuals)\n",
        "five_actual"
      ]
    },
    {
      "cell_type": "code",
      "execution_count": null,
      "metadata": {
        "colab": {
          "base_uri": "https://localhost:8080/"
        },
        "id": "93YIJSO_26G7",
        "outputId": "f12c4d91-859f-4410-d50c-0fe5ab8089c6"
      },
      "outputs": [
        {
          "data": {
            "text/plain": [
              "[('female', 'indUnk'),\n",
              " ('male',),\n",
              " ('male',),\n",
              " ('female',),\n",
              " ('Student', 'female', 'indUnk'),\n",
              " ('Student', 'female'),\n",
              " ('male',),\n",
              " (),\n",
              " ('indUnk', 'male'),\n",
              " ('indUnk',),\n",
              " ('Aries', 'female', 'indUnk'),\n",
              " ('female', 'indUnk'),\n",
              " ('male',),\n",
              " ('Gemini', 'female', 'indUnk'),\n",
              " ()]"
            ]
          },
          "execution_count": 71,
          "metadata": {},
          "output_type": "execute_result"
        }
      ],
      "source": [
        "five_pred = binarizer.inverse_transform(preds)\n",
        "five_pred"
      ]
    },
    {
      "cell_type": "markdown",
      "metadata": {
        "id": "CNg9aNi229xh"
      },
      "source": [
        "# Print true label and predicted label for any five examples¶"
      ]
    },
    {
      "cell_type": "code",
      "execution_count": null,
      "metadata": {
        "colab": {
          "base_uri": "https://localhost:8080/"
        },
        "id": "zY63Al_w26KF",
        "outputId": "a8718301-0e9e-4b21-8df6-ef9a4149b5ce"
      },
      "outputs": [
        {
          "name": "stdout",
          "output_type": "stream",
          "text": [
            "('Student', 'male')\n",
            "('Pisces', 'indUnk', 'male')\n"
          ]
        }
      ],
      "source": [
        "print(binarizer.inverse_transform(Ypred)[877])\n",
        "print(binarizer.inverse_transform(y_test)[877])"
      ]
    },
    {
      "cell_type": "code",
      "execution_count": null,
      "metadata": {
        "colab": {
          "base_uri": "https://localhost:8080/"
        },
        "id": "YrgslRbr26NO",
        "outputId": "420c3016-8f6c-401e-b165-59258a758a1a"
      },
      "outputs": [
        {
          "name": "stdout",
          "output_type": "stream",
          "text": [
            "('male',)\n",
            "('Aries', 'Technology', 'male')\n"
          ]
        }
      ],
      "source": [
        "print(binarizer.inverse_transform(Ypred)[514])\n",
        "print(binarizer.inverse_transform(y_test)[514])"
      ]
    },
    {
      "cell_type": "code",
      "execution_count": null,
      "metadata": {
        "colab": {
          "base_uri": "https://localhost:8080/"
        },
        "id": "QScYm_p_26P_",
        "outputId": "d9185765-6b70-44e9-ab49-2db5514229a5"
      },
      "outputs": [
        {
          "name": "stdout",
          "output_type": "stream",
          "text": [
            "('female',)\n",
            "('Leo', 'indUnk', 'male')\n"
          ]
        }
      ],
      "source": [
        "print(binarizer.inverse_transform(Ypred)[99])\n",
        "print(binarizer.inverse_transform(y_test)[99])"
      ]
    },
    {
      "cell_type": "code",
      "execution_count": null,
      "metadata": {
        "colab": {
          "base_uri": "https://localhost:8080/"
        },
        "id": "KuxPhNag3G6T",
        "outputId": "625380a0-c7da-42d8-bd96-4f9af63d0505"
      },
      "outputs": [
        {
          "name": "stdout",
          "output_type": "stream",
          "text": [
            "('male',)\n",
            "('Cancer', 'Student', 'female')\n"
          ]
        }
      ],
      "source": [
        "print(binarizer.inverse_transform(Ypred)[499])\n",
        "print(binarizer.inverse_transform(y_test)[499])"
      ]
    },
    {
      "cell_type": "code",
      "execution_count": null,
      "metadata": {
        "colab": {
          "base_uri": "https://localhost:8080/"
        },
        "id": "1UneA1PO3G9b",
        "outputId": "84ea5bc0-b4a6-4c86-a53a-26f68d20e52a"
      },
      "outputs": [
        {
          "name": "stdout",
          "output_type": "stream",
          "text": [
            "('female',)\n",
            "('Cancer', 'Engineering', 'female')\n"
          ]
        }
      ],
      "source": [
        "print(binarizer.inverse_transform(Ypred)[699])\n",
        "print(binarizer.inverse_transform(y_test)[699])"
      ]
    },
    {
      "cell_type": "markdown",
      "metadata": {
        "id": "7OjSG7Jw3QI1"
      },
      "source": [
        "# Print true label and predicted label for any five examples"
      ]
    },
    {
      "cell_type": "code",
      "execution_count": null,
      "metadata": {
        "colab": {
          "base_uri": "https://localhost:8080/"
        },
        "id": "6YpHAv5x3PYZ",
        "outputId": "4839cee4-a752-4d47-b087-c1438afcba78"
      },
      "outputs": [
        {
          "name": "stdout",
          "output_type": "stream",
          "text": [
            "[5908, 9704, 5977, 15923, 15898]\n",
            "('Sagittarius', 'female')\n",
            "('Sagittarius', 'female', 'indUnk')\n",
            "()\n",
            "('Aries', 'Technology', 'male')\n",
            "('female',)\n",
            "('Leo', 'Student', 'female')\n",
            "('female',)\n",
            "('Publishing', 'Scorpio', 'female')\n",
            "('female',)\n",
            "('Accounting', 'Gemini', 'female')\n"
          ]
        }
      ],
      "source": [
        "import random\n",
        "j=[]\n",
        "for i in range(5):\n",
        "    j.append(random.randint(300,len(Ypred)))\n",
        "   \n",
        "print(j)\n",
        "\n",
        "for k in j:    \n",
        "    print(binarizer.inverse_transform(Ypred)[k])\n",
        "    print(binarizer.inverse_transform(y_test)[k])"
      ]
    },
    {
      "cell_type": "code",
      "execution_count": null,
      "metadata": {
        "colab": {
          "base_uri": "https://localhost:8080/"
        },
        "id": "ZKg7SUii3Pbs",
        "outputId": "7cbf2d70-ccda-453f-d6e9-1b5f0f28a52b"
      },
      "outputs": [
        {
          "name": "stdout",
          "output_type": "stream",
          "text": [
            "Text:\t  (0, 17624)\t1\n",
            "  (0, 18137)\t1\n",
            "  (0, 85760)\t1\n",
            "  (0, 85857)\t1\n",
            "  (0, 86725)\t1\n",
            "  (0, 86850)\t1\n",
            "  (0, 175691)\t1\n",
            "  (0, 176287)\t1\n",
            "  (0, 223197)\t1\n",
            "  (0, 247551)\t1\n",
            "  (0, 260912)\t1\n",
            "  (0, 302962)\t1\n",
            "  (0, 303308)\t1\n",
            "  (0, 409110)\t3\n",
            "  (0, 409114)\t1\n",
            "  (0, 438933)\t1\n",
            "  (0, 441388)\t1\n",
            "  (0, 462607)\t1\n",
            "  (0, 534006)\t1\n",
            "  (0, 534701)\t1\n",
            "  (0, 542678)\t1\n",
            "  (0, 604065)\t1\n",
            "  (0, 604124)\t1\n",
            "  (0, 705948)\t2\n",
            "  (0, 706893)\t1\n",
            "  :\t:\n",
            "  (0, 3762192)\t1\n",
            "  (0, 3856685)\t2\n",
            "  (0, 3859643)\t1\n",
            "  (0, 3860057)\t1\n",
            "  (0, 3872008)\t1\n",
            "  (0, 3873434)\t1\n",
            "  (0, 3875443)\t3\n",
            "  (0, 3877129)\t1\n",
            "  (0, 3878727)\t1\n",
            "  (0, 3885617)\t1\n",
            "  (0, 3891000)\t1\n",
            "  (0, 3900393)\t1\n",
            "  (0, 3902408)\t1\n",
            "  (0, 3943771)\t1\n",
            "  (0, 3944704)\t1\n",
            "  (0, 3950473)\t1\n",
            "  (0, 4045813)\t1\n",
            "  (0, 4045818)\t1\n",
            "  (0, 4215154)\t1\n",
            "  (0, 4215219)\t1\n",
            "  (0, 4344576)\t1\n",
            "  (0, 4349298)\t1\n",
            "  (0, 4368245)\t2\n",
            "  (0, 4369854)\t1\n",
            "  (0, 4371133)\t1\n",
            "True labels:\tSagittarius,female,indUnk\n",
            "Predicted labels:\tfemale,indUnk\n",
            "\n",
            "\n",
            "Text:\t  (0, 84352)\t1\n",
            "  (0, 221224)\t1\n",
            "  (0, 331446)\t1\n",
            "  (0, 335631)\t1\n",
            "  (0, 339392)\t1\n",
            "  (0, 499741)\t1\n",
            "  (0, 820758)\t1\n",
            "  (0, 821420)\t1\n",
            "  (0, 923589)\t1\n",
            "  (0, 1004833)\t1\n",
            "  (0, 1147335)\t1\n",
            "  (0, 1195775)\t1\n",
            "  (0, 1197397)\t1\n",
            "  (0, 1211120)\t1\n",
            "  (0, 1267415)\t1\n",
            "  (0, 1279387)\t1\n",
            "  (0, 1304640)\t1\n",
            "  (0, 1304901)\t1\n",
            "  (0, 1417981)\t2\n",
            "  (0, 1421199)\t2\n",
            "  (0, 1765316)\t1\n",
            "  (0, 1767131)\t1\n",
            "  (0, 1945638)\t1\n",
            "  (0, 1945679)\t1\n",
            "  (0, 2006266)\t1\n",
            "  :\t:\n",
            "  (0, 2997590)\t1\n",
            "  (0, 3093512)\t1\n",
            "  (0, 3094802)\t1\n",
            "  (0, 3196917)\t1\n",
            "  (0, 3312320)\t2\n",
            "  (0, 3326423)\t2\n",
            "  (0, 3329071)\t1\n",
            "  (0, 3498088)\t2\n",
            "  (0, 3498731)\t1\n",
            "  (0, 3578079)\t3\n",
            "  (0, 3578853)\t1\n",
            "  (0, 3579136)\t2\n",
            "  (0, 3619687)\t1\n",
            "  (0, 3619782)\t1\n",
            "  (0, 3634630)\t1\n",
            "  (0, 3823254)\t1\n",
            "  (0, 3823751)\t1\n",
            "  (0, 3927799)\t2\n",
            "  (0, 3930654)\t1\n",
            "  (0, 4154465)\t1\n",
            "  (0, 4224023)\t1\n",
            "  (0, 4225437)\t1\n",
            "  (0, 4307496)\t1\n",
            "  (0, 4307602)\t1\n",
            "  (0, 4333340)\t1\n",
            "True labels:\tBanking,Taurus,male\n",
            "Predicted labels:\tmale\n",
            "\n",
            "\n",
            "Text:\t  (0, 119084)\t1\n",
            "  (0, 165415)\t1\n",
            "  (0, 165789)\t1\n",
            "  (0, 166913)\t1\n",
            "  (0, 178377)\t1\n",
            "  (0, 198724)\t1\n",
            "  (0, 206101)\t1\n",
            "  (0, 220769)\t1\n",
            "  (0, 438933)\t1\n",
            "  (0, 440540)\t1\n",
            "  (0, 541728)\t1\n",
            "  (0, 541976)\t1\n",
            "  (0, 555304)\t1\n",
            "  (0, 555739)\t1\n",
            "  (0, 651112)\t1\n",
            "  (0, 849173)\t1\n",
            "  (0, 875281)\t1\n",
            "  (0, 877203)\t1\n",
            "  (0, 885742)\t1\n",
            "  (0, 887081)\t1\n",
            "  (0, 901007)\t1\n",
            "  (0, 1064420)\t1\n",
            "  (0, 1064843)\t1\n",
            "  (0, 1089950)\t1\n",
            "  (0, 1090270)\t1\n",
            "  :\t:\n",
            "  (0, 4143195)\t1\n",
            "  (0, 4143672)\t1\n",
            "  (0, 4188838)\t1\n",
            "  (0, 4189671)\t1\n",
            "  (0, 4248963)\t1\n",
            "  (0, 4251914)\t1\n",
            "  (0, 4252281)\t1\n",
            "  (0, 4253140)\t1\n",
            "  (0, 4255410)\t1\n",
            "  (0, 4256956)\t1\n",
            "  (0, 4262065)\t2\n",
            "  (0, 4267200)\t1\n",
            "  (0, 4268490)\t1\n",
            "  (0, 4321707)\t1\n",
            "  (0, 4322466)\t1\n",
            "  (0, 4335792)\t1\n",
            "  (0, 4335946)\t1\n",
            "  (0, 4344576)\t1\n",
            "  (0, 4349538)\t1\n",
            "  (0, 4349897)\t1\n",
            "  (0, 4366254)\t1\n",
            "  (0, 4366956)\t1\n",
            "  (0, 4405273)\t2\n",
            "  (0, 4408363)\t1\n",
            "  (0, 4409102)\t1\n",
            "True labels:\tScorpio,indUnk,male\n",
            "Predicted labels:\tmale\n",
            "\n",
            "\n",
            "Text:\t  (0, 200918)\t3\n",
            "  (0, 202744)\t1\n",
            "  (0, 203575)\t1\n",
            "  (0, 204303)\t1\n",
            "  (0, 225827)\t1\n",
            "  (0, 226354)\t1\n",
            "  (0, 251037)\t1\n",
            "  (0, 252514)\t1\n",
            "  (0, 438933)\t1\n",
            "  (0, 440072)\t1\n",
            "  (0, 452146)\t1\n",
            "  (0, 454652)\t1\n",
            "  (0, 515278)\t1\n",
            "  (0, 634245)\t1\n",
            "  (0, 635021)\t1\n",
            "  (0, 968943)\t1\n",
            "  (0, 973131)\t1\n",
            "  (0, 1224811)\t1\n",
            "  (0, 1225082)\t1\n",
            "  (0, 1376048)\t1\n",
            "  (0, 1376454)\t1\n",
            "  (0, 1609014)\t1\n",
            "  (0, 1609161)\t1\n",
            "  (0, 1614071)\t1\n",
            "  (0, 1729427)\t1\n",
            "  :\t:\n",
            "  (0, 3538671)\t1\n",
            "  (0, 3572585)\t1\n",
            "  (0, 3588162)\t1\n",
            "  (0, 3589788)\t1\n",
            "  (0, 3671894)\t1\n",
            "  (0, 3672361)\t1\n",
            "  (0, 3682176)\t1\n",
            "  (0, 3683270)\t1\n",
            "  (0, 3712440)\t1\n",
            "  (0, 3713281)\t1\n",
            "  (0, 3788426)\t2\n",
            "  (0, 3789010)\t1\n",
            "  (0, 3791155)\t1\n",
            "  (0, 3827068)\t1\n",
            "  (0, 3880402)\t1\n",
            "  (0, 3880816)\t1\n",
            "  (0, 4101983)\t1\n",
            "  (0, 4102004)\t1\n",
            "  (0, 4230134)\t1\n",
            "  (0, 4234170)\t1\n",
            "  (0, 4282424)\t2\n",
            "  (0, 4282953)\t1\n",
            "  (0, 4395129)\t1\n",
            "  (0, 4395517)\t1\n",
            "  (0, 4434071)\t1\n",
            "True labels:\tStudent,Taurus,male\n",
            "Predicted labels:\tfemale\n",
            "\n",
            "\n",
            "Text:\t  (0, 115398)\t2\n",
            "  (0, 115505)\t1\n",
            "  (0, 115565)\t1\n",
            "  (0, 115920)\t1\n",
            "  (0, 146334)\t1\n",
            "  (0, 153551)\t1\n",
            "  (0, 154016)\t1\n",
            "  (0, 185684)\t1\n",
            "  (0, 186243)\t1\n",
            "  (0, 187738)\t1\n",
            "  (0, 188156)\t1\n",
            "  (0, 192704)\t2\n",
            "  (0, 196076)\t1\n",
            "  (0, 196915)\t1\n",
            "  (0, 247768)\t1\n",
            "  (0, 248918)\t1\n",
            "  (0, 260912)\t1\n",
            "  (0, 268472)\t1\n",
            "  (0, 277387)\t1\n",
            "  (0, 278348)\t1\n",
            "  (0, 308076)\t1\n",
            "  (0, 308816)\t1\n",
            "  (0, 340229)\t2\n",
            "  (0, 342054)\t1\n",
            "  (0, 343341)\t1\n",
            "  :\t:\n",
            "  (0, 4266075)\t1\n",
            "  (0, 4271698)\t2\n",
            "  (0, 4272889)\t1\n",
            "  (0, 4273883)\t1\n",
            "  (0, 4295070)\t2\n",
            "  (0, 4296102)\t1\n",
            "  (0, 4296325)\t1\n",
            "  (0, 4335792)\t2\n",
            "  (0, 4337035)\t2\n",
            "  (0, 4342034)\t1\n",
            "  (0, 4343427)\t1\n",
            "  (0, 4361602)\t1\n",
            "  (0, 4362164)\t1\n",
            "  (0, 4379157)\t1\n",
            "  (0, 4379293)\t1\n",
            "  (0, 4387415)\t2\n",
            "  (0, 4387762)\t1\n",
            "  (0, 4387917)\t1\n",
            "  (0, 4395129)\t1\n",
            "  (0, 4395751)\t1\n",
            "  (0, 4430713)\t4\n",
            "  (0, 4431524)\t1\n",
            "  (0, 4431552)\t1\n",
            "  (0, 4432431)\t1\n",
            "  (0, 4432709)\t1\n",
            "True labels:\tLibra,female,indUnk\n",
            "Predicted labels:\tStudent,female,indUnk\n",
            "\n",
            "\n"
          ]
        }
      ],
      "source": [
        "Ypred_inversed = binarizer.inverse_transform(Ypred)\n",
        "y_test_inversed = binarizer.inverse_transform(y_test)\n",
        "for i in range(5):\n",
        "    print('Text:\\t{}\\nTrue labels:\\t{}\\nPredicted labels:\\t{}\\n\\n'.format(\n",
        "        X_test_ct[i],\n",
        "        ','.join(y_test_inversed[i]),\n",
        "        ','.join(Ypred_inversed[i])\n",
        "    ))"
      ]
    },
    {
      "cell_type": "markdown",
      "metadata": {
        "id": "U0BvSRlL3bld"
      },
      "source": [
        "# Now lets Use a linear classifier wrap it up in OneVsRestClassifier to train it on every label. here we have used LinearSVC"
      ]
    },
    {
      "cell_type": "code",
      "execution_count": null,
      "metadata": {
        "id": "8ivpIPar3PfR"
      },
      "outputs": [],
      "source": [
        "from sklearn.linear_model import LogisticRegression\n",
        "from sklearn.discriminant_analysis import LinearDiscriminantAnalysis\n",
        "from sklearn.svm import LinearSVC\n",
        "from sklearn.naive_bayes import MultinomialNB\n",
        "\n",
        "def build_model_train(X_train, y_train, X_valid=None, y_valid=None, C=1.0, model='lr'):\n",
        "    if model=='lr':\n",
        "        model = LogisticRegression(C=C, penalty='l1', dual=False, solver='liblinear')\n",
        "        model = OneVsRestClassifier(model)\n",
        "        model.fit(X_train, y_train)\n",
        "    \n",
        "    elif model=='svm':\n",
        "        model = LinearSVC(C=C, penalty='l1', dual=False, loss='squared_hinge')\n",
        "        model = OneVsRestClassifier(model)\n",
        "        model.fit(X_train, y_train)\n",
        "    \n",
        "    elif model=='nbayes':\n",
        "        model = MultinomialNB(alpha=1.0)\n",
        "        model = OneVsRestClassifier(model)\n",
        "        model.fit(X_train, y_train)\n",
        "        \n",
        "    elif model=='lda':\n",
        "        model = LinearDiscriminantAnalysis(solver='svd')\n",
        "        model = OneVsRestClassifier(model)\n",
        "        model.fit(X_train, y_train)\n",
        "\n",
        "    return model"
      ]
    },
    {
      "cell_type": "markdown",
      "source": [
        "# So now here we are going to use lr,svm and nbayes to check the performance from all"
      ],
      "metadata": {
        "id": "haL9qIguOWJG"
      }
    },
    {
      "cell_type": "code",
      "execution_count": null,
      "metadata": {
        "colab": {
          "background_save": true,
          "base_uri": "https://localhost:8080/"
        },
        "id": "vBdH8Znk3PiQ",
        "outputId": "d087d95b-7ca4-4d5f-f38f-77d39b844644"
      },
      "outputs": [
        {
          "name": "stdout",
          "output_type": "stream",
          "text": [
            "\n",
            "\n",
            "**displaying  metrics for the mode OneVsRestClassifier(estimator=LogisticRegression(penalty='l1',\n",
            "                                                 solver='liblinear'))\n",
            "\n",
            "Accuracy score:  0.1524253047982837\n",
            "F1 score: Micro 0.5136967906539546\n",
            "Average precision score: Micro 0.3093693458044488\n",
            "Average recall score: Micro 0.40034535084506306\n",
            "\n",
            "\n",
            "\n",
            "\n",
            "Accuracy score:  0.1524253047982837\n",
            "F1 score: Macro 0.2277611887366878\n",
            "Average recall score: MAcro 0.16537245546901702\n",
            "\n",
            "\n",
            "\n",
            "\n",
            "Accuracy score:  0.1524253047982837\n",
            "F1 score: weighted 0.4917753556667853\n",
            "Average precision score: weighted 0.40863160250305475\n",
            "Average recall score: weighted 0.40034535084506306\n",
            "\n",
            "\n",
            "\n",
            "\n"
          ]
        }
      ],
      "source": [
        "models = ['lr','svm','nbayes']\n",
        "for model in models:\n",
        "    model = build_model_train(X_train_ct,y_train,model=model)\n",
        "    model.fit(X_train_ct,y_train)\n",
        "    Ypred=model.predict(X_test_ct)\n",
        "    print(\"\\n\")\n",
        "    print(f\"**displaying  metrics for the mode {model}\\n\")\n",
        "    display_metrics_micro(y_test,Ypred)\n",
        "    display_metrics_macro(y_test,Ypred)\n",
        "    display_metrics_weighted(y_test,Ypred)    "
      ]
    },
    {
      "cell_type": "markdown",
      "source": [
        "#** Here we have used lr,svm and nbayes models to see the performance. as we can see here that-**\n",
        "# Accuracy score by all methods are same i.e. 0.15\n",
        "# F1 score is highest by micro 0.5169\n",
        "# while precision score is highest by weighted avg\n",
        "# and highest recall score is 0.40 by Micro and weighted average\n"
      ],
      "metadata": {
        "id": "oOHOH3u8OxId"
      }
    },
    {
      "cell_type": "markdown",
      "metadata": {
        "id": "KMr6sSht3pIG"
      },
      "source": [
        "# **Conclussion:**\n",
        "\n",
        "# 1. Here we have solved Multilabel classification problem that predicts multiple features of the author of a given text.\n",
        "\n",
        "# 2. Also we have Loaded the data and done some basic EDA \n",
        "\n",
        "# 3. Then we have done data cleansing i.e. removed the unnecessary chars, removed the spaces, converted the case to lower and also removed the stop words, vectorized the features as well\n",
        "\n",
        "# 4. then we have splitted the data for training and testing\n",
        "\n",
        "# 5. Then we have used the multilable binarizers, and calculated the accuracy, f1 score, Avg precision and recall scores for each "
      ]
    },
    {
      "cell_type": "markdown",
      "source": [
        "## **PART = 2** chatbot "
      ],
      "metadata": {
        "id": "fiK1ExeLDrQM"
      }
    },
    {
      "cell_type": "markdown",
      "source": [
        "# Lets connect the path of file"
      ],
      "metadata": {
        "id": "0oH-p5-zR4a2"
      }
    },
    {
      "cell_type": "code",
      "source": [
        "%cd /content/drive/MyDrive/AIML Program/Project/NLP1"
      ],
      "metadata": {
        "colab": {
          "base_uri": "https://localhost:8080/"
        },
        "id": "H1vIQu8yDwOD",
        "outputId": "c5da18aa-b806-4d92-b4ae-5defc5d10b66"
      },
      "execution_count": 3,
      "outputs": [
        {
          "output_type": "stream",
          "name": "stdout",
          "text": [
            "/content/drive/MyDrive/AIML Program/Project/NLP1\n"
          ]
        }
      ]
    },
    {
      "cell_type": "markdown",
      "source": [
        "# Now lets  import the required library"
      ],
      "metadata": {
        "id": "NH46HyHuR8ua"
      }
    },
    {
      "cell_type": "code",
      "source": [
        "import warnings\n",
        "warnings.filterwarnings(\"ignore\")\n",
        "import nltk\n",
        "from nltk.stem import WordNetLemmatizer\n",
        "import json\n",
        "import pickle\n",
        "\n",
        "import numpy as np\n",
        "from tensorflow.keras.models import Sequential\n",
        "from tensorflow.keras.layers import Dense, Activation, Dropout\n",
        "from tensorflow.keras.optimizers import SGD\n",
        "import random\n",
        "from keras.models import load_model"
      ],
      "metadata": {
        "id": "cgFyqKqDDwRW"
      },
      "execution_count": 4,
      "outputs": []
    },
    {
      "cell_type": "markdown",
      "source": [
        "## create an object of WordNetLemmatizer"
      ],
      "metadata": {
        "id": "d9MShE1CSMuc"
      }
    },
    {
      "cell_type": "code",
      "source": [
        "lemmatizer = WordNetLemmatizer()"
      ],
      "metadata": {
        "id": "OzGhVcRRSI97"
      },
      "execution_count": null,
      "outputs": []
    },
    {
      "cell_type": "markdown",
      "source": [
        "\n",
        "## importing the GL Bot corpus file for pre-processing"
      ],
      "metadata": {
        "id": "lVQYNyt9SLlM"
      }
    },
    {
      "cell_type": "code",
      "source": [
        "\n",
        "words=[]\n",
        "classes = []\n",
        "documents = []\n",
        "ignore_words = ['?', '!']\n",
        "data_file = open(\"/content/drive/MyDrive/AIML Program/Project/NLP1/GL Bot.json\").read()\n",
        "intents = json.loads(data_file)"
      ],
      "metadata": {
        "id": "roab7w18SFIw"
      },
      "execution_count": null,
      "outputs": []
    },
    {
      "cell_type": "code",
      "source": [
        "# preprocessing the json data\n",
        "# tokenization\n",
        "nltk.download('punkt')\n",
        "nltk.download('wordnet')\n",
        "for intent in intents['intents']:\n",
        "    for pattern in intent['patterns']:\n",
        "\n",
        "        #tokenize each word\n",
        "        w = nltk.word_tokenize(pattern)\n",
        "        words.extend(w)\n",
        "        #add documents in the corpus\n",
        "        documents.append((w, intent['tag']))\n",
        "\n",
        "        # add to our classes list\n",
        "        if intent['tag'] not in classes:\n",
        "            classes.append(intent['tag'])"
      ],
      "metadata": {
        "colab": {
          "base_uri": "https://localhost:8080/"
        },
        "id": "hQSoxTkmDwUc",
        "outputId": "890ae604-1149-408a-91f1-6d0d43e9f15f"
      },
      "execution_count": 5,
      "outputs": [
        {
          "output_type": "stream",
          "name": "stdout",
          "text": [
            "[nltk_data] Downloading package punkt to /root/nltk_data...\n",
            "[nltk_data]   Unzipping tokenizers/punkt.zip.\n",
            "[nltk_data] Downloading package wordnet to /root/nltk_data...\n",
            "[nltk_data]   Unzipping corpora/wordnet.zip.\n"
          ]
        }
      ]
    },
    {
      "cell_type": "markdown",
      "source": [
        "# Now lets do some preprocessing i.e. lemmatize, lower each word and remove duplicates"
      ],
      "metadata": {
        "id": "L9czf3GZSX4S"
      }
    },
    {
      "cell_type": "code",
      "source": [
        "words = [lemmatizer.lemmatize(w.lower()) for w in words if w not in ignore_words]\n",
        "words = sorted(list(set(words)))\n",
        "\n",
        "# sort classes\n",
        "classes = sorted(list(set(classes)))\n",
        "\n",
        "# documents = combination between patterns and intents\n",
        "print (len(documents), \"documents\")\n",
        "\n",
        "# classes = intents\n",
        "print (len(classes), \"classes\", classes)\n",
        "\n",
        "# words = all words, vocabulary\n",
        "print (len(words), \"unique lemmatized words\", words)"
      ],
      "metadata": {
        "colab": {
          "base_uri": "https://localhost:8080/"
        },
        "id": "7ltMpVlkDwXi",
        "outputId": "3adc3156-629c-4999-e6c9-c2a6939be29d"
      },
      "execution_count": 6,
      "outputs": [
        {
          "output_type": "stream",
          "name": "stdout",
          "text": [
            "128 documents\n",
            "8 classes ['Bot', 'Exit', 'Intro', 'NN', 'Olympus', 'Profane', 'SL', 'Ticket']\n",
            "158 unique lemmatized words ['a', 'able', 'access', 'activation', 'ada', 'adam', 'aifl', 'aiml', 'am', 'an', 'ann', 'anyone', 'are', 'artificial', 'backward', 'bad', 'bagging', 'batch', 'bayes', 'belong', 'best', 'blended', 'bloody', 'boosting', 'bot', 'buddy', 'classification', 'contact', 'create', 'cross', 'cya', 'day', 'deep', 'did', 'diffult', 'do', 'ensemble', 'epoch', 'explain', 'first', 'for', 'forest', 'forward', 'from', 'function', 'good', 'goodbye', 'gradient', 'great', 'hate', 'have', 'hell', 'hello', 'help', 'helped', 'hey', 'hi', 'hidden', 'hour', 'how', 'hyper', 'i', 'imputer', 'in', 'intelligence', 'is', 'jerk', 'joke', 'knn', 'later', 'layer', 'learner', 'learning', 'leaving', 'link', 'listen', 'logistic', 'lot', 'machine', 'me', 'ml', 'my', 'naive', 'name', 'nb', 'net', 'network', 'neural', 'no', 'not', 'of', 'olympus', 'olypus', 'on', 'online', 'operation', 'opertions', 'otimizer', 'parameter', 'piece', 'please', 'pm', 'problem', 'propagation', 'random', 'regression', 'relu', 'screw', 'see', 'sgd', 'shit', 'sigmoid', 'sl', 'smart', 'softmax', 'solution', 'solved', 'stupid', 'supervised', 'svm', 'talking', 'teach', 'techb=niques', 'technique', 'thank', 'thanks', 'the', 'there', 'think', 'ticket', 'time', 'to', 'ton', 'too', 'tool', 'unable', 'understand', 'up', 'use', 'useless', 'validation', 'very', 'visible', 'wasted', 'weight', 'what', 'whats', 'when', 'who', 'whom', 'window', 'with', 'work', 'working', 'ya', 'yo', 'you', 'your']\n"
          ]
        }
      ]
    },
    {
      "cell_type": "markdown",
      "source": [
        "## creating a pickle file to store the Python objects which we will use while predicting"
      ],
      "metadata": {
        "id": "SHMx3qjkSoRJ"
      }
    },
    {
      "cell_type": "code",
      "source": [
        "pickle.dump(words,open('words.pkl','wb')) \n",
        "pickle.dump(classes,open('classes.pkl','wb'))"
      ],
      "metadata": {
        "id": "Sc1FdGsgSlMh"
      },
      "execution_count": null,
      "outputs": []
    },
    {
      "cell_type": "markdown",
      "source": [
        "# **Now lets create the trainind data**"
      ],
      "metadata": {
        "id": "C8jkPE-BSui8"
      }
    },
    {
      "cell_type": "code",
      "source": [
        "training = []\n",
        "\n",
        "# create an empty array for our output\n",
        "output_empty = [0] * len(classes)\n",
        "\n",
        "# training set, bag of words for each sentence\n",
        "for doc in documents:\n",
        "    # initialize our bag of words\n",
        "    bag = []\n",
        "    # list of tokenized words for the pattern\n",
        "    pattern_words = doc[0]\n",
        "   \n",
        "    # lemmatize each word - create base word, in attempt to represent related words\n",
        "    pattern_words = [lemmatizer.lemmatize(word.lower()) for word in pattern_words]\n",
        "    \n",
        "    # create our bag of words array with 1, if word match found in current pattern\n",
        "    for w in words:\n",
        "        bag.append(1) if w in pattern_words else bag.append(0)\n",
        "    # output is a '0' for each tag and '1' for current tag (for each pattern)\n",
        "    output_row = list(output_empty)\n",
        "    output_row[classes.index(doc[1])] = 1\n",
        "    training.append([bag, output_row])\n",
        "\n",
        "# shuffle features and converting it into numpy arrays\n",
        "random.shuffle(training)\n",
        "training = np.array(training)\n",
        "\n",
        "# create train and test lists\n",
        "train_x = list(training[:,0])\n",
        "train_y = list(training[:,1])"
      ],
      "metadata": {
        "id": "4nzY_TARDway"
      },
      "execution_count": 7,
      "outputs": []
    },
    {
      "cell_type": "markdown",
      "source": [
        "## Create NN model to predict the responses"
      ],
      "metadata": {
        "id": "8f-OV4lYS6tP"
      }
    },
    {
      "cell_type": "code",
      "source": [
        "model = Sequential()\n",
        "model.add(Dense(128, input_shape=(len(train_x[0]),), activation='relu'))\n",
        "model.add(Dropout(0.5))\n",
        "model.add(Dense(64, activation='relu'))\n",
        "model.add(Dropout(0.5))\n",
        "model.add(Dense(len(train_y[0]), activation='softmax'))\n",
        "\n",
        "# Compile model. Stochastic gradient descent with Nesterov accelerated gradient gives good results for this model\n",
        "sgd = SGD(learning_rate=0.01, decay=1e-6, momentum=0.9, nesterov=True)\n",
        "model.compile(loss='categorical_crossentropy', optimizer=sgd, metrics=['accuracy'])\n",
        "\n",
        "#fitting and saving the model \n",
        "hist = model.fit(np.array(train_x), np.array(train_y), epochs=200, batch_size=5, verbose=1)\n",
        "model.save('chatbot.h5', hist) # we will pickle this model to use in the future\n",
        "print(\"\\n\")\n",
        "print(\"*\"*50)\n",
        "print(\"\\nModel Created Successfully!\")"
      ],
      "metadata": {
        "colab": {
          "base_uri": "https://localhost:8080/"
        },
        "id": "XHAKZlK8Dwdm",
        "outputId": "cd2c1c1a-0c3f-4a62-b4b4-62b37456ffad"
      },
      "execution_count": 8,
      "outputs": [
        {
          "output_type": "stream",
          "name": "stdout",
          "text": [
            "Epoch 1/200\n",
            "26/26 [==============================] - 1s 2ms/step - loss: 2.0632 - accuracy: 0.1953 \n",
            "Epoch 2/200\n",
            "26/26 [==============================] - 0s 2ms/step - loss: 1.9104 - accuracy: 0.2188\n",
            "Epoch 3/200\n",
            "26/26 [==============================] - 0s 1ms/step - loss: 1.8277 - accuracy: 0.2578\n",
            "Epoch 4/200\n",
            "26/26 [==============================] - 0s 2ms/step - loss: 1.7627 - accuracy: 0.3438\n",
            "Epoch 5/200\n",
            "26/26 [==============================] - 0s 2ms/step - loss: 1.6392 - accuracy: 0.4375\n",
            "Epoch 6/200\n",
            "26/26 [==============================] - 0s 2ms/step - loss: 1.5799 - accuracy: 0.4062\n",
            "Epoch 7/200\n",
            "26/26 [==============================] - 0s 2ms/step - loss: 1.4153 - accuracy: 0.4922\n",
            "Epoch 8/200\n",
            "26/26 [==============================] - 0s 2ms/step - loss: 1.2388 - accuracy: 0.6094\n",
            "Epoch 9/200\n",
            "26/26 [==============================] - 0s 2ms/step - loss: 1.1570 - accuracy: 0.5625\n",
            "Epoch 10/200\n",
            "26/26 [==============================] - 0s 2ms/step - loss: 0.9799 - accuracy: 0.6797\n",
            "Epoch 11/200\n",
            "26/26 [==============================] - 0s 2ms/step - loss: 0.9657 - accuracy: 0.6484\n",
            "Epoch 12/200\n",
            "26/26 [==============================] - 0s 2ms/step - loss: 0.8809 - accuracy: 0.6953\n",
            "Epoch 13/200\n",
            "26/26 [==============================] - 0s 2ms/step - loss: 0.7736 - accuracy: 0.7344\n",
            "Epoch 14/200\n",
            "26/26 [==============================] - 0s 2ms/step - loss: 0.7651 - accuracy: 0.7500\n",
            "Epoch 15/200\n",
            "26/26 [==============================] - 0s 2ms/step - loss: 0.6554 - accuracy: 0.8281\n",
            "Epoch 16/200\n",
            "26/26 [==============================] - 0s 2ms/step - loss: 0.6272 - accuracy: 0.7969\n",
            "Epoch 17/200\n",
            "26/26 [==============================] - 0s 2ms/step - loss: 0.4651 - accuracy: 0.8828\n",
            "Epoch 18/200\n",
            "26/26 [==============================] - 0s 2ms/step - loss: 0.4303 - accuracy: 0.8516\n",
            "Epoch 19/200\n",
            "26/26 [==============================] - 0s 2ms/step - loss: 0.4467 - accuracy: 0.8516\n",
            "Epoch 20/200\n",
            "26/26 [==============================] - 0s 2ms/step - loss: 0.3230 - accuracy: 0.9453\n",
            "Epoch 21/200\n",
            "26/26 [==============================] - 0s 2ms/step - loss: 0.3208 - accuracy: 0.8750\n",
            "Epoch 22/200\n",
            "26/26 [==============================] - 0s 2ms/step - loss: 0.3490 - accuracy: 0.8984\n",
            "Epoch 23/200\n",
            "26/26 [==============================] - 0s 2ms/step - loss: 0.3135 - accuracy: 0.9375\n",
            "Epoch 24/200\n",
            "26/26 [==============================] - 0s 2ms/step - loss: 0.2582 - accuracy: 0.9453\n",
            "Epoch 25/200\n",
            "26/26 [==============================] - 0s 2ms/step - loss: 0.2569 - accuracy: 0.9375\n",
            "Epoch 26/200\n",
            "26/26 [==============================] - 0s 2ms/step - loss: 0.1958 - accuracy: 0.9531\n",
            "Epoch 27/200\n",
            "26/26 [==============================] - 0s 2ms/step - loss: 0.2280 - accuracy: 0.9219\n",
            "Epoch 28/200\n",
            "26/26 [==============================] - 0s 2ms/step - loss: 0.2601 - accuracy: 0.9297\n",
            "Epoch 29/200\n",
            "26/26 [==============================] - 0s 2ms/step - loss: 0.1795 - accuracy: 0.9453\n",
            "Epoch 30/200\n",
            "26/26 [==============================] - 0s 2ms/step - loss: 0.1676 - accuracy: 0.9531\n",
            "Epoch 31/200\n",
            "26/26 [==============================] - 0s 2ms/step - loss: 0.1449 - accuracy: 0.9688\n",
            "Epoch 32/200\n",
            "26/26 [==============================] - 0s 2ms/step - loss: 0.1045 - accuracy: 0.9844\n",
            "Epoch 33/200\n",
            "26/26 [==============================] - 0s 2ms/step - loss: 0.1123 - accuracy: 0.9922\n",
            "Epoch 34/200\n",
            "26/26 [==============================] - 0s 2ms/step - loss: 0.1666 - accuracy: 0.9453\n",
            "Epoch 35/200\n",
            "26/26 [==============================] - 0s 2ms/step - loss: 0.1133 - accuracy: 0.9766\n",
            "Epoch 36/200\n",
            "26/26 [==============================] - 0s 2ms/step - loss: 0.0973 - accuracy: 0.9922\n",
            "Epoch 37/200\n",
            "26/26 [==============================] - 0s 2ms/step - loss: 0.1417 - accuracy: 0.9609\n",
            "Epoch 38/200\n",
            "26/26 [==============================] - 0s 2ms/step - loss: 0.1211 - accuracy: 0.9531\n",
            "Epoch 39/200\n",
            "26/26 [==============================] - 0s 2ms/step - loss: 0.0907 - accuracy: 0.9688\n",
            "Epoch 40/200\n",
            "26/26 [==============================] - 0s 2ms/step - loss: 0.1085 - accuracy: 0.9531\n",
            "Epoch 41/200\n",
            "26/26 [==============================] - 0s 2ms/step - loss: 0.1011 - accuracy: 0.9766\n",
            "Epoch 42/200\n",
            "26/26 [==============================] - 0s 2ms/step - loss: 0.1174 - accuracy: 0.9766\n",
            "Epoch 43/200\n",
            "26/26 [==============================] - 0s 2ms/step - loss: 0.1065 - accuracy: 0.9766\n",
            "Epoch 44/200\n",
            "26/26 [==============================] - 0s 2ms/step - loss: 0.0821 - accuracy: 0.9844\n",
            "Epoch 45/200\n",
            "26/26 [==============================] - 0s 2ms/step - loss: 0.0781 - accuracy: 0.9844\n",
            "Epoch 46/200\n",
            "26/26 [==============================] - 0s 2ms/step - loss: 0.0605 - accuracy: 1.0000\n",
            "Epoch 47/200\n",
            "26/26 [==============================] - 0s 2ms/step - loss: 0.1144 - accuracy: 0.9766\n",
            "Epoch 48/200\n",
            "26/26 [==============================] - 0s 2ms/step - loss: 0.0625 - accuracy: 0.9844\n",
            "Epoch 49/200\n",
            "26/26 [==============================] - 0s 2ms/step - loss: 0.0854 - accuracy: 0.9922\n",
            "Epoch 50/200\n",
            "26/26 [==============================] - 0s 2ms/step - loss: 0.1065 - accuracy: 0.9609\n",
            "Epoch 51/200\n",
            "26/26 [==============================] - 0s 2ms/step - loss: 0.1105 - accuracy: 0.9766\n",
            "Epoch 52/200\n",
            "26/26 [==============================] - 0s 2ms/step - loss: 0.1095 - accuracy: 0.9531\n",
            "Epoch 53/200\n",
            "26/26 [==============================] - 0s 2ms/step - loss: 0.0808 - accuracy: 0.9766\n",
            "Epoch 54/200\n",
            "26/26 [==============================] - 0s 2ms/step - loss: 0.0738 - accuracy: 0.9844\n",
            "Epoch 55/200\n",
            "26/26 [==============================] - 0s 2ms/step - loss: 0.0603 - accuracy: 0.9844\n",
            "Epoch 56/200\n",
            "26/26 [==============================] - 0s 2ms/step - loss: 0.1035 - accuracy: 0.9688\n",
            "Epoch 57/200\n",
            "26/26 [==============================] - 0s 2ms/step - loss: 0.0693 - accuracy: 0.9844\n",
            "Epoch 58/200\n",
            "26/26 [==============================] - 0s 2ms/step - loss: 0.0593 - accuracy: 1.0000\n",
            "Epoch 59/200\n",
            "26/26 [==============================] - 0s 2ms/step - loss: 0.0600 - accuracy: 0.9922\n",
            "Epoch 60/200\n",
            "26/26 [==============================] - 0s 2ms/step - loss: 0.0917 - accuracy: 0.9844\n",
            "Epoch 61/200\n",
            "26/26 [==============================] - 0s 2ms/step - loss: 0.0771 - accuracy: 0.9844\n",
            "Epoch 62/200\n",
            "26/26 [==============================] - 0s 2ms/step - loss: 0.0262 - accuracy: 1.0000\n",
            "Epoch 63/200\n",
            "26/26 [==============================] - 0s 2ms/step - loss: 0.0440 - accuracy: 0.9922\n",
            "Epoch 64/200\n",
            "26/26 [==============================] - 0s 2ms/step - loss: 0.0511 - accuracy: 0.9844\n",
            "Epoch 65/200\n",
            "26/26 [==============================] - 0s 2ms/step - loss: 0.0651 - accuracy: 0.9922\n",
            "Epoch 66/200\n",
            "26/26 [==============================] - 0s 2ms/step - loss: 0.0471 - accuracy: 1.0000\n",
            "Epoch 67/200\n",
            "26/26 [==============================] - 0s 2ms/step - loss: 0.0301 - accuracy: 1.0000\n",
            "Epoch 68/200\n",
            "26/26 [==============================] - 0s 2ms/step - loss: 0.0472 - accuracy: 0.9922\n",
            "Epoch 69/200\n",
            "26/26 [==============================] - 0s 2ms/step - loss: 0.0383 - accuracy: 1.0000\n",
            "Epoch 70/200\n",
            "26/26 [==============================] - 0s 2ms/step - loss: 0.0286 - accuracy: 0.9922\n",
            "Epoch 71/200\n",
            "26/26 [==============================] - 0s 2ms/step - loss: 0.0323 - accuracy: 0.9922\n",
            "Epoch 72/200\n",
            "26/26 [==============================] - 0s 2ms/step - loss: 0.0682 - accuracy: 0.9922\n",
            "Epoch 73/200\n",
            "26/26 [==============================] - 0s 2ms/step - loss: 0.0652 - accuracy: 0.9766\n",
            "Epoch 74/200\n",
            "26/26 [==============================] - 0s 2ms/step - loss: 0.0231 - accuracy: 1.0000\n",
            "Epoch 75/200\n",
            "26/26 [==============================] - 0s 2ms/step - loss: 0.0353 - accuracy: 1.0000\n",
            "Epoch 76/200\n",
            "26/26 [==============================] - 0s 2ms/step - loss: 0.0473 - accuracy: 0.9922\n",
            "Epoch 77/200\n",
            "26/26 [==============================] - 0s 2ms/step - loss: 0.0577 - accuracy: 0.9922\n",
            "Epoch 78/200\n",
            "26/26 [==============================] - 0s 2ms/step - loss: 0.0840 - accuracy: 0.9766\n",
            "Epoch 79/200\n",
            "26/26 [==============================] - 0s 2ms/step - loss: 0.0401 - accuracy: 0.9922\n",
            "Epoch 80/200\n",
            "26/26 [==============================] - 0s 2ms/step - loss: 0.0338 - accuracy: 0.9922\n",
            "Epoch 81/200\n",
            "26/26 [==============================] - 0s 2ms/step - loss: 0.0270 - accuracy: 1.0000\n",
            "Epoch 82/200\n",
            "26/26 [==============================] - 0s 2ms/step - loss: 0.0154 - accuracy: 1.0000\n",
            "Epoch 83/200\n",
            "26/26 [==============================] - 0s 2ms/step - loss: 0.0482 - accuracy: 0.9844\n",
            "Epoch 84/200\n",
            "26/26 [==============================] - 0s 2ms/step - loss: 0.0305 - accuracy: 1.0000\n",
            "Epoch 85/200\n",
            "26/26 [==============================] - 0s 2ms/step - loss: 0.0379 - accuracy: 0.9922\n",
            "Epoch 86/200\n",
            "26/26 [==============================] - 0s 3ms/step - loss: 0.0263 - accuracy: 0.9922\n",
            "Epoch 87/200\n",
            "26/26 [==============================] - 0s 2ms/step - loss: 0.0538 - accuracy: 0.9766\n",
            "Epoch 88/200\n",
            "26/26 [==============================] - 0s 2ms/step - loss: 0.0232 - accuracy: 1.0000\n",
            "Epoch 89/200\n",
            "26/26 [==============================] - 0s 2ms/step - loss: 0.0247 - accuracy: 1.0000\n",
            "Epoch 90/200\n",
            "26/26 [==============================] - 0s 2ms/step - loss: 0.0191 - accuracy: 1.0000\n",
            "Epoch 91/200\n",
            "26/26 [==============================] - 0s 2ms/step - loss: 0.0602 - accuracy: 0.9766\n",
            "Epoch 92/200\n",
            "26/26 [==============================] - 0s 2ms/step - loss: 0.0127 - accuracy: 1.0000\n",
            "Epoch 93/200\n",
            "26/26 [==============================] - 0s 2ms/step - loss: 0.0397 - accuracy: 0.9844\n",
            "Epoch 94/200\n",
            "26/26 [==============================] - 0s 2ms/step - loss: 0.0159 - accuracy: 1.0000\n",
            "Epoch 95/200\n",
            "26/26 [==============================] - 0s 2ms/step - loss: 0.0447 - accuracy: 0.9844\n",
            "Epoch 96/200\n",
            "26/26 [==============================] - 0s 2ms/step - loss: 0.0135 - accuracy: 1.0000\n",
            "Epoch 97/200\n",
            "26/26 [==============================] - 0s 2ms/step - loss: 0.0307 - accuracy: 0.9922\n",
            "Epoch 98/200\n",
            "26/26 [==============================] - 0s 2ms/step - loss: 0.0160 - accuracy: 1.0000\n",
            "Epoch 99/200\n",
            "26/26 [==============================] - 0s 2ms/step - loss: 0.0300 - accuracy: 0.9922\n",
            "Epoch 100/200\n",
            "26/26 [==============================] - 0s 2ms/step - loss: 0.0243 - accuracy: 0.9922\n",
            "Epoch 101/200\n",
            "26/26 [==============================] - 0s 2ms/step - loss: 0.0313 - accuracy: 0.9922\n",
            "Epoch 102/200\n",
            "26/26 [==============================] - 0s 2ms/step - loss: 0.0141 - accuracy: 1.0000\n",
            "Epoch 103/200\n",
            "26/26 [==============================] - 0s 2ms/step - loss: 0.0152 - accuracy: 1.0000\n",
            "Epoch 104/200\n",
            "26/26 [==============================] - 0s 2ms/step - loss: 0.0281 - accuracy: 0.9922\n",
            "Epoch 105/200\n",
            "26/26 [==============================] - 0s 2ms/step - loss: 0.0692 - accuracy: 0.9844\n",
            "Epoch 106/200\n",
            "26/26 [==============================] - 0s 2ms/step - loss: 0.0273 - accuracy: 0.9922\n",
            "Epoch 107/200\n",
            "26/26 [==============================] - 0s 2ms/step - loss: 0.0337 - accuracy: 0.9922\n",
            "Epoch 108/200\n",
            "26/26 [==============================] - 0s 2ms/step - loss: 0.0469 - accuracy: 0.9844\n",
            "Epoch 109/200\n",
            "26/26 [==============================] - 0s 2ms/step - loss: 0.0410 - accuracy: 0.9844\n",
            "Epoch 110/200\n",
            "26/26 [==============================] - 0s 2ms/step - loss: 0.0217 - accuracy: 0.9922\n",
            "Epoch 111/200\n",
            "26/26 [==============================] - 0s 2ms/step - loss: 0.0208 - accuracy: 1.0000\n",
            "Epoch 112/200\n",
            "26/26 [==============================] - 0s 2ms/step - loss: 0.0123 - accuracy: 1.0000\n",
            "Epoch 113/200\n",
            "26/26 [==============================] - 0s 2ms/step - loss: 0.0397 - accuracy: 0.9922\n",
            "Epoch 114/200\n",
            "26/26 [==============================] - 0s 2ms/step - loss: 0.0353 - accuracy: 0.9922\n",
            "Epoch 115/200\n",
            "26/26 [==============================] - 0s 2ms/step - loss: 0.0168 - accuracy: 1.0000\n",
            "Epoch 116/200\n",
            "26/26 [==============================] - 0s 3ms/step - loss: 0.0135 - accuracy: 1.0000\n",
            "Epoch 117/200\n",
            "26/26 [==============================] - 0s 2ms/step - loss: 0.0171 - accuracy: 1.0000\n",
            "Epoch 118/200\n",
            "26/26 [==============================] - 0s 2ms/step - loss: 0.0175 - accuracy: 0.9922\n",
            "Epoch 119/200\n",
            "26/26 [==============================] - 0s 2ms/step - loss: 0.0087 - accuracy: 1.0000\n",
            "Epoch 120/200\n",
            "26/26 [==============================] - 0s 2ms/step - loss: 0.0242 - accuracy: 1.0000\n",
            "Epoch 121/200\n",
            "26/26 [==============================] - 0s 2ms/step - loss: 0.0103 - accuracy: 1.0000\n",
            "Epoch 122/200\n",
            "26/26 [==============================] - 0s 2ms/step - loss: 0.0260 - accuracy: 0.9844\n",
            "Epoch 123/200\n",
            "26/26 [==============================] - 0s 2ms/step - loss: 0.0254 - accuracy: 0.9922\n",
            "Epoch 124/200\n",
            "26/26 [==============================] - 0s 2ms/step - loss: 0.0088 - accuracy: 1.0000\n",
            "Epoch 125/200\n",
            "26/26 [==============================] - 0s 2ms/step - loss: 0.0117 - accuracy: 1.0000\n",
            "Epoch 126/200\n",
            "26/26 [==============================] - 0s 2ms/step - loss: 0.0241 - accuracy: 1.0000\n",
            "Epoch 127/200\n",
            "26/26 [==============================] - 0s 2ms/step - loss: 0.0175 - accuracy: 0.9922\n",
            "Epoch 128/200\n",
            "26/26 [==============================] - 0s 2ms/step - loss: 0.0166 - accuracy: 1.0000\n",
            "Epoch 129/200\n",
            "26/26 [==============================] - 0s 2ms/step - loss: 0.0254 - accuracy: 0.9922\n",
            "Epoch 130/200\n",
            "26/26 [==============================] - 0s 2ms/step - loss: 0.0186 - accuracy: 0.9922\n",
            "Epoch 131/200\n",
            "26/26 [==============================] - 0s 2ms/step - loss: 0.0178 - accuracy: 1.0000\n",
            "Epoch 132/200\n",
            "26/26 [==============================] - 0s 2ms/step - loss: 0.0147 - accuracy: 0.9922\n",
            "Epoch 133/200\n",
            "26/26 [==============================] - 0s 2ms/step - loss: 0.0090 - accuracy: 1.0000\n",
            "Epoch 134/200\n",
            "26/26 [==============================] - 0s 2ms/step - loss: 0.0448 - accuracy: 0.9844\n",
            "Epoch 135/200\n",
            "26/26 [==============================] - 0s 2ms/step - loss: 0.0151 - accuracy: 0.9922\n",
            "Epoch 136/200\n",
            "26/26 [==============================] - 0s 2ms/step - loss: 0.0146 - accuracy: 1.0000\n",
            "Epoch 137/200\n",
            "26/26 [==============================] - 0s 2ms/step - loss: 0.0312 - accuracy: 0.9922\n",
            "Epoch 138/200\n",
            "26/26 [==============================] - 0s 2ms/step - loss: 0.0189 - accuracy: 1.0000\n",
            "Epoch 139/200\n",
            "26/26 [==============================] - 0s 2ms/step - loss: 0.0165 - accuracy: 0.9922\n",
            "Epoch 140/200\n",
            "26/26 [==============================] - 0s 2ms/step - loss: 0.0142 - accuracy: 1.0000\n",
            "Epoch 141/200\n",
            "26/26 [==============================] - 0s 2ms/step - loss: 0.0062 - accuracy: 1.0000\n",
            "Epoch 142/200\n",
            "26/26 [==============================] - 0s 2ms/step - loss: 0.0076 - accuracy: 1.0000\n",
            "Epoch 143/200\n",
            "26/26 [==============================] - 0s 2ms/step - loss: 0.0122 - accuracy: 0.9922\n",
            "Epoch 144/200\n",
            "26/26 [==============================] - 0s 2ms/step - loss: 0.0199 - accuracy: 1.0000\n",
            "Epoch 145/200\n",
            "26/26 [==============================] - 0s 2ms/step - loss: 0.0310 - accuracy: 0.9922\n",
            "Epoch 146/200\n",
            "26/26 [==============================] - 0s 2ms/step - loss: 0.0139 - accuracy: 1.0000\n",
            "Epoch 147/200\n",
            "26/26 [==============================] - 0s 2ms/step - loss: 0.0094 - accuracy: 1.0000\n",
            "Epoch 148/200\n",
            "26/26 [==============================] - 0s 2ms/step - loss: 0.0209 - accuracy: 1.0000\n",
            "Epoch 149/200\n",
            "26/26 [==============================] - 0s 2ms/step - loss: 0.0145 - accuracy: 1.0000\n",
            "Epoch 150/200\n",
            "26/26 [==============================] - 0s 2ms/step - loss: 0.0231 - accuracy: 1.0000\n",
            "Epoch 151/200\n",
            "26/26 [==============================] - 0s 2ms/step - loss: 0.0120 - accuracy: 0.9922\n",
            "Epoch 152/200\n",
            "26/26 [==============================] - 0s 2ms/step - loss: 0.0465 - accuracy: 0.9766\n",
            "Epoch 153/200\n",
            "26/26 [==============================] - 0s 2ms/step - loss: 0.0041 - accuracy: 1.0000\n",
            "Epoch 154/200\n",
            "26/26 [==============================] - 0s 2ms/step - loss: 0.0376 - accuracy: 0.9922\n",
            "Epoch 155/200\n",
            "26/26 [==============================] - 0s 2ms/step - loss: 0.0337 - accuracy: 0.9844\n",
            "Epoch 156/200\n",
            "26/26 [==============================] - 0s 2ms/step - loss: 0.0203 - accuracy: 0.9922\n",
            "Epoch 157/200\n",
            "26/26 [==============================] - 0s 2ms/step - loss: 0.0151 - accuracy: 0.9922\n",
            "Epoch 158/200\n",
            "26/26 [==============================] - 0s 2ms/step - loss: 0.0365 - accuracy: 0.9922\n",
            "Epoch 159/200\n",
            "26/26 [==============================] - 0s 2ms/step - loss: 0.0088 - accuracy: 1.0000\n",
            "Epoch 160/200\n",
            "26/26 [==============================] - 0s 2ms/step - loss: 0.0057 - accuracy: 1.0000\n",
            "Epoch 161/200\n",
            "26/26 [==============================] - 0s 2ms/step - loss: 0.0091 - accuracy: 1.0000\n",
            "Epoch 162/200\n",
            "26/26 [==============================] - 0s 2ms/step - loss: 0.0065 - accuracy: 1.0000\n",
            "Epoch 163/200\n",
            "26/26 [==============================] - 0s 2ms/step - loss: 0.0106 - accuracy: 1.0000\n",
            "Epoch 164/200\n",
            "26/26 [==============================] - 0s 2ms/step - loss: 0.0282 - accuracy: 0.9922\n",
            "Epoch 165/200\n",
            "26/26 [==============================] - 0s 2ms/step - loss: 0.0103 - accuracy: 1.0000\n",
            "Epoch 166/200\n",
            "26/26 [==============================] - 0s 2ms/step - loss: 0.0059 - accuracy: 1.0000\n",
            "Epoch 167/200\n",
            "26/26 [==============================] - 0s 2ms/step - loss: 0.0162 - accuracy: 0.9922\n",
            "Epoch 168/200\n",
            "26/26 [==============================] - 0s 2ms/step - loss: 0.0120 - accuracy: 1.0000\n",
            "Epoch 169/200\n",
            "26/26 [==============================] - 0s 2ms/step - loss: 0.0074 - accuracy: 1.0000\n",
            "Epoch 170/200\n",
            "26/26 [==============================] - 0s 2ms/step - loss: 0.0263 - accuracy: 0.9922\n",
            "Epoch 171/200\n",
            "26/26 [==============================] - 0s 2ms/step - loss: 0.0175 - accuracy: 0.9922\n",
            "Epoch 172/200\n",
            "26/26 [==============================] - 0s 2ms/step - loss: 0.0070 - accuracy: 1.0000\n",
            "Epoch 173/200\n",
            "26/26 [==============================] - 0s 2ms/step - loss: 0.0215 - accuracy: 0.9922\n",
            "Epoch 174/200\n",
            "26/26 [==============================] - 0s 2ms/step - loss: 0.0141 - accuracy: 0.9922\n",
            "Epoch 175/200\n",
            "26/26 [==============================] - 0s 2ms/step - loss: 0.0117 - accuracy: 0.9922\n",
            "Epoch 176/200\n",
            "26/26 [==============================] - 0s 2ms/step - loss: 0.0114 - accuracy: 0.9922\n",
            "Epoch 177/200\n",
            "26/26 [==============================] - 0s 2ms/step - loss: 0.0080 - accuracy: 1.0000\n",
            "Epoch 178/200\n",
            "26/26 [==============================] - 0s 2ms/step - loss: 0.0083 - accuracy: 1.0000\n",
            "Epoch 179/200\n",
            "26/26 [==============================] - 0s 2ms/step - loss: 0.0033 - accuracy: 1.0000\n",
            "Epoch 180/200\n",
            "26/26 [==============================] - 0s 2ms/step - loss: 0.0131 - accuracy: 1.0000\n",
            "Epoch 181/200\n",
            "26/26 [==============================] - 0s 2ms/step - loss: 0.0078 - accuracy: 1.0000\n",
            "Epoch 182/200\n",
            "26/26 [==============================] - 0s 2ms/step - loss: 0.0023 - accuracy: 1.0000\n",
            "Epoch 183/200\n",
            "26/26 [==============================] - 0s 2ms/step - loss: 0.0056 - accuracy: 1.0000\n",
            "Epoch 184/200\n",
            "26/26 [==============================] - 0s 2ms/step - loss: 0.0280 - accuracy: 0.9922\n",
            "Epoch 185/200\n",
            "26/26 [==============================] - 0s 2ms/step - loss: 0.0049 - accuracy: 1.0000\n",
            "Epoch 186/200\n",
            "26/26 [==============================] - 0s 2ms/step - loss: 0.0159 - accuracy: 1.0000\n",
            "Epoch 187/200\n",
            "26/26 [==============================] - 0s 2ms/step - loss: 0.0052 - accuracy: 1.0000\n",
            "Epoch 188/200\n",
            "26/26 [==============================] - 0s 2ms/step - loss: 0.0261 - accuracy: 0.9922\n",
            "Epoch 189/200\n",
            "26/26 [==============================] - 0s 2ms/step - loss: 0.0020 - accuracy: 1.0000\n",
            "Epoch 190/200\n",
            "26/26 [==============================] - 0s 2ms/step - loss: 0.0128 - accuracy: 0.9922\n",
            "Epoch 191/200\n",
            "26/26 [==============================] - 0s 2ms/step - loss: 0.0024 - accuracy: 1.0000\n",
            "Epoch 192/200\n",
            "26/26 [==============================] - 0s 2ms/step - loss: 0.0166 - accuracy: 1.0000\n",
            "Epoch 193/200\n",
            "26/26 [==============================] - 0s 2ms/step - loss: 0.0178 - accuracy: 1.0000\n",
            "Epoch 194/200\n",
            "26/26 [==============================] - 0s 2ms/step - loss: 0.0325 - accuracy: 0.9922\n",
            "Epoch 195/200\n",
            "26/26 [==============================] - 0s 2ms/step - loss: 0.0131 - accuracy: 1.0000\n",
            "Epoch 196/200\n",
            "26/26 [==============================] - 0s 2ms/step - loss: 0.0049 - accuracy: 1.0000\n",
            "Epoch 197/200\n",
            "26/26 [==============================] - 0s 2ms/step - loss: 0.0069 - accuracy: 1.0000\n",
            "Epoch 198/200\n",
            "26/26 [==============================] - 0s 2ms/step - loss: 0.0091 - accuracy: 1.0000\n",
            "Epoch 199/200\n",
            "26/26 [==============================] - 0s 2ms/step - loss: 0.0178 - accuracy: 1.0000\n",
            "Epoch 200/200\n",
            "26/26 [==============================] - 0s 2ms/step - loss: 0.0068 - accuracy: 1.0000\n",
            "\n",
            "\n",
            "**************************************************\n",
            "\n",
            "Model Created Successfully!\n"
          ]
        }
      ]
    },
    {
      "cell_type": "markdown",
      "source": [
        "# Now lets load the saved model file"
      ],
      "metadata": {
        "id": "C_JZvKMqTAX1"
      }
    },
    {
      "cell_type": "code",
      "source": [
        "model = load_model('chatbot.h5')\n",
        "intents = json.loads(open(\"/content/drive/MyDrive/AIML Program/Project/NLP1/GL Bot.json\").read())\n",
        "words = pickle.load(open('words.pkl','rb'))\n",
        "classes = pickle.load(open('classes.pkl','rb'))"
      ],
      "metadata": {
        "id": "PtQbDmEbDwhq"
      },
      "execution_count": 9,
      "outputs": []
    },
    {
      "cell_type": "code",
      "source": [
        "def clean_up_sentence(sentence):\n",
        "\n",
        "    # tokenize the pattern - split words into array\n",
        "    sentence_words = nltk.word_tokenize(sentence)\n",
        "    \n",
        "    # stem each word - create short form for word\n",
        "    sentence_words = [lemmatizer.lemmatize(word.lower()) for word in sentence_words]\n",
        "    return sentence_words\n",
        "\n",
        "\n",
        "# return bag of words array: 0 or 1 for each word in the bag that exists in the sentence\n",
        "\n",
        "def bow(sentence, words, show_details=True):\n",
        "\n",
        "    # tokenize the pattern\n",
        "    sentence_words = clean_up_sentence(sentence)\n",
        "\n",
        "    # bag of words - matrix of N words, vocabulary matrix\n",
        "    bag = [0]*len(words) \n",
        "    for s in sentence_words:\n",
        "        for i,w in enumerate(words):\n",
        "            if w == s: \n",
        "               \n",
        "                # assign 1 if current word is in the vocabulary position\n",
        "                bag[i] = 1\n",
        "                if show_details:\n",
        "                    print (\"found in bag: %s\" % w)\n",
        "    return(np.array(bag))\n",
        "\n",
        "def predict_class(sentence, model):\n",
        "   \n",
        "    # filter out predictions below a threshold\n",
        "    p = bow(sentence, words,show_details=False)\n",
        "    res = model.predict(np.array([p]))[0]\n",
        "    error = 0.25\n",
        "    results = [[i,r] for i,r in enumerate(res) if r>error]\n",
        "    \n",
        "    # sort by strength of probability\n",
        "    results.sort(key=lambda x: x[1], reverse=True)\n",
        "    return_list = []\n",
        "    \n",
        "    for r in results:\n",
        "        return_list.append({\"intent\": classes[r[0]], \"probability\": str(r[1])})\n",
        "    return return_list"
      ],
      "metadata": {
        "id": "1YAVBO08Dwkr"
      },
      "execution_count": 10,
      "outputs": []
    },
    {
      "cell_type": "markdown",
      "source": [
        "# Now lets create function to get the response from the model"
      ],
      "metadata": {
        "id": "h4859w3STK_u"
      }
    },
    {
      "cell_type": "code",
      "source": [
        "def getResponse(ints, intents_json):\n",
        "    tag = ints[0]['intent']\n",
        "    list_of_intents = intents_json['intents']\n",
        "    for i in list_of_intents:\n",
        "        if(i['tag']== tag):\n",
        "            result = random.choice(i['responses'])\n",
        "            break\n",
        "    return result\n",
        "\n",
        "# function to predict the class and get the response\n",
        "\n",
        "def chatbot_response(text):\n",
        "    ints = predict_class(text, model)\n",
        "    res = getResponse(ints, intents)\n",
        "    return res"
      ],
      "metadata": {
        "id": "J6JlgqseDwof"
      },
      "execution_count": 11,
      "outputs": []
    },
    {
      "cell_type": "markdown",
      "source": [
        "# Now we are going to create a function to start the chat bot which will continue till the user type 'end'"
      ],
      "metadata": {
        "id": "Huw2_u-0TSm5"
      }
    },
    {
      "cell_type": "code",
      "source": [
        "def start_chat():\n",
        "    print(\"Bot: This is Sophie! Your Personal Assistant.\\n\\n\")\n",
        "    while True:\n",
        "        inp = str(input()).lower()\n",
        "        if inp.lower()==\"end\":\n",
        "            break\n",
        "        if inp.lower()== '' or inp.lower()== '*':\n",
        "            print('Please re-phrase your query!')\n",
        "            print(\"-\"*50)\n",
        "        else:\n",
        "            print(f\"Bot: {chatbot_response(inp)}\"+'\\n')\n",
        "            print(\"-\"*50)"
      ],
      "metadata": {
        "id": "GpqbSpyyDwrW"
      },
      "execution_count": 12,
      "outputs": []
    },
    {
      "cell_type": "code",
      "source": [
        "# start the chat bot\n",
        "start_chat()"
      ],
      "metadata": {
        "colab": {
          "base_uri": "https://localhost:8080/"
        },
        "id": "UmrrfgZaDwuj",
        "outputId": "19bff60e-8cec-4ab8-8f89-7143e50becfb"
      },
      "execution_count": 13,
      "outputs": [
        {
          "name": "stdout",
          "output_type": "stream",
          "text": [
            "Bot: This is Sophie! Your Personal Assistant.\n",
            "\n",
            "\n",
            "hi\n",
            "Bot: Hello! how can i help you ?\n",
            "\n",
            "--------------------------------------------------\n",
            "how are you\n",
            "Bot: Hello! how can i help you ?\n",
            "\n",
            "--------------------------------------------------\n",
            "I want to learn about data science\n",
            "Bot: Hello! how can i help you ?\n",
            "\n",
            "--------------------------------------------------\n",
            "machine learning\n",
            "Bot: Link: Machine Learning wiki \n",
            "\n",
            "--------------------------------------------------\n",
            "deep learning\n",
            "Bot: Link: Neural Nets wiki\n",
            "\n",
            "--------------------------------------------------\n",
            "nlp\n",
            "Bot: Link: Machine Learning wiki \n",
            "\n",
            "--------------------------------------------------\n",
            "can't see\n",
            "Bot: I hope I was able to assist you, Good Bye\n",
            "\n",
            "--------------------------------------------------\n",
            "deep learning\n",
            "Bot: Link: Neural Nets wiki\n",
            "\n",
            "--------------------------------------------------\n",
            "bye\n",
            "Bot: Link: Machine Learning wiki \n",
            "\n",
            "--------------------------------------------------\n",
            "end\n"
          ]
        }
      ]
    },
    {
      "cell_type": "markdown",
      "source": [
        "# **As we can see above that our chatbot is working pretty well. Its taking all questions and giving the response as we have defined in the corpus file. And bot got stopped when we have send the 'end' input as we have defined in the algorithms. **\n",
        "# **So we can say, this is a good bot and working fine.**"
      ],
      "metadata": {
        "id": "psNOO1ZGFDUJ"
      }
    },
    {
      "cell_type": "code",
      "source": [
        ""
      ],
      "metadata": {
        "id": "IDvH3Al0UOSD"
      },
      "execution_count": null,
      "outputs": []
    }
  ],
  "metadata": {
    "colab": {
      "collapsed_sections": [],
      "name": "NLP 1 project.ipynb",
      "provenance": []
    },
    "kernelspec": {
      "display_name": "Python 3",
      "name": "python3"
    },
    "language_info": {
      "name": "python"
    }
  },
  "nbformat": 4,
  "nbformat_minor": 0
}