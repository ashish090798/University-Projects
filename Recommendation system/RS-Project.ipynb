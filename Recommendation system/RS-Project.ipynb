{
 "cells": [
  {
   "cell_type": "code",
   "execution_count": 1,
   "id": "2ef7e00b",
   "metadata": {},
   "outputs": [],
   "source": [
    "# Importing the libraries\n",
    "import numpy as np\n",
    "import pandas as pd\n",
    "import seaborn as sns\n",
    "import matplotlib.pyplot as plt\n",
    "%matplotlib inline\n",
    "from sklearn import preprocessing\n",
    "from collections import defaultdict\n",
    "from surprise import SVD\n",
    "from surprise import KNNWithMeans\n",
    "from surprise import Dataset\n",
    "from surprise import accuracy\n",
    "from surprise import Reader\n",
    "from surprise.model_selection import cross_validate\n",
    "from surprise.model_selection import train_test_split\n",
    "\n",
    "# Suppressing Warnings\n",
    "import warnings\n",
    "warnings.filterwarnings('ignore')"
   ]
  },
  {
   "cell_type": "markdown",
   "id": "b4ef9764",
   "metadata": {},
   "source": [
    "#Reading the all data"
   ]
  },
  {
   "cell_type": "code",
   "execution_count": 2,
   "id": "a608b100",
   "metadata": {},
   "outputs": [
    {
     "data": {
      "text/html": [
       "<div>\n",
       "<style scoped>\n",
       "    .dataframe tbody tr th:only-of-type {\n",
       "        vertical-align: middle;\n",
       "    }\n",
       "\n",
       "    .dataframe tbody tr th {\n",
       "        vertical-align: top;\n",
       "    }\n",
       "\n",
       "    .dataframe thead th {\n",
       "        text-align: right;\n",
       "    }\n",
       "</style>\n",
       "<table border=\"1\" class=\"dataframe\">\n",
       "  <thead>\n",
       "    <tr style=\"text-align: right;\">\n",
       "      <th></th>\n",
       "      <th>phone_url</th>\n",
       "      <th>date</th>\n",
       "      <th>lang</th>\n",
       "      <th>country</th>\n",
       "      <th>source</th>\n",
       "      <th>domain</th>\n",
       "      <th>score</th>\n",
       "      <th>score_max</th>\n",
       "      <th>extract</th>\n",
       "      <th>author</th>\n",
       "      <th>product</th>\n",
       "    </tr>\n",
       "  </thead>\n",
       "  <tbody>\n",
       "    <tr>\n",
       "      <th>0</th>\n",
       "      <td>/cellphones/samsung-galaxy-s8/</td>\n",
       "      <td>5/2/2017</td>\n",
       "      <td>en</td>\n",
       "      <td>us</td>\n",
       "      <td>Verizon Wireless</td>\n",
       "      <td>verizonwireless.com</td>\n",
       "      <td>10.0</td>\n",
       "      <td>10.0</td>\n",
       "      <td>As a diehard Samsung fan who has had every Sam...</td>\n",
       "      <td>CarolAnn35</td>\n",
       "      <td>Samsung Galaxy S8</td>\n",
       "    </tr>\n",
       "    <tr>\n",
       "      <th>1</th>\n",
       "      <td>/cellphones/samsung-galaxy-s8/</td>\n",
       "      <td>4/28/2017</td>\n",
       "      <td>en</td>\n",
       "      <td>us</td>\n",
       "      <td>Phone Arena</td>\n",
       "      <td>phonearena.com</td>\n",
       "      <td>10.0</td>\n",
       "      <td>10.0</td>\n",
       "      <td>Love the phone. the phone is sleek and smooth ...</td>\n",
       "      <td>james0923</td>\n",
       "      <td>Samsung Galaxy S8</td>\n",
       "    </tr>\n",
       "    <tr>\n",
       "      <th>2</th>\n",
       "      <td>/cellphones/samsung-galaxy-s8/</td>\n",
       "      <td>5/4/2017</td>\n",
       "      <td>en</td>\n",
       "      <td>us</td>\n",
       "      <td>Amazon</td>\n",
       "      <td>amazon.com</td>\n",
       "      <td>6.0</td>\n",
       "      <td>10.0</td>\n",
       "      <td>Adequate feel. Nice heft. Processor's still sl...</td>\n",
       "      <td>R. Craig</td>\n",
       "      <td>Samsung Galaxy S8 (64GB) G950U 5.8\" 4G LTE Unl...</td>\n",
       "    </tr>\n",
       "    <tr>\n",
       "      <th>3</th>\n",
       "      <td>/cellphones/samsung-galaxy-s8/</td>\n",
       "      <td>5/2/2017</td>\n",
       "      <td>en</td>\n",
       "      <td>us</td>\n",
       "      <td>Samsung</td>\n",
       "      <td>samsung.com</td>\n",
       "      <td>9.2</td>\n",
       "      <td>10.0</td>\n",
       "      <td>Never disappointed. One of the reasons I've be...</td>\n",
       "      <td>Buster2020</td>\n",
       "      <td>Samsung Galaxy S8 64GB (AT&amp;T)</td>\n",
       "    </tr>\n",
       "    <tr>\n",
       "      <th>4</th>\n",
       "      <td>/cellphones/samsung-galaxy-s8/</td>\n",
       "      <td>5/11/2017</td>\n",
       "      <td>en</td>\n",
       "      <td>us</td>\n",
       "      <td>Verizon Wireless</td>\n",
       "      <td>verizonwireless.com</td>\n",
       "      <td>4.0</td>\n",
       "      <td>10.0</td>\n",
       "      <td>I've now found that i'm in a group of people t...</td>\n",
       "      <td>S Ate Mine</td>\n",
       "      <td>Samsung Galaxy S8</td>\n",
       "    </tr>\n",
       "  </tbody>\n",
       "</table>\n",
       "</div>"
      ],
      "text/plain": [
       "                        phone_url       date lang country            source  \\\n",
       "0  /cellphones/samsung-galaxy-s8/   5/2/2017   en      us  Verizon Wireless   \n",
       "1  /cellphones/samsung-galaxy-s8/  4/28/2017   en      us       Phone Arena   \n",
       "2  /cellphones/samsung-galaxy-s8/   5/4/2017   en      us            Amazon   \n",
       "3  /cellphones/samsung-galaxy-s8/   5/2/2017   en      us           Samsung   \n",
       "4  /cellphones/samsung-galaxy-s8/  5/11/2017   en      us  Verizon Wireless   \n",
       "\n",
       "                domain  score  score_max  \\\n",
       "0  verizonwireless.com   10.0       10.0   \n",
       "1       phonearena.com   10.0       10.0   \n",
       "2           amazon.com    6.0       10.0   \n",
       "3          samsung.com    9.2       10.0   \n",
       "4  verizonwireless.com    4.0       10.0   \n",
       "\n",
       "                                             extract       author  \\\n",
       "0  As a diehard Samsung fan who has had every Sam...   CarolAnn35   \n",
       "1  Love the phone. the phone is sleek and smooth ...    james0923   \n",
       "2  Adequate feel. Nice heft. Processor's still sl...     R. Craig   \n",
       "3  Never disappointed. One of the reasons I've be...  Buster2020    \n",
       "4  I've now found that i'm in a group of people t...   S Ate Mine   \n",
       "\n",
       "                                             product  \n",
       "0                                  Samsung Galaxy S8  \n",
       "1                                  Samsung Galaxy S8  \n",
       "2  Samsung Galaxy S8 (64GB) G950U 5.8\" 4G LTE Unl...  \n",
       "3                      Samsung Galaxy S8 64GB (AT&T)  \n",
       "4                                  Samsung Galaxy S8  "
      ]
     },
     "execution_count": 2,
     "metadata": {},
     "output_type": "execute_result"
    }
   ],
   "source": [
    "d1=pd.read_csv('phone_user_review_file_1.csv')\n",
    "d1.head()"
   ]
  },
  {
   "cell_type": "code",
   "execution_count": 3,
   "id": "811e8431",
   "metadata": {},
   "outputs": [
    {
     "data": {
      "text/plain": [
       "(374910, 11)"
      ]
     },
     "execution_count": 3,
     "metadata": {},
     "output_type": "execute_result"
    }
   ],
   "source": [
    "d1.shape"
   ]
  },
  {
   "cell_type": "code",
   "execution_count": 4,
   "id": "81f8d7fa",
   "metadata": {},
   "outputs": [
    {
     "data": {
      "text/html": [
       "<div>\n",
       "<style scoped>\n",
       "    .dataframe tbody tr th:only-of-type {\n",
       "        vertical-align: middle;\n",
       "    }\n",
       "\n",
       "    .dataframe tbody tr th {\n",
       "        vertical-align: top;\n",
       "    }\n",
       "\n",
       "    .dataframe thead th {\n",
       "        text-align: right;\n",
       "    }\n",
       "</style>\n",
       "<table border=\"1\" class=\"dataframe\">\n",
       "  <thead>\n",
       "    <tr style=\"text-align: right;\">\n",
       "      <th></th>\n",
       "      <th>phone_url</th>\n",
       "      <th>date</th>\n",
       "      <th>lang</th>\n",
       "      <th>country</th>\n",
       "      <th>source</th>\n",
       "      <th>domain</th>\n",
       "      <th>score</th>\n",
       "      <th>score_max</th>\n",
       "      <th>extract</th>\n",
       "      <th>author</th>\n",
       "      <th>product</th>\n",
       "    </tr>\n",
       "  </thead>\n",
       "  <tbody>\n",
       "    <tr>\n",
       "      <th>0</th>\n",
       "      <td>/cellphones/leagoo-lead-7/</td>\n",
       "      <td>4/15/2015</td>\n",
       "      <td>en</td>\n",
       "      <td>us</td>\n",
       "      <td>Amazon</td>\n",
       "      <td>amazon.com</td>\n",
       "      <td>2.0</td>\n",
       "      <td>10.0</td>\n",
       "      <td>The telephone headset is of poor quality , not...</td>\n",
       "      <td>luis</td>\n",
       "      <td>Leagoo Lead7 5.0 Inch HD JDI LTPS Screen 3G Sm...</td>\n",
       "    </tr>\n",
       "    <tr>\n",
       "      <th>1</th>\n",
       "      <td>/cellphones/leagoo-lead-7/</td>\n",
       "      <td>5/23/2015</td>\n",
       "      <td>en</td>\n",
       "      <td>gb</td>\n",
       "      <td>Amazon</td>\n",
       "      <td>amazon.co.uk</td>\n",
       "      <td>10.0</td>\n",
       "      <td>10.0</td>\n",
       "      <td>This is my first smartphone so I have nothing ...</td>\n",
       "      <td>Mark Lavin</td>\n",
       "      <td>Leagoo Lead 7 Lead7 MTK6582 Quad core 1GB RAM ...</td>\n",
       "    </tr>\n",
       "    <tr>\n",
       "      <th>2</th>\n",
       "      <td>/cellphones/leagoo-lead-7/</td>\n",
       "      <td>4/27/2015</td>\n",
       "      <td>en</td>\n",
       "      <td>gb</td>\n",
       "      <td>Amazon</td>\n",
       "      <td>amazon.co.uk</td>\n",
       "      <td>8.0</td>\n",
       "      <td>10.0</td>\n",
       "      <td>Great phone. Battery life not great but seems ...</td>\n",
       "      <td>tracey</td>\n",
       "      <td>Leagoo Lead 7 Lead7 MTK6582 Quad core 1GB RAM ...</td>\n",
       "    </tr>\n",
       "    <tr>\n",
       "      <th>3</th>\n",
       "      <td>/cellphones/leagoo-lead-7/</td>\n",
       "      <td>4/22/2015</td>\n",
       "      <td>en</td>\n",
       "      <td>gb</td>\n",
       "      <td>Amazon</td>\n",
       "      <td>amazon.co.uk</td>\n",
       "      <td>10.0</td>\n",
       "      <td>10.0</td>\n",
       "      <td>Best 90 quid I've ever spent on a smart phone</td>\n",
       "      <td>Reuben Ingram</td>\n",
       "      <td>Leagoo Lead 7 Lead7 MTK6582 Quad core 1GB RAM ...</td>\n",
       "    </tr>\n",
       "    <tr>\n",
       "      <th>4</th>\n",
       "      <td>/cellphones/leagoo-lead-7/</td>\n",
       "      <td>4/18/2015</td>\n",
       "      <td>en</td>\n",
       "      <td>gb</td>\n",
       "      <td>Amazon</td>\n",
       "      <td>amazon.co.uk</td>\n",
       "      <td>10.0</td>\n",
       "      <td>10.0</td>\n",
       "      <td>I m happy with this phone.it s very good.thx team</td>\n",
       "      <td>viorel</td>\n",
       "      <td>Leagoo Lead 7 Lead7 MTK6582 Quad core 1GB RAM ...</td>\n",
       "    </tr>\n",
       "  </tbody>\n",
       "</table>\n",
       "</div>"
      ],
      "text/plain": [
       "                    phone_url       date lang country  source        domain  \\\n",
       "0  /cellphones/leagoo-lead-7/  4/15/2015   en      us  Amazon    amazon.com   \n",
       "1  /cellphones/leagoo-lead-7/  5/23/2015   en      gb  Amazon  amazon.co.uk   \n",
       "2  /cellphones/leagoo-lead-7/  4/27/2015   en      gb  Amazon  amazon.co.uk   \n",
       "3  /cellphones/leagoo-lead-7/  4/22/2015   en      gb  Amazon  amazon.co.uk   \n",
       "4  /cellphones/leagoo-lead-7/  4/18/2015   en      gb  Amazon  amazon.co.uk   \n",
       "\n",
       "   score  score_max                                            extract  \\\n",
       "0    2.0       10.0  The telephone headset is of poor quality , not...   \n",
       "1   10.0       10.0  This is my first smartphone so I have nothing ...   \n",
       "2    8.0       10.0  Great phone. Battery life not great but seems ...   \n",
       "3   10.0       10.0      Best 90 quid I've ever spent on a smart phone   \n",
       "4   10.0       10.0  I m happy with this phone.it s very good.thx team   \n",
       "\n",
       "          author                                            product  \n",
       "0           luis  Leagoo Lead7 5.0 Inch HD JDI LTPS Screen 3G Sm...  \n",
       "1     Mark Lavin  Leagoo Lead 7 Lead7 MTK6582 Quad core 1GB RAM ...  \n",
       "2         tracey  Leagoo Lead 7 Lead7 MTK6582 Quad core 1GB RAM ...  \n",
       "3  Reuben Ingram  Leagoo Lead 7 Lead7 MTK6582 Quad core 1GB RAM ...  \n",
       "4         viorel  Leagoo Lead 7 Lead7 MTK6582 Quad core 1GB RAM ...  "
      ]
     },
     "execution_count": 4,
     "metadata": {},
     "output_type": "execute_result"
    }
   ],
   "source": [
    "d2=pd.read_csv('phone_user_review_file_2.csv')\n",
    "d2.head()"
   ]
  },
  {
   "cell_type": "code",
   "execution_count": 5,
   "id": "562ea3c6",
   "metadata": {},
   "outputs": [
    {
     "data": {
      "text/plain": [
       "(114925, 11)"
      ]
     },
     "execution_count": 5,
     "metadata": {},
     "output_type": "execute_result"
    }
   ],
   "source": [
    "d2.shape"
   ]
  },
  {
   "cell_type": "code",
   "execution_count": 6,
   "id": "5d594221",
   "metadata": {},
   "outputs": [
    {
     "data": {
      "text/html": [
       "<div>\n",
       "<style scoped>\n",
       "    .dataframe tbody tr th:only-of-type {\n",
       "        vertical-align: middle;\n",
       "    }\n",
       "\n",
       "    .dataframe tbody tr th {\n",
       "        vertical-align: top;\n",
       "    }\n",
       "\n",
       "    .dataframe thead th {\n",
       "        text-align: right;\n",
       "    }\n",
       "</style>\n",
       "<table border=\"1\" class=\"dataframe\">\n",
       "  <thead>\n",
       "    <tr style=\"text-align: right;\">\n",
       "      <th></th>\n",
       "      <th>phone_url</th>\n",
       "      <th>date</th>\n",
       "      <th>lang</th>\n",
       "      <th>country</th>\n",
       "      <th>source</th>\n",
       "      <th>domain</th>\n",
       "      <th>score</th>\n",
       "      <th>score_max</th>\n",
       "      <th>extract</th>\n",
       "      <th>author</th>\n",
       "      <th>product</th>\n",
       "    </tr>\n",
       "  </thead>\n",
       "  <tbody>\n",
       "    <tr>\n",
       "      <th>0</th>\n",
       "      <td>/cellphones/samsung-galaxy-s-iii-slim-sm-g3812/</td>\n",
       "      <td>11/7/2015</td>\n",
       "      <td>pt</td>\n",
       "      <td>br</td>\n",
       "      <td>Submarino</td>\n",
       "      <td>submarino.com.br</td>\n",
       "      <td>6.0</td>\n",
       "      <td>10.0</td>\n",
       "      <td>recomendo, eu comprei um, a um ano, e agora co...</td>\n",
       "      <td>herlington tesch</td>\n",
       "      <td>Samsung Smartphone Samsung Galaxy S3 Slim G381...</td>\n",
       "    </tr>\n",
       "    <tr>\n",
       "      <th>1</th>\n",
       "      <td>/cellphones/samsung-galaxy-s-iii-slim-sm-g3812/</td>\n",
       "      <td>10/2/2015</td>\n",
       "      <td>pt</td>\n",
       "      <td>br</td>\n",
       "      <td>Submarino</td>\n",
       "      <td>submarino.com.br</td>\n",
       "      <td>10.0</td>\n",
       "      <td>10.0</td>\n",
       "      <td>Comprei um pouco desconfiada do site e do celu...</td>\n",
       "      <td>Luisa Silva Marieta</td>\n",
       "      <td>Samsung Smartphone Samsung Galaxy S3 Slim G381...</td>\n",
       "    </tr>\n",
       "    <tr>\n",
       "      <th>2</th>\n",
       "      <td>/cellphones/samsung-galaxy-s-iii-slim-sm-g3812/</td>\n",
       "      <td>9/2/2015</td>\n",
       "      <td>pt</td>\n",
       "      <td>br</td>\n",
       "      <td>Submarino</td>\n",
       "      <td>submarino.com.br</td>\n",
       "      <td>10.0</td>\n",
       "      <td>10.0</td>\n",
       "      <td>Muito bom o produto, obvio que tem versões mel...</td>\n",
       "      <td>Cyrus</td>\n",
       "      <td>Samsung Smartphone Samsung Galaxy S3 Slim G381...</td>\n",
       "    </tr>\n",
       "    <tr>\n",
       "      <th>3</th>\n",
       "      <td>/cellphones/samsung-galaxy-s-iii-slim-sm-g3812/</td>\n",
       "      <td>9/2/2015</td>\n",
       "      <td>pt</td>\n",
       "      <td>br</td>\n",
       "      <td>Submarino</td>\n",
       "      <td>submarino.com.br</td>\n",
       "      <td>8.0</td>\n",
       "      <td>10.0</td>\n",
       "      <td>Unica ressalva fica para a camera que poderia ...</td>\n",
       "      <td>Marcela Santa Clara Brito</td>\n",
       "      <td>Samsung Smartphone Samsung Galaxy S3 Slim G381...</td>\n",
       "    </tr>\n",
       "    <tr>\n",
       "      <th>4</th>\n",
       "      <td>/cellphones/samsung-galaxy-s-iii-slim-sm-g3812/</td>\n",
       "      <td>9/1/2015</td>\n",
       "      <td>pt</td>\n",
       "      <td>br</td>\n",
       "      <td>Colombo</td>\n",
       "      <td>colombo.com.br</td>\n",
       "      <td>8.0</td>\n",
       "      <td>10.0</td>\n",
       "      <td>Rapidez e atenção na entrega. O aparelho é mui...</td>\n",
       "      <td>Claudine Maria Kuhn Walendorff</td>\n",
       "      <td>Smartphone Samsung Galaxy S3 Slim, Dual Chip, ...</td>\n",
       "    </tr>\n",
       "  </tbody>\n",
       "</table>\n",
       "</div>"
      ],
      "text/plain": [
       "                                         phone_url       date lang country  \\\n",
       "0  /cellphones/samsung-galaxy-s-iii-slim-sm-g3812/  11/7/2015   pt      br   \n",
       "1  /cellphones/samsung-galaxy-s-iii-slim-sm-g3812/  10/2/2015   pt      br   \n",
       "2  /cellphones/samsung-galaxy-s-iii-slim-sm-g3812/   9/2/2015   pt      br   \n",
       "3  /cellphones/samsung-galaxy-s-iii-slim-sm-g3812/   9/2/2015   pt      br   \n",
       "4  /cellphones/samsung-galaxy-s-iii-slim-sm-g3812/   9/1/2015   pt      br   \n",
       "\n",
       "      source            domain  score  score_max  \\\n",
       "0  Submarino  submarino.com.br    6.0       10.0   \n",
       "1  Submarino  submarino.com.br   10.0       10.0   \n",
       "2  Submarino  submarino.com.br   10.0       10.0   \n",
       "3  Submarino  submarino.com.br    8.0       10.0   \n",
       "4    Colombo    colombo.com.br    8.0       10.0   \n",
       "\n",
       "                                             extract  \\\n",
       "0  recomendo, eu comprei um, a um ano, e agora co...   \n",
       "1  Comprei um pouco desconfiada do site e do celu...   \n",
       "2  Muito bom o produto, obvio que tem versões mel...   \n",
       "3  Unica ressalva fica para a camera que poderia ...   \n",
       "4  Rapidez e atenção na entrega. O aparelho é mui...   \n",
       "\n",
       "                           author  \\\n",
       "0                herlington tesch   \n",
       "1             Luisa Silva Marieta   \n",
       "2                           Cyrus   \n",
       "3       Marcela Santa Clara Brito   \n",
       "4  Claudine Maria Kuhn Walendorff   \n",
       "\n",
       "                                             product  \n",
       "0  Samsung Smartphone Samsung Galaxy S3 Slim G381...  \n",
       "1  Samsung Smartphone Samsung Galaxy S3 Slim G381...  \n",
       "2  Samsung Smartphone Samsung Galaxy S3 Slim G381...  \n",
       "3  Samsung Smartphone Samsung Galaxy S3 Slim G381...  \n",
       "4  Smartphone Samsung Galaxy S3 Slim, Dual Chip, ...  "
      ]
     },
     "execution_count": 6,
     "metadata": {},
     "output_type": "execute_result"
    }
   ],
   "source": [
    "d3=pd.read_csv('phone_user_review_file_3.csv')\n",
    "d3.head()"
   ]
  },
  {
   "cell_type": "code",
   "execution_count": 7,
   "id": "4d146509",
   "metadata": {},
   "outputs": [
    {
     "data": {
      "text/plain": [
       "(312961, 11)"
      ]
     },
     "execution_count": 7,
     "metadata": {},
     "output_type": "execute_result"
    }
   ],
   "source": [
    "d3.shape"
   ]
  },
  {
   "cell_type": "code",
   "execution_count": 8,
   "id": "98f8cf82",
   "metadata": {},
   "outputs": [
    {
     "data": {
      "text/html": [
       "<div>\n",
       "<style scoped>\n",
       "    .dataframe tbody tr th:only-of-type {\n",
       "        vertical-align: middle;\n",
       "    }\n",
       "\n",
       "    .dataframe tbody tr th {\n",
       "        vertical-align: top;\n",
       "    }\n",
       "\n",
       "    .dataframe thead th {\n",
       "        text-align: right;\n",
       "    }\n",
       "</style>\n",
       "<table border=\"1\" class=\"dataframe\">\n",
       "  <thead>\n",
       "    <tr style=\"text-align: right;\">\n",
       "      <th></th>\n",
       "      <th>phone_url</th>\n",
       "      <th>date</th>\n",
       "      <th>lang</th>\n",
       "      <th>country</th>\n",
       "      <th>source</th>\n",
       "      <th>domain</th>\n",
       "      <th>score</th>\n",
       "      <th>score_max</th>\n",
       "      <th>extract</th>\n",
       "      <th>author</th>\n",
       "      <th>product</th>\n",
       "    </tr>\n",
       "  </thead>\n",
       "  <tbody>\n",
       "    <tr>\n",
       "      <th>0</th>\n",
       "      <td>/cellphones/samsung-s7262-duos-galaxy-ace/</td>\n",
       "      <td>3/11/2015</td>\n",
       "      <td>en</td>\n",
       "      <td>us</td>\n",
       "      <td>Amazon</td>\n",
       "      <td>amazon.com</td>\n",
       "      <td>2.0</td>\n",
       "      <td>10.0</td>\n",
       "      <td>was not conpatable with my phone as stated. I ...</td>\n",
       "      <td>Frances DeSimone</td>\n",
       "      <td>Samsung Galaxy Star Pro DUOS S7262 Unlocked Ce...</td>\n",
       "    </tr>\n",
       "    <tr>\n",
       "      <th>1</th>\n",
       "      <td>/cellphones/samsung-s7262-duos-galaxy-ace/</td>\n",
       "      <td>17/11/2015</td>\n",
       "      <td>en</td>\n",
       "      <td>in</td>\n",
       "      <td>Zopper</td>\n",
       "      <td>zopper.com</td>\n",
       "      <td>10.0</td>\n",
       "      <td>10.0</td>\n",
       "      <td>Decent Functions and Easy to Operate Pros:- Th...</td>\n",
       "      <td>Expert Review</td>\n",
       "      <td>Samsung Galaxy Star Pro S7262 Black</td>\n",
       "    </tr>\n",
       "    <tr>\n",
       "      <th>2</th>\n",
       "      <td>/cellphones/samsung-s7262-duos-galaxy-ace/</td>\n",
       "      <td>29/10/2015</td>\n",
       "      <td>en</td>\n",
       "      <td>in</td>\n",
       "      <td>Amazon</td>\n",
       "      <td>amazon.in</td>\n",
       "      <td>4.0</td>\n",
       "      <td>10.0</td>\n",
       "      <td>Not Good Phone such price. Hang too much and v...</td>\n",
       "      <td>Amazon Customer</td>\n",
       "      <td>Samsung Galaxy Star Pro GT-S7262 (Midnight Black)</td>\n",
       "    </tr>\n",
       "    <tr>\n",
       "      <th>3</th>\n",
       "      <td>/cellphones/samsung-s7262-duos-galaxy-ace/</td>\n",
       "      <td>29/10/2015</td>\n",
       "      <td>en</td>\n",
       "      <td>in</td>\n",
       "      <td>Amazon</td>\n",
       "      <td>amazon.in</td>\n",
       "      <td>6.0</td>\n",
       "      <td>10.0</td>\n",
       "      <td>not bad for features</td>\n",
       "      <td>Amazon Customer</td>\n",
       "      <td>Samsung Galaxy Star Pro GT-S7262 (Midnight Black)</td>\n",
       "    </tr>\n",
       "    <tr>\n",
       "      <th>4</th>\n",
       "      <td>/cellphones/samsung-s7262-duos-galaxy-ace/</td>\n",
       "      <td>29/10/2015</td>\n",
       "      <td>en</td>\n",
       "      <td>in</td>\n",
       "      <td>Amazon</td>\n",
       "      <td>amazon.in</td>\n",
       "      <td>10.0</td>\n",
       "      <td>10.0</td>\n",
       "      <td>Excellent product</td>\n",
       "      <td>NHK</td>\n",
       "      <td>Samsung Galaxy Star Pro GT-S7262 (Midnight Black)</td>\n",
       "    </tr>\n",
       "  </tbody>\n",
       "</table>\n",
       "</div>"
      ],
      "text/plain": [
       "                                    phone_url        date lang country  \\\n",
       "0  /cellphones/samsung-s7262-duos-galaxy-ace/   3/11/2015   en      us   \n",
       "1  /cellphones/samsung-s7262-duos-galaxy-ace/  17/11/2015   en      in   \n",
       "2  /cellphones/samsung-s7262-duos-galaxy-ace/  29/10/2015   en      in   \n",
       "3  /cellphones/samsung-s7262-duos-galaxy-ace/  29/10/2015   en      in   \n",
       "4  /cellphones/samsung-s7262-duos-galaxy-ace/  29/10/2015   en      in   \n",
       "\n",
       "   source      domain  score  score_max  \\\n",
       "0  Amazon  amazon.com    2.0       10.0   \n",
       "1  Zopper  zopper.com   10.0       10.0   \n",
       "2  Amazon   amazon.in    4.0       10.0   \n",
       "3  Amazon   amazon.in    6.0       10.0   \n",
       "4  Amazon   amazon.in   10.0       10.0   \n",
       "\n",
       "                                             extract            author  \\\n",
       "0  was not conpatable with my phone as stated. I ...  Frances DeSimone   \n",
       "1  Decent Functions and Easy to Operate Pros:- Th...     Expert Review   \n",
       "2  Not Good Phone such price. Hang too much and v...   Amazon Customer   \n",
       "3                               not bad for features   Amazon Customer   \n",
       "4                                  Excellent product               NHK   \n",
       "\n",
       "                                             product  \n",
       "0  Samsung Galaxy Star Pro DUOS S7262 Unlocked Ce...  \n",
       "1                Samsung Galaxy Star Pro S7262 Black  \n",
       "2  Samsung Galaxy Star Pro GT-S7262 (Midnight Black)  \n",
       "3  Samsung Galaxy Star Pro GT-S7262 (Midnight Black)  \n",
       "4  Samsung Galaxy Star Pro GT-S7262 (Midnight Black)  "
      ]
     },
     "execution_count": 8,
     "metadata": {},
     "output_type": "execute_result"
    }
   ],
   "source": [
    "d4=pd.read_csv('phone_user_review_file_4.csv')\n",
    "d4.head()"
   ]
  },
  {
   "cell_type": "code",
   "execution_count": 9,
   "id": "e78cebc4",
   "metadata": {},
   "outputs": [
    {
     "data": {
      "text/plain": [
       "(98284, 11)"
      ]
     },
     "execution_count": 9,
     "metadata": {},
     "output_type": "execute_result"
    }
   ],
   "source": [
    "d4.shape"
   ]
  },
  {
   "cell_type": "code",
   "execution_count": 10,
   "id": "bd7951a9",
   "metadata": {},
   "outputs": [
    {
     "data": {
      "text/html": [
       "<div>\n",
       "<style scoped>\n",
       "    .dataframe tbody tr th:only-of-type {\n",
       "        vertical-align: middle;\n",
       "    }\n",
       "\n",
       "    .dataframe tbody tr th {\n",
       "        vertical-align: top;\n",
       "    }\n",
       "\n",
       "    .dataframe thead th {\n",
       "        text-align: right;\n",
       "    }\n",
       "</style>\n",
       "<table border=\"1\" class=\"dataframe\">\n",
       "  <thead>\n",
       "    <tr style=\"text-align: right;\">\n",
       "      <th></th>\n",
       "      <th>phone_url</th>\n",
       "      <th>date</th>\n",
       "      <th>lang</th>\n",
       "      <th>country</th>\n",
       "      <th>source</th>\n",
       "      <th>domain</th>\n",
       "      <th>score</th>\n",
       "      <th>score_max</th>\n",
       "      <th>extract</th>\n",
       "      <th>author</th>\n",
       "      <th>product</th>\n",
       "    </tr>\n",
       "  </thead>\n",
       "  <tbody>\n",
       "    <tr>\n",
       "      <th>0</th>\n",
       "      <td>/cellphones/karbonn-k1616/</td>\n",
       "      <td>7/13/2016</td>\n",
       "      <td>en</td>\n",
       "      <td>in</td>\n",
       "      <td>91 Mobiles</td>\n",
       "      <td>91mobiles.com</td>\n",
       "      <td>2.0</td>\n",
       "      <td>10.0</td>\n",
       "      <td>I bought 1 month before. currently speaker is ...</td>\n",
       "      <td>venkatesh</td>\n",
       "      <td>Karbonn K1616</td>\n",
       "    </tr>\n",
       "    <tr>\n",
       "      <th>1</th>\n",
       "      <td>/cellphones/karbonn-k1616/</td>\n",
       "      <td>7/13/2016</td>\n",
       "      <td>en</td>\n",
       "      <td>in</td>\n",
       "      <td>91 Mobiles</td>\n",
       "      <td>91mobiles.com</td>\n",
       "      <td>6.0</td>\n",
       "      <td>10.0</td>\n",
       "      <td>I just bought one week back, I have Airtel con...</td>\n",
       "      <td>Venkat</td>\n",
       "      <td>Karbonn K1616</td>\n",
       "    </tr>\n",
       "    <tr>\n",
       "      <th>2</th>\n",
       "      <td>/cellphones/karbonn-k1616/</td>\n",
       "      <td>7/13/2016</td>\n",
       "      <td>en</td>\n",
       "      <td>in</td>\n",
       "      <td>91 Mobiles</td>\n",
       "      <td>91mobiles.com</td>\n",
       "      <td>4.0</td>\n",
       "      <td>10.0</td>\n",
       "      <td>one problem in this handset opera is not worki...</td>\n",
       "      <td>krrish</td>\n",
       "      <td>Karbonn K1616</td>\n",
       "    </tr>\n",
       "    <tr>\n",
       "      <th>3</th>\n",
       "      <td>/cellphones/karbonn-k1616/</td>\n",
       "      <td>4/25/2014</td>\n",
       "      <td>en</td>\n",
       "      <td>in</td>\n",
       "      <td>Naaptol</td>\n",
       "      <td>naaptol.com</td>\n",
       "      <td>10.0</td>\n",
       "      <td>10.0</td>\n",
       "      <td>here Karbonn comes up with an another excellen...</td>\n",
       "      <td>BRIJESH CHAUHAN</td>\n",
       "      <td>Karbonn K1616 - Black</td>\n",
       "    </tr>\n",
       "    <tr>\n",
       "      <th>4</th>\n",
       "      <td>/cellphones/karbonn-k1616/</td>\n",
       "      <td>4/23/2013</td>\n",
       "      <td>en</td>\n",
       "      <td>in</td>\n",
       "      <td>Naaptol</td>\n",
       "      <td>naaptol.com</td>\n",
       "      <td>10.0</td>\n",
       "      <td>10.0</td>\n",
       "      <td>What a phone, all so on Naaptol my god 23% off...</td>\n",
       "      <td>Suraj CHAUHAN</td>\n",
       "      <td>Karbonn K1616 - Black</td>\n",
       "    </tr>\n",
       "  </tbody>\n",
       "</table>\n",
       "</div>"
      ],
      "text/plain": [
       "                    phone_url       date lang country      source  \\\n",
       "0  /cellphones/karbonn-k1616/  7/13/2016   en      in  91 Mobiles   \n",
       "1  /cellphones/karbonn-k1616/  7/13/2016   en      in  91 Mobiles   \n",
       "2  /cellphones/karbonn-k1616/  7/13/2016   en      in  91 Mobiles   \n",
       "3  /cellphones/karbonn-k1616/  4/25/2014   en      in     Naaptol   \n",
       "4  /cellphones/karbonn-k1616/  4/23/2013   en      in     Naaptol   \n",
       "\n",
       "          domain  score  score_max  \\\n",
       "0  91mobiles.com    2.0       10.0   \n",
       "1  91mobiles.com    6.0       10.0   \n",
       "2  91mobiles.com    4.0       10.0   \n",
       "3    naaptol.com   10.0       10.0   \n",
       "4    naaptol.com   10.0       10.0   \n",
       "\n",
       "                                             extract           author  \\\n",
       "0  I bought 1 month before. currently speaker is ...        venkatesh   \n",
       "1  I just bought one week back, I have Airtel con...           Venkat   \n",
       "2  one problem in this handset opera is not worki...           krrish   \n",
       "3  here Karbonn comes up with an another excellen...  BRIJESH CHAUHAN   \n",
       "4  What a phone, all so on Naaptol my god 23% off...    Suraj CHAUHAN   \n",
       "\n",
       "                 product  \n",
       "0          Karbonn K1616  \n",
       "1          Karbonn K1616  \n",
       "2          Karbonn K1616  \n",
       "3  Karbonn K1616 - Black  \n",
       "4  Karbonn K1616 - Black  "
      ]
     },
     "execution_count": 10,
     "metadata": {},
     "output_type": "execute_result"
    }
   ],
   "source": [
    "d5=pd.read_csv('phone_user_review_file_5.csv')\n",
    "d5.head()"
   ]
  },
  {
   "cell_type": "code",
   "execution_count": 11,
   "id": "2b6fc81b",
   "metadata": {},
   "outputs": [
    {
     "data": {
      "text/plain": [
       "(350216, 11)"
      ]
     },
     "execution_count": 11,
     "metadata": {},
     "output_type": "execute_result"
    }
   ],
   "source": [
    "d5.shape"
   ]
  },
  {
   "cell_type": "code",
   "execution_count": 12,
   "id": "86fbfae8",
   "metadata": {},
   "outputs": [
    {
     "data": {
      "text/html": [
       "<div>\n",
       "<style scoped>\n",
       "    .dataframe tbody tr th:only-of-type {\n",
       "        vertical-align: middle;\n",
       "    }\n",
       "\n",
       "    .dataframe tbody tr th {\n",
       "        vertical-align: top;\n",
       "    }\n",
       "\n",
       "    .dataframe thead th {\n",
       "        text-align: right;\n",
       "    }\n",
       "</style>\n",
       "<table border=\"1\" class=\"dataframe\">\n",
       "  <thead>\n",
       "    <tr style=\"text-align: right;\">\n",
       "      <th></th>\n",
       "      <th>phone_url</th>\n",
       "      <th>date</th>\n",
       "      <th>lang</th>\n",
       "      <th>country</th>\n",
       "      <th>source</th>\n",
       "      <th>domain</th>\n",
       "      <th>score</th>\n",
       "      <th>score_max</th>\n",
       "      <th>extract</th>\n",
       "      <th>author</th>\n",
       "      <th>product</th>\n",
       "    </tr>\n",
       "  </thead>\n",
       "  <tbody>\n",
       "    <tr>\n",
       "      <th>0</th>\n",
       "      <td>/cellphones/samsung-instinct-sph-m800/</td>\n",
       "      <td>9/16/2011</td>\n",
       "      <td>en</td>\n",
       "      <td>us</td>\n",
       "      <td>Phone Arena</td>\n",
       "      <td>phonearena.com</td>\n",
       "      <td>8.0</td>\n",
       "      <td>10.0</td>\n",
       "      <td>I've had the phone for awhile and it's a prett...</td>\n",
       "      <td>ajabrams95</td>\n",
       "      <td>Samsung Instinct HD</td>\n",
       "    </tr>\n",
       "    <tr>\n",
       "      <th>1</th>\n",
       "      <td>/cellphones/samsung-instinct-sph-m800/</td>\n",
       "      <td>2/13/2014</td>\n",
       "      <td>en</td>\n",
       "      <td>us</td>\n",
       "      <td>Amazon</td>\n",
       "      <td>amazon.com</td>\n",
       "      <td>6.0</td>\n",
       "      <td>10.0</td>\n",
       "      <td>to be clear it is not the sellers fault that t...</td>\n",
       "      <td>Stephanie</td>\n",
       "      <td>Samsung SPH M800 Instinct</td>\n",
       "    </tr>\n",
       "    <tr>\n",
       "      <th>2</th>\n",
       "      <td>/cellphones/samsung-instinct-sph-m800/</td>\n",
       "      <td>12/30/2011</td>\n",
       "      <td>en</td>\n",
       "      <td>us</td>\n",
       "      <td>Phone Scoop</td>\n",
       "      <td>phonescoop.com</td>\n",
       "      <td>9.0</td>\n",
       "      <td>10.0</td>\n",
       "      <td>Well i love this phone. i have had ton of phon...</td>\n",
       "      <td>snickers</td>\n",
       "      <td>Instinct M800</td>\n",
       "    </tr>\n",
       "    <tr>\n",
       "      <th>3</th>\n",
       "      <td>/cellphones/samsung-instinct-sph-m800/</td>\n",
       "      <td>10/18/2008</td>\n",
       "      <td>en</td>\n",
       "      <td>us</td>\n",
       "      <td>HandCellPhone</td>\n",
       "      <td>handcellphone.com</td>\n",
       "      <td>4.0</td>\n",
       "      <td>10.0</td>\n",
       "      <td>I have had my Instinct for several months now ...</td>\n",
       "      <td>A4C</td>\n",
       "      <td>Samsung Instinct</td>\n",
       "    </tr>\n",
       "    <tr>\n",
       "      <th>4</th>\n",
       "      <td>/cellphones/samsung-instinct-sph-m800/</td>\n",
       "      <td>9/6/2008</td>\n",
       "      <td>en</td>\n",
       "      <td>us</td>\n",
       "      <td>Reviewed.com</td>\n",
       "      <td>reviewed.com</td>\n",
       "      <td>6.0</td>\n",
       "      <td>10.0</td>\n",
       "      <td>i have had this instinct phone for about two m...</td>\n",
       "      <td>betaBgood</td>\n",
       "      <td>Samsung Instinct</td>\n",
       "    </tr>\n",
       "  </tbody>\n",
       "</table>\n",
       "</div>"
      ],
      "text/plain": [
       "                                phone_url        date lang country  \\\n",
       "0  /cellphones/samsung-instinct-sph-m800/   9/16/2011   en      us   \n",
       "1  /cellphones/samsung-instinct-sph-m800/   2/13/2014   en      us   \n",
       "2  /cellphones/samsung-instinct-sph-m800/  12/30/2011   en      us   \n",
       "3  /cellphones/samsung-instinct-sph-m800/  10/18/2008   en      us   \n",
       "4  /cellphones/samsung-instinct-sph-m800/    9/6/2008   en      us   \n",
       "\n",
       "          source             domain  score  score_max  \\\n",
       "0    Phone Arena     phonearena.com    8.0       10.0   \n",
       "1         Amazon         amazon.com    6.0       10.0   \n",
       "2    Phone Scoop     phonescoop.com    9.0       10.0   \n",
       "3  HandCellPhone  handcellphone.com    4.0       10.0   \n",
       "4   Reviewed.com       reviewed.com    6.0       10.0   \n",
       "\n",
       "                                             extract      author  \\\n",
       "0  I've had the phone for awhile and it's a prett...  ajabrams95   \n",
       "1  to be clear it is not the sellers fault that t...   Stephanie   \n",
       "2  Well i love this phone. i have had ton of phon...    snickers   \n",
       "3  I have had my Instinct for several months now ...         A4C   \n",
       "4  i have had this instinct phone for about two m...   betaBgood   \n",
       "\n",
       "                     product  \n",
       "0        Samsung Instinct HD  \n",
       "1  Samsung SPH M800 Instinct  \n",
       "2              Instinct M800  \n",
       "3           Samsung Instinct  \n",
       "4           Samsung Instinct  "
      ]
     },
     "execution_count": 12,
     "metadata": {},
     "output_type": "execute_result"
    }
   ],
   "source": [
    "d6=pd.read_csv('phone_user_review_file_6.csv')\n",
    "d6.head()"
   ]
  },
  {
   "cell_type": "code",
   "execution_count": 13,
   "id": "79a86359",
   "metadata": {},
   "outputs": [
    {
     "data": {
      "text/plain": [
       "(163837, 11)"
      ]
     },
     "execution_count": 13,
     "metadata": {},
     "output_type": "execute_result"
    }
   ],
   "source": [
    "d6.shape"
   ]
  },
  {
   "cell_type": "code",
   "execution_count": 14,
   "id": "e58f2302",
   "metadata": {},
   "outputs": [
    {
     "data": {
      "text/html": [
       "<div>\n",
       "<style scoped>\n",
       "    .dataframe tbody tr th:only-of-type {\n",
       "        vertical-align: middle;\n",
       "    }\n",
       "\n",
       "    .dataframe tbody tr th {\n",
       "        vertical-align: top;\n",
       "    }\n",
       "\n",
       "    .dataframe thead th {\n",
       "        text-align: right;\n",
       "    }\n",
       "</style>\n",
       "<table border=\"1\" class=\"dataframe\">\n",
       "  <thead>\n",
       "    <tr style=\"text-align: right;\">\n",
       "      <th></th>\n",
       "      <th>phone_url</th>\n",
       "      <th>date</th>\n",
       "      <th>lang</th>\n",
       "      <th>country</th>\n",
       "      <th>source</th>\n",
       "      <th>domain</th>\n",
       "      <th>score</th>\n",
       "      <th>score_max</th>\n",
       "      <th>extract</th>\n",
       "      <th>author</th>\n",
       "      <th>product</th>\n",
       "    </tr>\n",
       "  </thead>\n",
       "  <tbody>\n",
       "    <tr>\n",
       "      <th>0</th>\n",
       "      <td>/cellphones/samsung-galaxy-s8/</td>\n",
       "      <td>5/2/2017</td>\n",
       "      <td>en</td>\n",
       "      <td>us</td>\n",
       "      <td>Verizon Wireless</td>\n",
       "      <td>verizonwireless.com</td>\n",
       "      <td>10.0</td>\n",
       "      <td>10.0</td>\n",
       "      <td>As a diehard Samsung fan who has had every Sam...</td>\n",
       "      <td>CarolAnn35</td>\n",
       "      <td>Samsung Galaxy S8</td>\n",
       "    </tr>\n",
       "    <tr>\n",
       "      <th>1</th>\n",
       "      <td>/cellphones/samsung-galaxy-s8/</td>\n",
       "      <td>4/28/2017</td>\n",
       "      <td>en</td>\n",
       "      <td>us</td>\n",
       "      <td>Phone Arena</td>\n",
       "      <td>phonearena.com</td>\n",
       "      <td>10.0</td>\n",
       "      <td>10.0</td>\n",
       "      <td>Love the phone. the phone is sleek and smooth ...</td>\n",
       "      <td>james0923</td>\n",
       "      <td>Samsung Galaxy S8</td>\n",
       "    </tr>\n",
       "    <tr>\n",
       "      <th>2</th>\n",
       "      <td>/cellphones/samsung-galaxy-s8/</td>\n",
       "      <td>5/4/2017</td>\n",
       "      <td>en</td>\n",
       "      <td>us</td>\n",
       "      <td>Amazon</td>\n",
       "      <td>amazon.com</td>\n",
       "      <td>6.0</td>\n",
       "      <td>10.0</td>\n",
       "      <td>Adequate feel. Nice heft. Processor's still sl...</td>\n",
       "      <td>R. Craig</td>\n",
       "      <td>Samsung Galaxy S8 (64GB) G950U 5.8\" 4G LTE Unl...</td>\n",
       "    </tr>\n",
       "    <tr>\n",
       "      <th>3</th>\n",
       "      <td>/cellphones/samsung-galaxy-s8/</td>\n",
       "      <td>5/2/2017</td>\n",
       "      <td>en</td>\n",
       "      <td>us</td>\n",
       "      <td>Samsung</td>\n",
       "      <td>samsung.com</td>\n",
       "      <td>9.2</td>\n",
       "      <td>10.0</td>\n",
       "      <td>Never disappointed. One of the reasons I've be...</td>\n",
       "      <td>Buster2020</td>\n",
       "      <td>Samsung Galaxy S8 64GB (AT&amp;T)</td>\n",
       "    </tr>\n",
       "    <tr>\n",
       "      <th>4</th>\n",
       "      <td>/cellphones/samsung-galaxy-s8/</td>\n",
       "      <td>5/11/2017</td>\n",
       "      <td>en</td>\n",
       "      <td>us</td>\n",
       "      <td>Verizon Wireless</td>\n",
       "      <td>verizonwireless.com</td>\n",
       "      <td>4.0</td>\n",
       "      <td>10.0</td>\n",
       "      <td>I've now found that i'm in a group of people t...</td>\n",
       "      <td>S Ate Mine</td>\n",
       "      <td>Samsung Galaxy S8</td>\n",
       "    </tr>\n",
       "  </tbody>\n",
       "</table>\n",
       "</div>"
      ],
      "text/plain": [
       "                        phone_url       date lang country            source  \\\n",
       "0  /cellphones/samsung-galaxy-s8/   5/2/2017   en      us  Verizon Wireless   \n",
       "1  /cellphones/samsung-galaxy-s8/  4/28/2017   en      us       Phone Arena   \n",
       "2  /cellphones/samsung-galaxy-s8/   5/4/2017   en      us            Amazon   \n",
       "3  /cellphones/samsung-galaxy-s8/   5/2/2017   en      us           Samsung   \n",
       "4  /cellphones/samsung-galaxy-s8/  5/11/2017   en      us  Verizon Wireless   \n",
       "\n",
       "                domain  score  score_max  \\\n",
       "0  verizonwireless.com   10.0       10.0   \n",
       "1       phonearena.com   10.0       10.0   \n",
       "2           amazon.com    6.0       10.0   \n",
       "3          samsung.com    9.2       10.0   \n",
       "4  verizonwireless.com    4.0       10.0   \n",
       "\n",
       "                                             extract       author  \\\n",
       "0  As a diehard Samsung fan who has had every Sam...   CarolAnn35   \n",
       "1  Love the phone. the phone is sleek and smooth ...    james0923   \n",
       "2  Adequate feel. Nice heft. Processor's still sl...     R. Craig   \n",
       "3  Never disappointed. One of the reasons I've be...  Buster2020    \n",
       "4  I've now found that i'm in a group of people t...   S Ate Mine   \n",
       "\n",
       "                                             product  \n",
       "0                                  Samsung Galaxy S8  \n",
       "1                                  Samsung Galaxy S8  \n",
       "2  Samsung Galaxy S8 (64GB) G950U 5.8\" 4G LTE Unl...  \n",
       "3                      Samsung Galaxy S8 64GB (AT&T)  \n",
       "4                                  Samsung Galaxy S8  "
      ]
     },
     "execution_count": 14,
     "metadata": {},
     "output_type": "execute_result"
    }
   ],
   "source": [
    "#combining all data in one dataframe\n",
    "df=pd.concat([d1,d2,d3,d4,d5,d6],axis=0, ignore_index=True)\n",
    "df.head()"
   ]
  },
  {
   "cell_type": "code",
   "execution_count": 15,
   "id": "dd351e4f",
   "metadata": {},
   "outputs": [
    {
     "data": {
      "text/html": [
       "<div>\n",
       "<style scoped>\n",
       "    .dataframe tbody tr th:only-of-type {\n",
       "        vertical-align: middle;\n",
       "    }\n",
       "\n",
       "    .dataframe tbody tr th {\n",
       "        vertical-align: top;\n",
       "    }\n",
       "\n",
       "    .dataframe thead th {\n",
       "        text-align: right;\n",
       "    }\n",
       "</style>\n",
       "<table border=\"1\" class=\"dataframe\">\n",
       "  <thead>\n",
       "    <tr style=\"text-align: right;\">\n",
       "      <th></th>\n",
       "      <th>phone_url</th>\n",
       "      <th>date</th>\n",
       "      <th>lang</th>\n",
       "      <th>country</th>\n",
       "      <th>source</th>\n",
       "      <th>domain</th>\n",
       "      <th>score</th>\n",
       "      <th>score_max</th>\n",
       "      <th>extract</th>\n",
       "      <th>author</th>\n",
       "      <th>product</th>\n",
       "    </tr>\n",
       "  </thead>\n",
       "  <tbody>\n",
       "    <tr>\n",
       "      <th>1415123</th>\n",
       "      <td>/cellphones/alcatel-ot-club_1187/</td>\n",
       "      <td>5/25/2000</td>\n",
       "      <td>de</td>\n",
       "      <td>de</td>\n",
       "      <td>Ciao</td>\n",
       "      <td>ciao.de</td>\n",
       "      <td>8.0</td>\n",
       "      <td>10.0</td>\n",
       "      <td>Vor ein paar Monaten bekam ich das Alcatel Clu...</td>\n",
       "      <td>abruna</td>\n",
       "      <td>Alcatel Club Plus Handy</td>\n",
       "    </tr>\n",
       "    <tr>\n",
       "      <th>1415124</th>\n",
       "      <td>/cellphones/alcatel-ot-club_1187/</td>\n",
       "      <td>5/21/2000</td>\n",
       "      <td>de</td>\n",
       "      <td>de</td>\n",
       "      <td>Ciao</td>\n",
       "      <td>ciao.de</td>\n",
       "      <td>8.0</td>\n",
       "      <td>10.0</td>\n",
       "      <td>Das Handy kann man einfacher bedienen als eine...</td>\n",
       "      <td>Villeneuve99</td>\n",
       "      <td>Alcatel Club Plus Handy</td>\n",
       "    </tr>\n",
       "    <tr>\n",
       "      <th>1415125</th>\n",
       "      <td>/cellphones/alcatel-ot-club_1187/</td>\n",
       "      <td>5/21/2000</td>\n",
       "      <td>de</td>\n",
       "      <td>de</td>\n",
       "      <td>Ciao</td>\n",
       "      <td>ciao.de</td>\n",
       "      <td>8.0</td>\n",
       "      <td>10.0</td>\n",
       "      <td>Wem Design nicht so wichtig ist, der sollte si...</td>\n",
       "      <td>Larz</td>\n",
       "      <td>Alcatel Club Plus Handy</td>\n",
       "    </tr>\n",
       "    <tr>\n",
       "      <th>1415126</th>\n",
       "      <td>/cellphones/alcatel-ot-club_1187/</td>\n",
       "      <td>5/20/2000</td>\n",
       "      <td>de</td>\n",
       "      <td>de</td>\n",
       "      <td>Ciao</td>\n",
       "      <td>ciao.de</td>\n",
       "      <td>4.0</td>\n",
       "      <td>10.0</td>\n",
       "      <td>Wenn ich das Club von Alcatel in der Hand habe...</td>\n",
       "      <td>BBC_NEWS</td>\n",
       "      <td>Alcatel Club Plus Handy</td>\n",
       "    </tr>\n",
       "    <tr>\n",
       "      <th>1415127</th>\n",
       "      <td>/cellphones/alcatel-ot-club_1187/</td>\n",
       "      <td>5/19/2000</td>\n",
       "      <td>de</td>\n",
       "      <td>de</td>\n",
       "      <td>Ciao</td>\n",
       "      <td>ciao.de</td>\n",
       "      <td>2.0</td>\n",
       "      <td>10.0</td>\n",
       "      <td>Als langjähriger Handybesitzer und -nutzer, ne...</td>\n",
       "      <td>anjuli</td>\n",
       "      <td>Alcatel Club Plus Handy</td>\n",
       "    </tr>\n",
       "    <tr>\n",
       "      <th>1415128</th>\n",
       "      <td>/cellphones/alcatel-ot-club_1187/</td>\n",
       "      <td>5/12/2000</td>\n",
       "      <td>de</td>\n",
       "      <td>de</td>\n",
       "      <td>Ciao</td>\n",
       "      <td>ciao.de</td>\n",
       "      <td>2.0</td>\n",
       "      <td>10.0</td>\n",
       "      <td>Weil mein Onkel bei ALcatel arbeitet habe ich ...</td>\n",
       "      <td>david.paul</td>\n",
       "      <td>Alcatel Club Plus Handy</td>\n",
       "    </tr>\n",
       "    <tr>\n",
       "      <th>1415129</th>\n",
       "      <td>/cellphones/alcatel-ot-club_1187/</td>\n",
       "      <td>5/11/2000</td>\n",
       "      <td>de</td>\n",
       "      <td>de</td>\n",
       "      <td>Ciao</td>\n",
       "      <td>ciao.de</td>\n",
       "      <td>10.0</td>\n",
       "      <td>10.0</td>\n",
       "      <td>Hy Liebe Leserinnen und Leser!! Ich habe seit ...</td>\n",
       "      <td>Christiane14</td>\n",
       "      <td>Alcatel Club Plus Handy</td>\n",
       "    </tr>\n",
       "    <tr>\n",
       "      <th>1415130</th>\n",
       "      <td>/cellphones/alcatel-ot-club_1187/</td>\n",
       "      <td>5/4/2000</td>\n",
       "      <td>de</td>\n",
       "      <td>de</td>\n",
       "      <td>Ciao</td>\n",
       "      <td>ciao.de</td>\n",
       "      <td>2.0</td>\n",
       "      <td>10.0</td>\n",
       "      <td>Jetzt hat wohl Alcatell gedacht ,sie machen wa...</td>\n",
       "      <td>michaelawr</td>\n",
       "      <td>Alcatel Club Plus Handy</td>\n",
       "    </tr>\n",
       "    <tr>\n",
       "      <th>1415131</th>\n",
       "      <td>/cellphones/alcatel-ot-club_1187/</td>\n",
       "      <td>5/1/2000</td>\n",
       "      <td>de</td>\n",
       "      <td>de</td>\n",
       "      <td>Ciao</td>\n",
       "      <td>ciao.de</td>\n",
       "      <td>8.0</td>\n",
       "      <td>10.0</td>\n",
       "      <td>Ich bin seit 2 Jahren (stolzer) Besitzer eines...</td>\n",
       "      <td>claudia0815</td>\n",
       "      <td>Alcatel Club Plus Handy</td>\n",
       "    </tr>\n",
       "    <tr>\n",
       "      <th>1415132</th>\n",
       "      <td>/cellphones/alcatel-ot-club_1187/</td>\n",
       "      <td>4/25/2000</td>\n",
       "      <td>de</td>\n",
       "      <td>de</td>\n",
       "      <td>Ciao</td>\n",
       "      <td>ciao.de</td>\n",
       "      <td>2.0</td>\n",
       "      <td>10.0</td>\n",
       "      <td>Was sich Alkatel hier wieder ausgedacht hat,sc...</td>\n",
       "      <td>michaelawr</td>\n",
       "      <td>Alcatel Club Plus Handy</td>\n",
       "    </tr>\n",
       "  </tbody>\n",
       "</table>\n",
       "</div>"
      ],
      "text/plain": [
       "                                 phone_url       date lang country source  \\\n",
       "1415123  /cellphones/alcatel-ot-club_1187/  5/25/2000   de      de   Ciao   \n",
       "1415124  /cellphones/alcatel-ot-club_1187/  5/21/2000   de      de   Ciao   \n",
       "1415125  /cellphones/alcatel-ot-club_1187/  5/21/2000   de      de   Ciao   \n",
       "1415126  /cellphones/alcatel-ot-club_1187/  5/20/2000   de      de   Ciao   \n",
       "1415127  /cellphones/alcatel-ot-club_1187/  5/19/2000   de      de   Ciao   \n",
       "1415128  /cellphones/alcatel-ot-club_1187/  5/12/2000   de      de   Ciao   \n",
       "1415129  /cellphones/alcatel-ot-club_1187/  5/11/2000   de      de   Ciao   \n",
       "1415130  /cellphones/alcatel-ot-club_1187/   5/4/2000   de      de   Ciao   \n",
       "1415131  /cellphones/alcatel-ot-club_1187/   5/1/2000   de      de   Ciao   \n",
       "1415132  /cellphones/alcatel-ot-club_1187/  4/25/2000   de      de   Ciao   \n",
       "\n",
       "          domain  score  score_max  \\\n",
       "1415123  ciao.de    8.0       10.0   \n",
       "1415124  ciao.de    8.0       10.0   \n",
       "1415125  ciao.de    8.0       10.0   \n",
       "1415126  ciao.de    4.0       10.0   \n",
       "1415127  ciao.de    2.0       10.0   \n",
       "1415128  ciao.de    2.0       10.0   \n",
       "1415129  ciao.de   10.0       10.0   \n",
       "1415130  ciao.de    2.0       10.0   \n",
       "1415131  ciao.de    8.0       10.0   \n",
       "1415132  ciao.de    2.0       10.0   \n",
       "\n",
       "                                                   extract        author  \\\n",
       "1415123  Vor ein paar Monaten bekam ich das Alcatel Clu...        abruna   \n",
       "1415124  Das Handy kann man einfacher bedienen als eine...  Villeneuve99   \n",
       "1415125  Wem Design nicht so wichtig ist, der sollte si...          Larz   \n",
       "1415126  Wenn ich das Club von Alcatel in der Hand habe...      BBC_NEWS   \n",
       "1415127  Als langjähriger Handybesitzer und -nutzer, ne...        anjuli   \n",
       "1415128  Weil mein Onkel bei ALcatel arbeitet habe ich ...    david.paul   \n",
       "1415129  Hy Liebe Leserinnen und Leser!! Ich habe seit ...  Christiane14   \n",
       "1415130  Jetzt hat wohl Alcatell gedacht ,sie machen wa...    michaelawr   \n",
       "1415131  Ich bin seit 2 Jahren (stolzer) Besitzer eines...   claudia0815   \n",
       "1415132  Was sich Alkatel hier wieder ausgedacht hat,sc...    michaelawr   \n",
       "\n",
       "                         product  \n",
       "1415123  Alcatel Club Plus Handy  \n",
       "1415124  Alcatel Club Plus Handy  \n",
       "1415125  Alcatel Club Plus Handy  \n",
       "1415126  Alcatel Club Plus Handy  \n",
       "1415127  Alcatel Club Plus Handy  \n",
       "1415128  Alcatel Club Plus Handy  \n",
       "1415129  Alcatel Club Plus Handy  \n",
       "1415130  Alcatel Club Plus Handy  \n",
       "1415131  Alcatel Club Plus Handy  \n",
       "1415132  Alcatel Club Plus Handy  "
      ]
     },
     "execution_count": 15,
     "metadata": {},
     "output_type": "execute_result"
    }
   ],
   "source": [
    "df.tail(10)"
   ]
  },
  {
   "cell_type": "code",
   "execution_count": 16,
   "id": "323847e8",
   "metadata": {},
   "outputs": [
    {
     "data": {
      "text/plain": [
       "(1415133, 11)"
      ]
     },
     "execution_count": 16,
     "metadata": {},
     "output_type": "execute_result"
    }
   ],
   "source": [
    "df.shape"
   ]
  },
  {
   "cell_type": "code",
   "execution_count": 17,
   "id": "37f1c98d",
   "metadata": {},
   "outputs": [
    {
     "data": {
      "text/plain": [
       "6412"
      ]
     },
     "execution_count": 17,
     "metadata": {},
     "output_type": "execute_result"
    }
   ],
   "source": [
    "#checking duplicate values\n",
    "df.duplicated().sum()"
   ]
  },
  {
   "cell_type": "code",
   "execution_count": 18,
   "id": "8a82986d",
   "metadata": {},
   "outputs": [],
   "source": [
    "#Removing it\n",
    "df=df.drop_duplicates()"
   ]
  },
  {
   "cell_type": "code",
   "execution_count": 19,
   "id": "28c941cc",
   "metadata": {},
   "outputs": [
    {
     "name": "stdout",
     "output_type": "stream",
     "text": [
      "<class 'pandas.core.frame.DataFrame'>\n",
      "Int64Index: 1408721 entries, 0 to 1415132\n",
      "Data columns (total 11 columns):\n",
      " #   Column     Non-Null Count    Dtype  \n",
      "---  ------     --------------    -----  \n",
      " 0   phone_url  1408721 non-null  object \n",
      " 1   date       1408721 non-null  object \n",
      " 2   lang       1408721 non-null  object \n",
      " 3   country    1408721 non-null  object \n",
      " 4   source     1408721 non-null  object \n",
      " 5   domain     1408721 non-null  object \n",
      " 6   score      1345628 non-null  float64\n",
      " 7   score_max  1345628 non-null  float64\n",
      " 8   extract    1389707 non-null  object \n",
      " 9   author     1346904 non-null  object \n",
      " 10  product    1408720 non-null  object \n",
      "dtypes: float64(2), object(9)\n",
      "memory usage: 129.0+ MB\n"
     ]
    }
   ],
   "source": [
    "df.info()"
   ]
  },
  {
   "cell_type": "code",
   "execution_count": 20,
   "id": "014f3b44",
   "metadata": {},
   "outputs": [
    {
     "data": {
      "text/plain": [
       "phone_url        0\n",
       "date             0\n",
       "lang             0\n",
       "country          0\n",
       "source           0\n",
       "domain           0\n",
       "score        63093\n",
       "score_max    63093\n",
       "extract      19014\n",
       "author       61817\n",
       "product          1\n",
       "dtype: int64"
      ]
     },
     "execution_count": 20,
     "metadata": {},
     "output_type": "execute_result"
    }
   ],
   "source": [
    "#checking null values and droping it\n",
    "df.isna().sum()"
   ]
  },
  {
   "cell_type": "code",
   "execution_count": 21,
   "id": "99b947e4",
   "metadata": {},
   "outputs": [],
   "source": [
    "df=df.dropna()"
   ]
  },
  {
   "cell_type": "code",
   "execution_count": 22,
   "id": "3c6c012e",
   "metadata": {},
   "outputs": [
    {
     "data": {
      "text/plain": [
       "(1271451, 11)"
      ]
     },
     "execution_count": 22,
     "metadata": {},
     "output_type": "execute_result"
    }
   ],
   "source": [
    "df.shape"
   ]
  },
  {
   "cell_type": "code",
   "execution_count": 23,
   "id": "aa0e26b7",
   "metadata": {},
   "outputs": [
    {
     "data": {
      "text/plain": [
       "phone_url    0\n",
       "date         0\n",
       "lang         0\n",
       "country      0\n",
       "source       0\n",
       "domain       0\n",
       "score        0\n",
       "score_max    0\n",
       "extract      0\n",
       "author       0\n",
       "product      0\n",
       "dtype: int64"
      ]
     },
     "execution_count": 23,
     "metadata": {},
     "output_type": "execute_result"
    }
   ],
   "source": [
    "df.isna().sum()"
   ]
  },
  {
   "cell_type": "code",
   "execution_count": 24,
   "id": "54a8bea5",
   "metadata": {},
   "outputs": [
    {
     "data": {
      "text/html": [
       "<div>\n",
       "<style scoped>\n",
       "    .dataframe tbody tr th:only-of-type {\n",
       "        vertical-align: middle;\n",
       "    }\n",
       "\n",
       "    .dataframe tbody tr th {\n",
       "        vertical-align: top;\n",
       "    }\n",
       "\n",
       "    .dataframe thead th {\n",
       "        text-align: right;\n",
       "    }\n",
       "</style>\n",
       "<table border=\"1\" class=\"dataframe\">\n",
       "  <thead>\n",
       "    <tr style=\"text-align: right;\">\n",
       "      <th></th>\n",
       "      <th>score</th>\n",
       "      <th>score_max</th>\n",
       "    </tr>\n",
       "  </thead>\n",
       "  <tbody>\n",
       "    <tr>\n",
       "      <th>count</th>\n",
       "      <td>1.271451e+06</td>\n",
       "      <td>1271451.0</td>\n",
       "    </tr>\n",
       "    <tr>\n",
       "      <th>mean</th>\n",
       "      <td>8.006910e+00</td>\n",
       "      <td>10.0</td>\n",
       "    </tr>\n",
       "    <tr>\n",
       "      <th>std</th>\n",
       "      <td>2.621829e+00</td>\n",
       "      <td>0.0</td>\n",
       "    </tr>\n",
       "    <tr>\n",
       "      <th>min</th>\n",
       "      <td>2.000000e-01</td>\n",
       "      <td>10.0</td>\n",
       "    </tr>\n",
       "    <tr>\n",
       "      <th>25%</th>\n",
       "      <td>7.300000e+00</td>\n",
       "      <td>10.0</td>\n",
       "    </tr>\n",
       "    <tr>\n",
       "      <th>50%</th>\n",
       "      <td>9.200000e+00</td>\n",
       "      <td>10.0</td>\n",
       "    </tr>\n",
       "    <tr>\n",
       "      <th>75%</th>\n",
       "      <td>1.000000e+01</td>\n",
       "      <td>10.0</td>\n",
       "    </tr>\n",
       "    <tr>\n",
       "      <th>max</th>\n",
       "      <td>1.000000e+01</td>\n",
       "      <td>10.0</td>\n",
       "    </tr>\n",
       "  </tbody>\n",
       "</table>\n",
       "</div>"
      ],
      "text/plain": [
       "              score  score_max\n",
       "count  1.271451e+06  1271451.0\n",
       "mean   8.006910e+00       10.0\n",
       "std    2.621829e+00        0.0\n",
       "min    2.000000e-01       10.0\n",
       "25%    7.300000e+00       10.0\n",
       "50%    9.200000e+00       10.0\n",
       "75%    1.000000e+01       10.0\n",
       "max    1.000000e+01       10.0"
      ]
     },
     "execution_count": 24,
     "metadata": {},
     "output_type": "execute_result"
    }
   ],
   "source": [
    "df.describe()"
   ]
  },
  {
   "cell_type": "code",
   "execution_count": 25,
   "id": "a865eaef",
   "metadata": {},
   "outputs": [
    {
     "data": {
      "text/plain": [
       "en    542552\n",
       "de    167649\n",
       "ru    138008\n",
       "it    112142\n",
       "es     97927\n",
       "fr     83058\n",
       "pt     56680\n",
       "nl     36683\n",
       "sv     17092\n",
       "fi      6769\n",
       "tr      6467\n",
       "no      1899\n",
       "cs      1683\n",
       "he      1361\n",
       "pl       466\n",
       "da       407\n",
       "hu       330\n",
       "id       263\n",
       "ar        12\n",
       "zh         3\n",
       "Name: lang, dtype: int64"
      ]
     },
     "execution_count": 25,
     "metadata": {},
     "output_type": "execute_result"
    }
   ],
   "source": [
    "df.lang.value_counts()"
   ]
  },
  {
   "cell_type": "code",
   "execution_count": 26,
   "id": "a2ab1468",
   "metadata": {},
   "outputs": [
    {
     "data": {
      "text/plain": [
       "<AxesSubplot:xlabel='lang', ylabel='count'>"
      ]
     },
     "execution_count": 26,
     "metadata": {},
     "output_type": "execute_result"
    },
    {
     "data": {
      "image/png": "[encoded data removed]",
      "text/plain": [
       "<Figure size 720x720 with 1 Axes>"
      ]
     },
     "metadata": {
      "needs_background": "light"
     },
     "output_type": "display_data"
    }
   ],
   "source": [
    "plt.figure(figsize=(10,10))\n",
    "sns.countplot(df.lang)"
   ]
  },
  {
   "cell_type": "code",
   "execution_count": 27,
   "id": "65691b27",
   "metadata": {},
   "outputs": [
    {
     "data": {
      "text/plain": [
       "/cellphones/samsung-galaxy-s6/            15842\n",
       "/cellphones/samsung-galaxy-s7-edge/       15536\n",
       "/cellphones/apple-iphone-5s/              15490\n",
       "/cellphones/samsung-galaxy-s5/            15231\n",
       "/cellphones/motorola-moto-g/              14394\n",
       "/cellphones/samsung-galaxy-s-iii/         13787\n",
       "/cellphones/samsung-galaxy-s7-789999/     13237\n",
       "/cellphones/huawei-p8-lite/               12520\n",
       "/cellphones/samsung-i9500-galaxy-s-iv/    12295\n",
       "/cellphones/lenovo-vibe-k4-note/           9653\n",
       "Name: phone_url, dtype: int64"
      ]
     },
     "execution_count": 27,
     "metadata": {},
     "output_type": "execute_result"
    }
   ],
   "source": [
    "df['phone_url'].value_counts(ascending=False).head(10)"
   ]
  },
  {
   "cell_type": "code",
   "execution_count": 28,
   "id": "9819f163",
   "metadata": {},
   "outputs": [
    {
     "data": {
      "text/plain": [
       "us    310182\n",
       "de    167575\n",
       "in    127678\n",
       "ru    114875\n",
       "it    112142\n",
       "gb     92677\n",
       "fr     83058\n",
       "es     74697\n",
       "br     53527\n",
       "nl     24150\n",
       "Name: country, dtype: int64"
      ]
     },
     "execution_count": 28,
     "metadata": {},
     "output_type": "execute_result"
    }
   ],
   "source": [
    "df.country.value_counts().head(10)"
   ]
  },
  {
   "cell_type": "code",
   "execution_count": 29,
   "id": "921d7a14",
   "metadata": {},
   "outputs": [
    {
     "data": {
      "text/plain": [
       "<AxesSubplot:xlabel='country', ylabel='count'>"
      ]
     },
     "execution_count": 29,
     "metadata": {},
     "output_type": "execute_result"
    },
    {
     "data": {
      "image/png": "[encoded data removed]",
      "text/plain": [
       "<Figure size 1080x720 with 1 Axes>"
      ]
     },
     "metadata": {
      "needs_background": "light"
     },
     "output_type": "display_data"
    }
   ],
   "source": [
    "plt.figure(figsize=(15,10))\n",
    "sns.countplot(df.country)"
   ]
  },
  {
   "cell_type": "code",
   "execution_count": 30,
   "id": "1fbe478a",
   "metadata": {},
   "outputs": [
    {
     "data": {
      "text/plain": [
       "<seaborn.axisgrid.PairGrid at 0x205145a32e0>"
      ]
     },
     "execution_count": 30,
     "metadata": {},
     "output_type": "execute_result"
    },
    {
     "data": {
      "text/plain": [
       "<Figure size 720x720 with 0 Axes>"
      ]
     },
     "metadata": {},
     "output_type": "display_data"
    },
    {
     "data": {
      "image/png": "[encoded data removed]",
      "text/plain": [
       "<Figure size 360x360 with 6 Axes>"
      ]
     },
     "metadata": {
      "needs_background": "light"
     },
     "output_type": "display_data"
    }
   ],
   "source": [
    "plt.figure(figsize=(10,10))\n",
    "sns.pairplot(df)"
   ]
  },
  {
   "cell_type": "code",
   "execution_count": 31,
   "id": "3bf83388",
   "metadata": {},
   "outputs": [],
   "source": [
    "#taking Sample of only 1M data points from the whole dataset\n",
    "df = df.sample(n=1000000,random_state=612)"
   ]
  },
  {
   "cell_type": "code",
   "execution_count": 32,
   "id": "7f657ad1",
   "metadata": {},
   "outputs": [
    {
     "data": {
      "text/html": [
       "<div>\n",
       "<style scoped>\n",
       "    .dataframe tbody tr th:only-of-type {\n",
       "        vertical-align: middle;\n",
       "    }\n",
       "\n",
       "    .dataframe tbody tr th {\n",
       "        vertical-align: top;\n",
       "    }\n",
       "\n",
       "    .dataframe thead th {\n",
       "        text-align: right;\n",
       "    }\n",
       "</style>\n",
       "<table border=\"1\" class=\"dataframe\">\n",
       "  <thead>\n",
       "    <tr style=\"text-align: right;\">\n",
       "      <th></th>\n",
       "      <th>phone_url</th>\n",
       "      <th>date</th>\n",
       "      <th>lang</th>\n",
       "      <th>country</th>\n",
       "      <th>source</th>\n",
       "      <th>domain</th>\n",
       "      <th>score</th>\n",
       "      <th>score_max</th>\n",
       "      <th>extract</th>\n",
       "      <th>author</th>\n",
       "      <th>product</th>\n",
       "    </tr>\n",
       "  </thead>\n",
       "  <tbody>\n",
       "    <tr>\n",
       "      <th>609806</th>\n",
       "      <td>/cellphones/nokia-lumia-1020/</td>\n",
       "      <td>11/20/2013</td>\n",
       "      <td>en</td>\n",
       "      <td>gb</td>\n",
       "      <td>Amazon</td>\n",
       "      <td>amazon.co.uk</td>\n",
       "      <td>10.0</td>\n",
       "      <td>10.0</td>\n",
       "      <td>How did I live without it, excellent in every ...</td>\n",
       "      <td>jimperkins110</td>\n",
       "      <td>Lumia Nokia Lumia 1020 UK Sim Free Windows Sma...</td>\n",
       "    </tr>\n",
       "    <tr>\n",
       "      <th>1372024</th>\n",
       "      <td>/cellphones/motorola-v557/</td>\n",
       "      <td>1/19/2006</td>\n",
       "      <td>en</td>\n",
       "      <td>us</td>\n",
       "      <td>Amazon</td>\n",
       "      <td>amazon.com</td>\n",
       "      <td>2.0</td>\n",
       "      <td>10.0</td>\n",
       "      <td>I've had this phone for a little more than a y...</td>\n",
       "      <td>Penelope Brown</td>\n",
       "      <td>Motorola V557 Unlocked Quadband Cell Phone</td>\n",
       "    </tr>\n",
       "    <tr>\n",
       "      <th>1110810</th>\n",
       "      <td>/cellphones/sanyo-scp-3810/</td>\n",
       "      <td>12/14/2009</td>\n",
       "      <td>en</td>\n",
       "      <td>us</td>\n",
       "      <td>Phone Scoop</td>\n",
       "      <td>phonescoop.com</td>\n",
       "      <td>4.0</td>\n",
       "      <td>10.0</td>\n",
       "      <td>I won't give it a rating so far. I just acquir...</td>\n",
       "      <td>JohnnyPasta</td>\n",
       "      <td>SCP-3810 / Mirro</td>\n",
       "    </tr>\n",
       "    <tr>\n",
       "      <th>532252</th>\n",
       "      <td>/cellphones/apple-iphone-5s/</td>\n",
       "      <td>8/26/2014</td>\n",
       "      <td>en</td>\n",
       "      <td>us</td>\n",
       "      <td>Amazon</td>\n",
       "      <td>amazon.com</td>\n",
       "      <td>10.0</td>\n",
       "      <td>10.0</td>\n",
       "      <td>my in-laws really love the gifts iph5s, thank you</td>\n",
       "      <td>Mitchell Coleman</td>\n",
       "      <td>Apple iPhone 5s 16GB 4G LTE GSM Gold - AT&amp;T Wi...</td>\n",
       "    </tr>\n",
       "    <tr>\n",
       "      <th>1334423</th>\n",
       "      <td>/cellphones/motorola-l6/</td>\n",
       "      <td>1/28/2009</td>\n",
       "      <td>es</td>\n",
       "      <td>ec</td>\n",
       "      <td>MercadoLibre</td>\n",
       "      <td>opinion.mercadolibre.com.ec</td>\n",
       "      <td>6.0</td>\n",
       "      <td>10.0</td>\n",
       "      <td>ESTA BUENO BONITO Y BARATO</td>\n",
       "      <td>JESSROSA</td>\n",
       "      <td>Motorola L6</td>\n",
       "    </tr>\n",
       "    <tr>\n",
       "      <th>...</th>\n",
       "      <td>...</td>\n",
       "      <td>...</td>\n",
       "      <td>...</td>\n",
       "      <td>...</td>\n",
       "      <td>...</td>\n",
       "      <td>...</td>\n",
       "      <td>...</td>\n",
       "      <td>...</td>\n",
       "      <td>...</td>\n",
       "      <td>...</td>\n",
       "      <td>...</td>\n",
       "    </tr>\n",
       "    <tr>\n",
       "      <th>419842</th>\n",
       "      <td>/cellphones/bq-aquaris-e4-5/</td>\n",
       "      <td>1/24/2015</td>\n",
       "      <td>es</td>\n",
       "      <td>es</td>\n",
       "      <td>Amazon</td>\n",
       "      <td>amazon.es</td>\n",
       "      <td>10.0</td>\n",
       "      <td>10.0</td>\n",
       "      <td>Buen procesador. Va rápido y tiene una batería...</td>\n",
       "      <td>Etelop</td>\n",
       "      <td>BQ Aquaris E4.5 - Smartphone libre Android (pa...</td>\n",
       "    </tr>\n",
       "    <tr>\n",
       "      <th>915112</th>\n",
       "      <td>/cellphones/lg-p690/</td>\n",
       "      <td>5/2/2012</td>\n",
       "      <td>ru</td>\n",
       "      <td>ua</td>\n",
       "      <td>Price.ua</td>\n",
       "      <td>price.ua</td>\n",
       "      <td>10.0</td>\n",
       "      <td>10.0</td>\n",
       "      <td>Смарт очень продуманный, понимаешь это сразу п...</td>\n",
       "      <td>ipopov-sky</td>\n",
       "      <td>LG P690 Optimus Link</td>\n",
       "    </tr>\n",
       "    <tr>\n",
       "      <th>1263546</th>\n",
       "      <td>/cellphones/sony-ericsson-w300i/</td>\n",
       "      <td>11/12/2009</td>\n",
       "      <td>es</td>\n",
       "      <td>ar</td>\n",
       "      <td>MercadoLibre</td>\n",
       "      <td>opinion.mercadolibre.com.ar</td>\n",
       "      <td>10.0</td>\n",
       "      <td>10.0</td>\n",
       "      <td>no tengo mucho decir les quiero decir que teng...</td>\n",
       "      <td>DINAMICA99</td>\n",
       "      <td>Sony Ericsson W300</td>\n",
       "    </tr>\n",
       "    <tr>\n",
       "      <th>301402</th>\n",
       "      <td>/cellphones/bq-aquaris-e5/</td>\n",
       "      <td>12/5/2014</td>\n",
       "      <td>es</td>\n",
       "      <td>es</td>\n",
       "      <td>Amazon</td>\n",
       "      <td>amazon.es</td>\n",
       "      <td>2.0</td>\n",
       "      <td>10.0</td>\n",
       "      <td>Estoy muy. Contento y satisfecho con este móvi...</td>\n",
       "      <td>Cliente Amazon</td>\n",
       "      <td>BQ Aquaris E5 HD - Smartphone libre Android (p...</td>\n",
       "    </tr>\n",
       "    <tr>\n",
       "      <th>143320</th>\n",
       "      <td>/cellphones/samsung-galaxy-a5-2016/</td>\n",
       "      <td>11/4/2016</td>\n",
       "      <td>it</td>\n",
       "      <td>it</td>\n",
       "      <td>Amazon</td>\n",
       "      <td>amazon.it</td>\n",
       "      <td>10.0</td>\n",
       "      <td>10.0</td>\n",
       "      <td>smartphone acquistato qualche mese fa, mi ha s...</td>\n",
       "      <td>Giuseppe</td>\n",
       "      <td>Samsung Galaxy A5 2016 Smartphone LTE, 16GB, Nero</td>\n",
       "    </tr>\n",
       "  </tbody>\n",
       "</table>\n",
       "<p>1000000 rows × 11 columns</p>\n",
       "</div>"
      ],
      "text/plain": [
       "                                   phone_url        date lang country  \\\n",
       "609806         /cellphones/nokia-lumia-1020/  11/20/2013   en      gb   \n",
       "1372024           /cellphones/motorola-v557/   1/19/2006   en      us   \n",
       "1110810          /cellphones/sanyo-scp-3810/  12/14/2009   en      us   \n",
       "532252          /cellphones/apple-iphone-5s/   8/26/2014   en      us   \n",
       "1334423             /cellphones/motorola-l6/   1/28/2009   es      ec   \n",
       "...                                      ...         ...  ...     ...   \n",
       "419842          /cellphones/bq-aquaris-e4-5/   1/24/2015   es      es   \n",
       "915112                  /cellphones/lg-p690/    5/2/2012   ru      ua   \n",
       "1263546     /cellphones/sony-ericsson-w300i/  11/12/2009   es      ar   \n",
       "301402            /cellphones/bq-aquaris-e5/   12/5/2014   es      es   \n",
       "143320   /cellphones/samsung-galaxy-a5-2016/   11/4/2016   it      it   \n",
       "\n",
       "               source                       domain  score  score_max  \\\n",
       "609806         Amazon                 amazon.co.uk   10.0       10.0   \n",
       "1372024        Amazon                   amazon.com    2.0       10.0   \n",
       "1110810   Phone Scoop               phonescoop.com    4.0       10.0   \n",
       "532252         Amazon                   amazon.com   10.0       10.0   \n",
       "1334423  MercadoLibre  opinion.mercadolibre.com.ec    6.0       10.0   \n",
       "...               ...                          ...    ...        ...   \n",
       "419842         Amazon                    amazon.es   10.0       10.0   \n",
       "915112       Price.ua                     price.ua   10.0       10.0   \n",
       "1263546  MercadoLibre  opinion.mercadolibre.com.ar   10.0       10.0   \n",
       "301402         Amazon                    amazon.es    2.0       10.0   \n",
       "143320         Amazon                    amazon.it   10.0       10.0   \n",
       "\n",
       "                                                   extract            author  \\\n",
       "609806   How did I live without it, excellent in every ...     jimperkins110   \n",
       "1372024  I've had this phone for a little more than a y...    Penelope Brown   \n",
       "1110810  I won't give it a rating so far. I just acquir...       JohnnyPasta   \n",
       "532252   my in-laws really love the gifts iph5s, thank you  Mitchell Coleman   \n",
       "1334423                         ESTA BUENO BONITO Y BARATO          JESSROSA   \n",
       "...                                                    ...               ...   \n",
       "419842   Buen procesador. Va rápido y tiene una batería...            Etelop   \n",
       "915112   Смарт очень продуманный, понимаешь это сразу п...        ipopov-sky   \n",
       "1263546  no tengo mucho decir les quiero decir que teng...        DINAMICA99   \n",
       "301402   Estoy muy. Contento y satisfecho con este móvi...    Cliente Amazon   \n",
       "143320   smartphone acquistato qualche mese fa, mi ha s...          Giuseppe   \n",
       "\n",
       "                                                   product  \n",
       "609806   Lumia Nokia Lumia 1020 UK Sim Free Windows Sma...  \n",
       "1372024         Motorola V557 Unlocked Quadband Cell Phone  \n",
       "1110810                                   SCP-3810 / Mirro  \n",
       "532252   Apple iPhone 5s 16GB 4G LTE GSM Gold - AT&T Wi...  \n",
       "1334423                                        Motorola L6  \n",
       "...                                                    ...  \n",
       "419842   BQ Aquaris E4.5 - Smartphone libre Android (pa...  \n",
       "915112                                LG P690 Optimus Link  \n",
       "1263546                                 Sony Ericsson W300  \n",
       "301402   BQ Aquaris E5 HD - Smartphone libre Android (p...  \n",
       "143320   Samsung Galaxy A5 2016 Smartphone LTE, 16GB, Nero  \n",
       "\n",
       "[1000000 rows x 11 columns]"
      ]
     },
     "execution_count": 32,
     "metadata": {},
     "output_type": "execute_result"
    }
   ],
   "source": [
    "df"
   ]
  },
  {
   "cell_type": "code",
   "execution_count": 33,
   "id": "5c32982c",
   "metadata": {},
   "outputs": [
    {
     "data": {
      "text/html": [
       "<div>\n",
       "<style scoped>\n",
       "    .dataframe tbody tr th:only-of-type {\n",
       "        vertical-align: middle;\n",
       "    }\n",
       "\n",
       "    .dataframe tbody tr th {\n",
       "        vertical-align: top;\n",
       "    }\n",
       "\n",
       "    .dataframe thead th {\n",
       "        text-align: right;\n",
       "    }\n",
       "</style>\n",
       "<table border=\"1\" class=\"dataframe\">\n",
       "  <thead>\n",
       "    <tr style=\"text-align: right;\">\n",
       "      <th></th>\n",
       "      <th>phone_url</th>\n",
       "      <th>date</th>\n",
       "      <th>lang</th>\n",
       "      <th>country</th>\n",
       "      <th>source</th>\n",
       "      <th>domain</th>\n",
       "      <th>score</th>\n",
       "      <th>score_max</th>\n",
       "      <th>extract</th>\n",
       "      <th>author</th>\n",
       "      <th>product</th>\n",
       "    </tr>\n",
       "  </thead>\n",
       "  <tbody>\n",
       "    <tr>\n",
       "      <th>609806</th>\n",
       "      <td>/cellphones/nokia-lumia-1020/</td>\n",
       "      <td>11/20/2013</td>\n",
       "      <td>en</td>\n",
       "      <td>gb</td>\n",
       "      <td>Amazon</td>\n",
       "      <td>amazon.co.uk</td>\n",
       "      <td>10.0</td>\n",
       "      <td>10.0</td>\n",
       "      <td>How did I live without it, excellent in every ...</td>\n",
       "      <td>jimperkins110</td>\n",
       "      <td>Lumia Nokia Lumia 1020 UK Sim Free Windows Sma...</td>\n",
       "    </tr>\n",
       "    <tr>\n",
       "      <th>532252</th>\n",
       "      <td>/cellphones/apple-iphone-5s/</td>\n",
       "      <td>8/26/2014</td>\n",
       "      <td>en</td>\n",
       "      <td>us</td>\n",
       "      <td>Amazon</td>\n",
       "      <td>amazon.com</td>\n",
       "      <td>10.0</td>\n",
       "      <td>10.0</td>\n",
       "      <td>my in-laws really love the gifts iph5s, thank you</td>\n",
       "      <td>Mitchell Coleman</td>\n",
       "      <td>Apple iPhone 5s 16GB 4G LTE GSM Gold - AT&amp;T Wi...</td>\n",
       "    </tr>\n",
       "    <tr>\n",
       "      <th>230610</th>\n",
       "      <td>/cellphones/microsoft-lumia-950-xl/</td>\n",
       "      <td>9/26/2016</td>\n",
       "      <td>it</td>\n",
       "      <td>it</td>\n",
       "      <td>Amazon</td>\n",
       "      <td>amazon.it</td>\n",
       "      <td>10.0</td>\n",
       "      <td>10.0</td>\n",
       "      <td>Peccato che sarà l'ultimo smartphone marchiato...</td>\n",
       "      <td>Lorise</td>\n",
       "      <td>Microsoft Lumia 950 XL Smartphone, 5.7\", camer...</td>\n",
       "    </tr>\n",
       "    <tr>\n",
       "      <th>939258</th>\n",
       "      <td>/cellphones/htc-flyer/</td>\n",
       "      <td>4/16/2012</td>\n",
       "      <td>de</td>\n",
       "      <td>de</td>\n",
       "      <td>Amazon</td>\n",
       "      <td>amazon.de</td>\n",
       "      <td>10.0</td>\n",
       "      <td>10.0</td>\n",
       "      <td>Das beste Tablet für den Preis was ich gefunde...</td>\n",
       "      <td>Nico</td>\n",
       "      <td>HTC Flyer Tablet 16GB (17.8cm (7 Zoll) Touchcr...</td>\n",
       "    </tr>\n",
       "    <tr>\n",
       "      <th>61369</th>\n",
       "      <td>/cellphones/huawei-p9-plus/</td>\n",
       "      <td>7/27/2016</td>\n",
       "      <td>it</td>\n",
       "      <td>it</td>\n",
       "      <td>Amazon</td>\n",
       "      <td>amazon.it</td>\n",
       "      <td>10.0</td>\n",
       "      <td>10.0</td>\n",
       "      <td>basta guardare le recensioni per capire che è ...</td>\n",
       "      <td>Alessiog</td>\n",
       "      <td>Huawei P9 Plus Smartphone, LTE, Display 5.5'' ...</td>\n",
       "    </tr>\n",
       "    <tr>\n",
       "      <th>...</th>\n",
       "      <td>...</td>\n",
       "      <td>...</td>\n",
       "      <td>...</td>\n",
       "      <td>...</td>\n",
       "      <td>...</td>\n",
       "      <td>...</td>\n",
       "      <td>...</td>\n",
       "      <td>...</td>\n",
       "      <td>...</td>\n",
       "      <td>...</td>\n",
       "      <td>...</td>\n",
       "    </tr>\n",
       "    <tr>\n",
       "      <th>149289</th>\n",
       "      <td>/cellphones/huawei-honor-6x/</td>\n",
       "      <td>2/23/2017</td>\n",
       "      <td>en</td>\n",
       "      <td>in</td>\n",
       "      <td>Amazon</td>\n",
       "      <td>amazon.in</td>\n",
       "      <td>10.0</td>\n",
       "      <td>10.0</td>\n",
       "      <td>Very very good mobile both sim slot are 2g3g4g</td>\n",
       "      <td>Amazon Customer</td>\n",
       "      <td>Honor 6X (Grey, 32GB)</td>\n",
       "    </tr>\n",
       "    <tr>\n",
       "      <th>419842</th>\n",
       "      <td>/cellphones/bq-aquaris-e4-5/</td>\n",
       "      <td>1/24/2015</td>\n",
       "      <td>es</td>\n",
       "      <td>es</td>\n",
       "      <td>Amazon</td>\n",
       "      <td>amazon.es</td>\n",
       "      <td>10.0</td>\n",
       "      <td>10.0</td>\n",
       "      <td>Buen procesador. Va rápido y tiene una batería...</td>\n",
       "      <td>Etelop</td>\n",
       "      <td>BQ Aquaris E4.5 - Smartphone libre Android (pa...</td>\n",
       "    </tr>\n",
       "    <tr>\n",
       "      <th>915112</th>\n",
       "      <td>/cellphones/lg-p690/</td>\n",
       "      <td>5/2/2012</td>\n",
       "      <td>ru</td>\n",
       "      <td>ua</td>\n",
       "      <td>Price.ua</td>\n",
       "      <td>price.ua</td>\n",
       "      <td>10.0</td>\n",
       "      <td>10.0</td>\n",
       "      <td>Смарт очень продуманный, понимаешь это сразу п...</td>\n",
       "      <td>ipopov-sky</td>\n",
       "      <td>LG P690 Optimus Link</td>\n",
       "    </tr>\n",
       "    <tr>\n",
       "      <th>1263546</th>\n",
       "      <td>/cellphones/sony-ericsson-w300i/</td>\n",
       "      <td>11/12/2009</td>\n",
       "      <td>es</td>\n",
       "      <td>ar</td>\n",
       "      <td>MercadoLibre</td>\n",
       "      <td>opinion.mercadolibre.com.ar</td>\n",
       "      <td>10.0</td>\n",
       "      <td>10.0</td>\n",
       "      <td>no tengo mucho decir les quiero decir que teng...</td>\n",
       "      <td>DINAMICA99</td>\n",
       "      <td>Sony Ericsson W300</td>\n",
       "    </tr>\n",
       "    <tr>\n",
       "      <th>143320</th>\n",
       "      <td>/cellphones/samsung-galaxy-a5-2016/</td>\n",
       "      <td>11/4/2016</td>\n",
       "      <td>it</td>\n",
       "      <td>it</td>\n",
       "      <td>Amazon</td>\n",
       "      <td>amazon.it</td>\n",
       "      <td>10.0</td>\n",
       "      <td>10.0</td>\n",
       "      <td>smartphone acquistato qualche mese fa, mi ha s...</td>\n",
       "      <td>Giuseppe</td>\n",
       "      <td>Samsung Galaxy A5 2016 Smartphone LTE, 16GB, Nero</td>\n",
       "    </tr>\n",
       "  </tbody>\n",
       "</table>\n",
       "<p>486058 rows × 11 columns</p>\n",
       "</div>"
      ],
      "text/plain": [
       "                                   phone_url        date lang country  \\\n",
       "609806         /cellphones/nokia-lumia-1020/  11/20/2013   en      gb   \n",
       "532252          /cellphones/apple-iphone-5s/   8/26/2014   en      us   \n",
       "230610   /cellphones/microsoft-lumia-950-xl/   9/26/2016   it      it   \n",
       "939258                /cellphones/htc-flyer/   4/16/2012   de      de   \n",
       "61369            /cellphones/huawei-p9-plus/   7/27/2016   it      it   \n",
       "...                                      ...         ...  ...     ...   \n",
       "149289          /cellphones/huawei-honor-6x/   2/23/2017   en      in   \n",
       "419842          /cellphones/bq-aquaris-e4-5/   1/24/2015   es      es   \n",
       "915112                  /cellphones/lg-p690/    5/2/2012   ru      ua   \n",
       "1263546     /cellphones/sony-ericsson-w300i/  11/12/2009   es      ar   \n",
       "143320   /cellphones/samsung-galaxy-a5-2016/   11/4/2016   it      it   \n",
       "\n",
       "               source                       domain  score  score_max  \\\n",
       "609806         Amazon                 amazon.co.uk   10.0       10.0   \n",
       "532252         Amazon                   amazon.com   10.0       10.0   \n",
       "230610         Amazon                    amazon.it   10.0       10.0   \n",
       "939258         Amazon                    amazon.de   10.0       10.0   \n",
       "61369          Amazon                    amazon.it   10.0       10.0   \n",
       "...               ...                          ...    ...        ...   \n",
       "149289         Amazon                    amazon.in   10.0       10.0   \n",
       "419842         Amazon                    amazon.es   10.0       10.0   \n",
       "915112       Price.ua                     price.ua   10.0       10.0   \n",
       "1263546  MercadoLibre  opinion.mercadolibre.com.ar   10.0       10.0   \n",
       "143320         Amazon                    amazon.it   10.0       10.0   \n",
       "\n",
       "                                                   extract            author  \\\n",
       "609806   How did I live without it, excellent in every ...     jimperkins110   \n",
       "532252   my in-laws really love the gifts iph5s, thank you  Mitchell Coleman   \n",
       "230610   Peccato che sarà l'ultimo smartphone marchiato...            Lorise   \n",
       "939258   Das beste Tablet für den Preis was ich gefunde...              Nico   \n",
       "61369    basta guardare le recensioni per capire che è ...          Alessiog   \n",
       "...                                                    ...               ...   \n",
       "149289      Very very good mobile both sim slot are 2g3g4g   Amazon Customer   \n",
       "419842   Buen procesador. Va rápido y tiene una batería...            Etelop   \n",
       "915112   Смарт очень продуманный, понимаешь это сразу п...        ipopov-sky   \n",
       "1263546  no tengo mucho decir les quiero decir que teng...        DINAMICA99   \n",
       "143320   smartphone acquistato qualche mese fa, mi ha s...          Giuseppe   \n",
       "\n",
       "                                                   product  \n",
       "609806   Lumia Nokia Lumia 1020 UK Sim Free Windows Sma...  \n",
       "532252   Apple iPhone 5s 16GB 4G LTE GSM Gold - AT&T Wi...  \n",
       "230610   Microsoft Lumia 950 XL Smartphone, 5.7\", camer...  \n",
       "939258   HTC Flyer Tablet 16GB (17.8cm (7 Zoll) Touchcr...  \n",
       "61369    Huawei P9 Plus Smartphone, LTE, Display 5.5'' ...  \n",
       "...                                                    ...  \n",
       "149289                               Honor 6X (Grey, 32GB)  \n",
       "419842   BQ Aquaris E4.5 - Smartphone libre Android (pa...  \n",
       "915112                                LG P690 Optimus Link  \n",
       "1263546                                 Sony Ericsson W300  \n",
       "143320   Samsung Galaxy A5 2016 Smartphone LTE, 16GB, Nero  \n",
       "\n",
       "[486058 rows x 11 columns]"
      ]
     },
     "execution_count": 33,
     "metadata": {},
     "output_type": "execute_result"
    }
   ],
   "source": [
    "#data whoose score is equal to 10\n",
    "df[df.score==10]"
   ]
  },
  {
   "cell_type": "code",
   "execution_count": 34,
   "id": "75dcda8b",
   "metadata": {},
   "outputs": [
    {
     "data": {
      "text/plain": [
       "10.0    486058\n",
       "8.0     217951\n",
       "2.0      96586\n",
       "6.0      85227\n",
       "4.0      52828\n",
       "         ...  \n",
       "7.9          2\n",
       "4.9          1\n",
       "6.1          1\n",
       "0.4          1\n",
       "8.9          1\n",
       "Name: score, Length: 85, dtype: int64"
      ]
     },
     "execution_count": 34,
     "metadata": {},
     "output_type": "execute_result"
    }
   ],
   "source": [
    "#checking the score value and visualizing it\n",
    "df.score.value_counts()"
   ]
  },
  {
   "cell_type": "code",
   "execution_count": 35,
   "id": "8c55c2dd",
   "metadata": {},
   "outputs": [
    {
     "data": {
      "text/plain": [
       "Amazon          570859\n",
       "Yandex           60123\n",
       "Ciao             46654\n",
       "Samsung          35748\n",
       "MercadoLibre     26207\n",
       "Name: source, dtype: int64"
      ]
     },
     "execution_count": 35,
     "metadata": {},
     "output_type": "execute_result"
    }
   ],
   "source": [
    "df.source.value_counts().head()"
   ]
  },
  {
   "cell_type": "code",
   "execution_count": 36,
   "id": "a57f2824",
   "metadata": {},
   "outputs": [
    {
     "data": {
      "text/plain": [
       "<AxesSubplot:xlabel='score', ylabel='count'>"
      ]
     },
     "execution_count": 36,
     "metadata": {},
     "output_type": "execute_result"
    },
    {
     "data": {
      "image/png": "[encoded data removed]",
      "text/plain": [
       "<Figure size 1080x720 with 1 Axes>"
      ]
     },
     "metadata": {
      "needs_background": "light"
     },
     "output_type": "display_data"
    }
   ],
   "source": [
    "plt.figure(figsize=(15,10))\n",
    "sns.countplot(df.score)"
   ]
  },
  {
   "cell_type": "code",
   "execution_count": 37,
   "id": "1edf1744",
   "metadata": {},
   "outputs": [
    {
     "data": {
      "text/plain": [
       "Amazon Customer      60330\n",
       "Cliente Amazon       15042\n",
       "e-bit                 6620\n",
       "Client d'Amazon       6042\n",
       "Amazon Kunde          3718\n",
       "                     ...  \n",
       "Mjasnikov evgeniy        1\n",
       "philou90                 1\n",
       "TechRax                  1\n",
       "brandy wilson            1\n",
       "Jman0917                 1\n",
       "Name: author, Length: 626247, dtype: int64"
      ]
     },
     "execution_count": 37,
     "metadata": {},
     "output_type": "execute_result"
    }
   ],
   "source": [
    "## Users with highest number of reviews\n",
    "df.author.value_counts()"
   ]
  },
  {
   "cell_type": "code",
   "execution_count": 38,
   "id": "bf428cbd",
   "metadata": {},
   "outputs": [
    {
     "data": {
      "text/plain": [
       "Lenovo Vibe K4 Note (White,16GB)     4118\n",
       "Lenovo Vibe K4 Note (Black, 16GB)    3443\n",
       "OnePlus 3 (Graphite, 64 GB)          3212\n",
       "OnePlus 3 (Soft Gold, 64 GB)         2798\n",
       "Huawei P8lite zwart / 16 GB          2121\n",
       "Name: product, dtype: int64"
      ]
     },
     "execution_count": 38,
     "metadata": {},
     "output_type": "execute_result"
    }
   ],
   "source": [
    "#Most rated products\n",
    "df['product'].value_counts().head()"
   ]
  },
  {
   "cell_type": "code",
   "execution_count": 39,
   "id": "cf56ee98",
   "metadata": {},
   "outputs": [
    {
     "data": {
      "text/plain": [
       "Amazon Customer    25303\n",
       "Cliente Amazon      7871\n",
       "e-bit               3991\n",
       "Client d'Amazon     2473\n",
       "Amazon Kunde        1821\n",
       "einer Kundin        1671\n",
       "einem Kunden        1193\n",
       "unknown              880\n",
       "Anonymous            752\n",
       "Anonymous            564\n",
       "Name: author, dtype: int64"
      ]
     },
     "execution_count": 39,
     "metadata": {},
     "output_type": "execute_result"
    }
   ],
   "source": [
    "df[df['score']==10]['author'].value_counts().head(10)\n"
   ]
  },
  {
   "cell_type": "code",
   "execution_count": 40,
   "id": "948e603a",
   "metadata": {},
   "outputs": [
    {
     "data": {
      "text/plain": [
       "Lenovo Vibe K4 Note (White,16GB)                                                                                                                                                             4118\n",
       "Lenovo Vibe K4 Note (Black, 16GB)                                                                                                                                                            3443\n",
       "OnePlus 3 (Graphite, 64 GB)                                                                                                                                                                  3212\n",
       "OnePlus 3 (Soft Gold, 64 GB)                                                                                                                                                                 2798\n",
       "Huawei P8lite zwart / 16 GB                                                                                                                                                                  2121\n",
       "Lenovo Vibe K5 (Gold, VoLTE update)                                                                                                                                                          2028\n",
       "Samsung Galaxy S6 zwart / 32 GB                                                                                                                                                              1837\n",
       "Lenovo Vibe K5 (Grey, VoLTE update)                                                                                                                                                          1665\n",
       "Lenovo Used Lenovo Zuk Z1 (Space Grey, 64GB)                                                                                                                                                 1527\n",
       "Samsung Galaxy J3 (8GB)                                                                                                                                                                      1449\n",
       "Nokia N95                                                                                                                                                                                    1424\n",
       "OnePlus 3T (Gunmetal, 6GB RAM + 64GB memory)                                                                                                                                                 1422\n",
       "Samsung Galaxy S7 edge 32GB (Verizon)                                                                                                                                                        1420\n",
       "Samsung Galaxy S7 edge 32GB (T-Mobile)                                                                                                                                                       1361\n",
       "Huawei P9 Lite Smartphone, LTE, Display 5.2'' FHD, Processore Octa-Core Kirin 650, 16 GB Memoria Interna, 3GB RAM, Fotocamera 13 MP, Single-SIM, Android 6.0 Marshmallow, Bianco [Italia]    1348\n",
       "Samsung Galaxy S6 edge zwart / 32 GB                                                                                                                                                         1334\n",
       "Samsung Galaxy S7 edge Smartphone, 13,9 cm (5,5 Zoll) Display, LTE (4G)                                                                                                                      1269\n",
       "Samsung Galaxy S7 32GB (Verizon)                                                                                                                                                             1267\n",
       "Apple iPhone 5s (Silver, 16GB)                                                                                                                                                               1251\n",
       "Huawei P8 Lite Smartphone, Display 5\" IPS, Processore Octa-Core 1.5 GHz, Memoria Interna da 16 GB, 2 GB RAM, Fotocamera 13 MP, monoSIM, Android 5.0, Bianco [Italia]                         1239\n",
       "Name: product, dtype: int64"
      ]
     },
     "execution_count": 40,
     "metadata": {},
     "output_type": "execute_result"
    }
   ],
   "source": [
    "df['product'].value_counts().head(20)"
   ]
  },
  {
   "cell_type": "code",
   "execution_count": 41,
   "id": "a44dc7ca",
   "metadata": {},
   "outputs": [],
   "source": [
    "# as per guidelines irrelevant and relevant features are below.so droping the irrelevant features from the dataset\n",
    "#relevant_features=['author','product','score']\n",
    "# irrelvant_features=['phone_url','date','lang','country','source','domain','score_max','extract']\n",
    "df=df.drop(['phone_url','date','lang','country','source','domain','score_max','extract'],axis=1)"
   ]
  },
  {
   "cell_type": "markdown",
   "id": "6c9d5833",
   "metadata": {},
   "source": [
    "# Selecting data with products having >50 ratings and users who have given > 50 ratings"
   ]
  },
  {
   "cell_type": "code",
   "execution_count": 42,
   "id": "426bb4a9",
   "metadata": {},
   "outputs": [],
   "source": [
    "author50 = df['author'].value_counts()\n",
    "author50=author50[author50>50].index.tolist()\n"
   ]
  },
  {
   "cell_type": "code",
   "execution_count": 43,
   "id": "e657c85f",
   "metadata": {},
   "outputs": [
    {
     "data": {
      "text/plain": [
       "627"
      ]
     },
     "execution_count": 43,
     "metadata": {},
     "output_type": "execute_result"
    }
   ],
   "source": [
    "## list of authors with > 50 ratings\n",
    "len(author50)"
   ]
  },
  {
   "cell_type": "code",
   "execution_count": 44,
   "id": "714522e4",
   "metadata": {},
   "outputs": [
    {
     "data": {
      "text/plain": [
       "4497"
      ]
     },
     "execution_count": 44,
     "metadata": {},
     "output_type": "execute_result"
    }
   ],
   "source": [
    "product50 = df['product'].value_counts()\n",
    "product50=product50[product50>50].index.tolist()\n",
    "## list of products with > 50 ratings\n",
    "len(product50)"
   ]
  },
  {
   "cell_type": "code",
   "execution_count": 45,
   "id": "13deaf4c",
   "metadata": {},
   "outputs": [
    {
     "data": {
      "text/plain": [
       "(111697, 3)"
      ]
     },
     "execution_count": 45,
     "metadata": {},
     "output_type": "execute_result"
    }
   ],
   "source": [
    "df50 = df[(df['author'].isin(author50)) & (df['product'].isin(product50))]\n",
    "df50.shape"
   ]
  },
  {
   "cell_type": "markdown",
   "id": "5275033a",
   "metadata": {},
   "source": [
    "# Building a popularity based model "
   ]
  },
  {
   "cell_type": "code",
   "execution_count": 46,
   "id": "39e2b5fe",
   "metadata": {},
   "outputs": [],
   "source": [
    "#calculating the mean score for a product by grouping it.\n",
    "ratings_mean = pd.DataFrame(df.groupby('product')['score'].mean()) "
   ]
  },
  {
   "cell_type": "code",
   "execution_count": 47,
   "id": "ff1fdc6c",
   "metadata": {},
   "outputs": [],
   "source": [
    "# calculating the number of ratings a product got\n",
    "ratings_mean['rating_counts'] = pd.DataFrame(df.groupby('product')['score'].count())  "
   ]
  },
  {
   "cell_type": "code",
   "execution_count": 48,
   "id": "1c6c78f0",
   "metadata": {},
   "outputs": [
    {
     "data": {
      "text/html": [
       "<div>\n",
       "<style scoped>\n",
       "    .dataframe tbody tr th:only-of-type {\n",
       "        vertical-align: middle;\n",
       "    }\n",
       "\n",
       "    .dataframe tbody tr th {\n",
       "        vertical-align: top;\n",
       "    }\n",
       "\n",
       "    .dataframe thead th {\n",
       "        text-align: right;\n",
       "    }\n",
       "</style>\n",
       "<table border=\"1\" class=\"dataframe\">\n",
       "  <thead>\n",
       "    <tr style=\"text-align: right;\">\n",
       "      <th></th>\n",
       "      <th>score</th>\n",
       "      <th>rating_counts</th>\n",
       "    </tr>\n",
       "    <tr>\n",
       "      <th>product</th>\n",
       "      <th></th>\n",
       "      <th></th>\n",
       "    </tr>\n",
       "  </thead>\n",
       "  <tbody>\n",
       "    <tr>\n",
       "      <th>Samsung Galaxy Note5</th>\n",
       "      <td>10.0</td>\n",
       "      <td>156</td>\n",
       "    </tr>\n",
       "    <tr>\n",
       "      <th>Motorola Smartphone Motorola Moto X Desbloqueado Preto Android 4.2.2 Câmera 10MP e Frontal 2MP Memória Interna de 16GB GSM</th>\n",
       "      <td>10.0</td>\n",
       "      <td>144</td>\n",
       "    </tr>\n",
       "    <tr>\n",
       "      <th>Samsung Smartphone Dual Chip Samsung Galaxy SIII Duos Desbloqueado Claro Azul Android 4.1 3G/Wi-Fi Câmera 5MP</th>\n",
       "      <td>10.0</td>\n",
       "      <td>140</td>\n",
       "    </tr>\n",
       "    <tr>\n",
       "      <th>Nokia Smartphone Nokia Lumia 520 Desbloqueado Oi Preto Windows Phone 8 Câmera 5MP 3G Wi-Fi Memória Interna 8G GPS</th>\n",
       "      <td>10.0</td>\n",
       "      <td>136</td>\n",
       "    </tr>\n",
       "    <tr>\n",
       "      <th>Motorola Smartphone Motorola Moto G Dual Chip Desbloqueado TIM Android 4.3 Tela 4.5 8GB 3G Wi-Fi Câmera 5MP - Preto</th>\n",
       "      <td>10.0</td>\n",
       "      <td>129</td>\n",
       "    </tr>\n",
       "  </tbody>\n",
       "</table>\n",
       "</div>"
      ],
      "text/plain": [
       "                                                    score  rating_counts\n",
       "product                                                                 \n",
       "Samsung Galaxy Note5                                 10.0            156\n",
       "Motorola Smartphone Motorola Moto X Desbloquead...   10.0            144\n",
       "Samsung Smartphone Dual Chip Samsung Galaxy SII...   10.0            140\n",
       "Nokia Smartphone Nokia Lumia 520 Desbloqueado O...   10.0            136\n",
       "Motorola Smartphone Motorola Moto G Dual Chip D...   10.0            129"
      ]
     },
     "execution_count": 48,
     "metadata": {},
     "output_type": "execute_result"
    }
   ],
   "source": [
    "# 3. Recommending the 5 mobile phones based in highest mean score and highest number of ratings the product got. \n",
    "ratings_mean.sort_values(by=['score','rating_counts'], ascending=[False,False]).head()"
   ]
  },
  {
   "cell_type": "markdown",
   "id": "41d7ea5c",
   "metadata": {},
   "source": [
    "# Now Building a collaborative filtering model"
   ]
  },
  {
   "cell_type": "code",
   "execution_count": 49,
   "id": "c462f836",
   "metadata": {},
   "outputs": [],
   "source": [
    "# arranging columns \n",
    "columns_titles = ['author','product','score']\n",
    "dff = df.reindex(columns=columns_titles)"
   ]
  },
  {
   "cell_type": "code",
   "execution_count": 50,
   "id": "90459c8c",
   "metadata": {},
   "outputs": [],
   "source": [
    "# as guidelines,Keeping only 5000 data samples\n",
    "df_data = dff.sample(n=5000, random_state=612)"
   ]
  },
  {
   "cell_type": "code",
   "execution_count": 51,
   "id": "f59bb642",
   "metadata": {},
   "outputs": [],
   "source": [
    "# Building a collaborative filtering model using SVD. \n",
    "reader_data = Reader(rating_scale=(1, 10))\n",
    "data_set = Dataset.load_from_df(df_data,reader = reader_data)"
   ]
  },
  {
   "cell_type": "code",
   "execution_count": 52,
   "id": "0e87fdbb",
   "metadata": {},
   "outputs": [],
   "source": [
    "trainset = data_set.build_full_trainset()"
   ]
  },
  {
   "cell_type": "code",
   "execution_count": 53,
   "id": "4686d878",
   "metadata": {},
   "outputs": [
    {
     "data": {
      "text/plain": [
       "<surprise.prediction_algorithms.matrix_factorization.SVD at 0x2051990b3a0>"
      ]
     },
     "execution_count": 53,
     "metadata": {},
     "output_type": "execute_result"
    }
   ],
   "source": [
    "model = SVD()\n",
    "model.fit(trainset)"
   ]
  },
  {
   "cell_type": "code",
   "execution_count": 54,
   "id": "5445d3dd",
   "metadata": {},
   "outputs": [],
   "source": [
    "# Now predicting ratings for all pairs of data that are NOT in the training set.\n",
    "testset = trainset.build_anti_testset()"
   ]
  },
  {
   "cell_type": "code",
   "execution_count": 55,
   "id": "5fb7c713",
   "metadata": {},
   "outputs": [],
   "source": [
    "predictions = model.test(testset)"
   ]
  },
  {
   "cell_type": "code",
   "execution_count": 56,
   "id": "32a74b8c",
   "metadata": {},
   "outputs": [
    {
     "name": "stdout",
     "output_type": "stream",
     "text": [
      "RMSE: 0.3380\n"
     ]
    },
    {
     "data": {
      "text/plain": [
       "0.3379978913471923"
      ]
     },
     "execution_count": 56,
     "metadata": {},
     "output_type": "execute_result"
    }
   ],
   "source": [
    "#RMSE value for SVD\n",
    "accuracy.rmse(predictions, verbose=True)"
   ]
  },
  {
   "cell_type": "code",
   "execution_count": 57,
   "id": "714fb141",
   "metadata": {
    "scrolled": true
   },
   "outputs": [
    {
     "data": {
      "text/plain": [
       "{'test_rmse': array([2.62253657, 2.55935029, 2.50525809]),\n",
       " 'fit_time': (0.19718503952026367, 0.30907773971557617, 0.17283058166503906),\n",
       " 'test_time': (0.037774085998535156,\n",
       "  0.015621185302734375,\n",
       "  0.01562190055847168)}"
      ]
     },
     "execution_count": 57,
     "metadata": {},
     "output_type": "execute_result"
    }
   ],
   "source": [
    "cross_validate(model, data_set, measures=['RMSE'], cv=3, verbose=False)"
   ]
  },
  {
   "cell_type": "markdown",
   "id": "ac5b9000",
   "metadata": {},
   "source": [
    "# from above calculations, here we can see that RMSE of SVD model is lower than the cross validation"
   ]
  },
  {
   "cell_type": "markdown",
   "id": "8ab3d8d2",
   "metadata": {},
   "source": [
    "# Now as per guideline, Building a collaborative filtering model using kNNWithMeans from surprise using Item based model"
   ]
  },
  {
   "cell_type": "code",
   "execution_count": 58,
   "id": "7126ece1",
   "metadata": {},
   "outputs": [],
   "source": [
    "# Read dataset.\n",
    "reader = Reader(rating_scale=(1, 10))\n",
    "data_df = Dataset.load_from_df(df_data,reader = reader)"
   ]
  },
  {
   "cell_type": "code",
   "execution_count": 59,
   "id": "7b8d9d45",
   "metadata": {},
   "outputs": [],
   "source": [
    "trainsetdf, testsetdf = train_test_split(data_df, test_size=.15)"
   ]
  },
  {
   "cell_type": "code",
   "execution_count": 60,
   "id": "759e04bc",
   "metadata": {},
   "outputs": [
    {
     "name": "stdout",
     "output_type": "stream",
     "text": [
      "Estimating biases using als...\n",
      "Computing the pearson_baseline similarity matrix...\n",
      "Done computing similarity matrix.\n"
     ]
    },
    {
     "data": {
      "text/plain": [
       "<surprise.prediction_algorithms.knns.KNNWithMeans at 0x20519623d30>"
      ]
     },
     "execution_count": 60,
     "metadata": {},
     "output_type": "execute_result"
    }
   ],
   "source": [
    "# Using user_based true/false to switch between user-based or item-based collaborative filtering\n",
    "model = KNNWithMeans(k=50, sim_options={'name': 'pearson_baseline', 'user_based': False})\n",
    "model.fit(trainsetdf)"
   ]
  },
  {
   "cell_type": "code",
   "execution_count": 61,
   "id": "7403a782",
   "metadata": {},
   "outputs": [],
   "source": [
    "# run the  model against the testset\n",
    "test_pred_df = model.test(testsetdf)"
   ]
  },
  {
   "cell_type": "code",
   "execution_count": 62,
   "id": "feb223db",
   "metadata": {},
   "outputs": [
    {
     "name": "stdout",
     "output_type": "stream",
     "text": [
      "RMSE: 2.6279\n"
     ]
    },
    {
     "data": {
      "text/plain": [
       "2.627899529673257"
      ]
     },
     "execution_count": 62,
     "metadata": {},
     "output_type": "execute_result"
    }
   ],
   "source": [
    "## get RMSE\n",
    "accuracy.rmse(test_pred_df, verbose=True)"
   ]
  },
  {
   "cell_type": "markdown",
   "id": "8174e9c6",
   "metadata": {},
   "source": [
    "# Now again,Build a collaborative filtering model using kNNWithMeans from surprise using User based model"
   ]
  },
  {
   "cell_type": "code",
   "execution_count": 63,
   "id": "3b65ff7b",
   "metadata": {},
   "outputs": [],
   "source": [
    "reader = Reader(rating_scale=(1, 10))\n",
    "datadp = Dataset.load_from_df(df_data,reader = reader)\n"
   ]
  },
  {
   "cell_type": "code",
   "execution_count": 64,
   "id": "caa0edf4",
   "metadata": {},
   "outputs": [],
   "source": [
    "trainsetdp, testsetdp = train_test_split(datadp, test_size=.15)"
   ]
  },
  {
   "cell_type": "code",
   "execution_count": 65,
   "id": "8b386603",
   "metadata": {},
   "outputs": [
    {
     "name": "stdout",
     "output_type": "stream",
     "text": [
      "Estimating biases using als...\n",
      "Computing the pearson_baseline similarity matrix...\n",
      "Done computing similarity matrix.\n"
     ]
    },
    {
     "data": {
      "text/plain": [
       "<surprise.prediction_algorithms.knns.KNNWithMeans at 0x205195861c0>"
      ]
     },
     "execution_count": 65,
     "metadata": {},
     "output_type": "execute_result"
    }
   ],
   "source": [
    "# Using user_based true/false to switch between user-based or item-based collaborative filtering\n",
    "model = KNNWithMeans(k=50, sim_options={'name': 'pearson_baseline', 'user_based': True})\n",
    "model.fit(trainsetdp)"
   ]
  },
  {
   "cell_type": "code",
   "execution_count": 66,
   "id": "3e2a5e11",
   "metadata": {},
   "outputs": [],
   "source": [
    "# run the trained model against the testset\n",
    "test_pred_dp = model.test(testsetdp)"
   ]
  },
  {
   "cell_type": "code",
   "execution_count": 67,
   "id": "c1047aa7",
   "metadata": {},
   "outputs": [
    {
     "name": "stdout",
     "output_type": "stream",
     "text": [
      "RMSE: 2.6587\n"
     ]
    },
    {
     "data": {
      "text/plain": [
       "2.658675391884893"
      ]
     },
     "execution_count": 67,
     "metadata": {},
     "output_type": "execute_result"
    }
   ],
   "source": [
    "# 5. Evaluating the collaborative model and Printing RMSE value for User Based CF\n",
    "accuracy.rmse(test_pred_dp, verbose=True)"
   ]
  },
  {
   "cell_type": "markdown",
   "id": "3494104b",
   "metadata": {},
   "source": [
    "# Que10. In what business scenario you should use popularity based Recommendation Systems"
   ]
  },
  {
   "cell_type": "code",
   "execution_count": 68,
   "id": "da22695f",
   "metadata": {},
   "outputs": [],
   "source": [
    "#Ans.=Popularity based recommendation system works by recommending items viewed/purchased by most people and rated high \n",
    "#Recommendations: Ranked list of items by their purchase viewed count Popular News. It uses\n",
    "#context,Purchase history,User and item features. We can use it in movie recommendation, song recommendation, books recommendation etc"
   ]
  },
  {
   "cell_type": "markdown",
   "id": "0c66bdd3",
   "metadata": {},
   "source": [
    "# Que 11. In what business scenario you should use CF based Recommendation Systems "
   ]
  },
  {
   "cell_type": "code",
   "execution_count": 69,
   "id": "856540d9",
   "metadata": {},
   "outputs": [],
   "source": [
    "#Ans=Collaborative Filtering is used to building intelligent recommender systems that can learn to give better recommendations as \n",
    "#more information about users is collected. It is a personalised recommender system , recommendations are made based on the past\n",
    "#behaviour of the user. Most websites like Amazon, YouTube, and Netflix use collaborative filtering as a part of their \n",
    "#sophisticated recommendation system.because users want to see the content according to their likes and dislikes"
   ]
  },
  {
   "cell_type": "markdown",
   "id": "83d5685f",
   "metadata": {},
   "source": [
    "# Que 12. What other possible methods can you think of which can further improve the recommendation for different users"
   ]
  },
  {
   "cell_type": "code",
   "execution_count": 70,
   "id": "4602930a",
   "metadata": {},
   "outputs": [],
   "source": [
    "#Ans=For improvement,apart from Popularity and Collaborative Filtering , Content-based, Demographic, Utility based, Knowledge based and\n",
    "#Hybrid recommendation system can be used as per the user needs."
   ]
  },
  {
   "cell_type": "code",
   "execution_count": null,
   "id": "90fab2e6",
   "metadata": {},
   "outputs": [],
   "source": []
  },
  {
   "cell_type": "code",
   "execution_count": null,
   "id": "a80c4ba6",
   "metadata": {},
   "outputs": [],
   "source": []
  },
  {
   "cell_type": "code",
   "execution_count": null,
   "id": "95c4b331",
   "metadata": {},
   "outputs": [],
   "source": []
  },
  {
   "cell_type": "code",
   "execution_count": null,
   "id": "e0ec0f98",
   "metadata": {},
   "outputs": [],
   "source": []
  },
  {
   "cell_type": "code",
   "execution_count": null,
   "id": "6e4c7376",
   "metadata": {},
   "outputs": [],
   "source": []
  }
 ],
 "metadata": {
  "kernelspec": {
   "display_name": "Python 3",
   "language": "python",
   "name": "python3"
  },
  "language_info": {
   "codemirror_mode": {
    "name": "ipython",
    "version": 3
   },
   "file_extension": ".py",
   "mimetype": "text/x-python",
   "name": "python",
   "nbconvert_exporter": "python",
   "pygments_lexer": "ipython3",
   "version": "3.8.8"
  }
 },
 "nbformat": 4,
 "nbformat_minor": 5
}
